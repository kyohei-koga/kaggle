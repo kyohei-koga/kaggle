{
 "cells": [
  {
   "cell_type": "markdown",
   "metadata": {},
   "source": [
    "# construct better data set"
   ]
  },
  {
   "cell_type": "code",
   "execution_count": 61,
   "metadata": {
    "collapsed": false
   },
   "outputs": [],
   "source": [
    "#using random forest to access importance of features\n",
    "%matplotlib inline\n",
    "import matplotlib.pyplot as plt\n",
    "import pandas as pd\n",
    "import numpy as np\n",
    "\n",
    "#read data set\n",
    "df = pd.read_csv('train.csv')"
   ]
  },
  {
   "cell_type": "code",
   "execution_count": 62,
   "metadata": {
    "collapsed": false
   },
   "outputs": [
    {
     "data": {
      "text/plain": [
       "PassengerId      0\n",
       "Survived         0\n",
       "Pclass           0\n",
       "Name             0\n",
       "Sex              0\n",
       "Age            177\n",
       "SibSp            0\n",
       "Parch            0\n",
       "Ticket           0\n",
       "Fare             0\n",
       "Cabin          687\n",
       "Embarked         2\n",
       "dtype: int64"
      ]
     },
     "execution_count": 62,
     "metadata": {},
     "output_type": "execute_result"
    }
   ],
   "source": [
    "df.isnull().sum()"
   ]
  },
  {
   "cell_type": "code",
   "execution_count": 63,
   "metadata": {
    "collapsed": false
   },
   "outputs": [],
   "source": [
    "#remove PassengerId, Cabin, Name\n",
    "new_df = df.drop(['PassengerId','Cabin','Name','Ticket'],axis=1)"
   ]
  },
  {
   "cell_type": "code",
   "execution_count": 64,
   "metadata": {
    "collapsed": false
   },
   "outputs": [],
   "source": [
    "#insert missing Age values into median, using imputer\n",
    "from sklearn.preprocessing import Imputer\n",
    "#create Imputer object and set params\n",
    "imr = Imputer(missing_values='NaN',strategy='median',axis=0)\n",
    "#execute preprocessing\n",
    "new_df['Age'] = imr.fit_transform(new_df[['Age']].values)"
   ]
  },
  {
   "cell_type": "code",
   "execution_count": 65,
   "metadata": {
    "collapsed": false
   },
   "outputs": [],
   "source": [
    "#Next parameter is Embarked.strategy is frequent so recreate Imputer object\n",
    "imr = Imputer(missing_values='NaN',strategy='most_frequent')\n",
    "#Imputer only can numeric values ,so convert str into numeric using map function\n",
    "#create dictionary\n",
    "embarked_mapping = {'C':1,'Q':2,'S':3}\n",
    "#convert usinig map function\n",
    "embarked_int = new_df['Embarked'].map(embarked_mapping)\n",
    "#Imputing\n",
    "new_df['Embarked'] = imr.fit_transform(embarked_int[:,np.newaxis])"
   ]
  },
  {
   "cell_type": "code",
   "execution_count": 66,
   "metadata": {
    "collapsed": true
   },
   "outputs": [],
   "source": [
    "#Next parametar is Sex.convert int type data\n",
    "sex_mapping = {'female':0,'male':1}\n",
    "new_df['Sex'] = new_df['Sex'].map(sex_mapping)"
   ]
  },
  {
   "cell_type": "code",
   "execution_count": 68,
   "metadata": {
    "collapsed": false
   },
   "outputs": [],
   "source": [
    "y = new_df.iloc[:,0]\n",
    "X = new_df.iloc[:,1:]"
   ]
  },
  {
   "cell_type": "code",
   "execution_count": 69,
   "metadata": {
    "collapsed": false
   },
   "outputs": [
    {
     "name": "stdout",
     "output_type": "stream",
     "text": [
      " 1) Fare                           0.271870\n",
      " 2) Sex                            0.262786\n",
      " 3) Age                            0.258407\n",
      " 4) Pclass                         0.086389\n",
      " 5) SibSp                          0.049572\n",
      " 6) Parch                          0.037655\n",
      " 7) Embarked                       0.033322\n"
     ]
    }
   ],
   "source": [
    "#analysis importance of features using random forest\n",
    "from sklearn.ensemble import RandomForestClassifier\n",
    "#name of features\n",
    "feat_labels = new_df.columns[1:]\n",
    "# craete random forest object\n",
    "forest = RandomForestClassifier(n_estimators=1000,random_state=0,n_jobs=-1)\n",
    "#fitting the model\n",
    "forest.fit(X,y)\n",
    "#extract importance of features\n",
    "importances = forest.feature_importances_\n",
    "#extract index of features importance with decend\n",
    "indices = np.argsort(importances)[::-1]\n",
    "#print importances\n",
    "for i in range(X.shape[1]):\n",
    "    print('%2d) %-*s %f') %(i+1,30,feat_labels[indices[i]],importances[indices[i]])"
   ]
  },
  {
   "cell_type": "code",
   "execution_count": 70,
   "metadata": {
    "collapsed": false
   },
   "outputs": [
    {
     "data": {
      "image/png": "[encoded data removed]",
      "text/plain": [
       "<matplotlib.figure.Figure at 0x7f93a62afc10>"
      ]
     },
     "metadata": {},
     "output_type": "display_data"
    }
   ],
   "source": [
    "#plot features importances\n",
    "plt.title('Feature Importances')\n",
    "plt.bar(range(X.shape[1]),importances[indices],color='lightblue',align='center')\n",
    "plt.xticks(range(X.shape[1]),feat_labels[indices],rotation=90)\n",
    "plt.xlim([-1,X.shape[1]])\n",
    "plt.tight_layout()\n",
    "plt.show()"
   ]
  },
  {
   "cell_type": "code",
   "execution_count": 81,
   "metadata": {
    "collapsed": false
   },
   "outputs": [],
   "source": [
    "#create new features\n",
    "#gerating a family size column\n",
    "new_df['FamilySize'] = new_df['SibSp'] + new_df['Parch']\n",
    "#generate Nmaelength using .aplly method\n",
    "new_df['NameLength'] = df['Name'].apply(lambda x:len(x))\n",
    "#generate child(Age<18) and adult(Age>=18) \n",
    "new_df['Adult'] = (df['Age']>=18).astype(int)"
   ]
  },
  {
   "cell_type": "code",
   "execution_count": 82,
   "metadata": {
    "collapsed": false
   },
   "outputs": [],
   "source": [
    "y = new_df.iloc[:,0]\n",
    "X = new_df.iloc[:,1:]"
   ]
  },
  {
   "cell_type": "code",
   "execution_count": 83,
   "metadata": {
    "collapsed": false
   },
   "outputs": [
    {
     "name": "stdout",
     "output_type": "stream",
     "text": [
      " 1) Sex                            0.232843\n",
      " 2) Fare                           0.192703\n",
      " 3) NameLength                     0.179761\n",
      " 4) Age                            0.166099\n",
      " 5) Pclass                         0.079517\n",
      " 6) FamilySize                     0.046164\n",
      " 7) Embarked                       0.031549\n",
      " 8) SibSp                          0.027602\n",
      " 9) Adult                          0.022348\n",
      "10) Parch                          0.021414\n"
     ]
    }
   ],
   "source": [
    "#analysis importance of features using random forest\n",
    "from sklearn.ensemble import RandomForestClassifier\n",
    "#name of features\n",
    "feat_labels = new_df.columns[1:]\n",
    "# craete random forest object\n",
    "forest = RandomForestClassifier(n_estimators=1000,random_state=0,n_jobs=-1)\n",
    "#fitting the model\n",
    "forest.fit(X,y)\n",
    "#extract importance of features\n",
    "importances = forest.feature_importances_\n",
    "#extract index of features importance with decend\n",
    "indices = np.argsort(importances)[::-1]\n",
    "#print importances\n",
    "for i in range(X.shape[1]):\n",
    "    print('%2d) %-*s %f') %(i+1,30,feat_labels[indices[i]],importances[indices[i]])"
   ]
  },
  {
   "cell_type": "code",
   "execution_count": 84,
   "metadata": {
    "collapsed": false
   },
   "outputs": [
    {
     "data": {
      "image/png": "[encoded data removed]",
      "text/plain": [
       "<matplotlib.figure.Figure at 0x7f93a461cfd0>"
      ]
     },
     "metadata": {},
     "output_type": "display_data"
    }
   ],
   "source": [
    "#plot features importances\n",
    "plt.title('Feature Importances')\n",
    "plt.bar(range(X.shape[1]),importances[indices],color='lightblue',align='center')\n",
    "plt.xticks(range(X.shape[1]),feat_labels[indices],rotation=90)\n",
    "plt.xlim([-1,X.shape[1]])\n",
    "plt.tight_layout()\n",
    "plt.show()"
   ]
  },
  {
   "cell_type": "code",
   "execution_count": null,
   "metadata": {
    "collapsed": true
   },
   "outputs": [],
   "source": []
  }
 ],
 "metadata": {
  "kernelspec": {
   "display_name": "Python 2",
   "language": "python",
   "name": "python2"
  },
  "language_info": {
   "codemirror_mode": {
    "name": "ipython",
    "version": 2
   },
   "file_extension": ".py",
   "mimetype": "text/x-python",
   "name": "python",
   "nbconvert_exporter": "python",
   "pygments_lexer": "ipython2",
   "version": "2.7.12"
  }
 },
 "nbformat": 4,
 "nbformat_minor": 0
}
