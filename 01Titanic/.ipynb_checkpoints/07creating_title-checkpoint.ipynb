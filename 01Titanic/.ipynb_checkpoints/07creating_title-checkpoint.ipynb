{
 "cells": [
  {
   "cell_type": "code",
   "execution_count": 1,
   "metadata": {
    "collapsed": false
   },
   "outputs": [
    {
     "name": "stderr",
     "output_type": "stream",
     "text": [
      "/home/kyohei/anaconda2/lib/python2.7/site-packages/matplotlib/font_manager.py:273: UserWarning: Matplotlib is building the font cache using fc-list. This may take a moment.\n",
      "  warnings.warn('Matplotlib is building the font cache using fc-list. This may take a moment.')\n"
     ]
    }
   ],
   "source": [
    "%matplotlib inline\n",
    "import matplotlib.pyplot as plt\n",
    "import pandas as pd\n",
    "import numpy as np\n",
    "import re\n",
    "\n",
    "df = pd.read_csv('train.csv')"
   ]
  },
  {
   "cell_type": "code",
   "execution_count": 2,
   "metadata": {
    "collapsed": false
   },
   "outputs": [],
   "source": [
    "df['FamilySize'] = df['SibSp'] + df['Parch']\n",
    "\n",
    "df['NameLength'] = df['Name'].apply(lambda x: len(x))"
   ]
  },
  {
   "cell_type": "code",
   "execution_count": 3,
   "metadata": {
    "collapsed": false
   },
   "outputs": [],
   "source": [
    "#getting title from Name column\n",
    "def get_title(name):\n",
    "    #Use a regular expression to search for title. titles always consist of capital and lowercase letters, and end with prediod.\n",
    "    title_search = re.search(' ([A-Za-z]+)\\.',name)\n",
    "    #if the title exist, extract and return it\n",
    "    if title_search:\n",
    "        return title_search.group(1)\n",
    "    return ''"
   ]
  },
  {
   "cell_type": "code",
   "execution_count": 4,
   "metadata": {
    "collapsed": false
   },
   "outputs": [
    {
     "name": "stdout",
     "output_type": "stream",
     "text": [
      "Mr          517\n",
      "Miss        182\n",
      "Mrs         125\n",
      "Master       40\n",
      "Dr            7\n",
      "Rev           6\n",
      "Col           2\n",
      "Major         2\n",
      "Mlle          2\n",
      "Countess      1\n",
      "Ms            1\n",
      "Lady          1\n",
      "Jonkheer      1\n",
      "Don           1\n",
      "Mme           1\n",
      "Capt          1\n",
      "Sir           1\n",
      "Name: Name, dtype: int64\n"
     ]
    }
   ],
   "source": [
    "#get all the titles and print how often each one occurs\n",
    "titles = df['Name'].apply(get_title)\n",
    "print(pd.value_counts(titles))"
   ]
  },
  {
   "cell_type": "code",
   "execution_count": 5,
   "metadata": {
    "collapsed": false
   },
   "outputs": [],
   "source": [
    "#map each title to an integer.some titles are rare,and are compressed into the same codes as other titles.\n",
    "title_mapping = {'Mr':1,'Miss':2,'Mrs':3,'Master':4,'Dr':5,'Rev':5,'Col':5,'Major':5,'Mlle':2,'Countess':5,\n",
    "                 'Ms':2,'Lady':5,'Jonkheer':5,'Don':5,'Mme':2,'Capt':5,'Sir':5}\n",
    "titles = titles.map(title_mapping)"
   ]
  },
  {
   "cell_type": "code",
   "execution_count": 6,
   "metadata": {
    "collapsed": false
   },
   "outputs": [],
   "source": [
    "df['Title'] = titles"
   ]
  },
  {
   "cell_type": "code",
   "execution_count": 7,
   "metadata": {
    "collapsed": false
   },
   "outputs": [],
   "source": [
    "import operator\n",
    "\n",
    "#A dictionary mapping family name to id\n",
    "family_id_mapping = {}\n",
    "#A function to get the id given a row\n",
    "def get_family_id(row):\n",
    "    #Find the last name by splitting on a comma\n",
    "    last_name = row['Name'].split(',')[0]\n",
    "    #Create the family id\n",
    "    family_id = '{0}{1}'.format(last_name, row['FamilySize'])\n",
    "    #Look up the id in the mapping\n",
    "    if family_id not in family_id_mapping:\n",
    "        if len(family_id_mapping) == 0:\n",
    "            current_id = 1\n",
    "        else:\n",
    "            #Get the maximum id from the mapping and add one to it if we don't have an id\n",
    "            current_id = (max(family_id_mapping.items(),key=operator.itemgetter(1))[1] + 1)\n",
    "        family_id_mapping[family_id] = current_id\n",
    "    return family_id_mapping[family_id]\n",
    "#Get the family ids with the apply method\n",
    "family_ids = df.apply(get_family_id,axis=1)\n",
    "\n",
    "family_ids[df['FamilySize'] < 2] = -1\n",
    "\n",
    "df['FamilyId'] = family_ids"
   ]
  },
  {
   "cell_type": "code",
   "execution_count": 8,
   "metadata": {
    "collapsed": false
   },
   "outputs": [],
   "source": [
    "#convert sex\n",
    "sex_mapping = {'female':0,'male':1}\n",
    "df['Sex'] = df['Sex'].map(sex_mapping)"
   ]
  },
  {
   "cell_type": "code",
   "execution_count": 9,
   "metadata": {
    "collapsed": true
   },
   "outputs": [],
   "source": [
    "#insert missing age values , using median value\n",
    "from sklearn.preprocessing import Imputer\n",
    "imr_age = Imputer(missing_values='NaN',strategy='median',axis=0)\n",
    "imr_age.fit(df[['Age']].values)\n",
    "df['Age'] = imr_age.transform(df[['Age']].values)"
   ]
  },
  {
   "cell_type": "code",
   "execution_count": 10,
   "metadata": {
    "collapsed": false
   },
   "outputs": [],
   "source": [
    "#Next parameter is Embarked.strategy is frequent so recreate Imputer object\n",
    "imr = Imputer(missing_values='NaN',strategy='most_frequent')\n",
    "#Imputer only can numeric values ,so convert str into numeric using map function\n",
    "#create dictionary\n",
    "embarked_mapping = {'C':1,'Q':2,'S':3}\n",
    "#convert usinig map function\n",
    "embarked_int = df['Embarked'].map(embarked_mapping)\n",
    "#Imputing\n",
    "df['Embarked'] = imr.fit_transform(embarked_int[:,np.newaxis])"
   ]
  },
  {
   "cell_type": "code",
   "execution_count": 11,
   "metadata": {
    "collapsed": false
   },
   "outputs": [],
   "source": [
    "features = [u'Pclass',u'Sex', u'Age',u'SibSp', u'Parch', u'Fare', u'Embarked'\n",
    "            ,u'FamilySize', u'NameLength', u'Title', u'FamilyId']\n",
    "X = df[features].values\n",
    "y = df['Survived'].values"
   ]
  },
  {
   "cell_type": "code",
   "execution_count": 12,
   "metadata": {
    "collapsed": false
   },
   "outputs": [
    {
     "name": "stdout",
     "output_type": "stream",
     "text": [
      " 1) Fare                           0.179711\n",
      " 2) NameLength                     0.161084\n",
      " 3) Title                          0.157541\n",
      " 4) Age                            0.150108\n",
      " 5) Sex                            0.133963\n",
      " 6) Pclass                         0.072532\n",
      " 7) FamilySize                     0.041394\n",
      " 8) FamilyId                       0.032913\n",
      " 9) Embarked                       0.028281\n",
      "10) SibSp                          0.026758\n",
      "11) Parch                          0.015715\n"
     ]
    }
   ],
   "source": [
    "#analysis importance of features using random forest\n",
    "from sklearn.ensemble import RandomForestClassifier\n",
    "#name of features\n",
    "feat_labels = np.array(features)\n",
    "# craete random forest object\n",
    "forest = RandomForestClassifier(n_estimators=500,random_state=0,n_jobs=-1)\n",
    "#fitting the model\n",
    "forest.fit(X,y)\n",
    "#extract importance of features\n",
    "importances = forest.feature_importances_\n",
    "#extract index of features importance with decend\n",
    "indices = np.argsort(importances)[::-1]\n",
    "#print importances\n",
    "for i in range(X.shape[1]):\n",
    "    print('%2d) %-*s %f') %(i+1,30,feat_labels[indices[i]],importances[indices[i]])"
   ]
  },
  {
   "cell_type": "code",
   "execution_count": 13,
   "metadata": {
    "collapsed": false
   },
   "outputs": [
    {
     "data": {
      "image/png": "[encoded data removed]",
      "text/plain": [
       "<matplotlib.figure.Figure at 0x7f50bba0a690>"
      ]
     },
     "metadata": {},
     "output_type": "display_data"
    }
   ],
   "source": [
    "#plot features importances\n",
    "plt.title('Feature Importances')\n",
    "plt.bar(range(X.shape[1]),importances[indices],color='lightblue',align='center')\n",
    "plt.xticks(range(X.shape[1]),feat_labels[indices],rotation=90)\n",
    "plt.xlim([-1,X.shape[1]])\n",
    "plt.tight_layout()\n",
    "plt.show()"
   ]
  },
  {
   "cell_type": "code",
   "execution_count": 14,
   "metadata": {
    "collapsed": true
   },
   "outputs": [],
   "source": [
    "from sklearn.base import clone\n",
    "from itertools import combinations\n",
    "import numpy as np\n",
    "from sklearn.cross_validation import train_test_split\n",
    "from sklearn.metrics import accuracy_score\n",
    "\n",
    "class SBS():\n",
    "    \n",
    "    def __init__(self,estimator,k_features,scoring=accuracy_score,test_size=0.25,random_state=1):\n",
    "        self.scoring = scoring\n",
    "        self.estimator = clone(estimator)\n",
    "        self.k_features = k_features\n",
    "        self.test_size = test_size\n",
    "        self.random_state = random_state\n",
    "        \n",
    "    def fit(self,X,y):\n",
    "        X_train,X_test,y_train,y_test = train_test_split(X,y,test_size=self.test_size,random_state=self.random_state)\n",
    "        dim = X_train.shape[1]\n",
    "        self.indices_ = tuple(range(dim))\n",
    "        self.subsets_ = [self.indices_]\n",
    "        score = self._calc_score(X_train,y_train,X_test,y_test,self.indices_)\n",
    "        \n",
    "        self.scores_ = [score]\n",
    "        \n",
    "        while dim > self.k_features:\n",
    "            \n",
    "            scores = []\n",
    "            subsets = []\n",
    "            \n",
    "            for p in combinations(self.indices_,r=dim-1):\n",
    "                score = self._calc_score(X_train,y_train,X_test,y_test,p)\n",
    "                scores.append(score)\n",
    "                subsets.append(p)\n",
    "                \n",
    "            best = np.argmax(scores)\n",
    "            \n",
    "            self.indices_ = subsets[best]\n",
    "            self.subsets_.append(self.indices_)\n",
    "            \n",
    "            dim -= 1\n",
    "            \n",
    "            self.scores_.append(scores[best])\n",
    "            \n",
    "        self.k_score_ = self.scores_[-1]\n",
    "        \n",
    "        return self\n",
    "    \n",
    "    def transform(self,X):\n",
    "        return X[:, self.indices_]\n",
    "    \n",
    "    def _calc_score(self,X_train,y_train,X_test,y_test,indices):\n",
    "        self.estimator.fit(X_train[:,indices],y_train)\n",
    "        y_pred = self.estimator.predict(X_test[:,indices])\n",
    "        score = self.scoring(y_test,y_pred)\n",
    "        return score"
   ]
  },
  {
   "cell_type": "code",
   "execution_count": 15,
   "metadata": {
    "collapsed": true
   },
   "outputs": [],
   "source": [
    "#train,test split\n",
    "from sklearn.cross_validation import train_test_split\n",
    "X_train,X_test,y_train,y_test = train_test_split(X,y,test_size=0.3,random_state=0)"
   ]
  },
  {
   "cell_type": "markdown",
   "metadata": {},
   "source": [
    "# Logistic Regression"
   ]
  },
  {
   "cell_type": "code",
   "execution_count": 18,
   "metadata": {
    "collapsed": false
   },
   "outputs": [
    {
     "name": "stdout",
     "output_type": "stream",
     "text": [
      "train accuracy score: 0.827\n",
      "test accuracy score: 0.810\n"
     ]
    }
   ],
   "source": [
    "from sklearn.linear_model import LogisticRegression\n",
    "from sklearn.pipeline import Pipeline\n",
    "from sklearn.metrics import accuracy_score\n",
    "from sklearn.preprocessing import StandardScaler\n",
    "\n",
    "pipe_lr = Pipeline([('scl',StandardScaler()),('clf',LogisticRegression())])\n",
    "pipe_lr.fit(X_train,y_train)\n",
    "y_test_pred = pipe_lr.predict(X_test)\n",
    "y_train_pred = pipe_lr.predict(X_train)\n",
    "print('train accuracy score: %.3f') %accuracy_score(y_train,y_train_pred)\n",
    "print('test accuracy score: %.3f') %accuracy_score(y_test,y_test_pred)"
   ]
  },
  {
   "cell_type": "markdown",
   "metadata": {},
   "source": [
    "# grid search"
   ]
  },
  {
   "cell_type": "code",
   "execution_count": 19,
   "metadata": {
    "collapsed": false
   },
   "outputs": [
    {
     "name": "stdout",
     "output_type": "stream",
     "text": [
      "0.821829855538\n",
      "{'clf__penalty': 'l1', 'clf__C': 10}\n"
     ]
    }
   ],
   "source": [
    "from sklearn.preprocessing import StandardScaler\n",
    "from sklearn.grid_search import GridSearchCV\n",
    "pipe_lr = Pipeline([('scl',StandardScaler()),('clf',LogisticRegression())])\n",
    "params_range = [10**(i) for i in np.arange(-4,5,1)]\n",
    "param_grid = [{'clf__C':params_range,'clf__penalty':['l1']},\n",
    "             {'clf__C':params_range,'clf__penalty':['l2']}]\n",
    "\n",
    "gs = GridSearchCV(estimator=pipe_lr,\n",
    "                 param_grid=param_grid,\n",
    "                 scoring='accuracy',\n",
    "                 cv=10,n_jobs=-1)\n",
    "gs.fit(X_train,y_train)\n",
    "print(gs.best_score_)\n",
    "print(gs.best_params_)"
   ]
  },
  {
   "cell_type": "markdown",
   "metadata": {},
   "source": [
    "# sbs algorithm"
   ]
  },
  {
   "cell_type": "code",
   "execution_count": 20,
   "metadata": {
    "collapsed": false
   },
   "outputs": [
    {
     "data": {
      "image/png": "[encoded data removed]",
      "text/plain": [
       "<matplotlib.figure.Figure at 0x7f50ba92c550>"
      ]
     },
     "metadata": {},
     "output_type": "display_data"
    },
    {
     "name": "stdout",
     "output_type": "stream",
     "text": [
      "('best features set:', (0, 1, 2, 3, 4, 8, 9))\n"
     ]
    }
   ],
   "source": [
    "pipe_lr_best = Pipeline([('scl',StandardScaler()),('clf',LogisticRegression(penalty='l1',C=10))])\n",
    "sbs = SBS(pipe_lr_best,k_features=1)\n",
    "sbs.fit(X_train,y_train)\n",
    "\n",
    "k_feat = [len(k) for k in sbs.subsets_]\n",
    "plt.plot(k_feat,sbs.scores_,marker='o')\n",
    "plt.ylim([0.7,1.1])\n",
    "plt.show()\n",
    "\n",
    "print('best features set:',sbs.subsets_[4])"
   ]
  },
  {
   "cell_type": "markdown",
   "metadata": {},
   "source": [
    "# k-fold cross_validation"
   ]
  },
  {
   "cell_type": "code",
   "execution_count": 23,
   "metadata": {
    "collapsed": false
   },
   "outputs": [
    {
     "name": "stdout",
     "output_type": "stream",
     "text": [
      "Fold 1,Class dist: [342 217], Acc:0.781\n",
      "Fold 2,Class dist: [343 217], Acc:0.810\n",
      "Fold 3,Class dist: [343 218], Acc:0.823\n",
      "Fold 4,Class dist: [343 218], Acc:0.774\n",
      "Fold 5,Class dist: [343 218], Acc:0.855\n",
      "Fold 6,Class dist: [343 218], Acc:0.806\n",
      "Fold 7,Class dist: [343 218], Acc:0.823\n",
      "Fold 8,Class dist: [343 218], Acc:0.806\n",
      "Fold 9,Class dist: [343 218], Acc:0.871\n",
      "Fold 10,Class dist: [343 218], Acc:0.887\n",
      "CV_accuracy: 0.824 +/- 0.035\n"
     ]
    }
   ],
   "source": [
    "from sklearn.cross_validation import StratifiedKFold\n",
    "\n",
    "kfold = StratifiedKFold(y=y_train,n_folds=10,random_state=0)\n",
    "scores = []\n",
    "for k, (train,test) in enumerate(kfold):\n",
    "    pipe_lr_best.fit(X_train[train][:,sbs.subsets_[4]],y_train[train])\n",
    "    score = pipe_lr_best.score(X_train[test][:,sbs.subsets_[4]],y_train[test])\n",
    "    scores.append(score)\n",
    "    print('Fold %s,Class dist: %s, Acc:%.3f') %(k+1,np.bincount(y_train[train]),score)\n",
    "print('CV_accuracy: %.3f +/- %.3f') %(np.mean(scores),np.std(scores))"
   ]
  },
  {
   "cell_type": "code",
   "execution_count": 25,
   "metadata": {
    "collapsed": false
   },
   "outputs": [
    {
     "name": "stdout",
     "output_type": "stream",
     "text": [
      "0.814814814815\n"
     ]
    }
   ],
   "source": [
    "pipe_lr_best.fit(X[:,sbs.subsets_[4]],y)\n",
    "predict = pipe_lr_best.predict(X[:,sbs.subsets_[4]])\n",
    "print(accuracy_score(predict,y))"
   ]
  },
  {
   "cell_type": "markdown",
   "metadata": {},
   "source": [
    "# SVC"
   ]
  },
  {
   "cell_type": "code",
   "execution_count": 28,
   "metadata": {
    "collapsed": false
   },
   "outputs": [
    {
     "name": "stdout",
     "output_type": "stream",
     "text": [
      "train accuracy: 0.849\n",
      "test accuracy: 0.821\n"
     ]
    }
   ],
   "source": [
    "from sklearn.svm import SVC\n",
    "pipe_svc = Pipeline([('scl',StandardScaler()),('clf',SVC(random_state=1))])\n",
    "pipe_svc.fit(X_train,y_train)\n",
    "predict_train = pipe_svc.predict(X_train)\n",
    "predict_test = pipe_svc.predict(X_test)\n",
    "print('train accuracy: %.3f') % accuracy_score(y_train,predict_train)\n",
    "print('test accuracy: %.3f') % accuracy_score(y_test,predict_test)"
   ]
  },
  {
   "cell_type": "code",
   "execution_count": null,
   "metadata": {
    "collapsed": false
   },
   "outputs": [],
   "source": [
    "params_range = [10**i for i in np.arange(-4,5,1)]\n",
    "param_grid = [{'clf__C':params_range,'clf__kernel':['linear']},\n",
    "             {'clf__C':params_range,'clf__gamma':params_range,'clf__kernel':['rbf']}]\n",
    "gs = GridSearchCV(estimator=pipe_svc,\n",
    "                 param_grid=param_grid,\n",
    "                  scoring='accuracy',\n",
    "                 cv=10,\n",
    "                  n_jobs=-1)\n",
    "gs.fit(X_train,y_train)\n",
    "print(gs.best_score_)\n",
    "print(gs.best_params_)"
   ]
  },
  {
   "cell_type": "code",
   "execution_count": null,
   "metadata": {
    "collapsed": true
   },
   "outputs": [],
   "source": [
    "pipe_svc_best = Pipeline([('scl',StandardSclaer()),('clf',SVC(C=,gamma=,kernel=''))])\n",
    "sbs = SBS(pipe_svc_best,k_features=1)\n",
    "sbs.fit(X_train,y_train)\n",
    "\n",
    "k_feat = [len(k) for k in sbs.subsets_]\n",
    "plt.plot(k_feat,sbs.scores_,marker='o')\n",
    "plt.ylim([0.7,1.1])\n",
    "plt.show()\n",
    "\n",
    "print('best features set:',sbs.subsets_[4])"
   ]
  }
 ],
 "metadata": {
  "kernelspec": {
   "display_name": "Python 2",
   "language": "python",
   "name": "python2"
  },
  "language_info": {
   "codemirror_mode": {
    "name": "ipython",
    "version": 2
   },
   "file_extension": ".py",
   "mimetype": "text/x-python",
   "name": "python",
   "nbconvert_exporter": "python",
   "pygments_lexer": "ipython2",
   "version": "2.7.12"
  }
 },
 "nbformat": 4,
 "nbformat_minor": 0
}
