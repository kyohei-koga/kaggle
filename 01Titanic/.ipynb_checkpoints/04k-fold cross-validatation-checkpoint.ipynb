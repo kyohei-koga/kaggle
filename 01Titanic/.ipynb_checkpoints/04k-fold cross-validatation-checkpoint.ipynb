{
 "cells": [
  {
   "cell_type": "code",
   "execution_count": 4,
   "metadata": {
    "collapsed": false
   },
   "outputs": [],
   "source": [
    "%matplotlib inline\n",
    "import matplotlib.pyplot as plt\n",
    "import pandas as pd\n",
    "import numpy as np\n",
    "\n",
    "df = pd.read_csv('train_mod.csv')"
   ]
  },
  {
   "cell_type": "code",
   "execution_count": 17,
   "metadata": {
    "collapsed": false
   },
   "outputs": [],
   "source": [
    "y = df.iloc[:,1].values\n",
    "X = df[[u'Pclass',u'Sex', u'Age',u'SibSp', u'Parch',u'Fare']].values"
   ]
  },
  {
   "cell_type": "code",
   "execution_count": 19,
   "metadata": {
    "collapsed": false
   },
   "outputs": [],
   "source": [
    "from sklearn.cross_validation import train_test_split\n",
    "X_train,X_test,y_train,y_test = train_test_split(X,y,test_size=0.3,random_state=0)"
   ]
  },
  {
   "cell_type": "code",
   "execution_count": 29,
   "metadata": {
    "collapsed": false
   },
   "outputs": [
    {
     "name": "stdout",
     "output_type": "stream",
     "text": [
      "0.798507462687\n"
     ]
    }
   ],
   "source": [
    "from sklearn.preprocessing import StandardScaler\n",
    "from sklearn.linear_model import LogisticRegression\n",
    "from sklearn.pipeline import Pipeline\n",
    "\n",
    "pipe_lr = Pipeline([('std',StandardScaler()),('lr',LogisticRegression(random_state=0))])\n",
    "pipe_lr.fit(X_train,y_train)\n",
    "print(pipe_lr.score(X_test,y_test))"
   ]
  },
  {
   "cell_type": "code",
   "execution_count": 31,
   "metadata": {
    "collapsed": false
   },
   "outputs": [
    {
     "name": "stdout",
     "output_type": "stream",
     "text": [
      "Fold 1,Class dist: [342 217], Acc:0.766\n",
      "Fold 2,Class dist: [343 217], Acc:0.810\n",
      "Fold 3,Class dist: [343 218], Acc:0.758\n",
      "Fold 4,Class dist: [343 218], Acc:0.758\n",
      "Fold 5,Class dist: [343 218], Acc:0.758\n",
      "Fold 6,Class dist: [343 218], Acc:0.758\n",
      "Fold 7,Class dist: [343 218], Acc:0.806\n",
      "Fold 8,Class dist: [343 218], Acc:0.823\n",
      "Fold 9,Class dist: [343 218], Acc:0.855\n",
      "Fold 10,Class dist: [343 218], Acc:0.839\n"
     ]
    }
   ],
   "source": [
    "from sklearn.cross_validation import StratifiedKFold\n",
    "\n",
    "kfold = StratifiedKFold(y=y_train,n_folds=10,random_state=1)\n",
    "scores = []\n",
    "for k, (train,test) in enumerate(kfold):\n",
    "    pipe_lr.fit(X_train[train],y_train[train])\n",
    "    score = pipe_lr.score(X_train[test],y_train[test])\n",
    "    scores.append(score)\n",
    "    print('Fold %s,Class dist: %s, Acc:%.3f') %(k+1,np.bincount(y_train[train]),score)"
   ]
  },
  {
   "cell_type": "code",
   "execution_count": 33,
   "metadata": {
    "collapsed": false
   },
   "outputs": [
    {
     "name": "stdout",
     "output_type": "stream",
     "text": [
      "CV accyracy: 0.793 +/- 0.036\n"
     ]
    }
   ],
   "source": [
    "print('CV accyracy: %.3f +/- %.3f') %(np.mean(scores),np.std(scores))"
   ]
  },
  {
   "cell_type": "code",
   "execution_count": 41,
   "metadata": {
    "collapsed": false
   },
   "outputs": [
    {
     "name": "stdout",
     "output_type": "stream",
     "text": [
      "CV sccuracy scores:[ 0.765625    0.80952381  0.75806452  0.75806452  0.75806452  0.75806452\n",
      "  0.80645161  0.82258065  0.85483871  0.83870968]\n",
      "CV accuracy: 0.793 +/- 0.036\n"
     ]
    }
   ],
   "source": [
    "from sklearn.cross_validation import cross_val_score\n",
    "\n",
    "scores = cross_val_score(estimator=pipe_lr,X=X_train,y=y_train,cv=10,n_jobs=-1)\n",
    "print('CV sccuracy scores:%s') % scores\n",
    "print('CV accuracy: %.3f +/- %.3f') %(np.mean(scores),np.std(scores))"
   ]
  },
  {
   "cell_type": "code",
   "execution_count": 46,
   "metadata": {
    "collapsed": false
   },
   "outputs": [
    {
     "name": "stdout",
     "output_type": "stream",
     "text": [
      "0.792937399679\n",
      "{'lr__penalty': 'l1', 'lr__C': 1}\n"
     ]
    }
   ],
   "source": [
    "from sklearn.grid_search import GridSearchCV\n",
    "params_range = [10**(i) for i in np.arange(-4,5,1)]\n",
    "param_grid =[{'lr__C':params_range,'lr__penalty':['l1']},\n",
    "            {'lr__C':params_range,'lr__penalty':['l2']}]\n",
    "\n",
    "gs = GridSearchCV(estimator=pipe_lr,\n",
    "                 param_grid=param_grid,\n",
    "                 scoring='accuracy',\n",
    "                 cv=10,n_jobs=-1)\n",
    "\n",
    "gs = gs.fit(X_train,y_train)\n",
    "print(gs.best_score_)\n",
    "print(gs.best_params_)"
   ]
  },
  {
   "cell_type": "code",
   "execution_count": 48,
   "metadata": {
    "collapsed": false
   },
   "outputs": [
    {
     "name": "stdout",
     "output_type": "stream",
     "text": [
      "0.826645264848\n",
      "{'clf__gamma': 0.01, 'clf__C': 100, 'clf__kernel': 'rbf'}\n"
     ]
    }
   ],
   "source": [
    "from sklearn.svm import SVC\n",
    "pipe_svc = Pipeline([('scl',StandardScaler()),('clf',SVC(random_state=1))])\n",
    "param_grid = [{'clf__C':params_range,'clf__kernel':['linear']},\n",
    "             {'clf__C':params_range,'clf__kernel':['rbf'],'clf__gamma':params_range}]\n",
    "gs = GridSearchCV(estimator=pipe_svc,param_grid=param_grid,scoring='accuracy',cv=10,n_jobs=-1)\n",
    "gs.fit(X_train,y_train)\n",
    "print(gs.best_score_)\n",
    "print(gs.best_params_)"
   ]
  },
  {
   "cell_type": "code",
   "execution_count": null,
   "metadata": {
    "collapsed": true
   },
   "outputs": [],
   "source": []
  }
 ],
 "metadata": {
  "kernelspec": {
   "display_name": "Python 2",
   "language": "python",
   "name": "python2"
  },
  "language_info": {
   "codemirror_mode": {
    "name": "ipython",
    "version": 2
   },
   "file_extension": ".py",
   "mimetype": "text/x-python",
   "name": "python",
   "nbconvert_exporter": "python",
   "pygments_lexer": "ipython2",
   "version": "2.7.12"
  }
 },
 "nbformat": 4,
 "nbformat_minor": 0
}
