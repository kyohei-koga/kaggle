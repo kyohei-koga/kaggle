{
 "cells": [
  {
   "cell_type": "code",
   "execution_count": 83,
   "metadata": {
    "collapsed": false
   },
   "outputs": [],
   "source": [
    "%matplotlib inline\n",
    "import matplotlib.pyplot as plt\n",
    "import pandas as pd\n",
    "import numpy as np\n",
    "import re\n",
    "\n",
    "df = pd.read_csv('train.csv')"
   ]
  },
  {
   "cell_type": "code",
   "execution_count": 84,
   "metadata": {
    "collapsed": false
   },
   "outputs": [],
   "source": [
    "df['FamilySize'] = df['SibSp'] + df['Parch']\n",
    "\n",
    "df['NameLength'] = df['Name'].apply(lambda x: len(x))"
   ]
  },
  {
   "cell_type": "code",
   "execution_count": 85,
   "metadata": {
    "collapsed": false
   },
   "outputs": [],
   "source": [
    "#getting title from Name column\n",
    "def get_title(name):\n",
    "    #Use a regular expression to search for title. titles always consist of capital and lowercase letters, and end with prediod.\n",
    "    title_search = re.search(' ([A-Za-z]+)\\.',name)\n",
    "    #if the title exist, extract and return it\n",
    "    if title_search:\n",
    "        return title_search.group(1)\n",
    "    return ''"
   ]
  },
  {
   "cell_type": "code",
   "execution_count": 86,
   "metadata": {
    "collapsed": false
   },
   "outputs": [
    {
     "name": "stdout",
     "output_type": "stream",
     "text": [
      "Mr          517\n",
      "Miss        182\n",
      "Mrs         125\n",
      "Master       40\n",
      "Dr            7\n",
      "Rev           6\n",
      "Col           2\n",
      "Major         2\n",
      "Mlle          2\n",
      "Countess      1\n",
      "Ms            1\n",
      "Lady          1\n",
      "Jonkheer      1\n",
      "Don           1\n",
      "Mme           1\n",
      "Capt          1\n",
      "Sir           1\n",
      "Name: Name, dtype: int64\n"
     ]
    }
   ],
   "source": [
    "#get all the titles and print how often each one occurs\n",
    "titles = df['Name'].apply(get_title)\n",
    "print(pd.value_counts(titles))"
   ]
  },
  {
   "cell_type": "code",
   "execution_count": 87,
   "metadata": {
    "collapsed": false
   },
   "outputs": [],
   "source": [
    "#map each title to an integer.some titles are rare,and are compressed into the same codes as other titles.\n",
    "title_mapping = {'Mr':1,'Miss':2,'Mrs':3,'Master':4,'Dr':5,'Rev':5,'Col':5,'Major':5,'Mlle':2,'Countess':5,\n",
    "                 'Ms':2,'Lady':5,'Jonkheer':5,'Don':5,'Mme':2,'Capt':5,'Sir':5}\n",
    "titles = titles.map(title_mapping)"
   ]
  },
  {
   "cell_type": "code",
   "execution_count": 89,
   "metadata": {
    "collapsed": false
   },
   "outputs": [],
   "source": [
    "df['Title'] = titles"
   ]
  },
  {
   "cell_type": "code",
   "execution_count": 90,
   "metadata": {
    "collapsed": false
   },
   "outputs": [],
   "source": [
    "import operator\n",
    "\n",
    "#A dictionary mapping family name to id\n",
    "family_id_mapping = {}\n",
    "#A function to get the id given a row\n",
    "def get_family_id(row):\n",
    "    #Find the last name by splitting on a comma\n",
    "    last_name = row['Name'].split(',')[0]\n",
    "    #Create the family id\n",
    "    family_id = '{0}{1}'.format(last_name, row['FamilySize'])\n",
    "    #Look up the id in the mapping\n",
    "    if family_id not in family_id_mapping:\n",
    "        if len(family_id_mapping) == 0:\n",
    "            current_id = 1\n",
    "        else:\n",
    "            #Get the maximum id from the mapping and add one to it if we don't have an id\n",
    "            current_id = (max(family_id_mapping.items(),key=operator.itemgetter(1))[1] + 1)\n",
    "        family_id_mapping[family_id] = current_id\n",
    "    return family_id_mapping[family_id]\n",
    "#Get the family ids with the apply method\n",
    "family_ids = df.apply(get_family_id,axis=1)\n",
    "\n",
    "family_ids[df['FamilySize'] < 2] = -1\n",
    "\n",
    "df['FamilyId'] = family_ids"
   ]
  },
  {
   "cell_type": "code",
   "execution_count": 100,
   "metadata": {
    "collapsed": false
   },
   "outputs": [],
   "source": [
    "#convert sex\n",
    "sex_mapping = {'female':0,'male':1}\n",
    "df['Sex'] = df['Sex'].map(sex_mapping)"
   ]
  },
  {
   "cell_type": "code",
   "execution_count": 101,
   "metadata": {
    "collapsed": true
   },
   "outputs": [],
   "source": [
    "#insert missing age values , using median value\n",
    "from sklearn.preprocessing import Imputer\n",
    "imr_age = Imputer(missing_values='NaN',strategy='median',axis=0)\n",
    "imr_age.fit(df[['Age']].values)\n",
    "df['Age'] = imr_age.transform(df[['Age']].values)"
   ]
  },
  {
   "cell_type": "code",
   "execution_count": 103,
   "metadata": {
    "collapsed": false
   },
   "outputs": [],
   "source": [
    "#Next parameter is Embarked.strategy is frequent so recreate Imputer object\n",
    "imr = Imputer(missing_values='NaN',strategy='most_frequent')\n",
    "#Imputer only can numeric values ,so convert str into numeric using map function\n",
    "#create dictionary\n",
    "embarked_mapping = {'C':1,'Q':2,'S':3}\n",
    "#convert usinig map function\n",
    "embarked_int = df['Embarked'].map(embarked_mapping)\n",
    "#Imputing\n",
    "df['Embarked'] = imr.fit_transform(embarked_int[:,np.newaxis])"
   ]
  },
  {
   "cell_type": "code",
   "execution_count": 107,
   "metadata": {
    "collapsed": false
   },
   "outputs": [],
   "source": [
    "features = [u'Pclass',u'Sex', u'Age',u'SibSp', u'Parch', u'Fare', u'Embarked'\n",
    "            ,u'FamilySize', u'NameLength', u'Title', u'FamilyId']\n",
    "X = df[features].values\n",
    "y = df['Survived']"
   ]
  },
  {
   "cell_type": "code",
   "execution_count": 113,
   "metadata": {
    "collapsed": false
   },
   "outputs": [
    {
     "name": "stdout",
     "output_type": "stream",
     "text": [
      " 1) Fare                           0.179711\n",
      " 2) NameLength                     0.161084\n",
      " 3) Title                          0.157541\n",
      " 4) Age                            0.150108\n",
      " 5) Sex                            0.133963\n",
      " 6) Pclass                         0.072532\n",
      " 7) FamilySize                     0.041394\n",
      " 8) FamilyId                       0.032913\n",
      " 9) Embarked                       0.028281\n",
      "10) SibSp                          0.026758\n",
      "11) Parch                          0.015715\n"
     ]
    }
   ],
   "source": [
    "#analysis importance of features using random forest\n",
    "from sklearn.ensemble import RandomForestClassifier\n",
    "#name of features\n",
    "feat_labels = np.array(features)\n",
    "# craete random forest object\n",
    "forest = RandomForestClassifier(n_estimators=500,random_state=0,n_jobs=-1)\n",
    "#fitting the model\n",
    "forest.fit(X,y)\n",
    "#extract importance of features\n",
    "importances = forest.feature_importances_\n",
    "#extract index of features importance with decend\n",
    "indices = np.argsort(importances)[::-1]\n",
    "#print importances\n",
    "for i in range(X.shape[1]):\n",
    "    print('%2d) %-*s %f') %(i+1,30,feat_labels[indices[i]],importances[indices[i]])"
   ]
  },
  {
   "cell_type": "code",
   "execution_count": 114,
   "metadata": {
    "collapsed": false
   },
   "outputs": [
    {
     "data": {
      "image/png": "[encoded data removed]",
      "text/plain": [
       "<matplotlib.figure.Figure at 0x7fa249d8b9d0>"
      ]
     },
     "metadata": {},
     "output_type": "display_data"
    }
   ],
   "source": [
    "#plot features importances\n",
    "plt.title('Feature Importances')\n",
    "plt.bar(range(X.shape[1]),importances[indices],color='lightblue',align='center')\n",
    "plt.xticks(range(X.shape[1]),feat_labels[indices],rotation=90)\n",
    "plt.xlim([-1,X.shape[1]])\n",
    "plt.tight_layout()\n",
    "plt.show()"
   ]
  },
  {
   "cell_type": "code",
   "execution_count": null,
   "metadata": {
    "collapsed": true
   },
   "outputs": [],
   "source": []
  }
 ],
 "metadata": {
  "kernelspec": {
   "display_name": "Python 2",
   "language": "python",
   "name": "python2"
  },
  "language_info": {
   "codemirror_mode": {
    "name": "ipython",
    "version": 2
   },
   "file_extension": ".py",
   "mimetype": "text/x-python",
   "name": "python",
   "nbconvert_exporter": "python",
   "pygments_lexer": "ipython2",
   "version": "2.7.12"
  }
 },
 "nbformat": 4,
 "nbformat_minor": 0
}
