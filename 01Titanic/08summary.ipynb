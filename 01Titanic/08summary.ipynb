{
 "cells": [
  {
   "cell_type": "markdown",
   "metadata": {},
   "source": [
    "# Sumary\n",
    "kaggleのタイタニック。乗客の生死を予測"
   ]
  },
  {
   "cell_type": "markdown",
   "metadata": {},
   "source": [
    "# data import"
   ]
  },
  {
   "cell_type": "code",
   "execution_count": 221,
   "metadata": {
    "collapsed": false
   },
   "outputs": [
    {
     "data": {
      "text/plain": [
       "'\\nsurvival        Survival target columns\\n                (0 = No; 1 = Yes)\\npclass          Passenger Class\\n                (1 = 1st; 2 = 2nd; 3 = 3rd) 1\\xe3\\x81\\x8c\\xe9\\x87\\x91\\xe6\\x8c\\x81\\xe3\\x81\\xa1\\nname            Name\\nsex             Sex #\\xe5\\x90\\x8d\\xe7\\xbe\\xa9\\xe7\\x89\\xb9\\xe5\\xbe\\xb4\\xe9\\x87\\x8f\\nage             Age\\nsibsp           Number of Siblings/Spouses Aboard \\xe5\\x85\\x84\\xe5\\xbc\\x9f\\xe3\\x80\\x81\\xe5\\xa4\\xab\\xe5\\xa9\\xa6\\nparch           Number of Parents/Children Aboard \\xe8\\xa6\\xaa\\xe5\\xad\\x90\\nticket          Ticket Number\\nfare            Passenger Fare\\ncabin           Cabin\\nembarked        Port of Embarkation \\xe4\\xb9\\x97\\xe3\\x82\\x8a\\xe8\\xbe\\xbc\\xe3\\x82\\x93\\xe3\\x81\\xa0\\xe6\\xb8\\xaf\\xe3\\x80\\x80#\\xe5\\x90\\x8d\\xe7\\xbe\\xa9\\xe7\\x89\\xb9\\xe5\\xbe\\xb4\\xe9\\x87\\x8f\\n'"
      ]
     },
     "execution_count": 221,
     "metadata": {},
     "output_type": "execute_result"
    }
   ],
   "source": [
    "import pandas as pd\n",
    "\n",
    "#訓練とテストデータ。テストデータは、生死情報なし\n",
    "train = pd.read_csv('train.csv')\n",
    "test = pd.read_csv('test.csv')\n",
    "\n",
    "'''\n",
    "survival        Survival target columns\n",
    "                (0 = No; 1 = Yes)\n",
    "pclass          Passenger Class\n",
    "                (1 = 1st; 2 = 2nd; 3 = 3rd) 1が金持ち\n",
    "name            Name\n",
    "sex             Sex #名義特徴量\n",
    "age             Age\n",
    "sibsp           Number of Siblings/Spouses Aboard 兄弟、夫婦\n",
    "parch           Number of Parents/Children Aboard 親子\n",
    "ticket          Ticket Number\n",
    "fare            Passenger Fare\n",
    "cabin           Cabin\n",
    "embarked        Port of Embarkation 乗り込んだ港　#名義特徴量\n",
    "'''\n"
   ]
  },
  {
   "cell_type": "code",
   "execution_count": 222,
   "metadata": {
    "collapsed": false
   },
   "outputs": [
    {
     "data": {
      "text/html": [
       "<div>\n",
       "<table border=\"1\" class=\"dataframe\">\n",
       "  <thead>\n",
       "    <tr style=\"text-align: right;\">\n",
       "      <th></th>\n",
       "      <th>PassengerId</th>\n",
       "      <th>Survived</th>\n",
       "      <th>Pclass</th>\n",
       "      <th>Name</th>\n",
       "      <th>Sex</th>\n",
       "      <th>Age</th>\n",
       "      <th>SibSp</th>\n",
       "      <th>Parch</th>\n",
       "      <th>Ticket</th>\n",
       "      <th>Fare</th>\n",
       "      <th>Cabin</th>\n",
       "      <th>Embarked</th>\n",
       "    </tr>\n",
       "  </thead>\n",
       "  <tbody>\n",
       "    <tr>\n",
       "      <th>0</th>\n",
       "      <td>1</td>\n",
       "      <td>0</td>\n",
       "      <td>3</td>\n",
       "      <td>Braund, Mr. Owen Harris</td>\n",
       "      <td>male</td>\n",
       "      <td>22.0</td>\n",
       "      <td>1</td>\n",
       "      <td>0</td>\n",
       "      <td>A/5 21171</td>\n",
       "      <td>7.2500</td>\n",
       "      <td>NaN</td>\n",
       "      <td>S</td>\n",
       "    </tr>\n",
       "    <tr>\n",
       "      <th>1</th>\n",
       "      <td>2</td>\n",
       "      <td>1</td>\n",
       "      <td>1</td>\n",
       "      <td>Cumings, Mrs. John Bradley (Florence Briggs Th...</td>\n",
       "      <td>female</td>\n",
       "      <td>38.0</td>\n",
       "      <td>1</td>\n",
       "      <td>0</td>\n",
       "      <td>PC 17599</td>\n",
       "      <td>71.2833</td>\n",
       "      <td>C85</td>\n",
       "      <td>C</td>\n",
       "    </tr>\n",
       "    <tr>\n",
       "      <th>2</th>\n",
       "      <td>3</td>\n",
       "      <td>1</td>\n",
       "      <td>3</td>\n",
       "      <td>Heikkinen, Miss. Laina</td>\n",
       "      <td>female</td>\n",
       "      <td>26.0</td>\n",
       "      <td>0</td>\n",
       "      <td>0</td>\n",
       "      <td>STON/O2. 3101282</td>\n",
       "      <td>7.9250</td>\n",
       "      <td>NaN</td>\n",
       "      <td>S</td>\n",
       "    </tr>\n",
       "    <tr>\n",
       "      <th>3</th>\n",
       "      <td>4</td>\n",
       "      <td>1</td>\n",
       "      <td>1</td>\n",
       "      <td>Futrelle, Mrs. Jacques Heath (Lily May Peel)</td>\n",
       "      <td>female</td>\n",
       "      <td>35.0</td>\n",
       "      <td>1</td>\n",
       "      <td>0</td>\n",
       "      <td>113803</td>\n",
       "      <td>53.1000</td>\n",
       "      <td>C123</td>\n",
       "      <td>S</td>\n",
       "    </tr>\n",
       "    <tr>\n",
       "      <th>4</th>\n",
       "      <td>5</td>\n",
       "      <td>0</td>\n",
       "      <td>3</td>\n",
       "      <td>Allen, Mr. William Henry</td>\n",
       "      <td>male</td>\n",
       "      <td>35.0</td>\n",
       "      <td>0</td>\n",
       "      <td>0</td>\n",
       "      <td>373450</td>\n",
       "      <td>8.0500</td>\n",
       "      <td>NaN</td>\n",
       "      <td>S</td>\n",
       "    </tr>\n",
       "  </tbody>\n",
       "</table>\n",
       "</div>"
      ],
      "text/plain": [
       "   PassengerId  Survived  Pclass  \\\n",
       "0            1         0       3   \n",
       "1            2         1       1   \n",
       "2            3         1       3   \n",
       "3            4         1       1   \n",
       "4            5         0       3   \n",
       "\n",
       "                                                Name     Sex   Age  SibSp  \\\n",
       "0                            Braund, Mr. Owen Harris    male  22.0      1   \n",
       "1  Cumings, Mrs. John Bradley (Florence Briggs Th...  female  38.0      1   \n",
       "2                             Heikkinen, Miss. Laina  female  26.0      0   \n",
       "3       Futrelle, Mrs. Jacques Heath (Lily May Peel)  female  35.0      1   \n",
       "4                           Allen, Mr. William Henry    male  35.0      0   \n",
       "\n",
       "   Parch            Ticket     Fare Cabin Embarked  \n",
       "0      0         A/5 21171   7.2500   NaN        S  \n",
       "1      0          PC 17599  71.2833   C85        C  \n",
       "2      0  STON/O2. 3101282   7.9250   NaN        S  \n",
       "3      0            113803  53.1000  C123        S  \n",
       "4      0            373450   8.0500   NaN        S  "
      ]
     },
     "execution_count": 222,
     "metadata": {},
     "output_type": "execute_result"
    }
   ],
   "source": [
    "#訓練データを確認\n",
    "train.head()"
   ]
  },
  {
   "cell_type": "code",
   "execution_count": 223,
   "metadata": {
    "collapsed": false
   },
   "outputs": [
    {
     "data": {
      "text/html": [
       "<div>\n",
       "<table border=\"1\" class=\"dataframe\">\n",
       "  <thead>\n",
       "    <tr style=\"text-align: right;\">\n",
       "      <th></th>\n",
       "      <th>PassengerId</th>\n",
       "      <th>Pclass</th>\n",
       "      <th>Name</th>\n",
       "      <th>Sex</th>\n",
       "      <th>Age</th>\n",
       "      <th>SibSp</th>\n",
       "      <th>Parch</th>\n",
       "      <th>Ticket</th>\n",
       "      <th>Fare</th>\n",
       "      <th>Cabin</th>\n",
       "      <th>Embarked</th>\n",
       "    </tr>\n",
       "  </thead>\n",
       "  <tbody>\n",
       "    <tr>\n",
       "      <th>0</th>\n",
       "      <td>892</td>\n",
       "      <td>3</td>\n",
       "      <td>Kelly, Mr. James</td>\n",
       "      <td>male</td>\n",
       "      <td>34.5</td>\n",
       "      <td>0</td>\n",
       "      <td>0</td>\n",
       "      <td>330911</td>\n",
       "      <td>7.8292</td>\n",
       "      <td>NaN</td>\n",
       "      <td>Q</td>\n",
       "    </tr>\n",
       "    <tr>\n",
       "      <th>1</th>\n",
       "      <td>893</td>\n",
       "      <td>3</td>\n",
       "      <td>Wilkes, Mrs. James (Ellen Needs)</td>\n",
       "      <td>female</td>\n",
       "      <td>47.0</td>\n",
       "      <td>1</td>\n",
       "      <td>0</td>\n",
       "      <td>363272</td>\n",
       "      <td>7.0000</td>\n",
       "      <td>NaN</td>\n",
       "      <td>S</td>\n",
       "    </tr>\n",
       "    <tr>\n",
       "      <th>2</th>\n",
       "      <td>894</td>\n",
       "      <td>2</td>\n",
       "      <td>Myles, Mr. Thomas Francis</td>\n",
       "      <td>male</td>\n",
       "      <td>62.0</td>\n",
       "      <td>0</td>\n",
       "      <td>0</td>\n",
       "      <td>240276</td>\n",
       "      <td>9.6875</td>\n",
       "      <td>NaN</td>\n",
       "      <td>Q</td>\n",
       "    </tr>\n",
       "    <tr>\n",
       "      <th>3</th>\n",
       "      <td>895</td>\n",
       "      <td>3</td>\n",
       "      <td>Wirz, Mr. Albert</td>\n",
       "      <td>male</td>\n",
       "      <td>27.0</td>\n",
       "      <td>0</td>\n",
       "      <td>0</td>\n",
       "      <td>315154</td>\n",
       "      <td>8.6625</td>\n",
       "      <td>NaN</td>\n",
       "      <td>S</td>\n",
       "    </tr>\n",
       "    <tr>\n",
       "      <th>4</th>\n",
       "      <td>896</td>\n",
       "      <td>3</td>\n",
       "      <td>Hirvonen, Mrs. Alexander (Helga E Lindqvist)</td>\n",
       "      <td>female</td>\n",
       "      <td>22.0</td>\n",
       "      <td>1</td>\n",
       "      <td>1</td>\n",
       "      <td>3101298</td>\n",
       "      <td>12.2875</td>\n",
       "      <td>NaN</td>\n",
       "      <td>S</td>\n",
       "    </tr>\n",
       "  </tbody>\n",
       "</table>\n",
       "</div>"
      ],
      "text/plain": [
       "   PassengerId  Pclass                                          Name     Sex  \\\n",
       "0          892       3                              Kelly, Mr. James    male   \n",
       "1          893       3              Wilkes, Mrs. James (Ellen Needs)  female   \n",
       "2          894       2                     Myles, Mr. Thomas Francis    male   \n",
       "3          895       3                              Wirz, Mr. Albert    male   \n",
       "4          896       3  Hirvonen, Mrs. Alexander (Helga E Lindqvist)  female   \n",
       "\n",
       "    Age  SibSp  Parch   Ticket     Fare Cabin Embarked  \n",
       "0  34.5      0      0   330911   7.8292   NaN        Q  \n",
       "1  47.0      1      0   363272   7.0000   NaN        S  \n",
       "2  62.0      0      0   240276   9.6875   NaN        Q  \n",
       "3  27.0      0      0   315154   8.6625   NaN        S  \n",
       "4  22.0      1      1  3101298  12.2875   NaN        S  "
      ]
     },
     "execution_count": 223,
     "metadata": {},
     "output_type": "execute_result"
    }
   ],
   "source": [
    "#テストデータを確認\n",
    "test.head()"
   ]
  },
  {
   "cell_type": "code",
   "execution_count": 224,
   "metadata": {
    "collapsed": false
   },
   "outputs": [
    {
     "name": "stdout",
     "output_type": "stream",
     "text": [
      "confirm Nan value in train data set\n",
      " PassengerId      0\n",
      "Survived         0\n",
      "Pclass           0\n",
      "Name             0\n",
      "Sex              0\n",
      "Age            177\n",
      "SibSp            0\n",
      "Parch            0\n",
      "Ticket           0\n",
      "Fare             0\n",
      "Cabin          687\n",
      "Embarked         2\n",
      "dtype: int64\n",
      "\n",
      "confirm Nan value in test data set\n",
      " PassengerId      0\n",
      "Pclass           0\n",
      "Name             0\n",
      "Sex              0\n",
      "Age             86\n",
      "SibSp            0\n",
      "Parch            0\n",
      "Ticket           0\n",
      "Fare             1\n",
      "Cabin          327\n",
      "Embarked         0\n",
      "dtype: int64\n"
     ]
    }
   ],
   "source": [
    "#欠損データの確認\n",
    "print('confirm Nan value in train data set\\n %s') % train.isnull().sum()\n",
    "print('\\nconfirm Nan value in test data set\\n %s') % test.isnull().sum()"
   ]
  },
  {
   "cell_type": "markdown",
   "metadata": {},
   "source": [
    "### 訓練データはageとCabinとEmbarkedに欠損。テストデータはageとfareとcabinに欠損。"
   ]
  },
  {
   "cell_type": "code",
   "execution_count": 225,
   "metadata": {
    "collapsed": true
   },
   "outputs": [],
   "source": [
    "#特徴量を作ったり、欠損値を代入したり、値を標準化したりする。分析する前に一旦データを合体する。\n",
    "all_data = pd.concat([train,test],axis=0)"
   ]
  },
  {
   "cell_type": "code",
   "execution_count": 226,
   "metadata": {
    "collapsed": false
   },
   "outputs": [
    {
     "data": {
      "text/html": [
       "<div>\n",
       "<table border=\"1\" class=\"dataframe\">\n",
       "  <thead>\n",
       "    <tr style=\"text-align: right;\">\n",
       "      <th></th>\n",
       "      <th>Age</th>\n",
       "      <th>Cabin</th>\n",
       "      <th>Embarked</th>\n",
       "      <th>Fare</th>\n",
       "      <th>Name</th>\n",
       "      <th>Parch</th>\n",
       "      <th>PassengerId</th>\n",
       "      <th>Pclass</th>\n",
       "      <th>Sex</th>\n",
       "      <th>SibSp</th>\n",
       "      <th>Survived</th>\n",
       "      <th>Ticket</th>\n",
       "    </tr>\n",
       "  </thead>\n",
       "  <tbody>\n",
       "    <tr>\n",
       "      <th>0</th>\n",
       "      <td>22.0</td>\n",
       "      <td>NaN</td>\n",
       "      <td>S</td>\n",
       "      <td>7.2500</td>\n",
       "      <td>Braund, Mr. Owen Harris</td>\n",
       "      <td>0</td>\n",
       "      <td>1</td>\n",
       "      <td>3</td>\n",
       "      <td>male</td>\n",
       "      <td>1</td>\n",
       "      <td>0.0</td>\n",
       "      <td>A/5 21171</td>\n",
       "    </tr>\n",
       "    <tr>\n",
       "      <th>1</th>\n",
       "      <td>38.0</td>\n",
       "      <td>C85</td>\n",
       "      <td>C</td>\n",
       "      <td>71.2833</td>\n",
       "      <td>Cumings, Mrs. John Bradley (Florence Briggs Th...</td>\n",
       "      <td>0</td>\n",
       "      <td>2</td>\n",
       "      <td>1</td>\n",
       "      <td>female</td>\n",
       "      <td>1</td>\n",
       "      <td>1.0</td>\n",
       "      <td>PC 17599</td>\n",
       "    </tr>\n",
       "    <tr>\n",
       "      <th>2</th>\n",
       "      <td>26.0</td>\n",
       "      <td>NaN</td>\n",
       "      <td>S</td>\n",
       "      <td>7.9250</td>\n",
       "      <td>Heikkinen, Miss. Laina</td>\n",
       "      <td>0</td>\n",
       "      <td>3</td>\n",
       "      <td>3</td>\n",
       "      <td>female</td>\n",
       "      <td>0</td>\n",
       "      <td>1.0</td>\n",
       "      <td>STON/O2. 3101282</td>\n",
       "    </tr>\n",
       "    <tr>\n",
       "      <th>3</th>\n",
       "      <td>35.0</td>\n",
       "      <td>C123</td>\n",
       "      <td>S</td>\n",
       "      <td>53.1000</td>\n",
       "      <td>Futrelle, Mrs. Jacques Heath (Lily May Peel)</td>\n",
       "      <td>0</td>\n",
       "      <td>4</td>\n",
       "      <td>1</td>\n",
       "      <td>female</td>\n",
       "      <td>1</td>\n",
       "      <td>1.0</td>\n",
       "      <td>113803</td>\n",
       "    </tr>\n",
       "    <tr>\n",
       "      <th>4</th>\n",
       "      <td>35.0</td>\n",
       "      <td>NaN</td>\n",
       "      <td>S</td>\n",
       "      <td>8.0500</td>\n",
       "      <td>Allen, Mr. William Henry</td>\n",
       "      <td>0</td>\n",
       "      <td>5</td>\n",
       "      <td>3</td>\n",
       "      <td>male</td>\n",
       "      <td>0</td>\n",
       "      <td>0.0</td>\n",
       "      <td>373450</td>\n",
       "    </tr>\n",
       "  </tbody>\n",
       "</table>\n",
       "</div>"
      ],
      "text/plain": [
       "    Age Cabin Embarked     Fare  \\\n",
       "0  22.0   NaN        S   7.2500   \n",
       "1  38.0   C85        C  71.2833   \n",
       "2  26.0   NaN        S   7.9250   \n",
       "3  35.0  C123        S  53.1000   \n",
       "4  35.0   NaN        S   8.0500   \n",
       "\n",
       "                                                Name  Parch  PassengerId  \\\n",
       "0                            Braund, Mr. Owen Harris      0            1   \n",
       "1  Cumings, Mrs. John Bradley (Florence Briggs Th...      0            2   \n",
       "2                             Heikkinen, Miss. Laina      0            3   \n",
       "3       Futrelle, Mrs. Jacques Heath (Lily May Peel)      0            4   \n",
       "4                           Allen, Mr. William Henry      0            5   \n",
       "\n",
       "   Pclass     Sex  SibSp  Survived            Ticket  \n",
       "0       3    male      1       0.0         A/5 21171  \n",
       "1       1  female      1       1.0          PC 17599  \n",
       "2       3  female      0       1.0  STON/O2. 3101282  \n",
       "3       1  female      1       1.0            113803  \n",
       "4       3    male      0       0.0            373450  "
      ]
     },
     "execution_count": 226,
     "metadata": {},
     "output_type": "execute_result"
    }
   ],
   "source": [
    "all_data.head()"
   ]
  },
  {
   "cell_type": "markdown",
   "metadata": {},
   "source": [
    "# Feature engineering\n",
    "- 名前の長さ\n",
    "- 家族のサイズ\n",
    "- 肩書"
   ]
  },
  {
   "cell_type": "markdown",
   "metadata": {},
   "source": [
    "# 名前の長さ"
   ]
  },
  {
   "cell_type": "code",
   "execution_count": 227,
   "metadata": {
    "collapsed": false
   },
   "outputs": [],
   "source": [
    "#generating Name length\n",
    "all_data['NameLength'] = all_data['Name'].apply(lambda x:len(x))"
   ]
  },
  {
   "cell_type": "markdown",
   "metadata": {},
   "source": [
    "# 家族のサイズ"
   ]
  },
  {
   "cell_type": "code",
   "execution_count": 228,
   "metadata": {
    "collapsed": false
   },
   "outputs": [],
   "source": [
    "#generating family size\n",
    "#自分自身も1と数えるので+1\n",
    "all_data['FamilySize'] = all_data['SibSp'] + all_data['Parch'] + 1"
   ]
  },
  {
   "cell_type": "code",
   "execution_count": 229,
   "metadata": {
    "collapsed": false
   },
   "outputs": [
    {
     "data": {
      "image/png": "[encoded data removed]",
      "text/plain": [
       "<matplotlib.figure.Figure at 0x7f5dcc770bd0>"
      ]
     },
     "metadata": {},
     "output_type": "display_data"
    }
   ],
   "source": [
    "#家族のサイズが生死に関係する？\n",
    "import matplotlib.pyplot as plt\n",
    "%matplotlib inline\n",
    "plt.figure(figsize=(8,6))\n",
    "data_alive = all_data[all_data['Survived']==1]\n",
    "data_dead = all_data[all_data['Survived']==0]\n",
    "plt.bar(data_dead['FamilySize'].value_counts().index-0.2,data_dead['FamilySize'].value_counts().values,\n",
    "       align='center',label='dead',width=0.4,color='lightblue')\n",
    "plt.bar(data_alive['FamilySize'].value_counts().index+0.2,data_alive['FamilySize'].value_counts().values,\n",
    "       align='center',label='alive',width=0.4,color='lightgreen')\n",
    "plt.legend(loc='upper right')\n",
    "plt.show()"
   ]
  },
  {
   "cell_type": "markdown",
   "metadata": {},
   "source": [
    "- 独身は死にやすい、2人、3人、4人家族は生存者のほうが多い。それ以上も死にやすい\n",
    "- single,small,largeに分ける。"
   ]
  },
  {
   "cell_type": "code",
   "execution_count": 230,
   "metadata": {
    "collapsed": false
   },
   "outputs": [],
   "source": [
    "all_data.loc[all_data['FamilySize']==1,'FamilySize'] = 1 #single\n",
    "all_data.loc[(all_data['FamilySize'] < 5) & (all_data['FamilySize'] > 1),'FamilySize'] = 2 #small\n",
    "all_data.loc[all_data['FamilySize'] > 4,'FamilySize'] = 3 #large"
   ]
  },
  {
   "cell_type": "markdown",
   "metadata": {},
   "source": [
    "# 肩書"
   ]
  },
  {
   "cell_type": "code",
   "execution_count": 232,
   "metadata": {
    "collapsed": true
   },
   "outputs": [],
   "source": [
    "import re\n",
    "def get_title(name):\n",
    "    #regular expressionを使って肩書を探す。肩書は必ず大文字と小文字とピリオドで構成される。\n",
    "    title_search = re.search(' ([A-Za-z]+)\\.',name) #該当箇所を返す\n",
    "    if title_search:\n",
    "        #ピリオドを除いた部分だけ返す\n",
    "        return title_search.group(1)\n",
    "    return ''"
   ]
  },
  {
   "cell_type": "code",
   "execution_count": 233,
   "metadata": {
    "collapsed": false
   },
   "outputs": [
    {
     "data": {
      "text/plain": [
       "Mr          757\n",
       "Miss        260\n",
       "Mrs         197\n",
       "Master       61\n",
       "Dr            8\n",
       "Rev           8\n",
       "Col           4\n",
       "Major         2\n",
       "Mlle          2\n",
       "Ms            2\n",
       "Don           1\n",
       "Capt          1\n",
       "Lady          1\n",
       "Sir           1\n",
       "Countess      1\n",
       "Jonkheer      1\n",
       "Dona          1\n",
       "Mme           1\n",
       "Name: Name, dtype: int64"
      ]
     },
     "execution_count": 233,
     "metadata": {},
     "output_type": "execute_result"
    }
   ],
   "source": [
    "titles = all_data['Name'].apply(get_title)\n",
    "titles.value_counts()"
   ]
  },
  {
   "cell_type": "code",
   "execution_count": 234,
   "metadata": {
    "collapsed": true
   },
   "outputs": [],
   "source": [
    "#それぞれの肩書を数値に治す。少ない肩書はその他にまとめる。\n",
    "#英語圏以外の肩書も混ざっているので、同じ意味を示す肩書はまとめる。\n",
    "title_mapping = {'Mr':'Mr','Miss':'Miss','Mrs':'Mrs','Master':'rare_title','Dr':'rare_title',\n",
    "                 'Rev':'rare_title','Col':'rare_title','Major':'rare_title','Mlle':'Miss','Countess':'rare_title',\n",
    "                 'Ms':'Miss','Lady':'rare_title','Jonkheer':'rare_title','Don':'rare_title','Mme':'Miss',\n",
    "                 'Capt':'rare_title','Sir':'rare_title','Dona':'rare_title'}\n",
    "titles = titles.map(title_mapping)\n",
    "all_data['Title'] = titles"
   ]
  },
  {
   "cell_type": "code",
   "execution_count": 235,
   "metadata": {
    "collapsed": false
   },
   "outputs": [],
   "source": [
    "#肩書は名義特徴量なのでダミー変数を使う\n",
    "titles_dummy = pd.get_dummies(all_data['Title'],prefix='Title')\n",
    "all_data = pd.concat([all_data,titles_dummy],axis=1)"
   ]
  },
  {
   "cell_type": "code",
   "execution_count": 236,
   "metadata": {
    "collapsed": false
   },
   "outputs": [
    {
     "data": {
      "text/plain": [
       "array([436,  55,  32,  26])"
      ]
     },
     "execution_count": 236,
     "metadata": {},
     "output_type": "execute_result"
    }
   ],
   "source": [
    "crosstab_title[0.0].values"
   ]
  },
  {
   "cell_type": "code",
   "execution_count": 237,
   "metadata": {
    "collapsed": false
   },
   "outputs": [
    {
     "data": {
      "image/png": "[encoded data removed]",
      "text/plain": [
       "<matplotlib.figure.Figure at 0x7f5dccadf910>"
      ]
     },
     "metadata": {},
     "output_type": "display_data"
    }
   ],
   "source": [
    "#肩書は生死に関係する？\n",
    "crosstab_title = pd.crosstab(all_data['Title'],all_data['Survived']).sort_values(0.0,ascending=False)\n",
    "import numpy as np\n",
    "plt.figure(figsize=(8,6))\n",
    "ax = np.arange(1,5,1)\n",
    "plt.bar(ax-0.2,crosstab_title[0.0].values,align='center',label='dead',width=0.4,color='lightblue')\n",
    "plt.bar(ax+0.2,crosstab_title[1.0].values,align='center',label='alive',width=0.4,color='lightgreen')\n",
    "plt.legend(loc='upper right')\n",
    "plt.xticks(ax,crosstab_title.index)\n",
    "plt.show()"
   ]
  },
  {
   "cell_type": "markdown",
   "metadata": {},
   "source": [
    "# Mrはすごく死にやすい。"
   ]
  },
  {
   "cell_type": "markdown",
   "metadata": {},
   "source": [
    "# 欠損値の補完\n",
    "- Age\n",
    "- Embarked\n",
    "- Cabin\n",
    "- Fare"
   ]
  },
  {
   "cell_type": "markdown",
   "metadata": {},
   "source": [
    "# Embarked\n",
    "- どこの港から乗ったかなので、クラスと乗車料金から推定する。"
   ]
  },
  {
   "cell_type": "code",
   "execution_count": 238,
   "metadata": {
    "collapsed": false
   },
   "outputs": [
    {
     "data": {
      "text/html": [
       "<div>\n",
       "<table border=\"1\" class=\"dataframe\">\n",
       "  <thead>\n",
       "    <tr style=\"text-align: right;\">\n",
       "      <th></th>\n",
       "      <th>Age</th>\n",
       "      <th>Cabin</th>\n",
       "      <th>Embarked</th>\n",
       "      <th>Fare</th>\n",
       "      <th>Name</th>\n",
       "      <th>Parch</th>\n",
       "      <th>PassengerId</th>\n",
       "      <th>Pclass</th>\n",
       "      <th>Sex</th>\n",
       "      <th>SibSp</th>\n",
       "      <th>Survived</th>\n",
       "      <th>Ticket</th>\n",
       "      <th>NameLength</th>\n",
       "      <th>FamilySize</th>\n",
       "      <th>Title</th>\n",
       "      <th>Title_Miss</th>\n",
       "      <th>Title_Mr</th>\n",
       "      <th>Title_Mrs</th>\n",
       "      <th>Title_rare_title</th>\n",
       "    </tr>\n",
       "  </thead>\n",
       "  <tbody>\n",
       "    <tr>\n",
       "      <th>61</th>\n",
       "      <td>38.0</td>\n",
       "      <td>B28</td>\n",
       "      <td>NaN</td>\n",
       "      <td>80.0</td>\n",
       "      <td>Icard, Miss. Amelie</td>\n",
       "      <td>0</td>\n",
       "      <td>62</td>\n",
       "      <td>1</td>\n",
       "      <td>female</td>\n",
       "      <td>0</td>\n",
       "      <td>1.0</td>\n",
       "      <td>113572</td>\n",
       "      <td>19</td>\n",
       "      <td>1</td>\n",
       "      <td>Miss</td>\n",
       "      <td>1.0</td>\n",
       "      <td>0.0</td>\n",
       "      <td>0.0</td>\n",
       "      <td>0.0</td>\n",
       "    </tr>\n",
       "    <tr>\n",
       "      <th>829</th>\n",
       "      <td>62.0</td>\n",
       "      <td>B28</td>\n",
       "      <td>NaN</td>\n",
       "      <td>80.0</td>\n",
       "      <td>Stone, Mrs. George Nelson (Martha Evelyn)</td>\n",
       "      <td>0</td>\n",
       "      <td>830</td>\n",
       "      <td>1</td>\n",
       "      <td>female</td>\n",
       "      <td>0</td>\n",
       "      <td>1.0</td>\n",
       "      <td>113572</td>\n",
       "      <td>41</td>\n",
       "      <td>1</td>\n",
       "      <td>Mrs</td>\n",
       "      <td>0.0</td>\n",
       "      <td>0.0</td>\n",
       "      <td>1.0</td>\n",
       "      <td>0.0</td>\n",
       "    </tr>\n",
       "  </tbody>\n",
       "</table>\n",
       "</div>"
      ],
      "text/plain": [
       "      Age Cabin Embarked  Fare                                       Name  \\\n",
       "61   38.0   B28      NaN  80.0                        Icard, Miss. Amelie   \n",
       "829  62.0   B28      NaN  80.0  Stone, Mrs. George Nelson (Martha Evelyn)   \n",
       "\n",
       "     Parch  PassengerId  Pclass     Sex  SibSp  Survived  Ticket  NameLength  \\\n",
       "61       0           62       1  female      0       1.0  113572          19   \n",
       "829      0          830       1  female      0       1.0  113572          41   \n",
       "\n",
       "     FamilySize Title  Title_Miss  Title_Mr  Title_Mrs  Title_rare_title  \n",
       "61            1  Miss         1.0       0.0        0.0               0.0  \n",
       "829           1   Mrs         0.0       0.0        1.0               0.0  "
      ]
     },
     "execution_count": 238,
     "metadata": {},
     "output_type": "execute_result"
    }
   ],
   "source": [
    "all_data[all_data['Embarked'].isnull()]"
   ]
  },
  {
   "cell_type": "markdown",
   "metadata": {},
   "source": [
    "２つのデータは、料金は80で、クラスは1である。"
   ]
  },
  {
   "cell_type": "code",
   "execution_count": 239,
   "metadata": {
    "collapsed": false
   },
   "outputs": [
    {
     "data": {
      "image/png": "[encoded data removed]",
      "text/plain": [
       "<matplotlib.figure.Figure at 0x7f5dcc802890>"
      ]
     },
     "metadata": {},
     "output_type": "display_data"
    }
   ],
   "source": [
    "import seaborn as sns\n",
    "sns.boxplot(x='Embarked',y='Fare',hue='Pclass',data=all_data)\n",
    "plt.axhline(80.,linestyle='--')\n",
    "plt.show()"
   ]
  },
  {
   "cell_type": "markdown",
   "metadata": {},
   "source": [
    "クラスが1で料金が80であれば、中央値から考えてEmbarkedはCと推測する。"
   ]
  },
  {
   "cell_type": "code",
   "execution_count": 240,
   "metadata": {
    "collapsed": false
   },
   "outputs": [],
   "source": [
    "all_data['Embarked'] = all_data['Embarked'].fillna('C')"
   ]
  },
  {
   "cell_type": "markdown",
   "metadata": {},
   "source": [
    "# Fare\n",
    "- embarkedはsで、pclassは3の乗客"
   ]
  },
  {
   "cell_type": "code",
   "execution_count": 241,
   "metadata": {
    "collapsed": false
   },
   "outputs": [
    {
     "data": {
      "text/html": [
       "<div>\n",
       "<table border=\"1\" class=\"dataframe\">\n",
       "  <thead>\n",
       "    <tr style=\"text-align: right;\">\n",
       "      <th></th>\n",
       "      <th>Age</th>\n",
       "      <th>Cabin</th>\n",
       "      <th>Embarked</th>\n",
       "      <th>Fare</th>\n",
       "      <th>Name</th>\n",
       "      <th>Parch</th>\n",
       "      <th>PassengerId</th>\n",
       "      <th>Pclass</th>\n",
       "      <th>Sex</th>\n",
       "      <th>SibSp</th>\n",
       "      <th>Survived</th>\n",
       "      <th>Ticket</th>\n",
       "      <th>NameLength</th>\n",
       "      <th>FamilySize</th>\n",
       "      <th>Title</th>\n",
       "      <th>Title_Miss</th>\n",
       "      <th>Title_Mr</th>\n",
       "      <th>Title_Mrs</th>\n",
       "      <th>Title_rare_title</th>\n",
       "    </tr>\n",
       "  </thead>\n",
       "  <tbody>\n",
       "    <tr>\n",
       "      <th>152</th>\n",
       "      <td>60.5</td>\n",
       "      <td>NaN</td>\n",
       "      <td>S</td>\n",
       "      <td>NaN</td>\n",
       "      <td>Storey, Mr. Thomas</td>\n",
       "      <td>0</td>\n",
       "      <td>1044</td>\n",
       "      <td>3</td>\n",
       "      <td>male</td>\n",
       "      <td>0</td>\n",
       "      <td>NaN</td>\n",
       "      <td>3701</td>\n",
       "      <td>18</td>\n",
       "      <td>1</td>\n",
       "      <td>Mr</td>\n",
       "      <td>0.0</td>\n",
       "      <td>1.0</td>\n",
       "      <td>0.0</td>\n",
       "      <td>0.0</td>\n",
       "    </tr>\n",
       "  </tbody>\n",
       "</table>\n",
       "</div>"
      ],
      "text/plain": [
       "      Age Cabin Embarked  Fare                Name  Parch  PassengerId  \\\n",
       "152  60.5   NaN        S   NaN  Storey, Mr. Thomas      0         1044   \n",
       "\n",
       "     Pclass   Sex  SibSp  Survived Ticket  NameLength  FamilySize Title  \\\n",
       "152       3  male      0       NaN   3701          18           1    Mr   \n",
       "\n",
       "     Title_Miss  Title_Mr  Title_Mrs  Title_rare_title  \n",
       "152         0.0       1.0        0.0               0.0  "
      ]
     },
     "execution_count": 241,
     "metadata": {},
     "output_type": "execute_result"
    }
   ],
   "source": [
    "all_data[all_data['Fare'].isnull()]"
   ]
  },
  {
   "cell_type": "code",
   "execution_count": 242,
   "metadata": {
    "collapsed": false
   },
   "outputs": [
    {
     "data": {
      "image/png": "[encoded data removed]",
      "text/plain": [
       "<matplotlib.figure.Figure at 0x7f5dcc864350>"
      ]
     },
     "metadata": {},
     "output_type": "display_data"
    },
    {
     "name": "stdout",
     "output_type": "stream",
     "text": [
      "8.05\n"
     ]
    }
   ],
   "source": [
    "object_data = all_data[(all_data['Embarked'] == 'S') & (all_data['Pclass'] == 3)]\n",
    "object_data.hist('Fare',bins=20)\n",
    "plt.axvline(object_data['Fare'].mean(),label='Mean',linestyle='--',color='lightblue')\n",
    "plt.axvline(object_data['Fare'].median(),label='Median',linestyle='--',color='lightgreen')\n",
    "plt.legend()\n",
    "plt.show()\n",
    "print(object_data['Fare'].median())"
   ]
  },
  {
   "cell_type": "code",
   "execution_count": 243,
   "metadata": {
    "collapsed": true
   },
   "outputs": [],
   "source": [
    "#上図よりmedianを代入する。\n",
    "all_data['Fare'] = all_data['Fare'].fillna(object_data['Fare'].median())"
   ]
  },
  {
   "cell_type": "markdown",
   "metadata": {},
   "source": [
    "# Age\n",
    "- 欠損値が多いので回帰モデルを使ってAgeを予測する。\n",
    "- ランダムフォレスト回帰を用いる"
   ]
  },
  {
   "cell_type": "code",
   "execution_count": 244,
   "metadata": {
    "collapsed": false
   },
   "outputs": [
    {
     "name": "stdout",
     "output_type": "stream",
     "text": [
      "<class 'pandas.core.frame.DataFrame'>\n",
      "Int64Index: 1309 entries, 0 to 417\n",
      "Data columns (total 19 columns):\n",
      "Age                 1046 non-null float64\n",
      "Cabin               295 non-null object\n",
      "Embarked            1309 non-null object\n",
      "Fare                1309 non-null float64\n",
      "Name                1309 non-null object\n",
      "Parch               1309 non-null int64\n",
      "PassengerId         1309 non-null int64\n",
      "Pclass              1309 non-null int64\n",
      "Sex                 1309 non-null object\n",
      "SibSp               1309 non-null int64\n",
      "Survived            891 non-null float64\n",
      "Ticket              1309 non-null object\n",
      "NameLength          1309 non-null int64\n",
      "FamilySize          1309 non-null int64\n",
      "Title               1309 non-null object\n",
      "Title_Miss          1309 non-null float64\n",
      "Title_Mr            1309 non-null float64\n",
      "Title_Mrs           1309 non-null float64\n",
      "Title_rare_title    1309 non-null float64\n",
      "dtypes: float64(7), int64(6), object(6)\n",
      "memory usage: 204.5+ KB\n"
     ]
    }
   ],
   "source": [
    "all_data.info()"
   ]
  },
  {
   "cell_type": "markdown",
   "metadata": {},
   "source": [
    "- 回帰モデルを作成する前に、str型データを数値型のデータに変換する。質的変数で3つ以上種類がある場合は、ダミー変数に変換する。\n",
    "- Embarked\n",
    "- Sex"
   ]
  },
  {
   "cell_type": "code",
   "execution_count": 245,
   "metadata": {
    "collapsed": true
   },
   "outputs": [],
   "source": [
    "#Sex\n",
    "sex_mapping = {'female':0,'male':1}\n",
    "all_data['Sex'] = all_data['Sex'].map(sex_mapping)"
   ]
  },
  {
   "cell_type": "code",
   "execution_count": 246,
   "metadata": {
    "collapsed": false
   },
   "outputs": [],
   "source": [
    "#Embarked one hot encoding\n",
    "dummy_embarked = pd.get_dummies(all_data['Embarked'],prefix='Embarked')\n",
    "all_data = pd.concat([all_data,dummy_embarked],axis=1)"
   ]
  },
  {
   "cell_type": "code",
   "execution_count": 247,
   "metadata": {
    "collapsed": false
   },
   "outputs": [
    {
     "data": {
      "text/plain": [
       "Index([u'Age', u'Cabin', u'Embarked', u'Fare', u'Name', u'Parch',\n",
       "       u'PassengerId', u'Pclass', u'Sex', u'SibSp', u'Survived', u'Ticket',\n",
       "       u'NameLength', u'FamilySize', u'Title', u'Title_Miss', u'Title_Mr',\n",
       "       u'Title_Mrs', u'Title_rare_title', u'Embarked_C', u'Embarked_Q',\n",
       "       u'Embarked_S'],\n",
       "      dtype='object')"
      ]
     },
     "execution_count": 247,
     "metadata": {},
     "output_type": "execute_result"
    }
   ],
   "source": [
    "all_data.columns"
   ]
  },
  {
   "cell_type": "code",
   "execution_count": 248,
   "metadata": {
    "collapsed": false
   },
   "outputs": [],
   "source": [
    "# 数値型の列をすべて取得\n",
    "features_columns = [u'PassengerId',u'Parch',u'Pclass', u'Sex', u'SibSp',u'NameLength',\n",
    "                    u'FamilySize',u'Fare', u'Embarked_C', u'Embarked_Q',u'Embarked_S',\n",
    "                    u'Title_Miss', u'Title_Mr',u'Title_Mrs', u'Title_rare_title']\n",
    "\n",
    "target_column = ['Age']\n",
    "\n",
    "#訓練データ\n",
    "age_X_train = all_data[all_data['Age'].notnull()].loc[:,features_columns].values\n",
    "age_y_train = all_data[all_data['Age'].notnull()].loc[:,target_column].values\n",
    "\n",
    "#予測したいデータ\n",
    "age_X_test = all_data[all_data['Age'].isnull()].loc[:,features_columns].values\n",
    "age_y_test = all_data[all_data['Age'].isnull()].loc[:,target_column].values"
   ]
  },
  {
   "cell_type": "code",
   "execution_count": 249,
   "metadata": {
    "collapsed": false,
    "scrolled": true
   },
   "outputs": [
    {
     "name": "stdout",
     "output_type": "stream",
     "text": [
      "mse of mean value: 207.550\n",
      "mse of median value: 211.089\n"
     ]
    }
   ],
   "source": [
    "print('mse of mean value: %.3f') % (np.sum((age_y_train - np.mean(age_y_train))**2) / float(age_y_train.shape[0]))\n",
    "print('mse of median value: %.3f') % (np.sum((age_y_train - np.median(age_y_train))**2) / float(age_y_train.shape[0]))"
   ]
  },
  {
   "cell_type": "markdown",
   "metadata": {},
   "source": [
    "# ランダムフォレスト回帰\n",
    "- ランダムフォレストには、データセットの外れ値にあまり影響を受けずに、パラメータのチューニングをそれほど要求しないという利点がある。\n",
    "- 個々の決定木の成長に平均二乗誤差が用いられる。\n",
    "- 予測される目的変数は、すべての決定木の予測を平均して計算される。"
   ]
  },
  {
   "cell_type": "code",
   "execution_count": 250,
   "metadata": {
    "collapsed": false
   },
   "outputs": [
    {
     "name": "stderr",
     "output_type": "stream",
     "text": [
      "/home/kyohei/anaconda2/lib/python2.7/site-packages/ipykernel/__main__.py:9: DataConversionWarning: A column-vector y was passed when a 1d array was expected. Please change the shape of y to (n_samples,), for example using ravel().\n"
     ]
    },
    {
     "name": "stdout",
     "output_type": "stream",
     "text": [
      "train mse: 16.990, test mse: 150.515\n",
      "train r2: 0.913, test r2: 0.414\n"
     ]
    }
   ],
   "source": [
    "from sklearn.cross_validation import train_test_split\n",
    "X_train,X_test,y_train,y_test = train_test_split(age_X_train,age_y_train,test_size=0.2,random_state=1)\n",
    "\n",
    "from sklearn.ensemble import RandomForestRegressor\n",
    "#ランダムフォレスト回帰\n",
    "from sklearn.metrics import mean_squared_error\n",
    "from sklearn.metrics import r2_score\n",
    "forest = RandomForestRegressor(n_estimators=500,criterion='mse',random_state=1,n_jobs=-1)\n",
    "forest.fit(X_train,y_train)\n",
    "y_train_pred = forest.predict(X_train)\n",
    "y_test_pred = forest.predict(X_test)\n",
    "\n",
    "print('train mse: %.3f, test mse: %.3f') %(mean_squared_error(y_train,y_train_pred),mean_squared_error(y_test,y_test_pred))\n",
    "print('train r2: %.3f, test r2: %.3f') %(r2_score(y_train,y_train_pred),r2_score(y_test,y_test_pred))"
   ]
  },
  {
   "cell_type": "code",
   "execution_count": 251,
   "metadata": {
    "collapsed": false
   },
   "outputs": [
    {
     "name": "stdout",
     "output_type": "stream",
     "text": [
      "PassengerId,0.187\n",
      "Pclass,0.170\n",
      "Fare,0.157\n",
      "NameLength,0.117\n",
      "Title_Miss,0.099\n",
      "Parch,0.093\n",
      "Title_rare_title,0.071\n",
      "SibSp,0.031\n",
      "FamilySize,0.019\n",
      "Title_Mr,0.013\n",
      "Embarked_S,0.011\n",
      "Embarked_C,0.010\n",
      "Title_Mrs,0.010\n",
      "Embarked_Q,0.008\n",
      "Sex,0.005\n"
     ]
    }
   ],
   "source": [
    "#importance\n",
    "features_label = [u'PassengerId',u'Parch',u'Pclass', u'Sex', u'SibSp',u'NameLength',\n",
    "                    u'FamilySize',u'Fare', u'Embarked_C', u'Embarked_Q',u'Embarked_S',\n",
    "                    u'Title_Miss', u'Title_Mr',u'Title_Mrs', u'Title_rare_title']\n",
    "importances = forest.feature_importances_\n",
    "indices = np.argsort(importances)[::-1]\n",
    "for f in range(X_train.shape[1]):\n",
    "    print('%s,%.3f') %(features_label[indices[f]],importances[indices[f]])"
   ]
  },
  {
   "cell_type": "code",
   "execution_count": 252,
   "metadata": {
    "collapsed": true
   },
   "outputs": [],
   "source": [
    "#特徴量を取捨選択\n",
    "features_columns = [u'PassengerId',u'Parch',u'Pclass',u'NameLength',\n",
    "                       u'Fare',u'Title_Miss',u'Title_Mrs', u'Title_rare_title']\n",
    "target_column = ['Age']\n",
    "\n",
    "#訓練データ\n",
    "age_X_train = all_data[all_data['Age'].notnull()].loc[:,features_columns].values\n",
    "age_y_train = all_data[all_data['Age'].notnull()].loc[:,target_column].values\n",
    "\n",
    "#予測したいデータ\n",
    "age_X_test = all_data[all_data['Age'].isnull()].loc[:,features_columns].values\n",
    "age_y_test = all_data[all_data['Age'].isnull()].loc[:,target_column].values"
   ]
  },
  {
   "cell_type": "code",
   "execution_count": 254,
   "metadata": {
    "collapsed": false
   },
   "outputs": [
    {
     "name": "stderr",
     "output_type": "stream",
     "text": [
      "/home/kyohei/anaconda2/lib/python2.7/site-packages/ipykernel/__main__.py:8: DataConversionWarning: A column-vector y was passed when a 1d array was expected. Please change the shape of y to (n_samples,), for example using ravel().\n"
     ]
    },
    {
     "name": "stdout",
     "output_type": "stream",
     "text": [
      "train mse: 17.745, test mse: 154.669\n",
      "train r2: 0.909, test r2: 0.398\n"
     ]
    }
   ],
   "source": [
    "X_train,X_test,y_train,y_test = train_test_split(age_X_train,age_y_train,test_size=0.2,random_state=1)\n",
    "\n",
    "features_label_mody = [u'PassengerId',u'Parch',u'Pclass',u'NameLength',\n",
    "                       u'Fare',u'Title_Miss',u'Title_Mrs', u'Title_rare_title']\n",
    "\n",
    "\n",
    "forest = RandomForestRegressor(n_estimators=100,criterion='mse',random_state=1,n_jobs=-1)\n",
    "forest.fit(X_train,y_train)\n",
    "y_train_pred = forest.predict(X_train)\n",
    "y_test_pred = forest.predict(X_test)\n",
    "\n",
    "print('train mse: %.3f, test mse: %.3f') %(mean_squared_error(y_train,y_train_pred),mean_squared_error(y_test,y_test_pred))\n",
    "print('train r2: %.3f, test r2: %.3f') %(r2_score(y_train,y_train_pred),r2_score(y_test,y_test_pred))"
   ]
  },
  {
   "cell_type": "code",
   "execution_count": 255,
   "metadata": {
    "collapsed": false
   },
   "outputs": [
    {
     "name": "stdout",
     "output_type": "stream",
     "text": [
      "0.416429990061\n",
      "{'min_samples_split': 2, 'max_leaf_nodes': 15, 'max_depth': 5}\n"
     ]
    }
   ],
   "source": [
    "from sklearn.grid_search import GridSearchCV\n",
    "forest = RandomForestRegressor(criterion='mse',n_estimators=100,random_state=0,n_jobs=-1)\n",
    "params_range_depth = [i for i in np.arange(3,7,1)]\n",
    "params_range_nodes = [i for i in np.arange(10,14,1)]\n",
    "params_range_split = [i for i in np.arange(10,14,1)]\n",
    "param_grid = {'max_depth':[2, 5, 10, 15]\n",
    "              ,'max_leaf_nodes':[2, 5, 10, 15]\n",
    "             ,'min_samples_split':[2, 5, 10, 15]}\n",
    "\n",
    "gs = GridSearchCV(estimator=forest,\n",
    "                 param_grid=param_grid,\n",
    "                 scoring='r2',\n",
    "                 cv=10,n_jobs=-1)\n",
    "\n",
    "gs.fit(age_X_train,age_y_train[:,0])\n",
    "print(gs.best_score_)\n",
    "print(gs.best_params_)"
   ]
  },
  {
   "cell_type": "code",
   "execution_count": 256,
   "metadata": {
    "collapsed": true
   },
   "outputs": [],
   "source": [
    "y_test_predict = gs.predict(age_X_test)"
   ]
  },
  {
   "cell_type": "markdown",
   "metadata": {},
   "source": [
    "- 二乗誤差を選んだが、あまり精度は良くない\n",
    "- 異なる回帰モデルを使ったほうがよいかもしれないが、中央値や平均値を入れるよりはまし"
   ]
  },
  {
   "cell_type": "code",
   "execution_count": 257,
   "metadata": {
    "collapsed": false
   },
   "outputs": [
    {
     "data": {
      "image/png": "[encoded data removed]",
      "text/plain": [
       "<matplotlib.figure.Figure at 0x7f5dcc5a9990>"
      ]
     },
     "metadata": {},
     "output_type": "display_data"
    }
   ],
   "source": [
    "fig,ax = plt.subplots(nrows=1,ncols=2)\n",
    "ax[0].hist(age_y_train,bins=np.arange(0,85,5),normed=True)\n",
    "ax[1].hist(np.around(y_test_predict).astype(int),bins=np.arange(0,85,5),normed=True)\n",
    "plt.show()"
   ]
  },
  {
   "cell_type": "code",
   "execution_count": 259,
   "metadata": {
    "collapsed": false
   },
   "outputs": [],
   "source": [
    "all_data.loc[all_data['Age'].isnull(),'Age'] = y_test_predict"
   ]
  },
  {
   "cell_type": "code",
   "execution_count": 262,
   "metadata": {
    "collapsed": false
   },
   "outputs": [
    {
     "ename": "NameError",
     "evalue": "name 'oplt' is not defined",
     "output_type": "error",
     "traceback": [
      "\u001b[0;31m---------------------------------------------------------------------------\u001b[0m",
      "\u001b[0;31mNameError\u001b[0m                                 Traceback (most recent call last)",
      "\u001b[0;32m<ipython-input-262-8c497804f4a5>\u001b[0m in \u001b[0;36m<module>\u001b[0;34m()\u001b[0m\n\u001b[1;32m      1\u001b[0m \u001b[0mplt\u001b[0m\u001b[0;34m.\u001b[0m\u001b[0mhist\u001b[0m\u001b[0;34m(\u001b[0m\u001b[0mall_data\u001b[0m\u001b[0;34m[\u001b[0m\u001b[0;34m'Age'\u001b[0m\u001b[0;34m]\u001b[0m\u001b[0;34m,\u001b[0m\u001b[0mbins\u001b[0m\u001b[0;34m=\u001b[0m\u001b[0mnp\u001b[0m\u001b[0;34m.\u001b[0m\u001b[0marange\u001b[0m\u001b[0;34m(\u001b[0m\u001b[0;36m0\u001b[0m\u001b[0;34m,\u001b[0m\u001b[0;36m85\u001b[0m\u001b[0;34m,\u001b[0m\u001b[0;36m5\u001b[0m\u001b[0;34m)\u001b[0m\u001b[0;34m)\u001b[0m\u001b[0;34m\u001b[0m\u001b[0m\n\u001b[0;32m----> 2\u001b[0;31m \u001b[0moplt\u001b[0m\u001b[0;34m.\u001b[0m\u001b[0mshow\u001b[0m\u001b[0;34m(\u001b[0m\u001b[0;34m)\u001b[0m\u001b[0;34m\u001b[0m\u001b[0m\n\u001b[0m",
      "\u001b[0;31mNameError\u001b[0m: name 'oplt' is not defined"
     ]
    },
    {
     "data": {
      "image/png": "[encoded data removed]",
      "text/plain": [
       "<matplotlib.figure.Figure at 0x7f5dcc875ad0>"
      ]
     },
     "metadata": {},
     "output_type": "display_data"
    }
   ],
   "source": [
    "plt.hist(all_data['Age'],bins=np.arange(0,85,5))\n",
    "oplt.show()"
   ]
  },
  {
   "cell_type": "markdown",
   "metadata": {},
   "source": [
    "# 予測"
   ]
  },
  {
   "cell_type": "code",
   "execution_count": 263,
   "metadata": {
    "collapsed": false
   },
   "outputs": [],
   "source": [
    "#訓練データとテストデータを再度分割する。\n",
    "test = all_data[all_data['Survived'].isnull()]\n",
    "train = all_data[all_data['Survived'].notnull()]"
   ]
  },
  {
   "cell_type": "code",
   "execution_count": 264,
   "metadata": {
    "collapsed": false
   },
   "outputs": [
    {
     "data": {
      "text/plain": [
       "Index([u'Age', u'Cabin', u'Embarked', u'Fare', u'Name', u'Parch',\n",
       "       u'PassengerId', u'Pclass', u'Sex', u'SibSp', u'Survived', u'Ticket',\n",
       "       u'NameLength', u'FamilySize', u'Title', u'Title_Miss', u'Title_Mr',\n",
       "       u'Title_Mrs', u'Title_rare_title', u'Embarked_C', u'Embarked_Q',\n",
       "       u'Embarked_S'],\n",
       "      dtype='object')"
      ]
     },
     "execution_count": 264,
     "metadata": {},
     "output_type": "execute_result"
    }
   ],
   "source": [
    "train.columns"
   ]
  },
  {
   "cell_type": "code",
   "execution_count": 266,
   "metadata": {
    "collapsed": false
   },
   "outputs": [],
   "source": [
    "#特徴量の選択\n",
    "X = train[[u'Age',u'Fare', u'Parch',u'Pclass', u'Sex', u'SibSp',u'PassengerId',\n",
    "       u'NameLength', u'FamilySize', u'Embarked_C', u'Embarked_Q',u'Embarked_S',\n",
    "           u'Title_Miss', u'Title_Mr',u'Title_Mrs', u'Title_rare_title']].values\n",
    "y = train['Survived'].values\n",
    "X_train,X_test,y_train,y_test = train_test_split(X,y,test_size=0.4,random_state=1)"
   ]
  },
  {
   "cell_type": "markdown",
   "metadata": {},
   "source": [
    "# ランダム・フォレスト"
   ]
  },
  {
   "cell_type": "code",
   "execution_count": 267,
   "metadata": {
    "collapsed": false
   },
   "outputs": [
    {
     "name": "stdout",
     "output_type": "stream",
     "text": [
      "train accuracy: 0.901\n",
      "test accuracy: 0.784\n"
     ]
    }
   ],
   "source": [
    "#ランダムフォレスト\n",
    "from sklearn.ensemble import RandomForestClassifier\n",
    "from sklearn.metrics import accuracy_score\n",
    "forest = RandomForestClassifier(criterion='entropy',n_estimators=100,random_state=0,n_jobs=-1,max_depth=6)\n",
    "\n",
    "forest.fit(X_train,y_train)\n",
    "pred_train = forest.predict(X_train)\n",
    "pred_test = forest.predict(X_test)\n",
    "\n",
    "print('train accuracy: %.3f') % accuracy_score(y_train,pred_train)\n",
    "print('test accuracy: %.3f') % accuracy_score(y_test,pred_test)"
   ]
  },
  {
   "cell_type": "code",
   "execution_count": 268,
   "metadata": {
    "collapsed": false
   },
   "outputs": [
    {
     "name": "stdout",
     "output_type": "stream",
     "text": [
      "Title_Mr,0.175\n",
      "Sex,0.159\n",
      "Fare,0.116\n",
      "Age,0.085\n",
      "NameLength,0.079\n",
      "PassengerId,0.074\n",
      "Pclass,0.073\n",
      "Title_Mrs,0.048\n",
      "Title_Miss,0.044\n",
      "FamilySize,0.043\n",
      "SibSp,0.042\n",
      "Parch,0.020\n",
      "Embarked_S,0.016\n",
      "Embarked_C,0.010\n",
      "Title_rare_title,0.009\n",
      "Embarked_Q,0.008\n"
     ]
    }
   ],
   "source": [
    "#importance\n",
    "features_label = [u'Age',u'Fare', u'Parch',u'Pclass', u'Sex', u'SibSp',u'PassengerId',\n",
    "       u'NameLength', u'FamilySize', u'Embarked_C', u'Embarked_Q',u'Embarked_S',\n",
    "           u'Title_Miss', u'Title_Mr',u'Title_Mrs', u'Title_rare_title']\n",
    "importances = forest.feature_importances_\n",
    "indices = np.argsort(importances)[::-1]\n",
    "for f in range(X_train.shape[1]):\n",
    "    print('%s,%.3f') %(features_label[indices[f]],importances[indices[f]])"
   ]
  },
  {
   "cell_type": "code",
   "execution_count": 269,
   "metadata": {
    "collapsed": true
   },
   "outputs": [],
   "source": [
    "#特徴量削減\n",
    "X = train[[u'Age',u'Fare', u'Parch',u'Pclass', u'Sex', u'SibSp',u'PassengerId',\n",
    "       u'NameLength', u'FamilySize',u'Title_Miss', u'Title_Mr',u'Title_Mrs']].values\n",
    "y = train['Survived'].values\n",
    "X_train,X_test,y_train,y_test = train_test_split(X,y,test_size=0.4,random_state=1)"
   ]
  },
  {
   "cell_type": "code",
   "execution_count": 270,
   "metadata": {
    "collapsed": false
   },
   "outputs": [
    {
     "data": {
      "text/plain": [
       "array([ 2,  7, 12, 17])"
      ]
     },
     "execution_count": 270,
     "metadata": {},
     "output_type": "execute_result"
    }
   ],
   "source": [
    "np.arange(2,20,5)"
   ]
  },
  {
   "cell_type": "code",
   "execution_count": 272,
   "metadata": {
    "collapsed": false
   },
   "outputs": [
    {
     "name": "stdout",
     "output_type": "stream",
     "text": [
      "0.848314606742\n",
      "{'min_samples_split': 3, 'max_leaf_nodes': 10, 'max_depth': 3}\n"
     ]
    }
   ],
   "source": [
    "from sklearn.grid_search import GridSearchCV\n",
    "forest = RandomForestClassifier(criterion='entropy',n_estimators=100,random_state=0,n_jobs=-1)\n",
    "params_init = [2,5,10,15]\n",
    "params_range_depth = [i for i in np.arange(3,10,1)]\n",
    "params_range_nodes = [i for i in np.arange(6,15,1)]\n",
    "params_range_split = [i for i in np.arange(2,5,1)]\n",
    "param_grid = {'max_depth':params_range_depth\n",
    "              ,'max_leaf_nodes':params_range_nodes\n",
    "             ,'min_samples_split':params_range_split}\n",
    "\n",
    "gs = GridSearchCV(estimator=forest,\n",
    "                 param_grid=param_grid,\n",
    "                 scoring='accuracy',\n",
    "                 cv=10,n_jobs=-1)\n",
    "\n",
    "gs.fit(X_train,y_train)\n",
    "print(gs.best_score_)\n",
    "print(gs.best_params_)"
   ]
  },
  {
   "cell_type": "code",
   "execution_count": 273,
   "metadata": {
    "collapsed": false
   },
   "outputs": [],
   "source": [
    "test_index = test['PassengerId'].values\n",
    "test_cal = test[[u'Age',u'Fare', u'Parch',u'Pclass', u'Sex', u'SibSp',u'PassengerId',\n",
    "       u'NameLength', u'FamilySize',u'Title_Miss', u'Title_Mr',u'Title_Mrs']].values\n",
    "\n",
    "#forest.fit(X_train,y_train)\n",
    "prediction = gs.predict(test_cal)"
   ]
  },
  {
   "cell_type": "code",
   "execution_count": 274,
   "metadata": {
    "collapsed": true
   },
   "outputs": [],
   "source": [
    "submission = pd.DataFrame({\n",
    "        'PassengerId':test_index,\n",
    "        'Survived':prediction\n",
    "    })\n",
    "submission.to_csv('submission.csv',index=False)"
   ]
  },
  {
   "cell_type": "code",
   "execution_count": null,
   "metadata": {
    "collapsed": true
   },
   "outputs": [],
   "source": []
  }
 ],
 "metadata": {
  "kernelspec": {
   "display_name": "Python 2",
   "language": "python",
   "name": "python2"
  },
  "language_info": {
   "codemirror_mode": {
    "name": "ipython",
    "version": 2
   },
   "file_extension": ".py",
   "mimetype": "text/x-python",
   "name": "python",
   "nbconvert_exporter": "python",
   "pygments_lexer": "ipython2",
   "version": "2.7.12"
  }
 },
 "nbformat": 4,
 "nbformat_minor": 0
}
