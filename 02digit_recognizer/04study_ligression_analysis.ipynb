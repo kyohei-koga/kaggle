{
 "cells": [
  {
   "cell_type": "markdown",
   "metadata": {},
   "source": [
    "# 回帰分析について真剣に考える。\n",
    "- データ揃えて、ヤー！っと分析していたけど、データの分布とか確かめつつ、根拠を持って回帰モデルを作れればと思っています。\n",
    "- とりあえず、ロジスティック回帰に無理やり当てはめることを考えて、多分どっかで無理があるんだと思いますが、どこに無理があるのかを考えていきたいと思います。\n",
    "- 統計モデリングの第一歩は、「ばらつきのあるデータは、何か確率分布から発生したと考えれば扱いやすいな」と考えることだそうです。\n",
    "- データ解析のための統計モデリング入門を参考にしています。"
   ]
  },
  {
   "cell_type": "code",
   "execution_count": 2,
   "metadata": {
    "collapsed": true
   },
   "outputs": [],
   "source": [
    "import pandas as pd\n",
    "import numpy as np\n",
    "import matplotlib.pyplot as plt\n",
    "%matplotlib inline"
   ]
  },
  {
   "cell_type": "code",
   "execution_count": 3,
   "metadata": {
    "collapsed": true
   },
   "outputs": [],
   "source": [
    "data = pd.read_csv('/home/kyohei/kaggle_data/02digit_recognizer/train.csv')"
   ]
  },
  {
   "cell_type": "markdown",
   "metadata": {},
   "source": [
    "- 被説明変数は0〜9の手書き文字\n",
    "- 説明変数は各pixelでの色の濃さ（0〜255）"
   ]
  },
  {
   "cell_type": "markdown",
   "metadata": {},
   "source": [
    "意味なさげだけど、とりあえずlabelの統計量と、ヒストグラムを作成"
   ]
  },
  {
   "cell_type": "code",
   "execution_count": 4,
   "metadata": {
    "collapsed": false
   },
   "outputs": [
    {
     "data": {
      "text/plain": [
       "count    42000.000000\n",
       "mean         4.456643\n",
       "std          2.887730\n",
       "min          0.000000\n",
       "25%          2.000000\n",
       "50%          4.000000\n",
       "75%          7.000000\n",
       "max          9.000000\n",
       "Name: label, dtype: float64"
      ]
     },
     "execution_count": 4,
     "metadata": {},
     "output_type": "execute_result"
    }
   ],
   "source": [
    "#統計量\n",
    "data.iloc[:,0].describe()"
   ]
  },
  {
   "cell_type": "markdown",
   "metadata": {},
   "source": [
    "今回の場合、ラベルの統計量って多分意味ないね。"
   ]
  },
  {
   "cell_type": "markdown",
   "metadata": {},
   "source": [
    "- 関心があるのは、各pixcelが特定の値を持った時にラベルがある特定の数字になる確率。\n",
    "- 例）pixel1が255で、その他のpixelがすべて0の時ラベルが1になる確率\n",
    "- 特徴量がいっぱいあると頭が溶けそうになるので、図示したいということで、pixel210だけで考えます。そんで、最後に特徴量増やします。"
   ]
  },
  {
   "cell_type": "code",
   "execution_count": 5,
   "metadata": {
    "collapsed": false
   },
   "outputs": [],
   "source": [
    "X = data[['pixel210']]\n",
    "y = data[['label']]"
   ]
  },
  {
   "cell_type": "code",
   "execution_count": 6,
   "metadata": {
    "collapsed": false,
    "scrolled": true
   },
   "outputs": [
    {
     "data": {
      "text/html": [
       "<div>\n",
       "<table border=\"1\" class=\"dataframe\">\n",
       "  <thead>\n",
       "    <tr style=\"text-align: right;\">\n",
       "      <th></th>\n",
       "      <th>pixel210</th>\n",
       "    </tr>\n",
       "  </thead>\n",
       "  <tbody>\n",
       "    <tr>\n",
       "      <th>count</th>\n",
       "      <td>42000.000000</td>\n",
       "    </tr>\n",
       "    <tr>\n",
       "      <th>mean</th>\n",
       "      <td>133.590810</td>\n",
       "    </tr>\n",
       "    <tr>\n",
       "      <th>std</th>\n",
       "      <td>110.569713</td>\n",
       "    </tr>\n",
       "    <tr>\n",
       "      <th>min</th>\n",
       "      <td>0.000000</td>\n",
       "    </tr>\n",
       "    <tr>\n",
       "      <th>25%</th>\n",
       "      <td>0.000000</td>\n",
       "    </tr>\n",
       "    <tr>\n",
       "      <th>50%</th>\n",
       "      <td>152.000000</td>\n",
       "    </tr>\n",
       "    <tr>\n",
       "      <th>75%</th>\n",
       "      <td>253.000000</td>\n",
       "    </tr>\n",
       "    <tr>\n",
       "      <th>max</th>\n",
       "      <td>255.000000</td>\n",
       "    </tr>\n",
       "  </tbody>\n",
       "</table>\n",
       "</div>"
      ],
      "text/plain": [
       "           pixel210\n",
       "count  42000.000000\n",
       "mean     133.590810\n",
       "std      110.569713\n",
       "min        0.000000\n",
       "25%        0.000000\n",
       "50%      152.000000\n",
       "75%      253.000000\n",
       "max      255.000000"
      ]
     },
     "execution_count": 6,
     "metadata": {},
     "output_type": "execute_result"
    }
   ],
   "source": [
    "#説明変数の統計量\n",
    "X.describe()"
   ]
  },
  {
   "cell_type": "markdown",
   "metadata": {},
   "source": [
    "- 説明変数と被説明変数の関係"
   ]
  },
  {
   "cell_type": "code",
   "execution_count": 8,
   "metadata": {
    "collapsed": false
   },
   "outputs": [
    {
     "data": {
      "image/png": "[encoded data removed]",
      "text/plain": [
       "<matplotlib.figure.Figure at 0x7f1f05874790>"
      ]
     },
     "metadata": {},
     "output_type": "display_data"
    }
   ],
   "source": [
    "plt.scatter(X,y)\n",
    "plt.xlabel('pixel210')\n",
    "plt.ylabel('digit')\n",
    "plt.show()"
   ]
  },
  {
   "cell_type": "markdown",
   "metadata": {},
   "source": [
    "- 無謀だということはわかっています。はい。\n",
    "- ある人が書いた文字がjであると（ある人が書いた文字はjである確率は？）を統計モデルにしようと考えて、（本当は選択しないけど）二項分布を使ったモデル化を考える。\n",
    "$$p(y|N,q) = \\left( \\begin{array}{c} N \\\\ y \\end{array} \\right) q^{y}(1-q)^{N-y}$$"
   ]
  },
  {
   "cell_type": "code",
   "execution_count": 21,
   "metadata": {
    "collapsed": false
   },
   "outputs": [
    {
     "data": {
      "image/png": "[encoded data removed]",
      "text/plain": [
       "<matplotlib.figure.Figure at 0x7f1eec7f5250>"
      ]
     },
     "metadata": {},
     "output_type": "display_data"
    }
   ],
   "source": [
    "from scipy.stats import binom\n",
    "x = np.arange(0,10,1)\n",
    "plt.plot(x,binom.pmf(x,9,0.1),'o-',label='q=0.1')\n",
    "plt.plot(x,binom.pmf(x,9,0.3),'o-',label='q=0.3')\n",
    "plt.plot(x,binom.pmf(x,9,0.8),'o-',label='q=0.8')\n",
    "plt.legend(loc='best')\n",
    "plt.xlabel('digit')\n",
    "plt.ylabel('proability')\n",
    "plt.show()"
   ]
  },
  {
   "cell_type": "markdown",
   "metadata": {},
   "source": [
    "- 隣の数字が似ていて、離れると似ていないというわけではないのでこの確率分布っておかしいですよね。\n",
    "- そもそも、生起確率という概念が当てはまらないよね。\n",
    "- というか、目的変数がそもそも確率変数では無いですよね。いやはやすでに混乱気味"
   ]
  },
  {
   "cell_type": "markdown",
   "metadata": {},
   "source": [
    "- そして気づいた、二項分布じゃなくて多項分布を使ったロジスティック回帰で考えないといけないらしいです。\n",
    "- ということで、撤退。"
   ]
  },
  {
   "cell_type": "code",
   "execution_count": null,
   "metadata": {
    "collapsed": true
   },
   "outputs": [],
   "source": []
  }
 ],
 "metadata": {
  "anaconda-cloud": {},
  "kernelspec": {
   "display_name": "Python 2",
   "language": "python",
   "name": "python2"
  },
  "language_info": {
   "codemirror_mode": {
    "name": "ipython",
    "version": 2
   },
   "file_extension": ".py",
   "mimetype": "text/x-python",
   "name": "python",
   "nbconvert_exporter": "python",
   "pygments_lexer": "ipython2",
   "version": "2.7.12"
  }
 },
 "nbformat": 4,
 "nbformat_minor": 1
}
