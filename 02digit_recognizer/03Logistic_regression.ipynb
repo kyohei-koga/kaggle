{
 "cells": [
  {
   "cell_type": "code",
   "execution_count": 1,
   "metadata": {
    "collapsed": false
   },
   "outputs": [
    {
     "name": "stderr",
     "output_type": "stream",
     "text": [
      "/home/kyohei/anaconda2/lib/python2.7/site-packages/matplotlib/font_manager.py:273: UserWarning: Matplotlib is building the font cache using fc-list. This may take a moment.\n",
      "  warnings.warn('Matplotlib is building the font cache using fc-list. This may take a moment.')\n"
     ]
    }
   ],
   "source": [
    "import pandas as pd\n",
    "import numpy as np\n",
    "import matplotlib.pyplot as plt\n",
    "%matplotlib inline"
   ]
  },
  {
   "cell_type": "code",
   "execution_count": 2,
   "metadata": {
    "collapsed": false
   },
   "outputs": [],
   "source": [
    "train = pd.read_csv('/home/kyohei/kaggle_data/02digit_recognizer/train.csv')"
   ]
  },
  {
   "cell_type": "markdown",
   "metadata": {},
   "source": [
    "全データにおいて、値が0ではないカラムを特定して、そのカラムに限定する。"
   ]
  },
  {
   "cell_type": "code",
   "execution_count": 3,
   "metadata": {
    "collapsed": false
   },
   "outputs": [],
   "source": [
    "#if a column's max value is 0,these columns is labeled into False\n",
    "non_zero_columns = (train.max() != 0)\n",
    "#extract non zero columns\n",
    "train_new = train.loc[:,non_zero_columns]"
   ]
  },
  {
   "cell_type": "code",
   "execution_count": 4,
   "metadata": {
    "collapsed": false
   },
   "outputs": [
    {
     "data": {
      "text/plain": [
       "(42000, 709)"
      ]
     },
     "execution_count": 4,
     "metadata": {},
     "output_type": "execute_result"
    }
   ],
   "source": [
    "#check columns number\n",
    "train_new.shape"
   ]
  },
  {
   "cell_type": "code",
   "execution_count": 5,
   "metadata": {
    "collapsed": false
   },
   "outputs": [
    {
     "data": {
      "text/html": [
       "<div>\n",
       "<table border=\"1\" class=\"dataframe\">\n",
       "  <thead>\n",
       "    <tr style=\"text-align: right;\">\n",
       "      <th></th>\n",
       "      <th>label</th>\n",
       "      <th>pixel12</th>\n",
       "      <th>pixel13</th>\n",
       "      <th>pixel14</th>\n",
       "      <th>pixel15</th>\n",
       "      <th>pixel32</th>\n",
       "      <th>pixel33</th>\n",
       "      <th>pixel34</th>\n",
       "      <th>pixel35</th>\n",
       "      <th>pixel36</th>\n",
       "      <th>...</th>\n",
       "      <th>pixel770</th>\n",
       "      <th>pixel771</th>\n",
       "      <th>pixel772</th>\n",
       "      <th>pixel773</th>\n",
       "      <th>pixel774</th>\n",
       "      <th>pixel775</th>\n",
       "      <th>pixel776</th>\n",
       "      <th>pixel777</th>\n",
       "      <th>pixel778</th>\n",
       "      <th>pixel779</th>\n",
       "    </tr>\n",
       "  </thead>\n",
       "  <tbody>\n",
       "    <tr>\n",
       "      <th>0</th>\n",
       "      <td>1</td>\n",
       "      <td>0</td>\n",
       "      <td>0</td>\n",
       "      <td>0</td>\n",
       "      <td>0</td>\n",
       "      <td>0</td>\n",
       "      <td>0</td>\n",
       "      <td>0</td>\n",
       "      <td>0</td>\n",
       "      <td>0</td>\n",
       "      <td>...</td>\n",
       "      <td>0</td>\n",
       "      <td>0</td>\n",
       "      <td>0</td>\n",
       "      <td>0</td>\n",
       "      <td>0</td>\n",
       "      <td>0</td>\n",
       "      <td>0</td>\n",
       "      <td>0</td>\n",
       "      <td>0</td>\n",
       "      <td>0</td>\n",
       "    </tr>\n",
       "    <tr>\n",
       "      <th>1</th>\n",
       "      <td>0</td>\n",
       "      <td>0</td>\n",
       "      <td>0</td>\n",
       "      <td>0</td>\n",
       "      <td>0</td>\n",
       "      <td>0</td>\n",
       "      <td>0</td>\n",
       "      <td>0</td>\n",
       "      <td>0</td>\n",
       "      <td>0</td>\n",
       "      <td>...</td>\n",
       "      <td>0</td>\n",
       "      <td>0</td>\n",
       "      <td>0</td>\n",
       "      <td>0</td>\n",
       "      <td>0</td>\n",
       "      <td>0</td>\n",
       "      <td>0</td>\n",
       "      <td>0</td>\n",
       "      <td>0</td>\n",
       "      <td>0</td>\n",
       "    </tr>\n",
       "    <tr>\n",
       "      <th>2</th>\n",
       "      <td>1</td>\n",
       "      <td>0</td>\n",
       "      <td>0</td>\n",
       "      <td>0</td>\n",
       "      <td>0</td>\n",
       "      <td>0</td>\n",
       "      <td>0</td>\n",
       "      <td>0</td>\n",
       "      <td>0</td>\n",
       "      <td>0</td>\n",
       "      <td>...</td>\n",
       "      <td>0</td>\n",
       "      <td>0</td>\n",
       "      <td>0</td>\n",
       "      <td>0</td>\n",
       "      <td>0</td>\n",
       "      <td>0</td>\n",
       "      <td>0</td>\n",
       "      <td>0</td>\n",
       "      <td>0</td>\n",
       "      <td>0</td>\n",
       "    </tr>\n",
       "    <tr>\n",
       "      <th>3</th>\n",
       "      <td>4</td>\n",
       "      <td>0</td>\n",
       "      <td>0</td>\n",
       "      <td>0</td>\n",
       "      <td>0</td>\n",
       "      <td>0</td>\n",
       "      <td>0</td>\n",
       "      <td>0</td>\n",
       "      <td>0</td>\n",
       "      <td>0</td>\n",
       "      <td>...</td>\n",
       "      <td>0</td>\n",
       "      <td>0</td>\n",
       "      <td>0</td>\n",
       "      <td>0</td>\n",
       "      <td>0</td>\n",
       "      <td>0</td>\n",
       "      <td>0</td>\n",
       "      <td>0</td>\n",
       "      <td>0</td>\n",
       "      <td>0</td>\n",
       "    </tr>\n",
       "    <tr>\n",
       "      <th>4</th>\n",
       "      <td>0</td>\n",
       "      <td>0</td>\n",
       "      <td>0</td>\n",
       "      <td>0</td>\n",
       "      <td>0</td>\n",
       "      <td>0</td>\n",
       "      <td>0</td>\n",
       "      <td>0</td>\n",
       "      <td>0</td>\n",
       "      <td>0</td>\n",
       "      <td>...</td>\n",
       "      <td>0</td>\n",
       "      <td>0</td>\n",
       "      <td>0</td>\n",
       "      <td>0</td>\n",
       "      <td>0</td>\n",
       "      <td>0</td>\n",
       "      <td>0</td>\n",
       "      <td>0</td>\n",
       "      <td>0</td>\n",
       "      <td>0</td>\n",
       "    </tr>\n",
       "  </tbody>\n",
       "</table>\n",
       "<p>5 rows × 709 columns</p>\n",
       "</div>"
      ],
      "text/plain": [
       "   label  pixel12  pixel13  pixel14  pixel15  pixel32  pixel33  pixel34  \\\n",
       "0      1        0        0        0        0        0        0        0   \n",
       "1      0        0        0        0        0        0        0        0   \n",
       "2      1        0        0        0        0        0        0        0   \n",
       "3      4        0        0        0        0        0        0        0   \n",
       "4      0        0        0        0        0        0        0        0   \n",
       "\n",
       "   pixel35  pixel36    ...     pixel770  pixel771  pixel772  pixel773  \\\n",
       "0        0        0    ...            0         0         0         0   \n",
       "1        0        0    ...            0         0         0         0   \n",
       "2        0        0    ...            0         0         0         0   \n",
       "3        0        0    ...            0         0         0         0   \n",
       "4        0        0    ...            0         0         0         0   \n",
       "\n",
       "   pixel774  pixel775  pixel776  pixel777  pixel778  pixel779  \n",
       "0         0         0         0         0         0         0  \n",
       "1         0         0         0         0         0         0  \n",
       "2         0         0         0         0         0         0  \n",
       "3         0         0         0         0         0         0  \n",
       "4         0         0         0         0         0         0  \n",
       "\n",
       "[5 rows x 709 columns]"
      ]
     },
     "execution_count": 5,
     "metadata": {},
     "output_type": "execute_result"
    }
   ],
   "source": [
    "train_new.head()"
   ]
  },
  {
   "cell_type": "code",
   "execution_count": 6,
   "metadata": {
    "collapsed": false
   },
   "outputs": [],
   "source": [
    "X = train_new.iloc[:,1:].values\n",
    "y = train_new.iloc[:,0].values"
   ]
  },
  {
   "cell_type": "markdown",
   "metadata": {},
   "source": [
    "ロジスティック回帰を適用する。\n",
    "- とりあえず、一度フィットさせる。\n",
    "- グリッドサーチでハイパーパラメータを調整する。"
   ]
  },
  {
   "cell_type": "code",
   "execution_count": 7,
   "metadata": {
    "collapsed": false,
    "scrolled": true
   },
   "outputs": [
    {
     "name": "stderr",
     "output_type": "stream",
     "text": [
      "/home/kyohei/anaconda2/lib/python2.7/site-packages/sklearn/utils/validation.py:420: DataConversionWarning: Data with input dtype int64 was converted to float64 by StandardScaler.\n",
      "  warnings.warn(msg, DataConversionWarning)\n",
      "/home/kyohei/anaconda2/lib/python2.7/site-packages/sklearn/utils/validation.py:420: DataConversionWarning: Data with input dtype int64 was converted to float64 by StandardScaler.\n",
      "  warnings.warn(msg, DataConversionWarning)\n"
     ]
    },
    {
     "name": "stdout",
     "output_type": "stream",
     "text": [
      "CPU times: user 7min 34s, sys: 300 ms, total: 7min 34s\n",
      "Wall time: 7min 35s\n",
      "train score: 0.941"
     ]
    },
    {
     "name": "stderr",
     "output_type": "stream",
     "text": [
      "/home/kyohei/anaconda2/lib/python2.7/site-packages/sklearn/utils/validation.py:420: DataConversionWarning: Data with input dtype int64 was converted to float64 by StandardScaler.\n",
      "  warnings.warn(msg, DataConversionWarning)\n",
      "/home/kyohei/anaconda2/lib/python2.7/site-packages/sklearn/utils/validation.py:420: DataConversionWarning: Data with input dtype int64 was converted to float64 by StandardScaler.\n",
      "  warnings.warn(msg, DataConversionWarning)\n"
     ]
    },
    {
     "name": "stdout",
     "output_type": "stream",
     "text": [
      "\n",
      "test score: 0.908\n"
     ]
    }
   ],
   "source": [
    "from sklearn.linear_model import LogisticRegression\n",
    "from sklearn.pipeline import Pipeline\n",
    "from sklearn.preprocessing import StandardScaler\n",
    "from sklearn.cross_validation import train_test_split\n",
    "from sklearn.metrics import accuracy_score\n",
    "\n",
    "X_train,X_test,y_train,y_test = train_test_split(X,y,test_size=0.3,random_state=1)\n",
    "\n",
    "pipe_lr = Pipeline([('scl',StandardScaler()),('clf',LogisticRegression(random_state=0))])\n",
    "\n",
    "%time pipe_lr.fit(X_train,y_train)\n",
    "\n",
    "print('train score: %.3f') %pipe_lr.score(X_train,y_train)\n",
    "print('test score: %.3f') %pipe_lr.score(X_test,y_test)"
   ]
  },
  {
   "cell_type": "markdown",
   "metadata": {},
   "source": [
    "とりあえずすごい時間がかかるね。データ量も多いので、SGD(確率的勾配降下法)を試してみようか。"
   ]
  },
  {
   "cell_type": "code",
   "execution_count": 8,
   "metadata": {
    "collapsed": false
   },
   "outputs": [
    {
     "name": "stderr",
     "output_type": "stream",
     "text": [
      "/home/kyohei/anaconda2/lib/python2.7/site-packages/sklearn/utils/validation.py:420: DataConversionWarning: Data with input dtype int64 was converted to float64 by StandardScaler.\n",
      "  warnings.warn(msg, DataConversionWarning)\n",
      "/home/kyohei/anaconda2/lib/python2.7/site-packages/sklearn/utils/validation.py:420: DataConversionWarning: Data with input dtype int64 was converted to float64 by StandardScaler.\n",
      "  warnings.warn(msg, DataConversionWarning)\n"
     ]
    },
    {
     "name": "stdout",
     "output_type": "stream",
     "text": [
      "CPU times: user 1min 31s, sys: 124 ms, total: 1min 31s\n",
      "Wall time: 1min 31s\n",
      "train score: 0.923"
     ]
    },
    {
     "name": "stderr",
     "output_type": "stream",
     "text": [
      "/home/kyohei/anaconda2/lib/python2.7/site-packages/sklearn/utils/validation.py:420: DataConversionWarning: Data with input dtype int64 was converted to float64 by StandardScaler.\n",
      "  warnings.warn(msg, DataConversionWarning)\n",
      "/home/kyohei/anaconda2/lib/python2.7/site-packages/sklearn/utils/validation.py:420: DataConversionWarning: Data with input dtype int64 was converted to float64 by StandardScaler.\n",
      "  warnings.warn(msg, DataConversionWarning)\n"
     ]
    },
    {
     "name": "stdout",
     "output_type": "stream",
     "text": [
      "\n",
      "test score: 0.915\n"
     ]
    }
   ],
   "source": [
    "from sklearn.linear_model import SGDClassifier\n",
    "pipe_lr = Pipeline([('scl',StandardScaler()),\n",
    "                    ('clf',SGDClassifier(loss='log',random_state=1,n_iter=100))])\n",
    "\n",
    "%time pipe_lr.fit(X_train,y_train)\n",
    "\n",
    "print('train score: %.3f') %pipe_lr.score(X_train,y_train)\n",
    "print('test score: %.3f') %pipe_lr.score(X_test,y_test)"
   ]
  },
  {
   "cell_type": "markdown",
   "metadata": {},
   "source": [
    "- 確率的勾配降下法でも、時間はそこそこかかるので、特徴量の削減を考える。\n",
    "- 主成分分析（PCA）を行う。PCAは、特徴量同士の相関関係に基づいてデータからパターンを抽出するのに役立つ"
   ]
  },
  {
   "cell_type": "code",
   "execution_count": 45,
   "metadata": {
    "collapsed": true
   },
   "outputs": [],
   "source": [
    "#データセットを標準化する\n",
    "X,y = train.iloc[:,1:],train.iloc[:,0]\n",
    "#トレインとテストに分割\n",
    "X_train,X_test,y_train,y_test = train_test_split(X,y,test_size=0.3,random_state=1)\n",
    "\n",
    "sc = StandardScaler()\n",
    "X_train_std = sc.fit_transform(X_train)\n",
    "X_test_std = sc.transform(X_test)"
   ]
  },
  {
   "cell_type": "code",
   "execution_count": 46,
   "metadata": {
    "collapsed": false
   },
   "outputs": [],
   "source": [
    "#共分散行列を作成する\n",
    "cov_mat = np.cov(X_train_std.T)"
   ]
  },
  {
   "cell_type": "code",
   "execution_count": 47,
   "metadata": {
    "collapsed": true
   },
   "outputs": [
    {
     "name": "stdout",
     "output_type": "stream",
     "text": [
      "Eogenvals\n",
      "[  4.07462780e+01   2.91528335e+01   2.67613318e+01   2.08259952e+01\n",
      "   1.80245341e+01   1.58182476e+01   1.38158375e+01   1.25158679e+01\n",
      "   1.11020634e+01   1.00914031e+01   9.69749973e+00   8.66032352e+00\n",
      "   8.10446275e+00   7.87813154e+00   7.37620904e+00   7.16549766e+00\n",
      "   6.68713923e+00   6.60290302e+00   6.38647513e+00   6.29119085e+00\n",
      "   5.94535783e+00   5.78132988e+00   5.52707401e+00   5.32587634e+00\n",
      "   5.17512922e+00   4.96779906e+00   4.86077930e+00   4.70317938e+00\n",
      "   4.48362937e+00   4.33737214e+00   4.28998965e+00   4.25644029e+00\n",
      "   4.08945689e+00   4.06279853e+00   3.96103937e+00   3.87069300e+00\n",
      "   3.80600281e+00   3.71728270e+00   3.55611104e+00   3.47706149e+00\n",
      "   3.41716874e+00   3.37132488e+00   3.28604174e+00   3.23409130e+00\n",
      "   3.19821223e+00   3.17667344e+00   3.13923728e+00   3.08201347e+00\n",
      "   3.06813790e+00   3.03908483e+00   2.97693000e+00   2.96271895e+00\n",
      "   2.87388683e+00   2.82321276e+00   2.79714346e+00   2.72851659e+00\n",
      "   2.76354011e+00   2.66375195e+00   2.61313484e+00   2.58804915e+00\n",
      "   2.52944776e+00   2.47094470e+00   2.49025561e+00   2.44234954e+00\n",
      "   2.43466413e+00   2.39850333e+00   2.37638277e+00   2.34666628e+00\n",
      "   2.31148331e+00   2.28753975e+00   2.26744659e+00   2.23743969e+00\n",
      "   2.21425217e+00   2.19791084e+00   2.15373639e+00   2.14223303e+00\n",
      "   2.11799193e+00   1.85799934e+00   2.08912410e+00   2.07314259e+00\n",
      "   2.05258705e+00   1.90024718e+00   1.88202371e+00   2.00805928e+00\n",
      "   2.02180427e+00   1.90628546e+00   2.02681548e+00   1.93496852e+00\n",
      "   1.97584304e+00   1.95650616e+00   1.96795874e+00   1.94702325e+00\n",
      "   5.88901388e-04   1.84130759e+00   1.82884705e+00   1.81436332e+00\n",
      "   1.79103041e+00   1.77373663e+00   1.77172316e+00   1.74685257e+00\n",
      "   1.69785733e+00   1.70399254e+00   1.67238372e+00   1.68490094e+00\n",
      "   1.65248575e+00   1.63368764e+00   1.62648884e+00   1.60656724e+00\n",
      "   1.55845810e+00   1.57076521e+00   1.58135910e+00   1.51432750e+00\n",
      "   1.50835915e+00   1.49799813e+00   1.49356313e+00   1.47701848e+00\n",
      "   1.46295214e+00   1.43250573e+00   1.41556385e+00   1.40660997e+00\n",
      "   1.39760723e+00   1.38752805e+00   1.36906489e+00   1.35737419e+00\n",
      "   1.34327850e+00   1.33639338e+00   1.31730225e+00   1.30619384e+00\n",
      "   1.28541338e+00   1.29631599e+00   1.27587756e+00   1.25167326e+00\n",
      "   1.24579897e+00   1.22859695e+00   1.21247890e+00   1.19021322e+00\n",
      "   1.18436164e+00   1.01244754e+00   1.01890330e+00   1.15204326e+00\n",
      "   1.03658404e+00   1.12232718e+00   1.11394810e+00   1.08113598e+00\n",
      "   1.03238888e+00   1.19963703e+00   1.06164112e+00   1.09272075e+00\n",
      "   1.13716748e+00   1.05097384e+00   1.06536801e+00   1.09591022e+00\n",
      "   1.16287758e+00   1.04921267e+00   1.10428828e+00   1.13342087e+00\n",
      "   7.42842546e-01   7.53650257e-01   7.52512093e-01   7.61761255e-01\n",
      "   7.64965723e-01   7.74345430e-01   7.88412044e-01   7.92528865e-01\n",
      "   7.98918914e-01   7.82003850e-01   8.17140960e-01   8.37745608e-01\n",
      "   8.40008634e-01   8.57249660e-01   8.64047811e-01   8.69010720e-01\n",
      "   8.29287378e-01   8.76149181e-01   8.85653277e-01   9.21516417e-01\n",
      "   9.19194508e-01   8.99254302e-01   9.13629600e-01   9.38616398e-01\n",
      "   9.43345636e-01   9.70475832e-01   9.62480191e-01   9.02748697e-01\n",
      "   9.48806372e-01   9.76661133e-01   1.00809424e+00   8.28464093e-01\n",
      "   9.83797554e-01   9.90378300e-01   9.51848548e-01   9.98722792e-01\n",
      "   9.97515610e-01   1.00154455e+00   1.00096447e+00   1.00038929e+00\n",
      "   9.26713412e-01   9.85435168e-01   5.67413381e-01   5.72355085e-01\n",
      "   7.35763249e-01   5.78334108e-01   5.82300870e-01   7.24447241e-01\n",
      "   7.21155744e-01   5.90962091e-01   5.95117907e-01   7.12312652e-01\n",
      "   7.08047185e-01   5.89853955e-01   6.99287150e-01   6.19842612e-01\n",
      "   6.10383403e-01   6.12465615e-01   6.28334142e-01   6.32024551e-01\n",
      "   6.91198604e-01   6.54449900e-01   6.58446479e-01   6.44960241e-01\n",
      "   6.79811416e-01   6.85761715e-01   6.66113385e-01   6.35073303e-01\n",
      "   6.67662100e-01   6.75193416e-01   6.87948222e-01   4.49162697e-01\n",
      "   4.57039565e-01   4.60153217e-01   5.59411593e-01   5.64249177e-01\n",
      "   5.52796765e-01   4.65229020e-01   4.72409330e-01   5.44011308e-01\n",
      "   5.42754286e-01   5.34348394e-01   4.85119721e-01   4.87205853e-01\n",
      "   4.94674234e-01   4.78369890e-01   5.24942444e-01   4.80154835e-01\n",
      "   5.14349875e-01   5.17179331e-01   5.07653333e-01   5.00874024e-01\n",
      "   5.20669887e-01   4.92047220e-01   5.28459849e-01   5.03426958e-01\n",
      "   3.55155860e-01   3.58038281e-01   4.43488555e-01   4.39049196e-01\n",
      "   4.36801102e-01   4.32369751e-01   3.64456153e-01   4.25926739e-01\n",
      "   3.69147993e-01   4.29298850e-01   4.13232308e-01   4.10824407e-01\n",
      "   3.76686252e-01   3.81043167e-01   4.03759611e-01   4.01050259e-01\n",
      "   4.07710138e-01   3.73726292e-01   3.89016975e-01   3.86018231e-01\n",
      "   3.87405010e-01   3.72261122e-01   4.21246086e-01   3.93216950e-01\n",
      "   3.98032989e-01   3.60971501e-01   3.50928144e-01   3.49494051e-01\n",
      "   3.44823588e-01   3.54208899e-01   2.80889493e-01   3.40609928e-01\n",
      "   3.38388389e-01   2.82464872e-01   2.83609291e-01   2.84951703e-01\n",
      "   3.34890706e-01   3.30311686e-01   3.25739424e-01   2.90756921e-01\n",
      "   3.34230462e-01   2.92797921e-01   3.19964451e-01   3.07450328e-01\n",
      "   3.16946434e-01   2.96075222e-01   3.01697715e-01   2.91684684e-01\n",
      "   3.11398199e-01   3.02460029e-01   3.14335022e-01   3.24031306e-01\n",
      "   2.99711250e-01   3.13135835e-01   5.98355043e-03   2.78695721e-01\n",
      "   2.76116231e-01   2.73385971e-01   2.71007997e-01   2.67435101e-01\n",
      "   2.66169002e-01   2.63361436e-01   2.61094990e-01   2.57955969e-01\n",
      "   2.21003877e-01   2.21657688e-01   2.53233806e-01   2.50196315e-01\n",
      "   2.49400793e-01   2.56119285e-01   2.37267904e-01   2.39954123e-01\n",
      "   2.46063110e-01   2.24916002e-01   2.34463616e-01   2.41313183e-01\n",
      "   2.30503251e-01   2.26591739e-01   2.25945411e-01   2.28892201e-01\n",
      "   2.27642077e-01   2.33231829e-01   2.44334599e-01   2.18194807e-01\n",
      "   2.16192843e-01   2.23427794e-01   1.74753544e-01   1.76805415e-01\n",
      "   2.14577930e-01   2.13790566e-01   2.10417116e-01   2.11255542e-01\n",
      "   1.78997986e-01   2.06873385e-01   2.05029712e-01   1.79924926e-01\n",
      "   1.81752466e-01   1.82577851e-01   2.03519721e-01   2.02227622e-01\n",
      "   1.84450374e-01   1.95100619e-01   1.95972284e-01   1.99396948e-01\n",
      "   1.86500376e-01   1.90324889e-01   1.92292434e-01   2.00572013e-01\n",
      "   1.80591593e-01   1.98265689e-01   1.89634390e-01   1.91755599e-01\n",
      "   2.06418878e-01   1.85879658e-01   1.73969286e-01   1.75733598e-01\n",
      "   1.73066095e-01   1.71115082e-01   1.44171185e-01   1.44924618e-01\n",
      "   1.70777767e-01   1.68572417e-01   1.45582022e-01   1.67176719e-01\n",
      "   1.46512782e-01   1.65094491e-01   1.63506709e-01   1.61847480e-01\n",
      "   1.47064527e-01   1.48768198e-01   1.49639623e-01   1.51479148e-01\n",
      "   1.52378319e-01   1.63939963e-01   1.58740174e-01   1.60801829e-01\n",
      "   1.57103678e-01   1.55868230e-01   1.54290559e-01   1.50268079e-01\n",
      "   1.54649000e-01   1.57640490e-01   1.54992243e-01   1.60103454e-01\n",
      "   1.41276209e-01   1.42956876e-01   1.42596015e-01   1.40336126e-01\n",
      "   1.24206324e-01   1.24657038e-01   1.35725829e-01   1.36757845e-01\n",
      "   1.37621947e-01   1.37825537e-01   1.25341603e-01   1.25588485e-01\n",
      "   1.31656851e-01   1.33996629e-01   1.33407651e-01   1.30176474e-01\n",
      "   1.28919017e-01   1.27374442e-01   1.26721977e-01   1.34376011e-01\n",
      "   1.32640386e-01   1.27638978e-01   1.29557790e-01  -6.92781941e-17\n",
      "  -3.51649824e-16   2.38912493e-16   3.83906800e-16   4.31556673e-16\n",
      "   1.08304761e-15   1.06295944e-02   1.27113024e-02   1.95891924e-02\n",
      "   1.07144522e-01   1.08287099e-01   1.22795208e-01   1.09002507e-01\n",
      "   1.21970667e-01   1.21614022e-01   1.10264728e-01   1.10551138e-01\n",
      "   1.20618453e-01   1.20142718e-01   1.11922361e-01   1.13073657e-01\n",
      "   1.19639642e-01   1.13602805e-01   1.16953448e-01   1.12313812e-01\n",
      "   1.15357794e-01   1.18283641e-01   1.18416640e-01   1.14518812e-01\n",
      "   1.16393593e-01   1.14621960e-01   1.16127300e-01   1.67591758e-02\n",
      "   1.77878019e-02   1.84482055e-02   1.96986815e-02   2.05746307e-02\n",
      "   2.07364442e-02   2.10141359e-02   1.06401078e-01   1.06156927e-01\n",
      "   1.05500248e-01   1.05198618e-01   9.50910630e-02   1.03168335e-01\n",
      "   1.04978582e-01   9.54118298e-02   1.02353721e-01   1.02137811e-01\n",
      "   9.83025875e-02   9.77498899e-02   9.70119854e-02   9.89293608e-02\n",
      "   1.00795221e-01   1.03990714e-01   9.58593201e-02   1.00123972e-01\n",
      "   9.91255270e-02   1.04920182e-01   9.72267605e-02   1.01278608e-01\n",
      "   1.00061097e-01   2.14400172e-02   2.20397006e-02   2.26990901e-02\n",
      "   2.29458163e-02   2.29977519e-02   2.32065429e-02   2.35978205e-02\n",
      "   2.37831119e-02   2.40983483e-02   2.42226288e-02   2.45126917e-02\n",
      "   2.49640617e-02   2.54779565e-02   9.41922096e-02   9.24051206e-02\n",
      "   9.38993461e-02   9.34802255e-02   9.29403351e-02   9.11071967e-02\n",
      "   9.12518303e-02   9.32894890e-02   8.93851209e-02   8.97897700e-02\n",
      "   9.00321907e-02   2.51159212e-02   8.85987887e-02   8.82721491e-02\n",
      "   8.71440030e-02   8.54189697e-02   8.67167409e-02   8.64353895e-02\n",
      "   8.72752326e-02   8.68761345e-02   2.57921898e-02   2.59565507e-02\n",
      "   2.61914763e-02   2.63848494e-02   2.64140633e-02   2.68609669e-02\n",
      "   2.70154447e-02   2.71582504e-02   2.73415552e-02   3.02178545e-02\n",
      "   2.96369079e-02   2.79200554e-02   2.80574637e-02   2.91563295e-02\n",
      "   2.87356441e-02   2.84328086e-02   2.90081273e-02   2.84831820e-02\n",
      "   8.55819401e-02   8.43998152e-02   8.32700948e-02   8.41150817e-02\n",
      "   8.38091393e-02   8.29093286e-02   8.23440656e-02   8.11701898e-02\n",
      "   8.07123000e-02   8.04423354e-02   7.93041672e-02   7.98960709e-02\n",
      "   7.98205117e-02   7.83565026e-02   7.80648112e-02   7.74562610e-02\n",
      "   7.70850928e-02   7.73098972e-02   7.65261062e-02   7.62418364e-02\n",
      "   6.74920391e-02   7.59380478e-02   7.52491653e-02   7.53166466e-02\n",
      "   6.80981472e-02   7.47173876e-02   6.83957157e-02   6.86947356e-02\n",
      "   7.13989919e-02   7.02124894e-02   7.09320954e-02   7.40514763e-02\n",
      "   6.91916336e-02   7.21535188e-02   6.93889683e-02   6.95950124e-02\n",
      "   7.25258429e-02   7.06683051e-02   7.38359296e-02   7.33228550e-02\n",
      "   7.29541283e-02   7.30425701e-02   2.99500860e-02   3.11663714e-02\n",
      "   3.01727256e-02   3.07872479e-02   3.06774229e-02   6.52615327e-02\n",
      "   6.68318766e-02   6.64367252e-02   6.56845036e-02   6.60620876e-02\n",
      "   6.85183934e-02   3.15474972e-02   3.10286661e-02   3.17432911e-02\n",
      "   3.30709760e-02   3.33507593e-02   3.26810692e-02   3.22460851e-02\n",
      "   3.24377797e-02   3.23423658e-02   6.48895842e-02   6.45113944e-02\n",
      "   6.37496167e-02   6.34561195e-02   5.94214342e-02   5.98156006e-02\n",
      "   6.13236065e-02   6.22572923e-02   6.28753528e-02   6.40713116e-02\n",
      "   6.18862953e-02   6.19730334e-02   6.06916551e-02   5.95788580e-02\n",
      "   6.30792907e-02   6.04044693e-02   6.03731479e-02   5.86204052e-02\n",
      "   5.83854380e-02   3.41311224e-02   3.36507933e-02   5.80085445e-02\n",
      "   5.77368007e-02   5.76185379e-02   5.72531805e-02   3.42969410e-02\n",
      "   5.64576481e-02   3.47454885e-02   3.42683797e-02   5.60987143e-02\n",
      "   5.71504578e-02   3.50902726e-02   5.54645954e-02   5.52981564e-02\n",
      "   5.50492205e-02   3.53725089e-02   5.47110821e-02   3.52222181e-02\n",
      "   5.43586901e-02   3.63224404e-02   3.66951901e-02   3.58380356e-02\n",
      "   5.32668711e-02   3.82443727e-02   3.69097707e-02   3.78640767e-02\n",
      "   5.40611831e-02   3.90409275e-02   3.86336005e-02   3.72165581e-02\n",
      "   3.60070905e-02   5.27438925e-02   5.35276392e-02   3.75226010e-02\n",
      "   3.58840819e-02   3.71304090e-02   5.41768573e-02   5.30210535e-02\n",
      "   3.76610347e-02   3.86983564e-02   5.18962617e-02   4.11818116e-02\n",
      "   3.99830031e-02   3.98285769e-02   3.95132071e-02   3.95699240e-02\n",
      "   4.06510780e-02   5.16580790e-02   3.91756140e-02   4.04002258e-02\n",
      "   4.03339741e-02   5.13896586e-02   4.16620680e-02   4.20487707e-02\n",
      "   5.09349383e-02   4.24867172e-02   5.03631037e-02   5.00320902e-02\n",
      "   5.08656970e-02   4.19068848e-02   4.27654912e-02   4.30378536e-02\n",
      "   5.11895197e-02   4.32753494e-02   4.45098556e-02   4.55825718e-02\n",
      "   4.38139356e-02   4.72892398e-02   4.33496451e-02   4.60658781e-02\n",
      "   4.93062886e-02   4.76954073e-02   4.65171859e-02   4.52942952e-02\n",
      "   4.47840374e-02   5.07961123e-02   4.82323916e-02   4.91655599e-02\n",
      "   4.62727633e-02   4.50214020e-02   4.80204945e-02   4.96066912e-02\n",
      "   4.87607617e-02   4.68531030e-02   4.83339767e-02   4.87828280e-02\n",
      "   4.69867293e-02   4.17227965e-02   4.40921884e-02   4.36409122e-02\n",
      "   4.49119823e-02   0.00000000e+00   0.00000000e+00   0.00000000e+00\n",
      "   0.00000000e+00   0.00000000e+00   0.00000000e+00   0.00000000e+00\n",
      "   0.00000000e+00   0.00000000e+00   0.00000000e+00   0.00000000e+00\n",
      "   0.00000000e+00   0.00000000e+00   0.00000000e+00   0.00000000e+00\n",
      "   0.00000000e+00   0.00000000e+00   0.00000000e+00   0.00000000e+00\n",
      "   0.00000000e+00   0.00000000e+00   0.00000000e+00   0.00000000e+00\n",
      "   0.00000000e+00   0.00000000e+00   0.00000000e+00   0.00000000e+00\n",
      "   0.00000000e+00   0.00000000e+00   0.00000000e+00   0.00000000e+00\n",
      "   0.00000000e+00   0.00000000e+00   0.00000000e+00   0.00000000e+00\n",
      "   0.00000000e+00   0.00000000e+00   0.00000000e+00   0.00000000e+00\n",
      "   0.00000000e+00   0.00000000e+00   0.00000000e+00   0.00000000e+00\n",
      "   0.00000000e+00   0.00000000e+00   0.00000000e+00   0.00000000e+00\n",
      "   0.00000000e+00   0.00000000e+00   0.00000000e+00   0.00000000e+00\n",
      "   0.00000000e+00   0.00000000e+00   0.00000000e+00   0.00000000e+00\n",
      "   0.00000000e+00   0.00000000e+00   0.00000000e+00   0.00000000e+00\n",
      "   0.00000000e+00   0.00000000e+00   0.00000000e+00   0.00000000e+00\n",
      "   0.00000000e+00   0.00000000e+00   0.00000000e+00   0.00000000e+00\n",
      "   0.00000000e+00   0.00000000e+00   0.00000000e+00   0.00000000e+00\n",
      "   0.00000000e+00   0.00000000e+00   0.00000000e+00   0.00000000e+00\n",
      "   0.00000000e+00   0.00000000e+00   0.00000000e+00   0.00000000e+00]\n"
     ]
    }
   ],
   "source": [
    "#共分散行列を固有ベクトルと固有値に分解する\n",
    "eigen_vals,eigen_vecs = np.linalg.eig(cov_mat)\n",
    "print('Eogenvals\\n%s') % eigen_vals"
   ]
  },
  {
   "cell_type": "code",
   "execution_count": 48,
   "metadata": {
    "collapsed": false
   },
   "outputs": [
    {
     "data": {
      "image/png": "[encoded data removed]",
      "text/plain": [
       "<matplotlib.figure.Figure at 0x7f040333cc10>"
      ]
     },
     "metadata": {},
     "output_type": "display_data"
    }
   ],
   "source": [
    "#最も大きいk個の固有値に対応するk個の固有ベクトルを選択する。\n",
    "#分散説明率をプロットする\n",
    "\n",
    "#固有値を合計する\n",
    "tot = sum(eigen_vals)\n",
    "#分散説明率を計算\n",
    "var_exp = [(i/ tot) for i in sorted(eigen_vals,reverse=True)]\n",
    "#分散説明率の累積和を取得\n",
    "cum_var_exp = np.cumsum(var_exp)\n",
    "\n",
    "plt.figure(figsize=(12,8))\n",
    "plt.bar(range(1,eigen_vals.shape[0]+1),var_exp,alpha=0.5,align='center',\n",
    "        label='individual explained variance')\n",
    "plt.step(range(1,eigen_vals.shape[0]+1),cum_var_exp,where='mid',\n",
    "        label='cumulative explained variance')\n",
    "plt.ylabel('Explained variance ratio')\n",
    "plt.xlabel('principal components')\n",
    "plt.legend(loc='best')\n",
    "plt.show()"
   ]
  },
  {
   "cell_type": "markdown",
   "metadata": {},
   "source": [
    "- 上位100個でおおよそ7割説明可能\n",
    "- 8割の説明が欲しい場合はおおよそ上位150個の特徴量が必要"
   ]
  },
  {
   "cell_type": "code",
   "execution_count": 49,
   "metadata": {
    "collapsed": false,
    "scrolled": false
   },
   "outputs": [],
   "source": [
    "#上位k個の固有ベクトルから射影行列を作成する。\n",
    "eigen_pairs = [(np.abs(eigen_vals[i]),eigen_vecs[:,i]) for i in range(len(eigen_vals))]"
   ]
  },
  {
   "cell_type": "code",
   "execution_count": 54,
   "metadata": {
    "collapsed": false
   },
   "outputs": [],
   "source": [
    "eigen_pairs.sort(reverse=True,key=lambda eigen_pairs: eigen_pairs[0])"
   ]
  },
  {
   "cell_type": "code",
   "execution_count": 55,
   "metadata": {
    "collapsed": false
   },
   "outputs": [
    {
     "name": "stdout",
     "output_type": "stream",
     "text": [
      "Matrix W:\n",
      "[[ 0.  0.  0. ...,  0.  0.  0.]\n",
      " [ 0.  0.  0. ...,  0.  0.  0.]\n",
      " [ 0.  0.  0. ...,  0.  0.  0.]\n",
      " ..., \n",
      " [ 0.  0.  0. ...,  0.  0.  0.]\n",
      " [ 0.  0.  0. ...,  0.  0.  0.]\n",
      " [ 0.  0.  0. ...,  0.  0.  0.]]\n"
     ]
    }
   ],
   "source": [
    "w = np.hstack([eigen_pairs[i][1][:,np.newaxis] for i in range(0,100)])\n",
    "print('Matrix W:\\n%s') %w"
   ]
  },
  {
   "cell_type": "code",
   "execution_count": 56,
   "metadata": {
    "collapsed": false
   },
   "outputs": [
    {
     "data": {
      "text/plain": [
       "(29400, 100)"
      ]
     },
     "execution_count": 56,
     "metadata": {},
     "output_type": "execute_result"
    }
   ],
   "source": [
    "#射影行列を使ってd次元の入力データセットXを変換し、新しいk次元の特徴部分空間を取得する。\n",
    "X_train_pca = X_train_std.dot(w)\n",
    "X_train_pca.shape"
   ]
  },
  {
   "cell_type": "code",
   "execution_count": 57,
   "metadata": {
    "collapsed": false
   },
   "outputs": [
    {
     "name": "stdout",
     "output_type": "stream",
     "text": [
      "CPU times: user 1min 12s, sys: 8 ms, total: 1min 12s\n",
      "Wall time: 1min 12s\n",
      "train score: 0.911\n"
     ]
    }
   ],
   "source": [
    "#学習時間の計測\n",
    "lr = LogisticRegression(random_state=0)\n",
    "%time lr.fit(X_train_pca,y_train)\n",
    "prediction = lr.predict(X_train_pca)\n",
    "print('train score: %.3f') % accuracy_score(y_train,prediction)"
   ]
  },
  {
   "cell_type": "markdown",
   "metadata": {},
   "source": [
    "計算時間はおおよそ1/7になった！"
   ]
  },
  {
   "cell_type": "code",
   "execution_count": 59,
   "metadata": {
    "collapsed": false
   },
   "outputs": [
    {
     "name": "stdout",
     "output_type": "stream",
     "text": [
      "CPU times: user 20.5 s, sys: 40 ms, total: 20.6 s\n",
      "Wall time: 20.7 s\n",
      "train score: 0.908\n"
     ]
    }
   ],
   "source": [
    "lr_sgd = SGDClassifier(loss='log',random_state=1,n_iter=100)\n",
    "\n",
    "\n",
    "%time lr_sgd.fit(X_train_pca,y_train)\n",
    "\n",
    "prediction = lr_sgd.predict(X_train_pca)\n",
    "\n",
    "print('train score: %.3f') %accuracy_score(prediction,y_train)"
   ]
  },
  {
   "cell_type": "markdown",
   "metadata": {},
   "source": [
    "計算時間がおおよそ1/5になった。"
   ]
  },
  {
   "cell_type": "markdown",
   "metadata": {},
   "source": [
    "- 学習方法には確率的勾配法を用いる\n",
    "- 訓練データは主成分分析を行って、分散説明率が80%のデータに変換する。"
   ]
  },
  {
   "cell_type": "code",
   "execution_count": 62,
   "metadata": {
    "collapsed": false
   },
   "outputs": [
    {
     "name": "stdout",
     "output_type": "stream",
     "text": [
      "CPU times: user 23.5 s, sys: 728 ms, total: 24.3 s\n",
      "Wall time: 23 s\n"
     ]
    },
    {
     "data": {
      "text/plain": [
       "Pipeline(steps=[('scl', StandardScaler(copy=True, with_mean=True, with_std=True)), ('pca', PCA(copy=True, n_components=150, whiten=False)), ('clf', SGDClassifier(alpha=0.0001, average=False, class_weight=None, epsilon=0.1,\n",
       "       eta0=0.0, fit_intercept=True, l1_ratio=0.15,\n",
       "       learning_rate='optimal', loss='log', n_iter=5, n_jobs=1,\n",
       "       penalty='l2', power_t=0.5, random_state=None, shuffle=True,\n",
       "       verbose=0, warm_start=False))])"
      ]
     },
     "execution_count": 62,
     "metadata": {},
     "output_type": "execute_result"
    }
   ],
   "source": [
    "from sklearn.decomposition import PCA\n",
    "from sklearn.pipeline import Pipeline\n",
    "\n",
    "pipe_lr = Pipeline([('scl',StandardScaler()),('pca',PCA(n_components=150)),\n",
    "                   ('clf',SGDClassifier(loss='log'))])\n",
    "\n",
    "%time pipe_lr.fit(X_train,y_train)\n"
   ]
  },
  {
   "cell_type": "code",
   "execution_count": 63,
   "metadata": {
    "collapsed": false
   },
   "outputs": [
    {
     "name": "stdout",
     "output_type": "stream",
     "text": [
      "train accuracy: 0.9098\n",
      "test accuracy: 0.9090\n"
     ]
    }
   ],
   "source": [
    "predict_train = pipe_lr.predict(X_train)\n",
    "predict_test = pipe_lr.predict(X_test)\n",
    "\n",
    "print('train accuracy: %.4f') % accuracy_score(y_train,predict_train)\n",
    "print('test accuracy: %.4f') % accuracy_score(y_test,predict_test)"
   ]
  },
  {
   "cell_type": "markdown",
   "metadata": {},
   "source": [
    "精度はあまり良くないけど、ここでは計算時間を優先させることしよう。\n",
    "\n",
    "grid_searchのパラメタどうすっかな。1回あたり約25秒だからcv=5で10分に抑えたかったら、5個。。。\n",
    "\n",
    "流石に無理だから今回は1時間まで許容するか。\n",
    "\n",
    "n_jobs=-1にすれば少しはマシになるかもしれない。自分のコンピュータのコア数しらねーけどな！\n",
    "\n",
    "って訳で、下のパラメータでgridsearchします。\n",
    "- 正則化をl1にするかl2にするか→2\n",
    "- 正則化の強さ→5\n",
    "\n",
    "あとよくわかってなかったけどグリッドサーチ→交差検定→学習と評価の手順みたいっすね。\n",
    "\n",
    "でもsklearnのグリッドサーチって、交差検定までやってくれてるよな？？"
   ]
  },
  {
   "cell_type": "code",
   "execution_count": 65,
   "metadata": {
    "collapsed": false
   },
   "outputs": [
    {
     "name": "stdout",
     "output_type": "stream",
     "text": [
      "CPU times: user 24.6 s, sys: 812 ms, total: 25.4 s\n",
      "Wall time: 11min 4s\n",
      "best score: 0.897\n",
      "best params: {'clf__penalty': 'l2', 'clf__alpha': 0.001}\n"
     ]
    }
   ],
   "source": [
    "from sklearn.grid_search import GridSearchCV\n",
    "\n",
    "pipe_lr = Pipeline([('scl',StandardScaler()),('pca',PCA(n_components=150)),\n",
    "                   ('clf',SGDClassifier(loss='log'))])\n",
    "param_grid = [{'clf__penalty':['l1'],'clf__alpha':[0.001,0.01,0.1,1.0,10]},\n",
    "             {'clf__penalty':['l2'],'clf__alpha':[0.001,0.01,0.1,1.0,10]}]\n",
    "\n",
    "gs = GridSearchCV(estimator=pipe_lr,\n",
    "                 param_grid=param_grid,\n",
    "                 scoring='accuracy',\n",
    "                 cv=5,\n",
    "                 n_jobs=-1)\n",
    "%time gs.fit(X_train,y_train)\n",
    "\n",
    "print('best score: %.3f') % gs.best_score_\n",
    "\n",
    "print('best params: %s') %gs.best_params_"
   ]
  },
  {
   "cell_type": "markdown",
   "metadata": {},
   "source": [
    "おいおいって位精度ひくいですな。。。\n",
    "\n",
    "カーネルPCAを使ってみる。数学的原理は、あんましわかっていません。"
   ]
  },
  {
   "cell_type": "code",
   "execution_count": 67,
   "metadata": {
    "collapsed": false
   },
   "outputs": [
    {
     "name": "stdout",
     "output_type": "stream",
     "text": [
      "An unexpected error occurred while tokenizing input file /home/kyohei/anaconda2/lib/python2.7/site-packages/sklearn/decomposition/kernel_pca.pyc\n",
      "The following traceback may be corrupted or invalid\n",
      "The error message is: ('EOF in multi-line statement', (55, 0))\n",
      "An unexpected error occurred while tokenizing input file /home/kyohei/anaconda2/lib/python2.7/site-packages/sklearn/decomposition/kernel_pca.pyc\n",
      "The following traceback may be corrupted or invalid\n",
      "The error message is: ('EOF in multi-line statement', (55, 0))\n",
      "\n",
      "\n",
      "An unexpected error occurred while tokenizing input file /home/kyohei/anaconda2/lib/python2.7/site-packages/sklearn/metrics/pairwise.pyc\n",
      "The following traceback may be corrupted or invalid\n",
      "The error message is: ('EOF in multi-line statement', (106, 0))\n",
      "An unexpected error occurred while tokenizing input file /home/kyohei/anaconda2/lib/python2.7/site-packages/sklearn/metrics/pairwise.pyc\n",
      "The following traceback may be corrupted or invalid\n",
      "The error message is: ('EOF in multi-line statement', (106, 0))\n",
      "\n",
      "\n",
      "An unexpected error occurred while tokenizing input file /home/kyohei/anaconda2/lib/python2.7/site-packages/sklearn/decomposition/kernel_pca.pyc\n",
      "The following traceback may be corrupted or invalid\n",
      "The error message is: ('EOF in multi-line statement', (55, 0))\n",
      "An unexpected error occurred while tokenizing input file /home/kyohei/anaconda2/lib/python2.7/site-packages/sklearn/decomposition/kernel_pca.pyc\n",
      "The following traceback may be corrupted or invalid\n",
      "The error message is: ('EOF in multi-line statement', (55, 0))\n",
      "\n",
      "\n",
      "An unexpected error occurred while tokenizing input file /home/kyohei/anaconda2/lib/python2.7/site-packages/sklearn/metrics/pairwise.pyc\n",
      "The following traceback may be corrupted or invalid\n",
      "The error message is: ('EOF in multi-line statement', (106, 0))\n",
      "An unexpected error occurred while tokenizing input file /home/kyohei/anaconda2/lib/python2.7/site-packages/sklearn/metrics/pairwise.pyc\n",
      "The following traceback may be corrupted or invalid\n",
      "The error message is: ('EOF in multi-line statement', (106, 0))\n",
      "\n",
      "\n"
     ]
    },
    {
     "ename": "JoblibMemoryError",
     "evalue": "JoblibMemoryError\n___________________________________________________________________________\nMultiprocessing exception:\n...........................................................................\n/home/kyohei/anaconda2/lib/python2.7/runpy.py in _run_module_as_main(mod_name='ipykernel.__main__', alter_argv=1)\n    169     pkg_name = mod_name.rpartition('.')[0]\n    170     main_globals = sys.modules[\"__main__\"].__dict__\n    171     if alter_argv:\n    172         sys.argv[0] = fname\n    173     return _run_code(code, main_globals, None,\n--> 174                      \"__main__\", fname, loader, pkg_name)\n        fname = '/home/kyohei/anaconda2/lib/python2.7/site-packages/ipykernel/__main__.py'\n        loader = <pkgutil.ImpLoader instance>\n        pkg_name = 'ipykernel'\n    175 \n    176 def run_module(mod_name, init_globals=None,\n    177                run_name=None, alter_sys=False):\n    178     \"\"\"Execute a module's code without importing it\n\n...........................................................................\n/home/kyohei/anaconda2/lib/python2.7/runpy.py in _run_code(code=<code object <module> at 0x7f04756628b0, file \"/...2.7/site-packages/ipykernel/__main__.py\", line 1>, run_globals={'__builtins__': <module '__builtin__' (built-in)>, '__doc__': None, '__file__': '/home/kyohei/anaconda2/lib/python2.7/site-packages/ipykernel/__main__.py', '__loader__': <pkgutil.ImpLoader instance>, '__name__': '__main__', '__package__': 'ipykernel', 'app': <module 'ipykernel.kernelapp' from '/home/kyohei...python2.7/site-packages/ipykernel/kernelapp.pyc'>}, init_globals=None, mod_name='__main__', mod_fname='/home/kyohei/anaconda2/lib/python2.7/site-packages/ipykernel/__main__.py', mod_loader=<pkgutil.ImpLoader instance>, pkg_name='ipykernel')\n     67         run_globals.update(init_globals)\n     68     run_globals.update(__name__ = mod_name,\n     69                        __file__ = mod_fname,\n     70                        __loader__ = mod_loader,\n     71                        __package__ = pkg_name)\n---> 72     exec code in run_globals\n        code = <code object <module> at 0x7f04756628b0, file \"/...2.7/site-packages/ipykernel/__main__.py\", line 1>\n        run_globals = {'__builtins__': <module '__builtin__' (built-in)>, '__doc__': None, '__file__': '/home/kyohei/anaconda2/lib/python2.7/site-packages/ipykernel/__main__.py', '__loader__': <pkgutil.ImpLoader instance>, '__name__': '__main__', '__package__': 'ipykernel', 'app': <module 'ipykernel.kernelapp' from '/home/kyohei...python2.7/site-packages/ipykernel/kernelapp.pyc'>}\n     73     return run_globals\n     74 \n     75 def _run_module_code(code, init_globals=None,\n     76                     mod_name=None, mod_fname=None,\n\n...........................................................................\n/home/kyohei/anaconda2/lib/python2.7/site-packages/ipykernel/__main__.py in <module>()\n      1 \n      2 \n----> 3 \n      4 if __name__ == '__main__':\n      5     from ipykernel import kernelapp as app\n      6     app.launch_new_instance()\n      7 \n      8 \n      9 \n     10 \n\n...........................................................................\n/home/kyohei/anaconda2/lib/python2.7/site-packages/traitlets/config/application.py in launch_instance(cls=<class 'ipykernel.kernelapp.IPKernelApp'>, argv=None, **kwargs={})\n    584         \n    585         If a global instance already exists, this reinitializes and starts it\n    586         \"\"\"\n    587         app = cls.instance(**kwargs)\n    588         app.initialize(argv)\n--> 589         app.start()\n        app.start = <bound method IPKernelApp.start of <ipykernel.kernelapp.IPKernelApp object>>\n    590 \n    591 #-----------------------------------------------------------------------------\n    592 # utility functions, for convenience\n    593 #-----------------------------------------------------------------------------\n\n...........................................................................\n/home/kyohei/anaconda2/lib/python2.7/site-packages/ipykernel/kernelapp.py in start(self=<ipykernel.kernelapp.IPKernelApp object>)\n    400         \n    401         if self.poller is not None:\n    402             self.poller.start()\n    403         self.kernel.start()\n    404         try:\n--> 405             ioloop.IOLoop.instance().start()\n    406         except KeyboardInterrupt:\n    407             pass\n    408 \n    409 launch_new_instance = IPKernelApp.launch_instance\n\n...........................................................................\n/home/kyohei/anaconda2/lib/python2.7/site-packages/zmq/eventloop/ioloop.py in start(self=<zmq.eventloop.ioloop.ZMQIOLoop object>)\n    157             PollIOLoop.configure(ZMQIOLoop)\n    158         return PollIOLoop.current(*args, **kwargs)\n    159     \n    160     def start(self):\n    161         try:\n--> 162             super(ZMQIOLoop, self).start()\n        self.start = <bound method ZMQIOLoop.start of <zmq.eventloop.ioloop.ZMQIOLoop object>>\n    163         except ZMQError as e:\n    164             if e.errno == ETERM:\n    165                 # quietly return on ETERM\n    166                 pass\n\n...........................................................................\n/home/kyohei/anaconda2/lib/python2.7/site-packages/tornado/ioloop.py in start(self=<zmq.eventloop.ioloop.ZMQIOLoop object>)\n    878                 self._events.update(event_pairs)\n    879                 while self._events:\n    880                     fd, events = self._events.popitem()\n    881                     try:\n    882                         fd_obj, handler_func = self._handlers[fd]\n--> 883                         handler_func(fd_obj, events)\n        handler_func = <function null_wrapper>\n        fd_obj = <zmq.sugar.socket.Socket object>\n        events = 1\n    884                     except (OSError, IOError) as e:\n    885                         if errno_from_exception(e) == errno.EPIPE:\n    886                             # Happens when the client closes the connection\n    887                             pass\n\n...........................................................................\n/home/kyohei/anaconda2/lib/python2.7/site-packages/tornado/stack_context.py in null_wrapper(*args=(<zmq.sugar.socket.Socket object>, 1), **kwargs={})\n    270         # Fast path when there are no active contexts.\n    271         def null_wrapper(*args, **kwargs):\n    272             try:\n    273                 current_state = _state.contexts\n    274                 _state.contexts = cap_contexts[0]\n--> 275                 return fn(*args, **kwargs)\n        args = (<zmq.sugar.socket.Socket object>, 1)\n        kwargs = {}\n    276             finally:\n    277                 _state.contexts = current_state\n    278         null_wrapper._wrapped = True\n    279         return null_wrapper\n\n...........................................................................\n/home/kyohei/anaconda2/lib/python2.7/site-packages/zmq/eventloop/zmqstream.py in _handle_events(self=<zmq.eventloop.zmqstream.ZMQStream object>, fd=<zmq.sugar.socket.Socket object>, events=1)\n    435             # dispatch events:\n    436             if events & IOLoop.ERROR:\n    437                 gen_log.error(\"got POLLERR event on ZMQStream, which doesn't make sense\")\n    438                 return\n    439             if events & IOLoop.READ:\n--> 440                 self._handle_recv()\n        self._handle_recv = <bound method ZMQStream._handle_recv of <zmq.eventloop.zmqstream.ZMQStream object>>\n    441                 if not self.socket:\n    442                     return\n    443             if events & IOLoop.WRITE:\n    444                 self._handle_send()\n\n...........................................................................\n/home/kyohei/anaconda2/lib/python2.7/site-packages/zmq/eventloop/zmqstream.py in _handle_recv(self=<zmq.eventloop.zmqstream.ZMQStream object>)\n    467                 gen_log.error(\"RECV Error: %s\"%zmq.strerror(e.errno))\n    468         else:\n    469             if self._recv_callback:\n    470                 callback = self._recv_callback\n    471                 # self._recv_callback = None\n--> 472                 self._run_callback(callback, msg)\n        self._run_callback = <bound method ZMQStream._run_callback of <zmq.eventloop.zmqstream.ZMQStream object>>\n        callback = <function null_wrapper>\n        msg = [<zmq.sugar.frame.Frame object>, <zmq.sugar.frame.Frame object>, <zmq.sugar.frame.Frame object>, <zmq.sugar.frame.Frame object>, <zmq.sugar.frame.Frame object>, <zmq.sugar.frame.Frame object>, <zmq.sugar.frame.Frame object>]\n    473                 \n    474         # self.update_state()\n    475         \n    476 \n\n...........................................................................\n/home/kyohei/anaconda2/lib/python2.7/site-packages/zmq/eventloop/zmqstream.py in _run_callback(self=<zmq.eventloop.zmqstream.ZMQStream object>, callback=<function null_wrapper>, *args=([<zmq.sugar.frame.Frame object>, <zmq.sugar.frame.Frame object>, <zmq.sugar.frame.Frame object>, <zmq.sugar.frame.Frame object>, <zmq.sugar.frame.Frame object>, <zmq.sugar.frame.Frame object>, <zmq.sugar.frame.Frame object>],), **kwargs={})\n    409         close our socket.\"\"\"\n    410         try:\n    411             # Use a NullContext to ensure that all StackContexts are run\n    412             # inside our blanket exception handler rather than outside.\n    413             with stack_context.NullContext():\n--> 414                 callback(*args, **kwargs)\n        callback = <function null_wrapper>\n        args = ([<zmq.sugar.frame.Frame object>, <zmq.sugar.frame.Frame object>, <zmq.sugar.frame.Frame object>, <zmq.sugar.frame.Frame object>, <zmq.sugar.frame.Frame object>, <zmq.sugar.frame.Frame object>, <zmq.sugar.frame.Frame object>],)\n        kwargs = {}\n    415         except:\n    416             gen_log.error(\"Uncaught exception, closing connection.\",\n    417                           exc_info=True)\n    418             # Close the socket on an uncaught exception from a user callback\n\n...........................................................................\n/home/kyohei/anaconda2/lib/python2.7/site-packages/tornado/stack_context.py in null_wrapper(*args=([<zmq.sugar.frame.Frame object>, <zmq.sugar.frame.Frame object>, <zmq.sugar.frame.Frame object>, <zmq.sugar.frame.Frame object>, <zmq.sugar.frame.Frame object>, <zmq.sugar.frame.Frame object>, <zmq.sugar.frame.Frame object>],), **kwargs={})\n    270         # Fast path when there are no active contexts.\n    271         def null_wrapper(*args, **kwargs):\n    272             try:\n    273                 current_state = _state.contexts\n    274                 _state.contexts = cap_contexts[0]\n--> 275                 return fn(*args, **kwargs)\n        args = ([<zmq.sugar.frame.Frame object>, <zmq.sugar.frame.Frame object>, <zmq.sugar.frame.Frame object>, <zmq.sugar.frame.Frame object>, <zmq.sugar.frame.Frame object>, <zmq.sugar.frame.Frame object>, <zmq.sugar.frame.Frame object>],)\n        kwargs = {}\n    276             finally:\n    277                 _state.contexts = current_state\n    278         null_wrapper._wrapped = True\n    279         return null_wrapper\n\n...........................................................................\n/home/kyohei/anaconda2/lib/python2.7/site-packages/ipykernel/kernelbase.py in dispatcher(msg=[<zmq.sugar.frame.Frame object>, <zmq.sugar.frame.Frame object>, <zmq.sugar.frame.Frame object>, <zmq.sugar.frame.Frame object>, <zmq.sugar.frame.Frame object>, <zmq.sugar.frame.Frame object>, <zmq.sugar.frame.Frame object>])\n    255         if self.control_stream:\n    256             self.control_stream.on_recv(self.dispatch_control, copy=False)\n    257 \n    258         def make_dispatcher(stream):\n    259             def dispatcher(msg):\n--> 260                 return self.dispatch_shell(stream, msg)\n        msg = [<zmq.sugar.frame.Frame object>, <zmq.sugar.frame.Frame object>, <zmq.sugar.frame.Frame object>, <zmq.sugar.frame.Frame object>, <zmq.sugar.frame.Frame object>, <zmq.sugar.frame.Frame object>, <zmq.sugar.frame.Frame object>]\n    261             return dispatcher\n    262 \n    263         for s in self.shell_streams:\n    264             s.on_recv(make_dispatcher(s), copy=False)\n\n...........................................................................\n/home/kyohei/anaconda2/lib/python2.7/site-packages/ipykernel/kernelbase.py in dispatch_shell(self=<ipykernel.ipkernel.IPythonKernel object>, stream=<zmq.eventloop.zmqstream.ZMQStream object>, msg={'buffers': [], 'content': {u'allow_stdin': True, u'code': u\"from sklearn.decomposition import KernelPCA\\n\\...re_\\n\\nprint('best params: %s') %gs.best_params_\", u'silent': False, u'stop_on_error': True, u'store_history': True, u'user_expressions': {}}, 'header': {'date': '2016-10-17T00:32:54.999889', u'msg_id': u'60270A2D233C4B0B893D6D7AC83B4551', u'msg_type': u'execute_request', u'session': u'B5835E9FFDF741599D818BB660832C2F', u'username': u'username', u'version': u'5.0'}, 'metadata': {}, 'msg_id': u'60270A2D233C4B0B893D6D7AC83B4551', 'msg_type': u'execute_request', 'parent_header': {}})\n    207             self.log.error(\"UNKNOWN MESSAGE TYPE: %r\", msg_type)\n    208         else:\n    209             self.log.debug(\"%s: %s\", msg_type, msg)\n    210             self.pre_handler_hook()\n    211             try:\n--> 212                 handler(stream, idents, msg)\n        handler = <bound method IPythonKernel.execute_request of <ipykernel.ipkernel.IPythonKernel object>>\n        stream = <zmq.eventloop.zmqstream.ZMQStream object>\n        idents = ['B5835E9FFDF741599D818BB660832C2F']\n        msg = {'buffers': [], 'content': {u'allow_stdin': True, u'code': u\"from sklearn.decomposition import KernelPCA\\n\\...re_\\n\\nprint('best params: %s') %gs.best_params_\", u'silent': False, u'stop_on_error': True, u'store_history': True, u'user_expressions': {}}, 'header': {'date': '2016-10-17T00:32:54.999889', u'msg_id': u'60270A2D233C4B0B893D6D7AC83B4551', u'msg_type': u'execute_request', u'session': u'B5835E9FFDF741599D818BB660832C2F', u'username': u'username', u'version': u'5.0'}, 'metadata': {}, 'msg_id': u'60270A2D233C4B0B893D6D7AC83B4551', 'msg_type': u'execute_request', 'parent_header': {}}\n    213             except Exception:\n    214                 self.log.error(\"Exception in message handler:\", exc_info=True)\n    215             finally:\n    216                 self.post_handler_hook()\n\n...........................................................................\n/home/kyohei/anaconda2/lib/python2.7/site-packages/ipykernel/kernelbase.py in execute_request(self=<ipykernel.ipkernel.IPythonKernel object>, stream=<zmq.eventloop.zmqstream.ZMQStream object>, ident=['B5835E9FFDF741599D818BB660832C2F'], parent={'buffers': [], 'content': {u'allow_stdin': True, u'code': u\"from sklearn.decomposition import KernelPCA\\n\\...re_\\n\\nprint('best params: %s') %gs.best_params_\", u'silent': False, u'stop_on_error': True, u'store_history': True, u'user_expressions': {}}, 'header': {'date': '2016-10-17T00:32:54.999889', u'msg_id': u'60270A2D233C4B0B893D6D7AC83B4551', u'msg_type': u'execute_request', u'session': u'B5835E9FFDF741599D818BB660832C2F', u'username': u'username', u'version': u'5.0'}, 'metadata': {}, 'msg_id': u'60270A2D233C4B0B893D6D7AC83B4551', 'msg_type': u'execute_request', 'parent_header': {}})\n    365         if not silent:\n    366             self.execution_count += 1\n    367             self._publish_execute_input(code, parent, self.execution_count)\n    368 \n    369         reply_content = self.do_execute(code, silent, store_history,\n--> 370                                         user_expressions, allow_stdin)\n        user_expressions = {}\n        allow_stdin = True\n    371 \n    372         # Flush output before sending the reply.\n    373         sys.stdout.flush()\n    374         sys.stderr.flush()\n\n...........................................................................\n/home/kyohei/anaconda2/lib/python2.7/site-packages/ipykernel/ipkernel.py in do_execute(self=<ipykernel.ipkernel.IPythonKernel object>, code=u\"from sklearn.decomposition import KernelPCA\\n\\...re_\\n\\nprint('best params: %s') %gs.best_params_\", silent=False, store_history=True, user_expressions={}, allow_stdin=True)\n    170 \n    171         reply_content = {}\n    172         # FIXME: the shell calls the exception handler itself.\n    173         shell._reply_content = None\n    174         try:\n--> 175             shell.run_cell(code, store_history=store_history, silent=silent)\n        shell.run_cell = <bound method ZMQInteractiveShell.run_cell of <ipykernel.zmqshell.ZMQInteractiveShell object>>\n        code = u\"from sklearn.decomposition import KernelPCA\\n\\...re_\\n\\nprint('best params: %s') %gs.best_params_\"\n        store_history = True\n        silent = False\n    176         except:\n    177             status = u'error'\n    178             # FIXME: this code right now isn't being used yet by default,\n    179             # because the run_cell() call above directly fires off exception\n\n...........................................................................\n/home/kyohei/anaconda2/lib/python2.7/site-packages/IPython/core/interactiveshell.py in run_cell(self=<ipykernel.zmqshell.ZMQInteractiveShell object>, raw_cell=u\"from sklearn.decomposition import KernelPCA\\n\\...re_\\n\\nprint('best params: %s') %gs.best_params_\", store_history=True, silent=False, shell_futures=True)\n   2897                 self.displayhook.exec_result = result\n   2898 \n   2899                 # Execute the user code\n   2900                 interactivity = \"none\" if silent else self.ast_node_interactivity\n   2901                 self.run_ast_nodes(code_ast.body, cell_name,\n-> 2902                    interactivity=interactivity, compiler=compiler, result=result)\n        interactivity = 'last_expr'\n        compiler = <IPython.core.compilerop.CachingCompiler instance>\n   2903 \n   2904                 # Reset this so later displayed values do not modify the\n   2905                 # ExecutionResult\n   2906                 self.displayhook.exec_result = None\n\n...........................................................................\n/home/kyohei/anaconda2/lib/python2.7/site-packages/IPython/core/interactiveshell.py in run_ast_nodes(self=<ipykernel.zmqshell.ZMQInteractiveShell object>, nodelist=[<_ast.ImportFrom object>, <_ast.Assign object>, <_ast.Assign object>, <_ast.Assign object>, <_ast.Expr object>, <_ast.Print object>, <_ast.Print object>], cell_name='<ipython-input-67-22263e16e5ae>', interactivity='none', compiler=<IPython.core.compilerop.CachingCompiler instance>, result=<IPython.core.interactiveshell.ExecutionResult object>)\n   3001 \n   3002         try:\n   3003             for i, node in enumerate(to_run_exec):\n   3004                 mod = ast.Module([node])\n   3005                 code = compiler(mod, cell_name, \"exec\")\n-> 3006                 if self.run_code(code, result):\n        self.run_code = <bound method ZMQInteractiveShell.run_code of <ipykernel.zmqshell.ZMQInteractiveShell object>>\n        code = <code object <module> at 0x7f0403380f30, file \"<ipython-input-67-22263e16e5ae>\", line 13>\n        result = <IPython.core.interactiveshell.ExecutionResult object>\n   3007                     return True\n   3008 \n   3009             for i, node in enumerate(to_run_interactive):\n   3010                 mod = ast.Interactive([node])\n\n...........................................................................\n/home/kyohei/anaconda2/lib/python2.7/site-packages/IPython/core/interactiveshell.py in run_code(self=<ipykernel.zmqshell.ZMQInteractiveShell object>, code_obj=<code object <module> at 0x7f0403380f30, file \"<ipython-input-67-22263e16e5ae>\", line 13>, result=<IPython.core.interactiveshell.ExecutionResult object>)\n   3061         outflag = 1  # happens in more places, so it's easier as default\n   3062         try:\n   3063             try:\n   3064                 self.hooks.pre_run_code_hook()\n   3065                 #rprint('Running code', repr(code_obj)) # dbg\n-> 3066                 exec(code_obj, self.user_global_ns, self.user_ns)\n        code_obj = <code object <module> at 0x7f0403380f30, file \"<ipython-input-67-22263e16e5ae>\", line 13>\n        self.user_global_ns = {'GridSearchCV': <class 'sklearn.grid_search.GridSearchCV'>, 'In': ['', u\"import pandas as pd\\nimport numpy as np\\nimpor...s plt\\nget_ipython().magic(u'matplotlib inline')\", u\"train = pd.read_csv('/home/kyohei/kaggle_data/02digit_recognizer/train.csv')\", u\"#if a column's max value is 0,these columns is...lumns\\ntrain_new = train.loc[:,non_zero_columns]\", u'#check columns number\\ntrain_new.shape', u'train_new.head()', u'X = train_new.iloc[:,1:].values\\ny = train_new.iloc[:,0].values', u\"from sklearn.linear_model import LogisticRegre...test score: %.3f') %pipe_lr.score(X_test,y_test)\", u\"from sklearn.linear_model import SGDClassifier...test score: %.3f') %pipe_lr.score(X_test,y_test)\", u'#\\u30c7\\u30fc\\u30bf\\u30bb\\u30c3\\u30c8\\u3092\\u6...form(X_train)\\nX_test_std = sc.transform(X_test)', u'#\\u5171\\u5206\\u6563\\u884c\\u5217\\u3092\\u4f5c\\u6210\\u3059\\u308b\\ncov_mat = np.cov(X_train_std.T)', u\"#\\u5171\\u5206\\u6563\\u884c\\u5217\\u3092\\u56fa\\u6...g(cov_mat)\\nprint('Eogenvals\\\\n%s') % eigen_vals\", u\"#\\u6700\\u3082\\u5927\\u304d\\u3044k\\u500b\\u306e\\u...components')\\nplt.legend(loc='best')\\nplt.show()\", u'#\\u4e0a\\u4f4dk\\u500b\\u306e\\u56fa\\u6709\\u30d9\\u...en(eigen_vals))]\\neigen_pairs.sort(reverse=True)', u'eigen_pairs', u'eigen_pairs[0]', u'eigen_pairs[0].shape', u'eigen_pairs.shape', u'np.array(eigen_pairs).shape', u'np.array(eigen_pairs)[0]', ...], 'KernelPCA': <class 'sklearn.decomposition.kernel_pca.KernelPCA'>, 'LogisticRegression': <class 'sklearn.linear_model.logistic.LogisticRegression'>, 'Out': {4: (42000, 709), 5:    label  pixel12  pixel13  pixel14  pixel15  pi...  0         0         0  \n\n[5 rows x 709 columns], 15: (40.746277958240157, array([  0.00000000e+00,   0.00000000e+00,   0.0...e+00,   0.00000000e+00,\n         0.00000000e+00])), 25: (40.746277958240157, array([  0.00000000e+00,   0.00000000e+00,   0.0...e+00,   0.00000000e+00,\n         0.00000000e+00])), 26: [(40.746277958240157, array([  0.00000000e+00,   0.00000000e+00,   0.0...e+00,   0.00000000e+00,\n         0.00000000e+00])), (29.15283348654792, array([  0.00000000e+00,   0.00000000e+00,   0.0...e+00,   0.00000000e+00,\n         0.00000000e+00])), (26.761331836128068, array([  0.00000000e+00,   0.00000000e+00,   0.0...e+00,   0.00000000e+00,\n         0.00000000e+00]))], 27: [0, 1, 2, 3, 4, 5, 6, 7, 8, 9, 10, 11, 12, 13, 14, 15, 16, 17, 18, 19, ...], 28: 0.0, 30: 40.746277958240157, 32: (40.746277958240157, array([  0.00000000e+00,   0.00000000e+00,   0.0...e+00,   0.00000000e+00,\n         0.00000000e+00])), 33: (0.0, array([ 0.,  0.,  0.,  0.,  0.,  0.,  0.,  0.,  ...,  0.,  0.,  0.,  0.,\n        0.,  0.,  0.,  1.])), ...}, 'PCA': <class 'sklearn.decomposition.pca.PCA'>, 'Pipeline': <class 'sklearn.pipeline.Pipeline'>, 'SGDClassifier': <class 'sklearn.linear_model.stochastic_gradient.SGDClassifier'>, 'StandardScaler': <class 'sklearn.preprocessing.data.StandardScaler'>, 'X':        pixel0  pixel1  pixel2  pixel3  pixel4  p...        0         0  \n\n[42000 rows x 784 columns], ...}\n        self.user_ns = {'GridSearchCV': <class 'sklearn.grid_search.GridSearchCV'>, 'In': ['', u\"import pandas as pd\\nimport numpy as np\\nimpor...s plt\\nget_ipython().magic(u'matplotlib inline')\", u\"train = pd.read_csv('/home/kyohei/kaggle_data/02digit_recognizer/train.csv')\", u\"#if a column's max value is 0,these columns is...lumns\\ntrain_new = train.loc[:,non_zero_columns]\", u'#check columns number\\ntrain_new.shape', u'train_new.head()', u'X = train_new.iloc[:,1:].values\\ny = train_new.iloc[:,0].values', u\"from sklearn.linear_model import LogisticRegre...test score: %.3f') %pipe_lr.score(X_test,y_test)\", u\"from sklearn.linear_model import SGDClassifier...test score: %.3f') %pipe_lr.score(X_test,y_test)\", u'#\\u30c7\\u30fc\\u30bf\\u30bb\\u30c3\\u30c8\\u3092\\u6...form(X_train)\\nX_test_std = sc.transform(X_test)', u'#\\u5171\\u5206\\u6563\\u884c\\u5217\\u3092\\u4f5c\\u6210\\u3059\\u308b\\ncov_mat = np.cov(X_train_std.T)', u\"#\\u5171\\u5206\\u6563\\u884c\\u5217\\u3092\\u56fa\\u6...g(cov_mat)\\nprint('Eogenvals\\\\n%s') % eigen_vals\", u\"#\\u6700\\u3082\\u5927\\u304d\\u3044k\\u500b\\u306e\\u...components')\\nplt.legend(loc='best')\\nplt.show()\", u'#\\u4e0a\\u4f4dk\\u500b\\u306e\\u56fa\\u6709\\u30d9\\u...en(eigen_vals))]\\neigen_pairs.sort(reverse=True)', u'eigen_pairs', u'eigen_pairs[0]', u'eigen_pairs[0].shape', u'eigen_pairs.shape', u'np.array(eigen_pairs).shape', u'np.array(eigen_pairs)[0]', ...], 'KernelPCA': <class 'sklearn.decomposition.kernel_pca.KernelPCA'>, 'LogisticRegression': <class 'sklearn.linear_model.logistic.LogisticRegression'>, 'Out': {4: (42000, 709), 5:    label  pixel12  pixel13  pixel14  pixel15  pi...  0         0         0  \n\n[5 rows x 709 columns], 15: (40.746277958240157, array([  0.00000000e+00,   0.00000000e+00,   0.0...e+00,   0.00000000e+00,\n         0.00000000e+00])), 25: (40.746277958240157, array([  0.00000000e+00,   0.00000000e+00,   0.0...e+00,   0.00000000e+00,\n         0.00000000e+00])), 26: [(40.746277958240157, array([  0.00000000e+00,   0.00000000e+00,   0.0...e+00,   0.00000000e+00,\n         0.00000000e+00])), (29.15283348654792, array([  0.00000000e+00,   0.00000000e+00,   0.0...e+00,   0.00000000e+00,\n         0.00000000e+00])), (26.761331836128068, array([  0.00000000e+00,   0.00000000e+00,   0.0...e+00,   0.00000000e+00,\n         0.00000000e+00]))], 27: [0, 1, 2, 3, 4, 5, 6, 7, 8, 9, 10, 11, 12, 13, 14, 15, 16, 17, 18, 19, ...], 28: 0.0, 30: 40.746277958240157, 32: (40.746277958240157, array([  0.00000000e+00,   0.00000000e+00,   0.0...e+00,   0.00000000e+00,\n         0.00000000e+00])), 33: (0.0, array([ 0.,  0.,  0.,  0.,  0.,  0.,  0.,  0.,  ...,  0.,  0.,  0.,  0.,\n        0.,  0.,  0.,  1.])), ...}, 'PCA': <class 'sklearn.decomposition.pca.PCA'>, 'Pipeline': <class 'sklearn.pipeline.Pipeline'>, 'SGDClassifier': <class 'sklearn.linear_model.stochastic_gradient.SGDClassifier'>, 'StandardScaler': <class 'sklearn.preprocessing.data.StandardScaler'>, 'X':        pixel0  pixel1  pixel2  pixel3  pixel4  p...        0         0  \n\n[42000 rows x 784 columns], ...}\n   3067             finally:\n   3068                 # Reset our crash handler in place\n   3069                 sys.excepthook = old_excepthook\n   3070         except SystemExit as e:\n\n...........................................................................\n/home/kyohei/kaggle/02digit_recognizer/<ipython-input-67-22263e16e5ae> in <module>()\n      8 gs = GridSearchCV(estimator=pipe_lr,\n      9                  param_grid=param_grid,\n     10                  scoring='accuracy',\n     11                  cv=5,\n     12                  n_jobs=-1)\n---> 13 get_ipython().magic(u'time gs.fit(X_train,y_train)')\n     14 \n     15 print('best score: %.3f') % gs.best_score_\n     16 \n     17 print('best params: %s') %gs.best_params_\n\n...........................................................................\n/home/kyohei/anaconda2/lib/python2.7/site-packages/IPython/core/interactiveshell.py in magic(self=<ipykernel.zmqshell.ZMQInteractiveShell object>, arg_s=u'time gs.fit(X_train,y_train)')\n   2331         compound statements.\n   2332         \"\"\"\n   2333         # TODO: should we issue a loud deprecation warning here?\n   2334         magic_name, _, magic_arg_s = arg_s.partition(' ')\n   2335         magic_name = magic_name.lstrip(prefilter.ESC_MAGIC)\n-> 2336         return self.run_line_magic(magic_name, magic_arg_s)\n        self.run_line_magic = <bound method ZMQInteractiveShell.run_line_magic of <ipykernel.zmqshell.ZMQInteractiveShell object>>\n        magic_name = u'time'\n        magic_arg_s = u'gs.fit(X_train,y_train)'\n   2337 \n   2338     #-------------------------------------------------------------------------\n   2339     # Things related to macros\n   2340     #-------------------------------------------------------------------------\n\n...........................................................................\n/home/kyohei/anaconda2/lib/python2.7/site-packages/IPython/core/interactiveshell.py in run_line_magic(self=<ipykernel.zmqshell.ZMQInteractiveShell object>, magic_name=u'time', line=u'gs.fit(X_train,y_train)')\n   2252             kwargs = {}\n   2253             # Grab local namespace if we need it:\n   2254             if getattr(fn, \"needs_local_scope\", False):\n   2255                 kwargs['local_ns'] = sys._getframe(stack_depth).f_locals\n   2256             with self.builtin_trap:\n-> 2257                 result = fn(*args,**kwargs)\n        result = undefined\n        fn = <bound method ExecutionMagics.time of <IPython.core.magics.execution.ExecutionMagics object>>\n        args = [u'gs.fit(X_train,y_train)']\n        kwargs = {'local_ns': {'GridSearchCV': <class 'sklearn.grid_search.GridSearchCV'>, 'In': ['', u\"import pandas as pd\\nimport numpy as np\\nimpor...s plt\\nget_ipython().magic(u'matplotlib inline')\", u\"train = pd.read_csv('/home/kyohei/kaggle_data/02digit_recognizer/train.csv')\", u\"#if a column's max value is 0,these columns is...lumns\\ntrain_new = train.loc[:,non_zero_columns]\", u'#check columns number\\ntrain_new.shape', u'train_new.head()', u'X = train_new.iloc[:,1:].values\\ny = train_new.iloc[:,0].values', u\"from sklearn.linear_model import LogisticRegre...test score: %.3f') %pipe_lr.score(X_test,y_test)\", u\"from sklearn.linear_model import SGDClassifier...test score: %.3f') %pipe_lr.score(X_test,y_test)\", u'#\\u30c7\\u30fc\\u30bf\\u30bb\\u30c3\\u30c8\\u3092\\u6...form(X_train)\\nX_test_std = sc.transform(X_test)', u'#\\u5171\\u5206\\u6563\\u884c\\u5217\\u3092\\u4f5c\\u6210\\u3059\\u308b\\ncov_mat = np.cov(X_train_std.T)', u\"#\\u5171\\u5206\\u6563\\u884c\\u5217\\u3092\\u56fa\\u6...g(cov_mat)\\nprint('Eogenvals\\\\n%s') % eigen_vals\", u\"#\\u6700\\u3082\\u5927\\u304d\\u3044k\\u500b\\u306e\\u...components')\\nplt.legend(loc='best')\\nplt.show()\", u'#\\u4e0a\\u4f4dk\\u500b\\u306e\\u56fa\\u6709\\u30d9\\u...en(eigen_vals))]\\neigen_pairs.sort(reverse=True)', u'eigen_pairs', u'eigen_pairs[0]', u'eigen_pairs[0].shape', u'eigen_pairs.shape', u'np.array(eigen_pairs).shape', u'np.array(eigen_pairs)[0]', ...], 'KernelPCA': <class 'sklearn.decomposition.kernel_pca.KernelPCA'>, 'LogisticRegression': <class 'sklearn.linear_model.logistic.LogisticRegression'>, 'Out': {4: (42000, 709), 5:    label  pixel12  pixel13  pixel14  pixel15  pi...  0         0         0  \n\n[5 rows x 709 columns], 15: (40.746277958240157, array([  0.00000000e+00,   0.00000000e+00,   0.0...e+00,   0.00000000e+00,\n         0.00000000e+00])), 25: (40.746277958240157, array([  0.00000000e+00,   0.00000000e+00,   0.0...e+00,   0.00000000e+00,\n         0.00000000e+00])), 26: [(40.746277958240157, array([  0.00000000e+00,   0.00000000e+00,   0.0...e+00,   0.00000000e+00,\n         0.00000000e+00])), (29.15283348654792, array([  0.00000000e+00,   0.00000000e+00,   0.0...e+00,   0.00000000e+00,\n         0.00000000e+00])), (26.761331836128068, array([  0.00000000e+00,   0.00000000e+00,   0.0...e+00,   0.00000000e+00,\n         0.00000000e+00]))], 27: [0, 1, 2, 3, 4, 5, 6, 7, 8, 9, 10, 11, 12, 13, 14, 15, 16, 17, 18, 19, ...], 28: 0.0, 30: 40.746277958240157, 32: (40.746277958240157, array([  0.00000000e+00,   0.00000000e+00,   0.0...e+00,   0.00000000e+00,\n         0.00000000e+00])), 33: (0.0, array([ 0.,  0.,  0.,  0.,  0.,  0.,  0.,  0.,  ...,  0.,  0.,  0.,  0.,\n        0.,  0.,  0.,  1.])), ...}, 'PCA': <class 'sklearn.decomposition.pca.PCA'>, 'Pipeline': <class 'sklearn.pipeline.Pipeline'>, 'SGDClassifier': <class 'sklearn.linear_model.stochastic_gradient.SGDClassifier'>, 'StandardScaler': <class 'sklearn.preprocessing.data.StandardScaler'>, 'X':        pixel0  pixel1  pixel2  pixel3  pixel4  p...        0         0  \n\n[42000 rows x 784 columns], ...}}\n   2258             return result\n   2259 \n   2260     def run_cell_magic(self, magic_name, line, cell):\n   2261         \"\"\"Execute the given cell magic.\n\n...........................................................................\n/home/kyohei/kaggle/02digit_recognizer/<decorator-gen-60> in time(self=<IPython.core.magics.execution.ExecutionMagics object>, line=u'gs.fit(X_train,y_train)', cell=None, local_ns={'GridSearchCV': <class 'sklearn.grid_search.GridSearchCV'>, 'In': ['', u\"import pandas as pd\\nimport numpy as np\\nimpor...s plt\\nget_ipython().magic(u'matplotlib inline')\", u\"train = pd.read_csv('/home/kyohei/kaggle_data/02digit_recognizer/train.csv')\", u\"#if a column's max value is 0,these columns is...lumns\\ntrain_new = train.loc[:,non_zero_columns]\", u'#check columns number\\ntrain_new.shape', u'train_new.head()', u'X = train_new.iloc[:,1:].values\\ny = train_new.iloc[:,0].values', u\"from sklearn.linear_model import LogisticRegre...test score: %.3f') %pipe_lr.score(X_test,y_test)\", u\"from sklearn.linear_model import SGDClassifier...test score: %.3f') %pipe_lr.score(X_test,y_test)\", u'#\\u30c7\\u30fc\\u30bf\\u30bb\\u30c3\\u30c8\\u3092\\u6...form(X_train)\\nX_test_std = sc.transform(X_test)', u'#\\u5171\\u5206\\u6563\\u884c\\u5217\\u3092\\u4f5c\\u6210\\u3059\\u308b\\ncov_mat = np.cov(X_train_std.T)', u\"#\\u5171\\u5206\\u6563\\u884c\\u5217\\u3092\\u56fa\\u6...g(cov_mat)\\nprint('Eogenvals\\\\n%s') % eigen_vals\", u\"#\\u6700\\u3082\\u5927\\u304d\\u3044k\\u500b\\u306e\\u...components')\\nplt.legend(loc='best')\\nplt.show()\", u'#\\u4e0a\\u4f4dk\\u500b\\u306e\\u56fa\\u6709\\u30d9\\u...en(eigen_vals))]\\neigen_pairs.sort(reverse=True)', u'eigen_pairs', u'eigen_pairs[0]', u'eigen_pairs[0].shape', u'eigen_pairs.shape', u'np.array(eigen_pairs).shape', u'np.array(eigen_pairs)[0]', ...], 'KernelPCA': <class 'sklearn.decomposition.kernel_pca.KernelPCA'>, 'LogisticRegression': <class 'sklearn.linear_model.logistic.LogisticRegression'>, 'Out': {4: (42000, 709), 5:    label  pixel12  pixel13  pixel14  pixel15  pi...  0         0         0  \n\n[5 rows x 709 columns], 15: (40.746277958240157, array([  0.00000000e+00,   0.00000000e+00,   0.0...e+00,   0.00000000e+00,\n         0.00000000e+00])), 25: (40.746277958240157, array([  0.00000000e+00,   0.00000000e+00,   0.0...e+00,   0.00000000e+00,\n         0.00000000e+00])), 26: [(40.746277958240157, array([  0.00000000e+00,   0.00000000e+00,   0.0...e+00,   0.00000000e+00,\n         0.00000000e+00])), (29.15283348654792, array([  0.00000000e+00,   0.00000000e+00,   0.0...e+00,   0.00000000e+00,\n         0.00000000e+00])), (26.761331836128068, array([  0.00000000e+00,   0.00000000e+00,   0.0...e+00,   0.00000000e+00,\n         0.00000000e+00]))], 27: [0, 1, 2, 3, 4, 5, 6, 7, 8, 9, 10, 11, 12, 13, 14, 15, 16, 17, 18, 19, ...], 28: 0.0, 30: 40.746277958240157, 32: (40.746277958240157, array([  0.00000000e+00,   0.00000000e+00,   0.0...e+00,   0.00000000e+00,\n         0.00000000e+00])), 33: (0.0, array([ 0.,  0.,  0.,  0.,  0.,  0.,  0.,  0.,  ...,  0.,  0.,  0.,  0.,\n        0.,  0.,  0.,  1.])), ...}, 'PCA': <class 'sklearn.decomposition.pca.PCA'>, 'Pipeline': <class 'sklearn.pipeline.Pipeline'>, 'SGDClassifier': <class 'sklearn.linear_model.stochastic_gradient.SGDClassifier'>, 'StandardScaler': <class 'sklearn.preprocessing.data.StandardScaler'>, 'X':        pixel0  pixel1  pixel2  pixel3  pixel4  p...        0         0  \n\n[42000 rows x 784 columns], ...})\n      1 \n----> 2 \n      3 \n      4 \n      5 \n      6 \n      7 \n      8 \n      9 \n     10 \n\n...........................................................................\n/home/kyohei/anaconda2/lib/python2.7/site-packages/IPython/core/magic.py in <lambda>(f=<function time>, *a=(<IPython.core.magics.execution.ExecutionMagics object>, u'gs.fit(X_train,y_train)', None, {'GridSearchCV': <class 'sklearn.grid_search.GridSearchCV'>, 'In': ['', u\"import pandas as pd\\nimport numpy as np\\nimpor...s plt\\nget_ipython().magic(u'matplotlib inline')\", u\"train = pd.read_csv('/home/kyohei/kaggle_data/02digit_recognizer/train.csv')\", u\"#if a column's max value is 0,these columns is...lumns\\ntrain_new = train.loc[:,non_zero_columns]\", u'#check columns number\\ntrain_new.shape', u'train_new.head()', u'X = train_new.iloc[:,1:].values\\ny = train_new.iloc[:,0].values', u\"from sklearn.linear_model import LogisticRegre...test score: %.3f') %pipe_lr.score(X_test,y_test)\", u\"from sklearn.linear_model import SGDClassifier...test score: %.3f') %pipe_lr.score(X_test,y_test)\", u'#\\u30c7\\u30fc\\u30bf\\u30bb\\u30c3\\u30c8\\u3092\\u6...form(X_train)\\nX_test_std = sc.transform(X_test)', u'#\\u5171\\u5206\\u6563\\u884c\\u5217\\u3092\\u4f5c\\u6210\\u3059\\u308b\\ncov_mat = np.cov(X_train_std.T)', u\"#\\u5171\\u5206\\u6563\\u884c\\u5217\\u3092\\u56fa\\u6...g(cov_mat)\\nprint('Eogenvals\\\\n%s') % eigen_vals\", u\"#\\u6700\\u3082\\u5927\\u304d\\u3044k\\u500b\\u306e\\u...components')\\nplt.legend(loc='best')\\nplt.show()\", u'#\\u4e0a\\u4f4dk\\u500b\\u306e\\u56fa\\u6709\\u30d9\\u...en(eigen_vals))]\\neigen_pairs.sort(reverse=True)', u'eigen_pairs', u'eigen_pairs[0]', u'eigen_pairs[0].shape', u'eigen_pairs.shape', u'np.array(eigen_pairs).shape', u'np.array(eigen_pairs)[0]', ...], 'KernelPCA': <class 'sklearn.decomposition.kernel_pca.KernelPCA'>, 'LogisticRegression': <class 'sklearn.linear_model.logistic.LogisticRegression'>, 'Out': {4: (42000, 709), 5:    label  pixel12  pixel13  pixel14  pixel15  pi...  0         0         0  \n\n[5 rows x 709 columns], 15: (40.746277958240157, array([  0.00000000e+00,   0.00000000e+00,   0.0...e+00,   0.00000000e+00,\n         0.00000000e+00])), 25: (40.746277958240157, array([  0.00000000e+00,   0.00000000e+00,   0.0...e+00,   0.00000000e+00,\n         0.00000000e+00])), 26: [(40.746277958240157, array([  0.00000000e+00,   0.00000000e+00,   0.0...e+00,   0.00000000e+00,\n         0.00000000e+00])), (29.15283348654792, array([  0.00000000e+00,   0.00000000e+00,   0.0...e+00,   0.00000000e+00,\n         0.00000000e+00])), (26.761331836128068, array([  0.00000000e+00,   0.00000000e+00,   0.0...e+00,   0.00000000e+00,\n         0.00000000e+00]))], 27: [0, 1, 2, 3, 4, 5, 6, 7, 8, 9, 10, 11, 12, 13, 14, 15, 16, 17, 18, 19, ...], 28: 0.0, 30: 40.746277958240157, 32: (40.746277958240157, array([  0.00000000e+00,   0.00000000e+00,   0.0...e+00,   0.00000000e+00,\n         0.00000000e+00])), 33: (0.0, array([ 0.,  0.,  0.,  0.,  0.,  0.,  0.,  0.,  ...,  0.,  0.,  0.,  0.,\n        0.,  0.,  0.,  1.])), ...}, 'PCA': <class 'sklearn.decomposition.pca.PCA'>, 'Pipeline': <class 'sklearn.pipeline.Pipeline'>, 'SGDClassifier': <class 'sklearn.linear_model.stochastic_gradient.SGDClassifier'>, 'StandardScaler': <class 'sklearn.preprocessing.data.StandardScaler'>, 'X':        pixel0  pixel1  pixel2  pixel3  pixel4  p...        0         0  \n\n[42000 rows x 784 columns], ...}), **k={})\n    188     validate_type(magic_kind)\n    189 \n    190     # This is a closure to capture the magic_kind.  We could also use a class,\n    191     # but it's overkill for just that one bit of state.\n    192     def magic_deco(arg):\n--> 193         call = lambda f, *a, **k: f(*a, **k)\n        f = <function time>\n        a = (<IPython.core.magics.execution.ExecutionMagics object>, u'gs.fit(X_train,y_train)', None, {'GridSearchCV': <class 'sklearn.grid_search.GridSearchCV'>, 'In': ['', u\"import pandas as pd\\nimport numpy as np\\nimpor...s plt\\nget_ipython().magic(u'matplotlib inline')\", u\"train = pd.read_csv('/home/kyohei/kaggle_data/02digit_recognizer/train.csv')\", u\"#if a column's max value is 0,these columns is...lumns\\ntrain_new = train.loc[:,non_zero_columns]\", u'#check columns number\\ntrain_new.shape', u'train_new.head()', u'X = train_new.iloc[:,1:].values\\ny = train_new.iloc[:,0].values', u\"from sklearn.linear_model import LogisticRegre...test score: %.3f') %pipe_lr.score(X_test,y_test)\", u\"from sklearn.linear_model import SGDClassifier...test score: %.3f') %pipe_lr.score(X_test,y_test)\", u'#\\u30c7\\u30fc\\u30bf\\u30bb\\u30c3\\u30c8\\u3092\\u6...form(X_train)\\nX_test_std = sc.transform(X_test)', u'#\\u5171\\u5206\\u6563\\u884c\\u5217\\u3092\\u4f5c\\u6210\\u3059\\u308b\\ncov_mat = np.cov(X_train_std.T)', u\"#\\u5171\\u5206\\u6563\\u884c\\u5217\\u3092\\u56fa\\u6...g(cov_mat)\\nprint('Eogenvals\\\\n%s') % eigen_vals\", u\"#\\u6700\\u3082\\u5927\\u304d\\u3044k\\u500b\\u306e\\u...components')\\nplt.legend(loc='best')\\nplt.show()\", u'#\\u4e0a\\u4f4dk\\u500b\\u306e\\u56fa\\u6709\\u30d9\\u...en(eigen_vals))]\\neigen_pairs.sort(reverse=True)', u'eigen_pairs', u'eigen_pairs[0]', u'eigen_pairs[0].shape', u'eigen_pairs.shape', u'np.array(eigen_pairs).shape', u'np.array(eigen_pairs)[0]', ...], 'KernelPCA': <class 'sklearn.decomposition.kernel_pca.KernelPCA'>, 'LogisticRegression': <class 'sklearn.linear_model.logistic.LogisticRegression'>, 'Out': {4: (42000, 709), 5:    label  pixel12  pixel13  pixel14  pixel15  pi...  0         0         0  \n\n[5 rows x 709 columns], 15: (40.746277958240157, array([  0.00000000e+00,   0.00000000e+00,   0.0...e+00,   0.00000000e+00,\n         0.00000000e+00])), 25: (40.746277958240157, array([  0.00000000e+00,   0.00000000e+00,   0.0...e+00,   0.00000000e+00,\n         0.00000000e+00])), 26: [(40.746277958240157, array([  0.00000000e+00,   0.00000000e+00,   0.0...e+00,   0.00000000e+00,\n         0.00000000e+00])), (29.15283348654792, array([  0.00000000e+00,   0.00000000e+00,   0.0...e+00,   0.00000000e+00,\n         0.00000000e+00])), (26.761331836128068, array([  0.00000000e+00,   0.00000000e+00,   0.0...e+00,   0.00000000e+00,\n         0.00000000e+00]))], 27: [0, 1, 2, 3, 4, 5, 6, 7, 8, 9, 10, 11, 12, 13, 14, 15, 16, 17, 18, 19, ...], 28: 0.0, 30: 40.746277958240157, 32: (40.746277958240157, array([  0.00000000e+00,   0.00000000e+00,   0.0...e+00,   0.00000000e+00,\n         0.00000000e+00])), 33: (0.0, array([ 0.,  0.,  0.,  0.,  0.,  0.,  0.,  0.,  ...,  0.,  0.,  0.,  0.,\n        0.,  0.,  0.,  1.])), ...}, 'PCA': <class 'sklearn.decomposition.pca.PCA'>, 'Pipeline': <class 'sklearn.pipeline.Pipeline'>, 'SGDClassifier': <class 'sklearn.linear_model.stochastic_gradient.SGDClassifier'>, 'StandardScaler': <class 'sklearn.preprocessing.data.StandardScaler'>, 'X':        pixel0  pixel1  pixel2  pixel3  pixel4  p...        0         0  \n\n[42000 rows x 784 columns], ...})\n        k = {}\n    194 \n    195         if callable(arg):\n    196             # \"Naked\" decorator call (just @foo, no args)\n    197             func = arg\n\n...........................................................................\n/home/kyohei/anaconda2/lib/python2.7/site-packages/IPython/core/magics/execution.py in time(self=<IPython.core.magics.execution.ExecutionMagics object>, line=u'gs.fit(X_train,y_train)', cell=None, local_ns={'GridSearchCV': <class 'sklearn.grid_search.GridSearchCV'>, 'In': ['', u\"import pandas as pd\\nimport numpy as np\\nimpor...s plt\\nget_ipython().magic(u'matplotlib inline')\", u\"train = pd.read_csv('/home/kyohei/kaggle_data/02digit_recognizer/train.csv')\", u\"#if a column's max value is 0,these columns is...lumns\\ntrain_new = train.loc[:,non_zero_columns]\", u'#check columns number\\ntrain_new.shape', u'train_new.head()', u'X = train_new.iloc[:,1:].values\\ny = train_new.iloc[:,0].values', u\"from sklearn.linear_model import LogisticRegre...test score: %.3f') %pipe_lr.score(X_test,y_test)\", u\"from sklearn.linear_model import SGDClassifier...test score: %.3f') %pipe_lr.score(X_test,y_test)\", u'#\\u30c7\\u30fc\\u30bf\\u30bb\\u30c3\\u30c8\\u3092\\u6...form(X_train)\\nX_test_std = sc.transform(X_test)', u'#\\u5171\\u5206\\u6563\\u884c\\u5217\\u3092\\u4f5c\\u6210\\u3059\\u308b\\ncov_mat = np.cov(X_train_std.T)', u\"#\\u5171\\u5206\\u6563\\u884c\\u5217\\u3092\\u56fa\\u6...g(cov_mat)\\nprint('Eogenvals\\\\n%s') % eigen_vals\", u\"#\\u6700\\u3082\\u5927\\u304d\\u3044k\\u500b\\u306e\\u...components')\\nplt.legend(loc='best')\\nplt.show()\", u'#\\u4e0a\\u4f4dk\\u500b\\u306e\\u56fa\\u6709\\u30d9\\u...en(eigen_vals))]\\neigen_pairs.sort(reverse=True)', u'eigen_pairs', u'eigen_pairs[0]', u'eigen_pairs[0].shape', u'eigen_pairs.shape', u'np.array(eigen_pairs).shape', u'np.array(eigen_pairs)[0]', ...], 'KernelPCA': <class 'sklearn.decomposition.kernel_pca.KernelPCA'>, 'LogisticRegression': <class 'sklearn.linear_model.logistic.LogisticRegression'>, 'Out': {4: (42000, 709), 5:    label  pixel12  pixel13  pixel14  pixel15  pi...  0         0         0  \n\n[5 rows x 709 columns], 15: (40.746277958240157, array([  0.00000000e+00,   0.00000000e+00,   0.0...e+00,   0.00000000e+00,\n         0.00000000e+00])), 25: (40.746277958240157, array([  0.00000000e+00,   0.00000000e+00,   0.0...e+00,   0.00000000e+00,\n         0.00000000e+00])), 26: [(40.746277958240157, array([  0.00000000e+00,   0.00000000e+00,   0.0...e+00,   0.00000000e+00,\n         0.00000000e+00])), (29.15283348654792, array([  0.00000000e+00,   0.00000000e+00,   0.0...e+00,   0.00000000e+00,\n         0.00000000e+00])), (26.761331836128068, array([  0.00000000e+00,   0.00000000e+00,   0.0...e+00,   0.00000000e+00,\n         0.00000000e+00]))], 27: [0, 1, 2, 3, 4, 5, 6, 7, 8, 9, 10, 11, 12, 13, 14, 15, 16, 17, 18, 19, ...], 28: 0.0, 30: 40.746277958240157, 32: (40.746277958240157, array([  0.00000000e+00,   0.00000000e+00,   0.0...e+00,   0.00000000e+00,\n         0.00000000e+00])), 33: (0.0, array([ 0.,  0.,  0.,  0.,  0.,  0.,  0.,  0.,  ...,  0.,  0.,  0.,  0.,\n        0.,  0.,  0.,  1.])), ...}, 'PCA': <class 'sklearn.decomposition.pca.PCA'>, 'Pipeline': <class 'sklearn.pipeline.Pipeline'>, 'SGDClassifier': <class 'sklearn.linear_model.stochastic_gradient.SGDClassifier'>, 'StandardScaler': <class 'sklearn.preprocessing.data.StandardScaler'>, 'X':        pixel0  pixel1  pixel2  pixel3  pixel4  p...        0         0  \n\n[42000 rows x 784 columns], ...})\n   1158         wtime = time.time\n   1159         # time execution\n   1160         wall_st = wtime()\n   1161         if mode=='eval':\n   1162             st = clock2()\n-> 1163             out = eval(code, glob, local_ns)\n        out = undefined\n        code = <code object <module> at 0x7f04032157b0, file \"<timed eval>\", line 1>\n        glob = {'GridSearchCV': <class 'sklearn.grid_search.GridSearchCV'>, 'In': ['', u\"import pandas as pd\\nimport numpy as np\\nimpor...s plt\\nget_ipython().magic(u'matplotlib inline')\", u\"train = pd.read_csv('/home/kyohei/kaggle_data/02digit_recognizer/train.csv')\", u\"#if a column's max value is 0,these columns is...lumns\\ntrain_new = train.loc[:,non_zero_columns]\", u'#check columns number\\ntrain_new.shape', u'train_new.head()', u'X = train_new.iloc[:,1:].values\\ny = train_new.iloc[:,0].values', u\"from sklearn.linear_model import LogisticRegre...test score: %.3f') %pipe_lr.score(X_test,y_test)\", u\"from sklearn.linear_model import SGDClassifier...test score: %.3f') %pipe_lr.score(X_test,y_test)\", u'#\\u30c7\\u30fc\\u30bf\\u30bb\\u30c3\\u30c8\\u3092\\u6...form(X_train)\\nX_test_std = sc.transform(X_test)', u'#\\u5171\\u5206\\u6563\\u884c\\u5217\\u3092\\u4f5c\\u6210\\u3059\\u308b\\ncov_mat = np.cov(X_train_std.T)', u\"#\\u5171\\u5206\\u6563\\u884c\\u5217\\u3092\\u56fa\\u6...g(cov_mat)\\nprint('Eogenvals\\\\n%s') % eigen_vals\", u\"#\\u6700\\u3082\\u5927\\u304d\\u3044k\\u500b\\u306e\\u...components')\\nplt.legend(loc='best')\\nplt.show()\", u'#\\u4e0a\\u4f4dk\\u500b\\u306e\\u56fa\\u6709\\u30d9\\u...en(eigen_vals))]\\neigen_pairs.sort(reverse=True)', u'eigen_pairs', u'eigen_pairs[0]', u'eigen_pairs[0].shape', u'eigen_pairs.shape', u'np.array(eigen_pairs).shape', u'np.array(eigen_pairs)[0]', ...], 'KernelPCA': <class 'sklearn.decomposition.kernel_pca.KernelPCA'>, 'LogisticRegression': <class 'sklearn.linear_model.logistic.LogisticRegression'>, 'Out': {4: (42000, 709), 5:    label  pixel12  pixel13  pixel14  pixel15  pi...  0         0         0  \n\n[5 rows x 709 columns], 15: (40.746277958240157, array([  0.00000000e+00,   0.00000000e+00,   0.0...e+00,   0.00000000e+00,\n         0.00000000e+00])), 25: (40.746277958240157, array([  0.00000000e+00,   0.00000000e+00,   0.0...e+00,   0.00000000e+00,\n         0.00000000e+00])), 26: [(40.746277958240157, array([  0.00000000e+00,   0.00000000e+00,   0.0...e+00,   0.00000000e+00,\n         0.00000000e+00])), (29.15283348654792, array([  0.00000000e+00,   0.00000000e+00,   0.0...e+00,   0.00000000e+00,\n         0.00000000e+00])), (26.761331836128068, array([  0.00000000e+00,   0.00000000e+00,   0.0...e+00,   0.00000000e+00,\n         0.00000000e+00]))], 27: [0, 1, 2, 3, 4, 5, 6, 7, 8, 9, 10, 11, 12, 13, 14, 15, 16, 17, 18, 19, ...], 28: 0.0, 30: 40.746277958240157, 32: (40.746277958240157, array([  0.00000000e+00,   0.00000000e+00,   0.0...e+00,   0.00000000e+00,\n         0.00000000e+00])), 33: (0.0, array([ 0.,  0.,  0.,  0.,  0.,  0.,  0.,  0.,  ...,  0.,  0.,  0.,  0.,\n        0.,  0.,  0.,  1.])), ...}, 'PCA': <class 'sklearn.decomposition.pca.PCA'>, 'Pipeline': <class 'sklearn.pipeline.Pipeline'>, 'SGDClassifier': <class 'sklearn.linear_model.stochastic_gradient.SGDClassifier'>, 'StandardScaler': <class 'sklearn.preprocessing.data.StandardScaler'>, 'X':        pixel0  pixel1  pixel2  pixel3  pixel4  p...        0         0  \n\n[42000 rows x 784 columns], ...}\n        local_ns = {'GridSearchCV': <class 'sklearn.grid_search.GridSearchCV'>, 'In': ['', u\"import pandas as pd\\nimport numpy as np\\nimpor...s plt\\nget_ipython().magic(u'matplotlib inline')\", u\"train = pd.read_csv('/home/kyohei/kaggle_data/02digit_recognizer/train.csv')\", u\"#if a column's max value is 0,these columns is...lumns\\ntrain_new = train.loc[:,non_zero_columns]\", u'#check columns number\\ntrain_new.shape', u'train_new.head()', u'X = train_new.iloc[:,1:].values\\ny = train_new.iloc[:,0].values', u\"from sklearn.linear_model import LogisticRegre...test score: %.3f') %pipe_lr.score(X_test,y_test)\", u\"from sklearn.linear_model import SGDClassifier...test score: %.3f') %pipe_lr.score(X_test,y_test)\", u'#\\u30c7\\u30fc\\u30bf\\u30bb\\u30c3\\u30c8\\u3092\\u6...form(X_train)\\nX_test_std = sc.transform(X_test)', u'#\\u5171\\u5206\\u6563\\u884c\\u5217\\u3092\\u4f5c\\u6210\\u3059\\u308b\\ncov_mat = np.cov(X_train_std.T)', u\"#\\u5171\\u5206\\u6563\\u884c\\u5217\\u3092\\u56fa\\u6...g(cov_mat)\\nprint('Eogenvals\\\\n%s') % eigen_vals\", u\"#\\u6700\\u3082\\u5927\\u304d\\u3044k\\u500b\\u306e\\u...components')\\nplt.legend(loc='best')\\nplt.show()\", u'#\\u4e0a\\u4f4dk\\u500b\\u306e\\u56fa\\u6709\\u30d9\\u...en(eigen_vals))]\\neigen_pairs.sort(reverse=True)', u'eigen_pairs', u'eigen_pairs[0]', u'eigen_pairs[0].shape', u'eigen_pairs.shape', u'np.array(eigen_pairs).shape', u'np.array(eigen_pairs)[0]', ...], 'KernelPCA': <class 'sklearn.decomposition.kernel_pca.KernelPCA'>, 'LogisticRegression': <class 'sklearn.linear_model.logistic.LogisticRegression'>, 'Out': {4: (42000, 709), 5:    label  pixel12  pixel13  pixel14  pixel15  pi...  0         0         0  \n\n[5 rows x 709 columns], 15: (40.746277958240157, array([  0.00000000e+00,   0.00000000e+00,   0.0...e+00,   0.00000000e+00,\n         0.00000000e+00])), 25: (40.746277958240157, array([  0.00000000e+00,   0.00000000e+00,   0.0...e+00,   0.00000000e+00,\n         0.00000000e+00])), 26: [(40.746277958240157, array([  0.00000000e+00,   0.00000000e+00,   0.0...e+00,   0.00000000e+00,\n         0.00000000e+00])), (29.15283348654792, array([  0.00000000e+00,   0.00000000e+00,   0.0...e+00,   0.00000000e+00,\n         0.00000000e+00])), (26.761331836128068, array([  0.00000000e+00,   0.00000000e+00,   0.0...e+00,   0.00000000e+00,\n         0.00000000e+00]))], 27: [0, 1, 2, 3, 4, 5, 6, 7, 8, 9, 10, 11, 12, 13, 14, 15, 16, 17, 18, 19, ...], 28: 0.0, 30: 40.746277958240157, 32: (40.746277958240157, array([  0.00000000e+00,   0.00000000e+00,   0.0...e+00,   0.00000000e+00,\n         0.00000000e+00])), 33: (0.0, array([ 0.,  0.,  0.,  0.,  0.,  0.,  0.,  0.,  ...,  0.,  0.,  0.,  0.,\n        0.,  0.,  0.,  1.])), ...}, 'PCA': <class 'sklearn.decomposition.pca.PCA'>, 'Pipeline': <class 'sklearn.pipeline.Pipeline'>, 'SGDClassifier': <class 'sklearn.linear_model.stochastic_gradient.SGDClassifier'>, 'StandardScaler': <class 'sklearn.preprocessing.data.StandardScaler'>, 'X':        pixel0  pixel1  pixel2  pixel3  pixel4  p...        0         0  \n\n[42000 rows x 784 columns], ...}\n   1164             end = clock2()\n   1165         else:\n   1166             st = clock2()\n   1167             exec(code, glob, local_ns)\n\n...........................................................................\n/home/kyohei/kaggle/02digit_recognizer/<timed eval> in <module>()\n----> 1 \n      2 \n      3 \n      4 \n      5 \n      6 \n      7 \n      8 \n      9 \n     10 \n\n...........................................................................\n/home/kyohei/anaconda2/lib/python2.7/site-packages/sklearn/grid_search.py in fit(self=GridSearchCV(cv=5, error_score='raise',\n       e...jobs', refit=True, scoring='accuracy', verbose=0), X=       pixel0  pixel1  pixel2  pixel3  pixel4  p...        0         0  \n\n[29400 rows x 784 columns], y=32141    8\n10895    6\n2087     8\n35565    5\n4351...2\n12172    1\n33003    1\nName: label, dtype: int64)\n    799         y : array-like, shape = [n_samples] or [n_samples, n_output], optional\n    800             Target relative to X for classification or regression;\n    801             None for unsupervised learning.\n    802 \n    803         \"\"\"\n--> 804         return self._fit(X, y, ParameterGrid(self.param_grid))\n        self._fit = <bound method GridSearchCV._fit of GridSearchCV(...obs', refit=True, scoring='accuracy', verbose=0)>\n        X =        pixel0  pixel1  pixel2  pixel3  pixel4  p...        0         0  \n\n[29400 rows x 784 columns]\n        y = 32141    8\n10895    6\n2087     8\n35565    5\n4351...2\n12172    1\n33003    1\nName: label, dtype: int64\n        self.param_grid = [{'clf__alpha': [0.001, 0.01, 0.1, 1.0, 10], 'clf__penalty': ['l1'], 'pca__gamma': [0.1, 1.0, 10.0]}, {'clf__alpha': [0.001, 0.01, 0.1, 1.0, 10], 'clf__penalty': ['l2'], 'pca__gamma': [0.1, 1.0, 10.0]}]\n    805 \n    806 \n    807 class RandomizedSearchCV(BaseSearchCV):\n    808     \"\"\"Randomized search on hyper parameters.\n\n...........................................................................\n/home/kyohei/anaconda2/lib/python2.7/site-packages/sklearn/grid_search.py in _fit(self=GridSearchCV(cv=5, error_score='raise',\n       e...jobs', refit=True, scoring='accuracy', verbose=0), X=       pixel0  pixel1  pixel2  pixel3  pixel4  p...        0         0  \n\n[29400 rows x 784 columns], y=32141    8\n10895    6\n2087     8\n35565    5\n4351...2\n12172    1\n33003    1\nName: label, dtype: int64, parameter_iterable=<sklearn.grid_search.ParameterGrid object>)\n    548         )(\n    549             delayed(_fit_and_score)(clone(base_estimator), X, y, self.scorer_,\n    550                                     train, test, self.verbose, parameters,\n    551                                     self.fit_params, return_parameters=True,\n    552                                     error_score=self.error_score)\n--> 553                 for parameters in parameter_iterable\n        parameters = undefined\n        parameter_iterable = <sklearn.grid_search.ParameterGrid object>\n    554                 for train, test in cv)\n    555 \n    556         # Out is a list of triplet: score, estimator, n_test_samples\n    557         n_fits = len(out)\n\n...........................................................................\n/home/kyohei/anaconda2/lib/python2.7/site-packages/sklearn/externals/joblib/parallel.py in __call__(self=Parallel(n_jobs=-1), iterable=<generator object <genexpr>>)\n    807             if pre_dispatch == \"all\" or n_jobs == 1:\n    808                 # The iterable was consumed all at once by the above for loop.\n    809                 # No need to wait for async callbacks to trigger to\n    810                 # consumption.\n    811                 self._iterating = False\n--> 812             self.retrieve()\n        self.retrieve = <bound method Parallel.retrieve of Parallel(n_jobs=-1)>\n    813             # Make sure that we get a last message telling us we are done\n    814             elapsed_time = time.time() - self._start_time\n    815             self._print('Done %3i out of %3i | elapsed: %s finished',\n    816                         (len(self._output), len(self._output),\n\n---------------------------------------------------------------------------\nSub-process traceback:\n---------------------------------------------------------------------------\nMemoryError                                        Mon Oct 17 00:33:09 2016\nPID: 7896                  Python 2.7.12: /home/kyohei/anaconda2/bin/python\n...........................................................................\n/home/kyohei/anaconda2/lib/python2.7/site-packages/sklearn/externals/joblib/parallel.pyc in __call__(self=<sklearn.externals.joblib.parallel.BatchedCalls object>)\n     67     def __init__(self, iterator_slice):\n     68         self.items = list(iterator_slice)\n     69         self._size = len(self.items)\n     70 \n     71     def __call__(self):\n---> 72         return [func(*args, **kwargs) for func, args, kwargs in self.items]\n     73 \n     74     def __len__(self):\n     75         return self._size\n     76 \n\n...........................................................................\n/home/kyohei/anaconda2/lib/python2.7/site-packages/sklearn/cross_validation.pyc in _fit_and_score(estimator=Pipeline(steps=[('scl', StandardScaler(copy=True...ffle=True,\n       verbose=0, warm_start=False))]), X=       pixel0  pixel1  pixel2  pixel3  pixel4  p...        0         0  \n\n[29400 rows x 784 columns], y=32141    8\n10895    6\n2087     8\n35565    5\n4351...2\n12172    1\n33003    1\nName: label, dtype: int64, scorer=make_scorer(accuracy_score), train=array([ 5664,  5666,  5681, ..., 29397, 29398, 29399]), test=array([   0,    1,    2, ..., 6167, 6190, 6195]), verbose=0, parameters={'clf__alpha': 0.001, 'clf__penalty': 'l1', 'pca__gamma': 0.1}, fit_params={}, return_train_score=False, return_parameters=True, error_score='raise')\n   1526 \n   1527     try:\n   1528         if y_train is None:\n   1529             estimator.fit(X_train, **fit_params)\n   1530         else:\n-> 1531             estimator.fit(X_train, y_train, **fit_params)\n   1532 \n   1533     except Exception as e:\n   1534         if error_score == 'raise':\n   1535             raise\n\n...........................................................................\n/home/kyohei/anaconda2/lib/python2.7/site-packages/sklearn/pipeline.pyc in fit(self=Pipeline(steps=[('scl', StandardScaler(copy=True...ffle=True,\n       verbose=0, warm_start=False))]), X=       pixel0  pixel1  pixel2  pixel3  pixel4  p...        0         0  \n\n[23518 rows x 784 columns], y=21201    0\n19928    0\n8903     0\n7449     0\n2445...2\n12172    1\n33003    1\nName: label, dtype: int64, **fit_params={})\n    159             pipeline.\n    160         y : iterable, default=None\n    161             Training targets. Must fulfill label requirements for all steps of\n    162             the pipeline.\n    163         \"\"\"\n--> 164         Xt, fit_params = self._pre_transform(X, y, **fit_params)\n    165         self.steps[-1][-1].fit(Xt, y, **fit_params)\n    166         return self\n    167 \n    168     def fit_transform(self, X, y=None, **fit_params):\n\n...........................................................................\n/home/kyohei/anaconda2/lib/python2.7/site-packages/sklearn/pipeline.pyc in _pre_transform(self=Pipeline(steps=[('scl', StandardScaler(copy=True...ffle=True,\n       verbose=0, warm_start=False))]), X=       pixel0  pixel1  pixel2  pixel3  pixel4  p...        0         0  \n\n[23518 rows x 784 columns], y=21201    0\n19928    0\n8903     0\n7449     0\n2445...2\n12172    1\n33003    1\nName: label, dtype: int64, **fit_params={})\n    140             step, param = pname.split('__', 1)\n    141             fit_params_steps[step][param] = pval\n    142         Xt = X\n    143         for name, transform in self.steps[:-1]:\n    144             if hasattr(transform, \"fit_transform\"):\n--> 145                 Xt = transform.fit_transform(Xt, y, **fit_params_steps[name])\n        step = undefined\n    146             else:\n    147                 Xt = transform.fit(Xt, y, **fit_params_steps[name]) \\\n    148                               .transform(Xt)\n    149         return Xt, fit_params_steps[self.steps[-1][0]]\n\n...........................................................................\n/home/kyohei/anaconda2/lib/python2.7/site-packages/sklearn/decomposition/kernel_pca.pyc in fit_transform(self=KernelPCA(alpha=1.0, coef0=1, degree=3, eigen_so...omponents=150,\n     remove_zero_eig=False, tol=0), X=array([[ 0.,  0.,  0., ...,  0.,  0.,  0.],\n    ...0.],\n       [ 0.,  0.,  0., ...,  0.,  0.,  0.]]), y=21201    0\n19928    0\n8903     0\n7449     0\n2445...2\n12172    1\n33003    1\nName: label, dtype: int64, **params={})\n    221 \n    222         Returns\n    223         -------\n    224         X_new: array-like, shape (n_samples, n_components)\n    225         \"\"\"\n--> 226         self.fit(X, **params)\n    227 \n    228         X_transformed = self.alphas_ * np.sqrt(self.lambdas_)\n    229 \n    230         if self.fit_inverse_transform:\n\n...........................................................................\n/home/kyohei/anaconda2/lib/python2.7/site-packages/sklearn/decomposition/kernel_pca.pyc in fit(self=KernelPCA(alpha=1.0, coef0=1, degree=3, eigen_so...omponents=150,\n     remove_zero_eig=False, tol=0), X=array([[ 0.,  0.,  0., ...,  0.,  0.,  0.],\n    ...0.],\n       [ 0.,  0.,  0., ...,  0.,  0.,  0.]]), y=None)\n    197         Returns\n    198         -------\n    199         self : object\n    200             Returns the instance itself.\n    201         \"\"\"\n--> 202         K = self._get_kernel(X)\n    203         self._fit_transform(K)\n    204 \n    205         if self.fit_inverse_transform:\n    206             sqrt_lambdas = np.diag(np.sqrt(self.lambdas_))\n\n...........................................................................\n/home/kyohei/anaconda2/lib/python2.7/site-packages/sklearn/decomposition/kernel_pca.pyc in _get_kernel(self=KernelPCA(alpha=1.0, coef0=1, degree=3, eigen_so...omponents=150,\n     remove_zero_eig=False, tol=0), X=array([[ 0.,  0.,  0., ...,  0.,  0.,  0.],\n    ...0.],\n       [ 0.,  0.,  0., ...,  0.,  0.,  0.]]), Y=None)\n    130         else:\n    131             params = {\"gamma\": self.gamma,\n    132                       \"degree\": self.degree,\n    133                       \"coef0\": self.coef0}\n    134         return pairwise_kernels(X, Y, metric=self.kernel,\n--> 135                                 filter_params=True, **params)\n        X.Parameters = undefined\n        X = array([[ 0.,  0.,  0., ...,  0.,  0.,  0.],\n    ...0.],\n       [ 0.,  0.,  0., ...,  0.,  0.,  0.]])\n        self = KernelPCA(alpha=1.0, coef0=1, degree=3, eigen_so...omponents=150,\n     remove_zero_eig=False, tol=0)\n    136 \n    137     def _fit_transform(self, K):\n    138         \"\"\" Fit's using kernel K\"\"\"\n    139         # center kernel\n\n...........................................................................\n/home/kyohei/anaconda2/lib/python2.7/site-packages/sklearn/metrics/pairwise.pyc in pairwise_kernels(X=array([[ 0.,  0.,  0., ...,  0.,  0.,  0.],\n    ...0.],\n       [ 0.,  0.,  0., ...,  0.,  0.,  0.]]), Y=None, metric='rbf', filter_params=True, n_jobs=1, **kwds={'gamma': 0.1})\n   1342     elif callable(metric):\n   1343         func = partial(_pairwise_callable, metric=metric, **kwds)\n   1344     else:\n   1345         raise ValueError(\"Unknown kernel %r\" % metric)\n   1346 \n-> 1347     return _parallel_pairwise(X, Y, func, n_jobs, **kwds)\n   1348 \n   1349 \n   1350 \n   1351 \n\n...........................................................................\n/home/kyohei/anaconda2/lib/python2.7/site-packages/sklearn/metrics/pairwise.pyc in _parallel_pairwise(X=array([[ 0.,  0.,  0., ...,  0.,  0.,  0.],\n    ...0.],\n       [ 0.,  0.,  0., ...,  0.,  0.,  0.]]), Y=array([[ 0.,  0.,  0., ...,  0.,  0.,  0.],\n    ...0.],\n       [ 0.,  0.,  0., ...,  0.,  0.,  0.]]), func=<function rbf_kernel>, n_jobs=1, **kwds={'gamma': 0.1})\n   1049     if Y is None:\n   1050         Y = X\n   1051 \n   1052     if n_jobs == 1:\n   1053         # Special case to avoid picklability checks in delayed\n-> 1054         return func(X, Y, **kwds)\n   1055 \n   1056     # TODO: in some cases, backend='threading' may be appropriate\n   1057     fd = delayed(func)\n   1058     ret = Parallel(n_jobs=n_jobs, verbose=0)(\n\n...........................................................................\n/home/kyohei/anaconda2/lib/python2.7/site-packages/sklearn/metrics/pairwise.pyc in rbf_kernel(X=array([[ 0.,  0.,  0., ...,  0.,  0.,  0.],\n    ...0.],\n       [ 0.,  0.,  0., ...,  0.,  0.,  0.]]), Y=array([[ 0.,  0.,  0., ...,  0.,  0.,  0.],\n    ...0.],\n       [ 0.,  0.,  0., ...,  0.,  0.,  0.]]), gamma=0.1)\n    804     \"\"\"\n    805     X, Y = check_pairwise_arrays(X, Y)\n    806     if gamma is None:\n    807         gamma = 1.0 / X.shape[1]\n    808 \n--> 809     K = euclidean_distances(X, Y, squared=True)\n        X = array([[ 0.,  0.,  0., ...,  0.,  0.,  0.],\n    ...0.],\n       [ 0.,  0.,  0., ...,  0.,  0.,  0.]])\n        Y.This = undefined\n        Y = array([[ 0.,  0.,  0., ...,  0.,  0.,  0.],\n    ...0.],\n       [ 0.,  0.,  0., ...,  0.,  0.,  0.]])\n        Y.Valid = undefined\n        K = undefined\n        Y.Notes = undefined\n    810     K *= -gamma\n    811     np.exp(K, K)    # exponentiate K in-place\n    812     return K\n    813 \n\n...........................................................................\n/home/kyohei/anaconda2/lib/python2.7/site-packages/sklearn/metrics/pairwise.pyc in euclidean_distances(X=array([[ 0.,  0.,  0., ...,  0.,  0.,  0.],\n    ...0.],\n       [ 0.,  0.,  0., ...,  0.,  0.,  0.]]), Y=array([[ 0.,  0.,  0., ...,  0.,  0.,  0.],\n    ...0.],\n       [ 0.,  0.,  0., ...,  0.,  0.,  0.]]), Y_norm_squared=None, squared=True, X_norm_squared=None)\n    226             raise ValueError(\n    227                 \"Incompatible dimensions for Y and Y_norm_squared\")\n    228     else:\n    229         YY = row_norms(Y, squared=True)[np.newaxis, :]\n    230 \n--> 231     distances = safe_sparse_dot(X, Y.T, dense_output=True)\n    232     distances *= -2\n    233     distances += XX\n    234     distances += YY\n    235     np.maximum(distances, 0, out=distances)\n\n...........................................................................\n/home/kyohei/anaconda2/lib/python2.7/site-packages/sklearn/utils/extmath.pyc in safe_sparse_dot(a=array([[ 0.,  0.,  0., ...,  0.,  0.,  0.],\n    ...0.],\n       [ 0.,  0.,  0., ...,  0.,  0.,  0.]]), b=array([[ 0.,  0.,  0., ...,  0.,  0.,  0.],\n    ...0.],\n       [ 0.,  0.,  0., ...,  0.,  0.,  0.]]), dense_output=True)\n    179         ret = a * b\n    180         if dense_output and hasattr(ret, \"toarray\"):\n    181             ret = ret.toarray()\n    182         return ret\n    183     else:\n--> 184         return fast_dot(a, b)\n    185 \n    186 \n    187 def randomized_range_finder(A, size, n_iter, random_state=None):\n    188     \"\"\"Computes an orthonormal matrix whose range approximates the range of A.\n\nMemoryError: \n___________________________________________________________________________",
     "output_type": "error",
     "traceback": [
      "\u001b[1;31m---------------------------------------------------------------------------\u001b[0m",
      "\u001b[1;31mJoblibMemoryError\u001b[0m                         Traceback (most recent call last)",
      "\u001b[1;32m<ipython-input-67-22263e16e5ae>\u001b[0m in \u001b[0;36m<module>\u001b[1;34m()\u001b[0m\n\u001b[0;32m     11\u001b[0m                  \u001b[0mcv\u001b[0m\u001b[1;33m=\u001b[0m\u001b[1;36m5\u001b[0m\u001b[1;33m,\u001b[0m\u001b[1;33m\u001b[0m\u001b[0m\n\u001b[0;32m     12\u001b[0m                  n_jobs=-1)\n\u001b[1;32m---> 13\u001b[1;33m \u001b[0mget_ipython\u001b[0m\u001b[1;33m(\u001b[0m\u001b[1;33m)\u001b[0m\u001b[1;33m.\u001b[0m\u001b[0mmagic\u001b[0m\u001b[1;33m(\u001b[0m\u001b[1;34mu'time gs.fit(X_train,y_train)'\u001b[0m\u001b[1;33m)\u001b[0m\u001b[1;33m\u001b[0m\u001b[0m\n\u001b[0m\u001b[0;32m     14\u001b[0m \u001b[1;33m\u001b[0m\u001b[0m\n\u001b[0;32m     15\u001b[0m \u001b[1;32mprint\u001b[0m\u001b[1;33m(\u001b[0m\u001b[1;34m'best score: %.3f'\u001b[0m\u001b[1;33m)\u001b[0m \u001b[1;33m%\u001b[0m \u001b[0mgs\u001b[0m\u001b[1;33m.\u001b[0m\u001b[0mbest_score_\u001b[0m\u001b[1;33m\u001b[0m\u001b[0m\n",
      "\u001b[1;32m/home/kyohei/anaconda2/lib/python2.7/site-packages/IPython/core/interactiveshell.pyc\u001b[0m in \u001b[0;36mmagic\u001b[1;34m(self, arg_s)\u001b[0m\n\u001b[0;32m   2334\u001b[0m         \u001b[0mmagic_name\u001b[0m\u001b[1;33m,\u001b[0m \u001b[0m_\u001b[0m\u001b[1;33m,\u001b[0m \u001b[0mmagic_arg_s\u001b[0m \u001b[1;33m=\u001b[0m \u001b[0marg_s\u001b[0m\u001b[1;33m.\u001b[0m\u001b[0mpartition\u001b[0m\u001b[1;33m(\u001b[0m\u001b[1;34m' '\u001b[0m\u001b[1;33m)\u001b[0m\u001b[1;33m\u001b[0m\u001b[0m\n\u001b[0;32m   2335\u001b[0m         \u001b[0mmagic_name\u001b[0m \u001b[1;33m=\u001b[0m \u001b[0mmagic_name\u001b[0m\u001b[1;33m.\u001b[0m\u001b[0mlstrip\u001b[0m\u001b[1;33m(\u001b[0m\u001b[0mprefilter\u001b[0m\u001b[1;33m.\u001b[0m\u001b[0mESC_MAGIC\u001b[0m\u001b[1;33m)\u001b[0m\u001b[1;33m\u001b[0m\u001b[0m\n\u001b[1;32m-> 2336\u001b[1;33m         \u001b[1;32mreturn\u001b[0m \u001b[0mself\u001b[0m\u001b[1;33m.\u001b[0m\u001b[0mrun_line_magic\u001b[0m\u001b[1;33m(\u001b[0m\u001b[0mmagic_name\u001b[0m\u001b[1;33m,\u001b[0m \u001b[0mmagic_arg_s\u001b[0m\u001b[1;33m)\u001b[0m\u001b[1;33m\u001b[0m\u001b[0m\n\u001b[0m\u001b[0;32m   2337\u001b[0m \u001b[1;33m\u001b[0m\u001b[0m\n\u001b[0;32m   2338\u001b[0m     \u001b[1;31m#-------------------------------------------------------------------------\u001b[0m\u001b[1;33m\u001b[0m\u001b[1;33m\u001b[0m\u001b[0m\n",
      "\u001b[1;32m/home/kyohei/anaconda2/lib/python2.7/site-packages/IPython/core/interactiveshell.pyc\u001b[0m in \u001b[0;36mrun_line_magic\u001b[1;34m(self, magic_name, line)\u001b[0m\n\u001b[0;32m   2255\u001b[0m                 \u001b[0mkwargs\u001b[0m\u001b[1;33m[\u001b[0m\u001b[1;34m'local_ns'\u001b[0m\u001b[1;33m]\u001b[0m \u001b[1;33m=\u001b[0m \u001b[0msys\u001b[0m\u001b[1;33m.\u001b[0m\u001b[0m_getframe\u001b[0m\u001b[1;33m(\u001b[0m\u001b[0mstack_depth\u001b[0m\u001b[1;33m)\u001b[0m\u001b[1;33m.\u001b[0m\u001b[0mf_locals\u001b[0m\u001b[1;33m\u001b[0m\u001b[0m\n\u001b[0;32m   2256\u001b[0m             \u001b[1;32mwith\u001b[0m \u001b[0mself\u001b[0m\u001b[1;33m.\u001b[0m\u001b[0mbuiltin_trap\u001b[0m\u001b[1;33m:\u001b[0m\u001b[1;33m\u001b[0m\u001b[0m\n\u001b[1;32m-> 2257\u001b[1;33m                 \u001b[0mresult\u001b[0m \u001b[1;33m=\u001b[0m \u001b[0mfn\u001b[0m\u001b[1;33m(\u001b[0m\u001b[1;33m*\u001b[0m\u001b[0margs\u001b[0m\u001b[1;33m,\u001b[0m\u001b[1;33m**\u001b[0m\u001b[0mkwargs\u001b[0m\u001b[1;33m)\u001b[0m\u001b[1;33m\u001b[0m\u001b[0m\n\u001b[0m\u001b[0;32m   2258\u001b[0m             \u001b[1;32mreturn\u001b[0m \u001b[0mresult\u001b[0m\u001b[1;33m\u001b[0m\u001b[0m\n\u001b[0;32m   2259\u001b[0m \u001b[1;33m\u001b[0m\u001b[0m\n",
      "\u001b[1;32m<decorator-gen-60>\u001b[0m in \u001b[0;36mtime\u001b[1;34m(self, line, cell, local_ns)\u001b[0m\n",
      "\u001b[1;32m/home/kyohei/anaconda2/lib/python2.7/site-packages/IPython/core/magic.pyc\u001b[0m in \u001b[0;36m<lambda>\u001b[1;34m(f, *a, **k)\u001b[0m\n\u001b[0;32m    191\u001b[0m     \u001b[1;31m# but it's overkill for just that one bit of state.\u001b[0m\u001b[1;33m\u001b[0m\u001b[1;33m\u001b[0m\u001b[0m\n\u001b[0;32m    192\u001b[0m     \u001b[1;32mdef\u001b[0m \u001b[0mmagic_deco\u001b[0m\u001b[1;33m(\u001b[0m\u001b[0marg\u001b[0m\u001b[1;33m)\u001b[0m\u001b[1;33m:\u001b[0m\u001b[1;33m\u001b[0m\u001b[0m\n\u001b[1;32m--> 193\u001b[1;33m         \u001b[0mcall\u001b[0m \u001b[1;33m=\u001b[0m \u001b[1;32mlambda\u001b[0m \u001b[0mf\u001b[0m\u001b[1;33m,\u001b[0m \u001b[1;33m*\u001b[0m\u001b[0ma\u001b[0m\u001b[1;33m,\u001b[0m \u001b[1;33m**\u001b[0m\u001b[0mk\u001b[0m\u001b[1;33m:\u001b[0m \u001b[0mf\u001b[0m\u001b[1;33m(\u001b[0m\u001b[1;33m*\u001b[0m\u001b[0ma\u001b[0m\u001b[1;33m,\u001b[0m \u001b[1;33m**\u001b[0m\u001b[0mk\u001b[0m\u001b[1;33m)\u001b[0m\u001b[1;33m\u001b[0m\u001b[0m\n\u001b[0m\u001b[0;32m    194\u001b[0m \u001b[1;33m\u001b[0m\u001b[0m\n\u001b[0;32m    195\u001b[0m         \u001b[1;32mif\u001b[0m \u001b[0mcallable\u001b[0m\u001b[1;33m(\u001b[0m\u001b[0marg\u001b[0m\u001b[1;33m)\u001b[0m\u001b[1;33m:\u001b[0m\u001b[1;33m\u001b[0m\u001b[0m\n",
      "\u001b[1;32m/home/kyohei/anaconda2/lib/python2.7/site-packages/IPython/core/magics/execution.pyc\u001b[0m in \u001b[0;36mtime\u001b[1;34m(self, line, cell, local_ns)\u001b[0m\n\u001b[0;32m   1161\u001b[0m         \u001b[1;32mif\u001b[0m \u001b[0mmode\u001b[0m\u001b[1;33m==\u001b[0m\u001b[1;34m'eval'\u001b[0m\u001b[1;33m:\u001b[0m\u001b[1;33m\u001b[0m\u001b[0m\n\u001b[0;32m   1162\u001b[0m             \u001b[0mst\u001b[0m \u001b[1;33m=\u001b[0m \u001b[0mclock2\u001b[0m\u001b[1;33m(\u001b[0m\u001b[1;33m)\u001b[0m\u001b[1;33m\u001b[0m\u001b[0m\n\u001b[1;32m-> 1163\u001b[1;33m             \u001b[0mout\u001b[0m \u001b[1;33m=\u001b[0m \u001b[0meval\u001b[0m\u001b[1;33m(\u001b[0m\u001b[0mcode\u001b[0m\u001b[1;33m,\u001b[0m \u001b[0mglob\u001b[0m\u001b[1;33m,\u001b[0m \u001b[0mlocal_ns\u001b[0m\u001b[1;33m)\u001b[0m\u001b[1;33m\u001b[0m\u001b[0m\n\u001b[0m\u001b[0;32m   1164\u001b[0m             \u001b[0mend\u001b[0m \u001b[1;33m=\u001b[0m \u001b[0mclock2\u001b[0m\u001b[1;33m(\u001b[0m\u001b[1;33m)\u001b[0m\u001b[1;33m\u001b[0m\u001b[0m\n\u001b[0;32m   1165\u001b[0m         \u001b[1;32melse\u001b[0m\u001b[1;33m:\u001b[0m\u001b[1;33m\u001b[0m\u001b[0m\n",
      "\u001b[1;32m<timed eval>\u001b[0m in \u001b[0;36m<module>\u001b[1;34m()\u001b[0m\n",
      "\u001b[1;32m/home/kyohei/anaconda2/lib/python2.7/site-packages/sklearn/grid_search.pyc\u001b[0m in \u001b[0;36mfit\u001b[1;34m(self, X, y)\u001b[0m\n\u001b[0;32m    802\u001b[0m \u001b[1;33m\u001b[0m\u001b[0m\n\u001b[0;32m    803\u001b[0m         \"\"\"\n\u001b[1;32m--> 804\u001b[1;33m         \u001b[1;32mreturn\u001b[0m \u001b[0mself\u001b[0m\u001b[1;33m.\u001b[0m\u001b[0m_fit\u001b[0m\u001b[1;33m(\u001b[0m\u001b[0mX\u001b[0m\u001b[1;33m,\u001b[0m \u001b[0my\u001b[0m\u001b[1;33m,\u001b[0m \u001b[0mParameterGrid\u001b[0m\u001b[1;33m(\u001b[0m\u001b[0mself\u001b[0m\u001b[1;33m.\u001b[0m\u001b[0mparam_grid\u001b[0m\u001b[1;33m)\u001b[0m\u001b[1;33m)\u001b[0m\u001b[1;33m\u001b[0m\u001b[0m\n\u001b[0m\u001b[0;32m    805\u001b[0m \u001b[1;33m\u001b[0m\u001b[0m\n\u001b[0;32m    806\u001b[0m \u001b[1;33m\u001b[0m\u001b[0m\n",
      "\u001b[1;32m/home/kyohei/anaconda2/lib/python2.7/site-packages/sklearn/grid_search.pyc\u001b[0m in \u001b[0;36m_fit\u001b[1;34m(self, X, y, parameter_iterable)\u001b[0m\n\u001b[0;32m    551\u001b[0m                                     \u001b[0mself\u001b[0m\u001b[1;33m.\u001b[0m\u001b[0mfit_params\u001b[0m\u001b[1;33m,\u001b[0m \u001b[0mreturn_parameters\u001b[0m\u001b[1;33m=\u001b[0m\u001b[0mTrue\u001b[0m\u001b[1;33m,\u001b[0m\u001b[1;33m\u001b[0m\u001b[0m\n\u001b[0;32m    552\u001b[0m                                     error_score=self.error_score)\n\u001b[1;32m--> 553\u001b[1;33m                 \u001b[1;32mfor\u001b[0m \u001b[0mparameters\u001b[0m \u001b[1;32min\u001b[0m \u001b[0mparameter_iterable\u001b[0m\u001b[1;33m\u001b[0m\u001b[0m\n\u001b[0m\u001b[0;32m    554\u001b[0m                 for train, test in cv)\n\u001b[0;32m    555\u001b[0m \u001b[1;33m\u001b[0m\u001b[0m\n",
      "\u001b[1;32m/home/kyohei/anaconda2/lib/python2.7/site-packages/sklearn/externals/joblib/parallel.pyc\u001b[0m in \u001b[0;36m__call__\u001b[1;34m(self, iterable)\u001b[0m\n\u001b[0;32m    810\u001b[0m                 \u001b[1;31m# consumption.\u001b[0m\u001b[1;33m\u001b[0m\u001b[1;33m\u001b[0m\u001b[0m\n\u001b[0;32m    811\u001b[0m                 \u001b[0mself\u001b[0m\u001b[1;33m.\u001b[0m\u001b[0m_iterating\u001b[0m \u001b[1;33m=\u001b[0m \u001b[0mFalse\u001b[0m\u001b[1;33m\u001b[0m\u001b[0m\n\u001b[1;32m--> 812\u001b[1;33m             \u001b[0mself\u001b[0m\u001b[1;33m.\u001b[0m\u001b[0mretrieve\u001b[0m\u001b[1;33m(\u001b[0m\u001b[1;33m)\u001b[0m\u001b[1;33m\u001b[0m\u001b[0m\n\u001b[0m\u001b[0;32m    813\u001b[0m             \u001b[1;31m# Make sure that we get a last message telling us we are done\u001b[0m\u001b[1;33m\u001b[0m\u001b[1;33m\u001b[0m\u001b[0m\n\u001b[0;32m    814\u001b[0m             \u001b[0melapsed_time\u001b[0m \u001b[1;33m=\u001b[0m \u001b[0mtime\u001b[0m\u001b[1;33m.\u001b[0m\u001b[0mtime\u001b[0m\u001b[1;33m(\u001b[0m\u001b[1;33m)\u001b[0m \u001b[1;33m-\u001b[0m \u001b[0mself\u001b[0m\u001b[1;33m.\u001b[0m\u001b[0m_start_time\u001b[0m\u001b[1;33m\u001b[0m\u001b[0m\n",
      "\u001b[1;32m/home/kyohei/anaconda2/lib/python2.7/site-packages/sklearn/externals/joblib/parallel.pyc\u001b[0m in \u001b[0;36mretrieve\u001b[1;34m(self)\u001b[0m\n\u001b[0;32m    760\u001b[0m                         \u001b[1;31m# a working pool as they expect.\u001b[0m\u001b[1;33m\u001b[0m\u001b[1;33m\u001b[0m\u001b[0m\n\u001b[0;32m    761\u001b[0m                         \u001b[0mself\u001b[0m\u001b[1;33m.\u001b[0m\u001b[0m_initialize_pool\u001b[0m\u001b[1;33m(\u001b[0m\u001b[1;33m)\u001b[0m\u001b[1;33m\u001b[0m\u001b[0m\n\u001b[1;32m--> 762\u001b[1;33m                 \u001b[1;32mraise\u001b[0m \u001b[0mexception\u001b[0m\u001b[1;33m\u001b[0m\u001b[0m\n\u001b[0m\u001b[0;32m    763\u001b[0m \u001b[1;33m\u001b[0m\u001b[0m\n\u001b[0;32m    764\u001b[0m     \u001b[1;32mdef\u001b[0m \u001b[0m__call__\u001b[0m\u001b[1;33m(\u001b[0m\u001b[0mself\u001b[0m\u001b[1;33m,\u001b[0m \u001b[0miterable\u001b[0m\u001b[1;33m)\u001b[0m\u001b[1;33m:\u001b[0m\u001b[1;33m\u001b[0m\u001b[0m\n",
      "\u001b[1;31mJoblibMemoryError\u001b[0m: JoblibMemoryError\n___________________________________________________________________________\nMultiprocessing exception:\n...........................................................................\n/home/kyohei/anaconda2/lib/python2.7/runpy.py in _run_module_as_main(mod_name='ipykernel.__main__', alter_argv=1)\n    169     pkg_name = mod_name.rpartition('.')[0]\n    170     main_globals = sys.modules[\"__main__\"].__dict__\n    171     if alter_argv:\n    172         sys.argv[0] = fname\n    173     return _run_code(code, main_globals, None,\n--> 174                      \"__main__\", fname, loader, pkg_name)\n        fname = '/home/kyohei/anaconda2/lib/python2.7/site-packages/ipykernel/__main__.py'\n        loader = <pkgutil.ImpLoader instance>\n        pkg_name = 'ipykernel'\n    175 \n    176 def run_module(mod_name, init_globals=None,\n    177                run_name=None, alter_sys=False):\n    178     \"\"\"Execute a module's code without importing it\n\n...........................................................................\n/home/kyohei/anaconda2/lib/python2.7/runpy.py in _run_code(code=<code object <module> at 0x7f04756628b0, file \"/...2.7/site-packages/ipykernel/__main__.py\", line 1>, run_globals={'__builtins__': <module '__builtin__' (built-in)>, '__doc__': None, '__file__': '/home/kyohei/anaconda2/lib/python2.7/site-packages/ipykernel/__main__.py', '__loader__': <pkgutil.ImpLoader instance>, '__name__': '__main__', '__package__': 'ipykernel', 'app': <module 'ipykernel.kernelapp' from '/home/kyohei...python2.7/site-packages/ipykernel/kernelapp.pyc'>}, init_globals=None, mod_name='__main__', mod_fname='/home/kyohei/anaconda2/lib/python2.7/site-packages/ipykernel/__main__.py', mod_loader=<pkgutil.ImpLoader instance>, pkg_name='ipykernel')\n     67         run_globals.update(init_globals)\n     68     run_globals.update(__name__ = mod_name,\n     69                        __file__ = mod_fname,\n     70                        __loader__ = mod_loader,\n     71                        __package__ = pkg_name)\n---> 72     exec code in run_globals\n        code = <code object <module> at 0x7f04756628b0, file \"/...2.7/site-packages/ipykernel/__main__.py\", line 1>\n        run_globals = {'__builtins__': <module '__builtin__' (built-in)>, '__doc__': None, '__file__': '/home/kyohei/anaconda2/lib/python2.7/site-packages/ipykernel/__main__.py', '__loader__': <pkgutil.ImpLoader instance>, '__name__': '__main__', '__package__': 'ipykernel', 'app': <module 'ipykernel.kernelapp' from '/home/kyohei...python2.7/site-packages/ipykernel/kernelapp.pyc'>}\n     73     return run_globals\n     74 \n     75 def _run_module_code(code, init_globals=None,\n     76                     mod_name=None, mod_fname=None,\n\n...........................................................................\n/home/kyohei/anaconda2/lib/python2.7/site-packages/ipykernel/__main__.py in <module>()\n      1 \n      2 \n----> 3 \n      4 if __name__ == '__main__':\n      5     from ipykernel import kernelapp as app\n      6     app.launch_new_instance()\n      7 \n      8 \n      9 \n     10 \n\n...........................................................................\n/home/kyohei/anaconda2/lib/python2.7/site-packages/traitlets/config/application.py in launch_instance(cls=<class 'ipykernel.kernelapp.IPKernelApp'>, argv=None, **kwargs={})\n    584         \n    585         If a global instance already exists, this reinitializes and starts it\n    586         \"\"\"\n    587         app = cls.instance(**kwargs)\n    588         app.initialize(argv)\n--> 589         app.start()\n        app.start = <bound method IPKernelApp.start of <ipykernel.kernelapp.IPKernelApp object>>\n    590 \n    591 #-----------------------------------------------------------------------------\n    592 # utility functions, for convenience\n    593 #-----------------------------------------------------------------------------\n\n...........................................................................\n/home/kyohei/anaconda2/lib/python2.7/site-packages/ipykernel/kernelapp.py in start(self=<ipykernel.kernelapp.IPKernelApp object>)\n    400         \n    401         if self.poller is not None:\n    402             self.poller.start()\n    403         self.kernel.start()\n    404         try:\n--> 405             ioloop.IOLoop.instance().start()\n    406         except KeyboardInterrupt:\n    407             pass\n    408 \n    409 launch_new_instance = IPKernelApp.launch_instance\n\n...........................................................................\n/home/kyohei/anaconda2/lib/python2.7/site-packages/zmq/eventloop/ioloop.py in start(self=<zmq.eventloop.ioloop.ZMQIOLoop object>)\n    157             PollIOLoop.configure(ZMQIOLoop)\n    158         return PollIOLoop.current(*args, **kwargs)\n    159     \n    160     def start(self):\n    161         try:\n--> 162             super(ZMQIOLoop, self).start()\n        self.start = <bound method ZMQIOLoop.start of <zmq.eventloop.ioloop.ZMQIOLoop object>>\n    163         except ZMQError as e:\n    164             if e.errno == ETERM:\n    165                 # quietly return on ETERM\n    166                 pass\n\n...........................................................................\n/home/kyohei/anaconda2/lib/python2.7/site-packages/tornado/ioloop.py in start(self=<zmq.eventloop.ioloop.ZMQIOLoop object>)\n    878                 self._events.update(event_pairs)\n    879                 while self._events:\n    880                     fd, events = self._events.popitem()\n    881                     try:\n    882                         fd_obj, handler_func = self._handlers[fd]\n--> 883                         handler_func(fd_obj, events)\n        handler_func = <function null_wrapper>\n        fd_obj = <zmq.sugar.socket.Socket object>\n        events = 1\n    884                     except (OSError, IOError) as e:\n    885                         if errno_from_exception(e) == errno.EPIPE:\n    886                             # Happens when the client closes the connection\n    887                             pass\n\n...........................................................................\n/home/kyohei/anaconda2/lib/python2.7/site-packages/tornado/stack_context.py in null_wrapper(*args=(<zmq.sugar.socket.Socket object>, 1), **kwargs={})\n    270         # Fast path when there are no active contexts.\n    271         def null_wrapper(*args, **kwargs):\n    272             try:\n    273                 current_state = _state.contexts\n    274                 _state.contexts = cap_contexts[0]\n--> 275                 return fn(*args, **kwargs)\n        args = (<zmq.sugar.socket.Socket object>, 1)\n        kwargs = {}\n    276             finally:\n    277                 _state.contexts = current_state\n    278         null_wrapper._wrapped = True\n    279         return null_wrapper\n\n...........................................................................\n/home/kyohei/anaconda2/lib/python2.7/site-packages/zmq/eventloop/zmqstream.py in _handle_events(self=<zmq.eventloop.zmqstream.ZMQStream object>, fd=<zmq.sugar.socket.Socket object>, events=1)\n    435             # dispatch events:\n    436             if events & IOLoop.ERROR:\n    437                 gen_log.error(\"got POLLERR event on ZMQStream, which doesn't make sense\")\n    438                 return\n    439             if events & IOLoop.READ:\n--> 440                 self._handle_recv()\n        self._handle_recv = <bound method ZMQStream._handle_recv of <zmq.eventloop.zmqstream.ZMQStream object>>\n    441                 if not self.socket:\n    442                     return\n    443             if events & IOLoop.WRITE:\n    444                 self._handle_send()\n\n...........................................................................\n/home/kyohei/anaconda2/lib/python2.7/site-packages/zmq/eventloop/zmqstream.py in _handle_recv(self=<zmq.eventloop.zmqstream.ZMQStream object>)\n    467                 gen_log.error(\"RECV Error: %s\"%zmq.strerror(e.errno))\n    468         else:\n    469             if self._recv_callback:\n    470                 callback = self._recv_callback\n    471                 # self._recv_callback = None\n--> 472                 self._run_callback(callback, msg)\n        self._run_callback = <bound method ZMQStream._run_callback of <zmq.eventloop.zmqstream.ZMQStream object>>\n        callback = <function null_wrapper>\n        msg = [<zmq.sugar.frame.Frame object>, <zmq.sugar.frame.Frame object>, <zmq.sugar.frame.Frame object>, <zmq.sugar.frame.Frame object>, <zmq.sugar.frame.Frame object>, <zmq.sugar.frame.Frame object>, <zmq.sugar.frame.Frame object>]\n    473                 \n    474         # self.update_state()\n    475         \n    476 \n\n...........................................................................\n/home/kyohei/anaconda2/lib/python2.7/site-packages/zmq/eventloop/zmqstream.py in _run_callback(self=<zmq.eventloop.zmqstream.ZMQStream object>, callback=<function null_wrapper>, *args=([<zmq.sugar.frame.Frame object>, <zmq.sugar.frame.Frame object>, <zmq.sugar.frame.Frame object>, <zmq.sugar.frame.Frame object>, <zmq.sugar.frame.Frame object>, <zmq.sugar.frame.Frame object>, <zmq.sugar.frame.Frame object>],), **kwargs={})\n    409         close our socket.\"\"\"\n    410         try:\n    411             # Use a NullContext to ensure that all StackContexts are run\n    412             # inside our blanket exception handler rather than outside.\n    413             with stack_context.NullContext():\n--> 414                 callback(*args, **kwargs)\n        callback = <function null_wrapper>\n        args = ([<zmq.sugar.frame.Frame object>, <zmq.sugar.frame.Frame object>, <zmq.sugar.frame.Frame object>, <zmq.sugar.frame.Frame object>, <zmq.sugar.frame.Frame object>, <zmq.sugar.frame.Frame object>, <zmq.sugar.frame.Frame object>],)\n        kwargs = {}\n    415         except:\n    416             gen_log.error(\"Uncaught exception, closing connection.\",\n    417                           exc_info=True)\n    418             # Close the socket on an uncaught exception from a user callback\n\n...........................................................................\n/home/kyohei/anaconda2/lib/python2.7/site-packages/tornado/stack_context.py in null_wrapper(*args=([<zmq.sugar.frame.Frame object>, <zmq.sugar.frame.Frame object>, <zmq.sugar.frame.Frame object>, <zmq.sugar.frame.Frame object>, <zmq.sugar.frame.Frame object>, <zmq.sugar.frame.Frame object>, <zmq.sugar.frame.Frame object>],), **kwargs={})\n    270         # Fast path when there are no active contexts.\n    271         def null_wrapper(*args, **kwargs):\n    272             try:\n    273                 current_state = _state.contexts\n    274                 _state.contexts = cap_contexts[0]\n--> 275                 return fn(*args, **kwargs)\n        args = ([<zmq.sugar.frame.Frame object>, <zmq.sugar.frame.Frame object>, <zmq.sugar.frame.Frame object>, <zmq.sugar.frame.Frame object>, <zmq.sugar.frame.Frame object>, <zmq.sugar.frame.Frame object>, <zmq.sugar.frame.Frame object>],)\n        kwargs = {}\n    276             finally:\n    277                 _state.contexts = current_state\n    278         null_wrapper._wrapped = True\n    279         return null_wrapper\n\n...........................................................................\n/home/kyohei/anaconda2/lib/python2.7/site-packages/ipykernel/kernelbase.py in dispatcher(msg=[<zmq.sugar.frame.Frame object>, <zmq.sugar.frame.Frame object>, <zmq.sugar.frame.Frame object>, <zmq.sugar.frame.Frame object>, <zmq.sugar.frame.Frame object>, <zmq.sugar.frame.Frame object>, <zmq.sugar.frame.Frame object>])\n    255         if self.control_stream:\n    256             self.control_stream.on_recv(self.dispatch_control, copy=False)\n    257 \n    258         def make_dispatcher(stream):\n    259             def dispatcher(msg):\n--> 260                 return self.dispatch_shell(stream, msg)\n        msg = [<zmq.sugar.frame.Frame object>, <zmq.sugar.frame.Frame object>, <zmq.sugar.frame.Frame object>, <zmq.sugar.frame.Frame object>, <zmq.sugar.frame.Frame object>, <zmq.sugar.frame.Frame object>, <zmq.sugar.frame.Frame object>]\n    261             return dispatcher\n    262 \n    263         for s in self.shell_streams:\n    264             s.on_recv(make_dispatcher(s), copy=False)\n\n...........................................................................\n/home/kyohei/anaconda2/lib/python2.7/site-packages/ipykernel/kernelbase.py in dispatch_shell(self=<ipykernel.ipkernel.IPythonKernel object>, stream=<zmq.eventloop.zmqstream.ZMQStream object>, msg={'buffers': [], 'content': {u'allow_stdin': True, u'code': u\"from sklearn.decomposition import KernelPCA\\n\\...re_\\n\\nprint('best params: %s') %gs.best_params_\", u'silent': False, u'stop_on_error': True, u'store_history': True, u'user_expressions': {}}, 'header': {'date': '2016-10-17T00:32:54.999889', u'msg_id': u'60270A2D233C4B0B893D6D7AC83B4551', u'msg_type': u'execute_request', u'session': u'B5835E9FFDF741599D818BB660832C2F', u'username': u'username', u'version': u'5.0'}, 'metadata': {}, 'msg_id': u'60270A2D233C4B0B893D6D7AC83B4551', 'msg_type': u'execute_request', 'parent_header': {}})\n    207             self.log.error(\"UNKNOWN MESSAGE TYPE: %r\", msg_type)\n    208         else:\n    209             self.log.debug(\"%s: %s\", msg_type, msg)\n    210             self.pre_handler_hook()\n    211             try:\n--> 212                 handler(stream, idents, msg)\n        handler = <bound method IPythonKernel.execute_request of <ipykernel.ipkernel.IPythonKernel object>>\n        stream = <zmq.eventloop.zmqstream.ZMQStream object>\n        idents = ['B5835E9FFDF741599D818BB660832C2F']\n        msg = {'buffers': [], 'content': {u'allow_stdin': True, u'code': u\"from sklearn.decomposition import KernelPCA\\n\\...re_\\n\\nprint('best params: %s') %gs.best_params_\", u'silent': False, u'stop_on_error': True, u'store_history': True, u'user_expressions': {}}, 'header': {'date': '2016-10-17T00:32:54.999889', u'msg_id': u'60270A2D233C4B0B893D6D7AC83B4551', u'msg_type': u'execute_request', u'session': u'B5835E9FFDF741599D818BB660832C2F', u'username': u'username', u'version': u'5.0'}, 'metadata': {}, 'msg_id': u'60270A2D233C4B0B893D6D7AC83B4551', 'msg_type': u'execute_request', 'parent_header': {}}\n    213             except Exception:\n    214                 self.log.error(\"Exception in message handler:\", exc_info=True)\n    215             finally:\n    216                 self.post_handler_hook()\n\n...........................................................................\n/home/kyohei/anaconda2/lib/python2.7/site-packages/ipykernel/kernelbase.py in execute_request(self=<ipykernel.ipkernel.IPythonKernel object>, stream=<zmq.eventloop.zmqstream.ZMQStream object>, ident=['B5835E9FFDF741599D818BB660832C2F'], parent={'buffers': [], 'content': {u'allow_stdin': True, u'code': u\"from sklearn.decomposition import KernelPCA\\n\\...re_\\n\\nprint('best params: %s') %gs.best_params_\", u'silent': False, u'stop_on_error': True, u'store_history': True, u'user_expressions': {}}, 'header': {'date': '2016-10-17T00:32:54.999889', u'msg_id': u'60270A2D233C4B0B893D6D7AC83B4551', u'msg_type': u'execute_request', u'session': u'B5835E9FFDF741599D818BB660832C2F', u'username': u'username', u'version': u'5.0'}, 'metadata': {}, 'msg_id': u'60270A2D233C4B0B893D6D7AC83B4551', 'msg_type': u'execute_request', 'parent_header': {}})\n    365         if not silent:\n    366             self.execution_count += 1\n    367             self._publish_execute_input(code, parent, self.execution_count)\n    368 \n    369         reply_content = self.do_execute(code, silent, store_history,\n--> 370                                         user_expressions, allow_stdin)\n        user_expressions = {}\n        allow_stdin = True\n    371 \n    372         # Flush output before sending the reply.\n    373         sys.stdout.flush()\n    374         sys.stderr.flush()\n\n...........................................................................\n/home/kyohei/anaconda2/lib/python2.7/site-packages/ipykernel/ipkernel.py in do_execute(self=<ipykernel.ipkernel.IPythonKernel object>, code=u\"from sklearn.decomposition import KernelPCA\\n\\...re_\\n\\nprint('best params: %s') %gs.best_params_\", silent=False, store_history=True, user_expressions={}, allow_stdin=True)\n    170 \n    171         reply_content = {}\n    172         # FIXME: the shell calls the exception handler itself.\n    173         shell._reply_content = None\n    174         try:\n--> 175             shell.run_cell(code, store_history=store_history, silent=silent)\n        shell.run_cell = <bound method ZMQInteractiveShell.run_cell of <ipykernel.zmqshell.ZMQInteractiveShell object>>\n        code = u\"from sklearn.decomposition import KernelPCA\\n\\...re_\\n\\nprint('best params: %s') %gs.best_params_\"\n        store_history = True\n        silent = False\n    176         except:\n    177             status = u'error'\n    178             # FIXME: this code right now isn't being used yet by default,\n    179             # because the run_cell() call above directly fires off exception\n\n...........................................................................\n/home/kyohei/anaconda2/lib/python2.7/site-packages/IPython/core/interactiveshell.py in run_cell(self=<ipykernel.zmqshell.ZMQInteractiveShell object>, raw_cell=u\"from sklearn.decomposition import KernelPCA\\n\\...re_\\n\\nprint('best params: %s') %gs.best_params_\", store_history=True, silent=False, shell_futures=True)\n   2897                 self.displayhook.exec_result = result\n   2898 \n   2899                 # Execute the user code\n   2900                 interactivity = \"none\" if silent else self.ast_node_interactivity\n   2901                 self.run_ast_nodes(code_ast.body, cell_name,\n-> 2902                    interactivity=interactivity, compiler=compiler, result=result)\n        interactivity = 'last_expr'\n        compiler = <IPython.core.compilerop.CachingCompiler instance>\n   2903 \n   2904                 # Reset this so later displayed values do not modify the\n   2905                 # ExecutionResult\n   2906                 self.displayhook.exec_result = None\n\n...........................................................................\n/home/kyohei/anaconda2/lib/python2.7/site-packages/IPython/core/interactiveshell.py in run_ast_nodes(self=<ipykernel.zmqshell.ZMQInteractiveShell object>, nodelist=[<_ast.ImportFrom object>, <_ast.Assign object>, <_ast.Assign object>, <_ast.Assign object>, <_ast.Expr object>, <_ast.Print object>, <_ast.Print object>], cell_name='<ipython-input-67-22263e16e5ae>', interactivity='none', compiler=<IPython.core.compilerop.CachingCompiler instance>, result=<IPython.core.interactiveshell.ExecutionResult object>)\n   3001 \n   3002         try:\n   3003             for i, node in enumerate(to_run_exec):\n   3004                 mod = ast.Module([node])\n   3005                 code = compiler(mod, cell_name, \"exec\")\n-> 3006                 if self.run_code(code, result):\n        self.run_code = <bound method ZMQInteractiveShell.run_code of <ipykernel.zmqshell.ZMQInteractiveShell object>>\n        code = <code object <module> at 0x7f0403380f30, file \"<ipython-input-67-22263e16e5ae>\", line 13>\n        result = <IPython.core.interactiveshell.ExecutionResult object>\n   3007                     return True\n   3008 \n   3009             for i, node in enumerate(to_run_interactive):\n   3010                 mod = ast.Interactive([node])\n\n...........................................................................\n/home/kyohei/anaconda2/lib/python2.7/site-packages/IPython/core/interactiveshell.py in run_code(self=<ipykernel.zmqshell.ZMQInteractiveShell object>, code_obj=<code object <module> at 0x7f0403380f30, file \"<ipython-input-67-22263e16e5ae>\", line 13>, result=<IPython.core.interactiveshell.ExecutionResult object>)\n   3061         outflag = 1  # happens in more places, so it's easier as default\n   3062         try:\n   3063             try:\n   3064                 self.hooks.pre_run_code_hook()\n   3065                 #rprint('Running code', repr(code_obj)) # dbg\n-> 3066                 exec(code_obj, self.user_global_ns, self.user_ns)\n        code_obj = <code object <module> at 0x7f0403380f30, file \"<ipython-input-67-22263e16e5ae>\", line 13>\n        self.user_global_ns = {'GridSearchCV': <class 'sklearn.grid_search.GridSearchCV'>, 'In': ['', u\"import pandas as pd\\nimport numpy as np\\nimpor...s plt\\nget_ipython().magic(u'matplotlib inline')\", u\"train = pd.read_csv('/home/kyohei/kaggle_data/02digit_recognizer/train.csv')\", u\"#if a column's max value is 0,these columns is...lumns\\ntrain_new = train.loc[:,non_zero_columns]\", u'#check columns number\\ntrain_new.shape', u'train_new.head()', u'X = train_new.iloc[:,1:].values\\ny = train_new.iloc[:,0].values', u\"from sklearn.linear_model import LogisticRegre...test score: %.3f') %pipe_lr.score(X_test,y_test)\", u\"from sklearn.linear_model import SGDClassifier...test score: %.3f') %pipe_lr.score(X_test,y_test)\", u'#\\u30c7\\u30fc\\u30bf\\u30bb\\u30c3\\u30c8\\u3092\\u6...form(X_train)\\nX_test_std = sc.transform(X_test)', u'#\\u5171\\u5206\\u6563\\u884c\\u5217\\u3092\\u4f5c\\u6210\\u3059\\u308b\\ncov_mat = np.cov(X_train_std.T)', u\"#\\u5171\\u5206\\u6563\\u884c\\u5217\\u3092\\u56fa\\u6...g(cov_mat)\\nprint('Eogenvals\\\\n%s') % eigen_vals\", u\"#\\u6700\\u3082\\u5927\\u304d\\u3044k\\u500b\\u306e\\u...components')\\nplt.legend(loc='best')\\nplt.show()\", u'#\\u4e0a\\u4f4dk\\u500b\\u306e\\u56fa\\u6709\\u30d9\\u...en(eigen_vals))]\\neigen_pairs.sort(reverse=True)', u'eigen_pairs', u'eigen_pairs[0]', u'eigen_pairs[0].shape', u'eigen_pairs.shape', u'np.array(eigen_pairs).shape', u'np.array(eigen_pairs)[0]', ...], 'KernelPCA': <class 'sklearn.decomposition.kernel_pca.KernelPCA'>, 'LogisticRegression': <class 'sklearn.linear_model.logistic.LogisticRegression'>, 'Out': {4: (42000, 709), 5:    label  pixel12  pixel13  pixel14  pixel15  pi...  0         0         0  \n\n[5 rows x 709 columns], 15: (40.746277958240157, array([  0.00000000e+00,   0.00000000e+00,   0.0...e+00,   0.00000000e+00,\n         0.00000000e+00])), 25: (40.746277958240157, array([  0.00000000e+00,   0.00000000e+00,   0.0...e+00,   0.00000000e+00,\n         0.00000000e+00])), 26: [(40.746277958240157, array([  0.00000000e+00,   0.00000000e+00,   0.0...e+00,   0.00000000e+00,\n         0.00000000e+00])), (29.15283348654792, array([  0.00000000e+00,   0.00000000e+00,   0.0...e+00,   0.00000000e+00,\n         0.00000000e+00])), (26.761331836128068, array([  0.00000000e+00,   0.00000000e+00,   0.0...e+00,   0.00000000e+00,\n         0.00000000e+00]))], 27: [0, 1, 2, 3, 4, 5, 6, 7, 8, 9, 10, 11, 12, 13, 14, 15, 16, 17, 18, 19, ...], 28: 0.0, 30: 40.746277958240157, 32: (40.746277958240157, array([  0.00000000e+00,   0.00000000e+00,   0.0...e+00,   0.00000000e+00,\n         0.00000000e+00])), 33: (0.0, array([ 0.,  0.,  0.,  0.,  0.,  0.,  0.,  0.,  ...,  0.,  0.,  0.,  0.,\n        0.,  0.,  0.,  1.])), ...}, 'PCA': <class 'sklearn.decomposition.pca.PCA'>, 'Pipeline': <class 'sklearn.pipeline.Pipeline'>, 'SGDClassifier': <class 'sklearn.linear_model.stochastic_gradient.SGDClassifier'>, 'StandardScaler': <class 'sklearn.preprocessing.data.StandardScaler'>, 'X':        pixel0  pixel1  pixel2  pixel3  pixel4  p...        0         0  \n\n[42000 rows x 784 columns], ...}\n        self.user_ns = {'GridSearchCV': <class 'sklearn.grid_search.GridSearchCV'>, 'In': ['', u\"import pandas as pd\\nimport numpy as np\\nimpor...s plt\\nget_ipython().magic(u'matplotlib inline')\", u\"train = pd.read_csv('/home/kyohei/kaggle_data/02digit_recognizer/train.csv')\", u\"#if a column's max value is 0,these columns is...lumns\\ntrain_new = train.loc[:,non_zero_columns]\", u'#check columns number\\ntrain_new.shape', u'train_new.head()', u'X = train_new.iloc[:,1:].values\\ny = train_new.iloc[:,0].values', u\"from sklearn.linear_model import LogisticRegre...test score: %.3f') %pipe_lr.score(X_test,y_test)\", u\"from sklearn.linear_model import SGDClassifier...test score: %.3f') %pipe_lr.score(X_test,y_test)\", u'#\\u30c7\\u30fc\\u30bf\\u30bb\\u30c3\\u30c8\\u3092\\u6...form(X_train)\\nX_test_std = sc.transform(X_test)', u'#\\u5171\\u5206\\u6563\\u884c\\u5217\\u3092\\u4f5c\\u6210\\u3059\\u308b\\ncov_mat = np.cov(X_train_std.T)', u\"#\\u5171\\u5206\\u6563\\u884c\\u5217\\u3092\\u56fa\\u6...g(cov_mat)\\nprint('Eogenvals\\\\n%s') % eigen_vals\", u\"#\\u6700\\u3082\\u5927\\u304d\\u3044k\\u500b\\u306e\\u...components')\\nplt.legend(loc='best')\\nplt.show()\", u'#\\u4e0a\\u4f4dk\\u500b\\u306e\\u56fa\\u6709\\u30d9\\u...en(eigen_vals))]\\neigen_pairs.sort(reverse=True)', u'eigen_pairs', u'eigen_pairs[0]', u'eigen_pairs[0].shape', u'eigen_pairs.shape', u'np.array(eigen_pairs).shape', u'np.array(eigen_pairs)[0]', ...], 'KernelPCA': <class 'sklearn.decomposition.kernel_pca.KernelPCA'>, 'LogisticRegression': <class 'sklearn.linear_model.logistic.LogisticRegression'>, 'Out': {4: (42000, 709), 5:    label  pixel12  pixel13  pixel14  pixel15  pi...  0         0         0  \n\n[5 rows x 709 columns], 15: (40.746277958240157, array([  0.00000000e+00,   0.00000000e+00,   0.0...e+00,   0.00000000e+00,\n         0.00000000e+00])), 25: (40.746277958240157, array([  0.00000000e+00,   0.00000000e+00,   0.0...e+00,   0.00000000e+00,\n         0.00000000e+00])), 26: [(40.746277958240157, array([  0.00000000e+00,   0.00000000e+00,   0.0...e+00,   0.00000000e+00,\n         0.00000000e+00])), (29.15283348654792, array([  0.00000000e+00,   0.00000000e+00,   0.0...e+00,   0.00000000e+00,\n         0.00000000e+00])), (26.761331836128068, array([  0.00000000e+00,   0.00000000e+00,   0.0...e+00,   0.00000000e+00,\n         0.00000000e+00]))], 27: [0, 1, 2, 3, 4, 5, 6, 7, 8, 9, 10, 11, 12, 13, 14, 15, 16, 17, 18, 19, ...], 28: 0.0, 30: 40.746277958240157, 32: (40.746277958240157, array([  0.00000000e+00,   0.00000000e+00,   0.0...e+00,   0.00000000e+00,\n         0.00000000e+00])), 33: (0.0, array([ 0.,  0.,  0.,  0.,  0.,  0.,  0.,  0.,  ...,  0.,  0.,  0.,  0.,\n        0.,  0.,  0.,  1.])), ...}, 'PCA': <class 'sklearn.decomposition.pca.PCA'>, 'Pipeline': <class 'sklearn.pipeline.Pipeline'>, 'SGDClassifier': <class 'sklearn.linear_model.stochastic_gradient.SGDClassifier'>, 'StandardScaler': <class 'sklearn.preprocessing.data.StandardScaler'>, 'X':        pixel0  pixel1  pixel2  pixel3  pixel4  p...        0         0  \n\n[42000 rows x 784 columns], ...}\n   3067             finally:\n   3068                 # Reset our crash handler in place\n   3069                 sys.excepthook = old_excepthook\n   3070         except SystemExit as e:\n\n...........................................................................\n/home/kyohei/kaggle/02digit_recognizer/<ipython-input-67-22263e16e5ae> in <module>()\n      8 gs = GridSearchCV(estimator=pipe_lr,\n      9                  param_grid=param_grid,\n     10                  scoring='accuracy',\n     11                  cv=5,\n     12                  n_jobs=-1)\n---> 13 get_ipython().magic(u'time gs.fit(X_train,y_train)')\n     14 \n     15 print('best score: %.3f') % gs.best_score_\n     16 \n     17 print('best params: %s') %gs.best_params_\n\n...........................................................................\n/home/kyohei/anaconda2/lib/python2.7/site-packages/IPython/core/interactiveshell.py in magic(self=<ipykernel.zmqshell.ZMQInteractiveShell object>, arg_s=u'time gs.fit(X_train,y_train)')\n   2331         compound statements.\n   2332         \"\"\"\n   2333         # TODO: should we issue a loud deprecation warning here?\n   2334         magic_name, _, magic_arg_s = arg_s.partition(' ')\n   2335         magic_name = magic_name.lstrip(prefilter.ESC_MAGIC)\n-> 2336         return self.run_line_magic(magic_name, magic_arg_s)\n        self.run_line_magic = <bound method ZMQInteractiveShell.run_line_magic of <ipykernel.zmqshell.ZMQInteractiveShell object>>\n        magic_name = u'time'\n        magic_arg_s = u'gs.fit(X_train,y_train)'\n   2337 \n   2338     #-------------------------------------------------------------------------\n   2339     # Things related to macros\n   2340     #-------------------------------------------------------------------------\n\n...........................................................................\n/home/kyohei/anaconda2/lib/python2.7/site-packages/IPython/core/interactiveshell.py in run_line_magic(self=<ipykernel.zmqshell.ZMQInteractiveShell object>, magic_name=u'time', line=u'gs.fit(X_train,y_train)')\n   2252             kwargs = {}\n   2253             # Grab local namespace if we need it:\n   2254             if getattr(fn, \"needs_local_scope\", False):\n   2255                 kwargs['local_ns'] = sys._getframe(stack_depth).f_locals\n   2256             with self.builtin_trap:\n-> 2257                 result = fn(*args,**kwargs)\n        result = undefined\n        fn = <bound method ExecutionMagics.time of <IPython.core.magics.execution.ExecutionMagics object>>\n        args = [u'gs.fit(X_train,y_train)']\n        kwargs = {'local_ns': {'GridSearchCV': <class 'sklearn.grid_search.GridSearchCV'>, 'In': ['', u\"import pandas as pd\\nimport numpy as np\\nimpor...s plt\\nget_ipython().magic(u'matplotlib inline')\", u\"train = pd.read_csv('/home/kyohei/kaggle_data/02digit_recognizer/train.csv')\", u\"#if a column's max value is 0,these columns is...lumns\\ntrain_new = train.loc[:,non_zero_columns]\", u'#check columns number\\ntrain_new.shape', u'train_new.head()', u'X = train_new.iloc[:,1:].values\\ny = train_new.iloc[:,0].values', u\"from sklearn.linear_model import LogisticRegre...test score: %.3f') %pipe_lr.score(X_test,y_test)\", u\"from sklearn.linear_model import SGDClassifier...test score: %.3f') %pipe_lr.score(X_test,y_test)\", u'#\\u30c7\\u30fc\\u30bf\\u30bb\\u30c3\\u30c8\\u3092\\u6...form(X_train)\\nX_test_std = sc.transform(X_test)', u'#\\u5171\\u5206\\u6563\\u884c\\u5217\\u3092\\u4f5c\\u6210\\u3059\\u308b\\ncov_mat = np.cov(X_train_std.T)', u\"#\\u5171\\u5206\\u6563\\u884c\\u5217\\u3092\\u56fa\\u6...g(cov_mat)\\nprint('Eogenvals\\\\n%s') % eigen_vals\", u\"#\\u6700\\u3082\\u5927\\u304d\\u3044k\\u500b\\u306e\\u...components')\\nplt.legend(loc='best')\\nplt.show()\", u'#\\u4e0a\\u4f4dk\\u500b\\u306e\\u56fa\\u6709\\u30d9\\u...en(eigen_vals))]\\neigen_pairs.sort(reverse=True)', u'eigen_pairs', u'eigen_pairs[0]', u'eigen_pairs[0].shape', u'eigen_pairs.shape', u'np.array(eigen_pairs).shape', u'np.array(eigen_pairs)[0]', ...], 'KernelPCA': <class 'sklearn.decomposition.kernel_pca.KernelPCA'>, 'LogisticRegression': <class 'sklearn.linear_model.logistic.LogisticRegression'>, 'Out': {4: (42000, 709), 5:    label  pixel12  pixel13  pixel14  pixel15  pi...  0         0         0  \n\n[5 rows x 709 columns], 15: (40.746277958240157, array([  0.00000000e+00,   0.00000000e+00,   0.0...e+00,   0.00000000e+00,\n         0.00000000e+00])), 25: (40.746277958240157, array([  0.00000000e+00,   0.00000000e+00,   0.0...e+00,   0.00000000e+00,\n         0.00000000e+00])), 26: [(40.746277958240157, array([  0.00000000e+00,   0.00000000e+00,   0.0...e+00,   0.00000000e+00,\n         0.00000000e+00])), (29.15283348654792, array([  0.00000000e+00,   0.00000000e+00,   0.0...e+00,   0.00000000e+00,\n         0.00000000e+00])), (26.761331836128068, array([  0.00000000e+00,   0.00000000e+00,   0.0...e+00,   0.00000000e+00,\n         0.00000000e+00]))], 27: [0, 1, 2, 3, 4, 5, 6, 7, 8, 9, 10, 11, 12, 13, 14, 15, 16, 17, 18, 19, ...], 28: 0.0, 30: 40.746277958240157, 32: (40.746277958240157, array([  0.00000000e+00,   0.00000000e+00,   0.0...e+00,   0.00000000e+00,\n         0.00000000e+00])), 33: (0.0, array([ 0.,  0.,  0.,  0.,  0.,  0.,  0.,  0.,  ...,  0.,  0.,  0.,  0.,\n        0.,  0.,  0.,  1.])), ...}, 'PCA': <class 'sklearn.decomposition.pca.PCA'>, 'Pipeline': <class 'sklearn.pipeline.Pipeline'>, 'SGDClassifier': <class 'sklearn.linear_model.stochastic_gradient.SGDClassifier'>, 'StandardScaler': <class 'sklearn.preprocessing.data.StandardScaler'>, 'X':        pixel0  pixel1  pixel2  pixel3  pixel4  p...        0         0  \n\n[42000 rows x 784 columns], ...}}\n   2258             return result\n   2259 \n   2260     def run_cell_magic(self, magic_name, line, cell):\n   2261         \"\"\"Execute the given cell magic.\n\n...........................................................................\n/home/kyohei/kaggle/02digit_recognizer/<decorator-gen-60> in time(self=<IPython.core.magics.execution.ExecutionMagics object>, line=u'gs.fit(X_train,y_train)', cell=None, local_ns={'GridSearchCV': <class 'sklearn.grid_search.GridSearchCV'>, 'In': ['', u\"import pandas as pd\\nimport numpy as np\\nimpor...s plt\\nget_ipython().magic(u'matplotlib inline')\", u\"train = pd.read_csv('/home/kyohei/kaggle_data/02digit_recognizer/train.csv')\", u\"#if a column's max value is 0,these columns is...lumns\\ntrain_new = train.loc[:,non_zero_columns]\", u'#check columns number\\ntrain_new.shape', u'train_new.head()', u'X = train_new.iloc[:,1:].values\\ny = train_new.iloc[:,0].values', u\"from sklearn.linear_model import LogisticRegre...test score: %.3f') %pipe_lr.score(X_test,y_test)\", u\"from sklearn.linear_model import SGDClassifier...test score: %.3f') %pipe_lr.score(X_test,y_test)\", u'#\\u30c7\\u30fc\\u30bf\\u30bb\\u30c3\\u30c8\\u3092\\u6...form(X_train)\\nX_test_std = sc.transform(X_test)', u'#\\u5171\\u5206\\u6563\\u884c\\u5217\\u3092\\u4f5c\\u6210\\u3059\\u308b\\ncov_mat = np.cov(X_train_std.T)', u\"#\\u5171\\u5206\\u6563\\u884c\\u5217\\u3092\\u56fa\\u6...g(cov_mat)\\nprint('Eogenvals\\\\n%s') % eigen_vals\", u\"#\\u6700\\u3082\\u5927\\u304d\\u3044k\\u500b\\u306e\\u...components')\\nplt.legend(loc='best')\\nplt.show()\", u'#\\u4e0a\\u4f4dk\\u500b\\u306e\\u56fa\\u6709\\u30d9\\u...en(eigen_vals))]\\neigen_pairs.sort(reverse=True)', u'eigen_pairs', u'eigen_pairs[0]', u'eigen_pairs[0].shape', u'eigen_pairs.shape', u'np.array(eigen_pairs).shape', u'np.array(eigen_pairs)[0]', ...], 'KernelPCA': <class 'sklearn.decomposition.kernel_pca.KernelPCA'>, 'LogisticRegression': <class 'sklearn.linear_model.logistic.LogisticRegression'>, 'Out': {4: (42000, 709), 5:    label  pixel12  pixel13  pixel14  pixel15  pi...  0         0         0  \n\n[5 rows x 709 columns], 15: (40.746277958240157, array([  0.00000000e+00,   0.00000000e+00,   0.0...e+00,   0.00000000e+00,\n         0.00000000e+00])), 25: (40.746277958240157, array([  0.00000000e+00,   0.00000000e+00,   0.0...e+00,   0.00000000e+00,\n         0.00000000e+00])), 26: [(40.746277958240157, array([  0.00000000e+00,   0.00000000e+00,   0.0...e+00,   0.00000000e+00,\n         0.00000000e+00])), (29.15283348654792, array([  0.00000000e+00,   0.00000000e+00,   0.0...e+00,   0.00000000e+00,\n         0.00000000e+00])), (26.761331836128068, array([  0.00000000e+00,   0.00000000e+00,   0.0...e+00,   0.00000000e+00,\n         0.00000000e+00]))], 27: [0, 1, 2, 3, 4, 5, 6, 7, 8, 9, 10, 11, 12, 13, 14, 15, 16, 17, 18, 19, ...], 28: 0.0, 30: 40.746277958240157, 32: (40.746277958240157, array([  0.00000000e+00,   0.00000000e+00,   0.0...e+00,   0.00000000e+00,\n         0.00000000e+00])), 33: (0.0, array([ 0.,  0.,  0.,  0.,  0.,  0.,  0.,  0.,  ...,  0.,  0.,  0.,  0.,\n        0.,  0.,  0.,  1.])), ...}, 'PCA': <class 'sklearn.decomposition.pca.PCA'>, 'Pipeline': <class 'sklearn.pipeline.Pipeline'>, 'SGDClassifier': <class 'sklearn.linear_model.stochastic_gradient.SGDClassifier'>, 'StandardScaler': <class 'sklearn.preprocessing.data.StandardScaler'>, 'X':        pixel0  pixel1  pixel2  pixel3  pixel4  p...        0         0  \n\n[42000 rows x 784 columns], ...})\n      1 \n----> 2 \n      3 \n      4 \n      5 \n      6 \n      7 \n      8 \n      9 \n     10 \n\n...........................................................................\n/home/kyohei/anaconda2/lib/python2.7/site-packages/IPython/core/magic.py in <lambda>(f=<function time>, *a=(<IPython.core.magics.execution.ExecutionMagics object>, u'gs.fit(X_train,y_train)', None, {'GridSearchCV': <class 'sklearn.grid_search.GridSearchCV'>, 'In': ['', u\"import pandas as pd\\nimport numpy as np\\nimpor...s plt\\nget_ipython().magic(u'matplotlib inline')\", u\"train = pd.read_csv('/home/kyohei/kaggle_data/02digit_recognizer/train.csv')\", u\"#if a column's max value is 0,these columns is...lumns\\ntrain_new = train.loc[:,non_zero_columns]\", u'#check columns number\\ntrain_new.shape', u'train_new.head()', u'X = train_new.iloc[:,1:].values\\ny = train_new.iloc[:,0].values', u\"from sklearn.linear_model import LogisticRegre...test score: %.3f') %pipe_lr.score(X_test,y_test)\", u\"from sklearn.linear_model import SGDClassifier...test score: %.3f') %pipe_lr.score(X_test,y_test)\", u'#\\u30c7\\u30fc\\u30bf\\u30bb\\u30c3\\u30c8\\u3092\\u6...form(X_train)\\nX_test_std = sc.transform(X_test)', u'#\\u5171\\u5206\\u6563\\u884c\\u5217\\u3092\\u4f5c\\u6210\\u3059\\u308b\\ncov_mat = np.cov(X_train_std.T)', u\"#\\u5171\\u5206\\u6563\\u884c\\u5217\\u3092\\u56fa\\u6...g(cov_mat)\\nprint('Eogenvals\\\\n%s') % eigen_vals\", u\"#\\u6700\\u3082\\u5927\\u304d\\u3044k\\u500b\\u306e\\u...components')\\nplt.legend(loc='best')\\nplt.show()\", u'#\\u4e0a\\u4f4dk\\u500b\\u306e\\u56fa\\u6709\\u30d9\\u...en(eigen_vals))]\\neigen_pairs.sort(reverse=True)', u'eigen_pairs', u'eigen_pairs[0]', u'eigen_pairs[0].shape', u'eigen_pairs.shape', u'np.array(eigen_pairs).shape', u'np.array(eigen_pairs)[0]', ...], 'KernelPCA': <class 'sklearn.decomposition.kernel_pca.KernelPCA'>, 'LogisticRegression': <class 'sklearn.linear_model.logistic.LogisticRegression'>, 'Out': {4: (42000, 709), 5:    label  pixel12  pixel13  pixel14  pixel15  pi...  0         0         0  \n\n[5 rows x 709 columns], 15: (40.746277958240157, array([  0.00000000e+00,   0.00000000e+00,   0.0...e+00,   0.00000000e+00,\n         0.00000000e+00])), 25: (40.746277958240157, array([  0.00000000e+00,   0.00000000e+00,   0.0...e+00,   0.00000000e+00,\n         0.00000000e+00])), 26: [(40.746277958240157, array([  0.00000000e+00,   0.00000000e+00,   0.0...e+00,   0.00000000e+00,\n         0.00000000e+00])), (29.15283348654792, array([  0.00000000e+00,   0.00000000e+00,   0.0...e+00,   0.00000000e+00,\n         0.00000000e+00])), (26.761331836128068, array([  0.00000000e+00,   0.00000000e+00,   0.0...e+00,   0.00000000e+00,\n         0.00000000e+00]))], 27: [0, 1, 2, 3, 4, 5, 6, 7, 8, 9, 10, 11, 12, 13, 14, 15, 16, 17, 18, 19, ...], 28: 0.0, 30: 40.746277958240157, 32: (40.746277958240157, array([  0.00000000e+00,   0.00000000e+00,   0.0...e+00,   0.00000000e+00,\n         0.00000000e+00])), 33: (0.0, array([ 0.,  0.,  0.,  0.,  0.,  0.,  0.,  0.,  ...,  0.,  0.,  0.,  0.,\n        0.,  0.,  0.,  1.])), ...}, 'PCA': <class 'sklearn.decomposition.pca.PCA'>, 'Pipeline': <class 'sklearn.pipeline.Pipeline'>, 'SGDClassifier': <class 'sklearn.linear_model.stochastic_gradient.SGDClassifier'>, 'StandardScaler': <class 'sklearn.preprocessing.data.StandardScaler'>, 'X':        pixel0  pixel1  pixel2  pixel3  pixel4  p...        0         0  \n\n[42000 rows x 784 columns], ...}), **k={})\n    188     validate_type(magic_kind)\n    189 \n    190     # This is a closure to capture the magic_kind.  We could also use a class,\n    191     # but it's overkill for just that one bit of state.\n    192     def magic_deco(arg):\n--> 193         call = lambda f, *a, **k: f(*a, **k)\n        f = <function time>\n        a = (<IPython.core.magics.execution.ExecutionMagics object>, u'gs.fit(X_train,y_train)', None, {'GridSearchCV': <class 'sklearn.grid_search.GridSearchCV'>, 'In': ['', u\"import pandas as pd\\nimport numpy as np\\nimpor...s plt\\nget_ipython().magic(u'matplotlib inline')\", u\"train = pd.read_csv('/home/kyohei/kaggle_data/02digit_recognizer/train.csv')\", u\"#if a column's max value is 0,these columns is...lumns\\ntrain_new = train.loc[:,non_zero_columns]\", u'#check columns number\\ntrain_new.shape', u'train_new.head()', u'X = train_new.iloc[:,1:].values\\ny = train_new.iloc[:,0].values', u\"from sklearn.linear_model import LogisticRegre...test score: %.3f') %pipe_lr.score(X_test,y_test)\", u\"from sklearn.linear_model import SGDClassifier...test score: %.3f') %pipe_lr.score(X_test,y_test)\", u'#\\u30c7\\u30fc\\u30bf\\u30bb\\u30c3\\u30c8\\u3092\\u6...form(X_train)\\nX_test_std = sc.transform(X_test)', u'#\\u5171\\u5206\\u6563\\u884c\\u5217\\u3092\\u4f5c\\u6210\\u3059\\u308b\\ncov_mat = np.cov(X_train_std.T)', u\"#\\u5171\\u5206\\u6563\\u884c\\u5217\\u3092\\u56fa\\u6...g(cov_mat)\\nprint('Eogenvals\\\\n%s') % eigen_vals\", u\"#\\u6700\\u3082\\u5927\\u304d\\u3044k\\u500b\\u306e\\u...components')\\nplt.legend(loc='best')\\nplt.show()\", u'#\\u4e0a\\u4f4dk\\u500b\\u306e\\u56fa\\u6709\\u30d9\\u...en(eigen_vals))]\\neigen_pairs.sort(reverse=True)', u'eigen_pairs', u'eigen_pairs[0]', u'eigen_pairs[0].shape', u'eigen_pairs.shape', u'np.array(eigen_pairs).shape', u'np.array(eigen_pairs)[0]', ...], 'KernelPCA': <class 'sklearn.decomposition.kernel_pca.KernelPCA'>, 'LogisticRegression': <class 'sklearn.linear_model.logistic.LogisticRegression'>, 'Out': {4: (42000, 709), 5:    label  pixel12  pixel13  pixel14  pixel15  pi...  0         0         0  \n\n[5 rows x 709 columns], 15: (40.746277958240157, array([  0.00000000e+00,   0.00000000e+00,   0.0...e+00,   0.00000000e+00,\n         0.00000000e+00])), 25: (40.746277958240157, array([  0.00000000e+00,   0.00000000e+00,   0.0...e+00,   0.00000000e+00,\n         0.00000000e+00])), 26: [(40.746277958240157, array([  0.00000000e+00,   0.00000000e+00,   0.0...e+00,   0.00000000e+00,\n         0.00000000e+00])), (29.15283348654792, array([  0.00000000e+00,   0.00000000e+00,   0.0...e+00,   0.00000000e+00,\n         0.00000000e+00])), (26.761331836128068, array([  0.00000000e+00,   0.00000000e+00,   0.0...e+00,   0.00000000e+00,\n         0.00000000e+00]))], 27: [0, 1, 2, 3, 4, 5, 6, 7, 8, 9, 10, 11, 12, 13, 14, 15, 16, 17, 18, 19, ...], 28: 0.0, 30: 40.746277958240157, 32: (40.746277958240157, array([  0.00000000e+00,   0.00000000e+00,   0.0...e+00,   0.00000000e+00,\n         0.00000000e+00])), 33: (0.0, array([ 0.,  0.,  0.,  0.,  0.,  0.,  0.,  0.,  ...,  0.,  0.,  0.,  0.,\n        0.,  0.,  0.,  1.])), ...}, 'PCA': <class 'sklearn.decomposition.pca.PCA'>, 'Pipeline': <class 'sklearn.pipeline.Pipeline'>, 'SGDClassifier': <class 'sklearn.linear_model.stochastic_gradient.SGDClassifier'>, 'StandardScaler': <class 'sklearn.preprocessing.data.StandardScaler'>, 'X':        pixel0  pixel1  pixel2  pixel3  pixel4  p...        0         0  \n\n[42000 rows x 784 columns], ...})\n        k = {}\n    194 \n    195         if callable(arg):\n    196             # \"Naked\" decorator call (just @foo, no args)\n    197             func = arg\n\n...........................................................................\n/home/kyohei/anaconda2/lib/python2.7/site-packages/IPython/core/magics/execution.py in time(self=<IPython.core.magics.execution.ExecutionMagics object>, line=u'gs.fit(X_train,y_train)', cell=None, local_ns={'GridSearchCV': <class 'sklearn.grid_search.GridSearchCV'>, 'In': ['', u\"import pandas as pd\\nimport numpy as np\\nimpor...s plt\\nget_ipython().magic(u'matplotlib inline')\", u\"train = pd.read_csv('/home/kyohei/kaggle_data/02digit_recognizer/train.csv')\", u\"#if a column's max value is 0,these columns is...lumns\\ntrain_new = train.loc[:,non_zero_columns]\", u'#check columns number\\ntrain_new.shape', u'train_new.head()', u'X = train_new.iloc[:,1:].values\\ny = train_new.iloc[:,0].values', u\"from sklearn.linear_model import LogisticRegre...test score: %.3f') %pipe_lr.score(X_test,y_test)\", u\"from sklearn.linear_model import SGDClassifier...test score: %.3f') %pipe_lr.score(X_test,y_test)\", u'#\\u30c7\\u30fc\\u30bf\\u30bb\\u30c3\\u30c8\\u3092\\u6...form(X_train)\\nX_test_std = sc.transform(X_test)', u'#\\u5171\\u5206\\u6563\\u884c\\u5217\\u3092\\u4f5c\\u6210\\u3059\\u308b\\ncov_mat = np.cov(X_train_std.T)', u\"#\\u5171\\u5206\\u6563\\u884c\\u5217\\u3092\\u56fa\\u6...g(cov_mat)\\nprint('Eogenvals\\\\n%s') % eigen_vals\", u\"#\\u6700\\u3082\\u5927\\u304d\\u3044k\\u500b\\u306e\\u...components')\\nplt.legend(loc='best')\\nplt.show()\", u'#\\u4e0a\\u4f4dk\\u500b\\u306e\\u56fa\\u6709\\u30d9\\u...en(eigen_vals))]\\neigen_pairs.sort(reverse=True)', u'eigen_pairs', u'eigen_pairs[0]', u'eigen_pairs[0].shape', u'eigen_pairs.shape', u'np.array(eigen_pairs).shape', u'np.array(eigen_pairs)[0]', ...], 'KernelPCA': <class 'sklearn.decomposition.kernel_pca.KernelPCA'>, 'LogisticRegression': <class 'sklearn.linear_model.logistic.LogisticRegression'>, 'Out': {4: (42000, 709), 5:    label  pixel12  pixel13  pixel14  pixel15  pi...  0         0         0  \n\n[5 rows x 709 columns], 15: (40.746277958240157, array([  0.00000000e+00,   0.00000000e+00,   0.0...e+00,   0.00000000e+00,\n         0.00000000e+00])), 25: (40.746277958240157, array([  0.00000000e+00,   0.00000000e+00,   0.0...e+00,   0.00000000e+00,\n         0.00000000e+00])), 26: [(40.746277958240157, array([  0.00000000e+00,   0.00000000e+00,   0.0...e+00,   0.00000000e+00,\n         0.00000000e+00])), (29.15283348654792, array([  0.00000000e+00,   0.00000000e+00,   0.0...e+00,   0.00000000e+00,\n         0.00000000e+00])), (26.761331836128068, array([  0.00000000e+00,   0.00000000e+00,   0.0...e+00,   0.00000000e+00,\n         0.00000000e+00]))], 27: [0, 1, 2, 3, 4, 5, 6, 7, 8, 9, 10, 11, 12, 13, 14, 15, 16, 17, 18, 19, ...], 28: 0.0, 30: 40.746277958240157, 32: (40.746277958240157, array([  0.00000000e+00,   0.00000000e+00,   0.0...e+00,   0.00000000e+00,\n         0.00000000e+00])), 33: (0.0, array([ 0.,  0.,  0.,  0.,  0.,  0.,  0.,  0.,  ...,  0.,  0.,  0.,  0.,\n        0.,  0.,  0.,  1.])), ...}, 'PCA': <class 'sklearn.decomposition.pca.PCA'>, 'Pipeline': <class 'sklearn.pipeline.Pipeline'>, 'SGDClassifier': <class 'sklearn.linear_model.stochastic_gradient.SGDClassifier'>, 'StandardScaler': <class 'sklearn.preprocessing.data.StandardScaler'>, 'X':        pixel0  pixel1  pixel2  pixel3  pixel4  p...        0         0  \n\n[42000 rows x 784 columns], ...})\n   1158         wtime = time.time\n   1159         # time execution\n   1160         wall_st = wtime()\n   1161         if mode=='eval':\n   1162             st = clock2()\n-> 1163             out = eval(code, glob, local_ns)\n        out = undefined\n        code = <code object <module> at 0x7f04032157b0, file \"<timed eval>\", line 1>\n        glob = {'GridSearchCV': <class 'sklearn.grid_search.GridSearchCV'>, 'In': ['', u\"import pandas as pd\\nimport numpy as np\\nimpor...s plt\\nget_ipython().magic(u'matplotlib inline')\", u\"train = pd.read_csv('/home/kyohei/kaggle_data/02digit_recognizer/train.csv')\", u\"#if a column's max value is 0,these columns is...lumns\\ntrain_new = train.loc[:,non_zero_columns]\", u'#check columns number\\ntrain_new.shape', u'train_new.head()', u'X = train_new.iloc[:,1:].values\\ny = train_new.iloc[:,0].values', u\"from sklearn.linear_model import LogisticRegre...test score: %.3f') %pipe_lr.score(X_test,y_test)\", u\"from sklearn.linear_model import SGDClassifier...test score: %.3f') %pipe_lr.score(X_test,y_test)\", u'#\\u30c7\\u30fc\\u30bf\\u30bb\\u30c3\\u30c8\\u3092\\u6...form(X_train)\\nX_test_std = sc.transform(X_test)', u'#\\u5171\\u5206\\u6563\\u884c\\u5217\\u3092\\u4f5c\\u6210\\u3059\\u308b\\ncov_mat = np.cov(X_train_std.T)', u\"#\\u5171\\u5206\\u6563\\u884c\\u5217\\u3092\\u56fa\\u6...g(cov_mat)\\nprint('Eogenvals\\\\n%s') % eigen_vals\", u\"#\\u6700\\u3082\\u5927\\u304d\\u3044k\\u500b\\u306e\\u...components')\\nplt.legend(loc='best')\\nplt.show()\", u'#\\u4e0a\\u4f4dk\\u500b\\u306e\\u56fa\\u6709\\u30d9\\u...en(eigen_vals))]\\neigen_pairs.sort(reverse=True)', u'eigen_pairs', u'eigen_pairs[0]', u'eigen_pairs[0].shape', u'eigen_pairs.shape', u'np.array(eigen_pairs).shape', u'np.array(eigen_pairs)[0]', ...], 'KernelPCA': <class 'sklearn.decomposition.kernel_pca.KernelPCA'>, 'LogisticRegression': <class 'sklearn.linear_model.logistic.LogisticRegression'>, 'Out': {4: (42000, 709), 5:    label  pixel12  pixel13  pixel14  pixel15  pi...  0         0         0  \n\n[5 rows x 709 columns], 15: (40.746277958240157, array([  0.00000000e+00,   0.00000000e+00,   0.0...e+00,   0.00000000e+00,\n         0.00000000e+00])), 25: (40.746277958240157, array([  0.00000000e+00,   0.00000000e+00,   0.0...e+00,   0.00000000e+00,\n         0.00000000e+00])), 26: [(40.746277958240157, array([  0.00000000e+00,   0.00000000e+00,   0.0...e+00,   0.00000000e+00,\n         0.00000000e+00])), (29.15283348654792, array([  0.00000000e+00,   0.00000000e+00,   0.0...e+00,   0.00000000e+00,\n         0.00000000e+00])), (26.761331836128068, array([  0.00000000e+00,   0.00000000e+00,   0.0...e+00,   0.00000000e+00,\n         0.00000000e+00]))], 27: [0, 1, 2, 3, 4, 5, 6, 7, 8, 9, 10, 11, 12, 13, 14, 15, 16, 17, 18, 19, ...], 28: 0.0, 30: 40.746277958240157, 32: (40.746277958240157, array([  0.00000000e+00,   0.00000000e+00,   0.0...e+00,   0.00000000e+00,\n         0.00000000e+00])), 33: (0.0, array([ 0.,  0.,  0.,  0.,  0.,  0.,  0.,  0.,  ...,  0.,  0.,  0.,  0.,\n        0.,  0.,  0.,  1.])), ...}, 'PCA': <class 'sklearn.decomposition.pca.PCA'>, 'Pipeline': <class 'sklearn.pipeline.Pipeline'>, 'SGDClassifier': <class 'sklearn.linear_model.stochastic_gradient.SGDClassifier'>, 'StandardScaler': <class 'sklearn.preprocessing.data.StandardScaler'>, 'X':        pixel0  pixel1  pixel2  pixel3  pixel4  p...        0         0  \n\n[42000 rows x 784 columns], ...}\n        local_ns = {'GridSearchCV': <class 'sklearn.grid_search.GridSearchCV'>, 'In': ['', u\"import pandas as pd\\nimport numpy as np\\nimpor...s plt\\nget_ipython().magic(u'matplotlib inline')\", u\"train = pd.read_csv('/home/kyohei/kaggle_data/02digit_recognizer/train.csv')\", u\"#if a column's max value is 0,these columns is...lumns\\ntrain_new = train.loc[:,non_zero_columns]\", u'#check columns number\\ntrain_new.shape', u'train_new.head()', u'X = train_new.iloc[:,1:].values\\ny = train_new.iloc[:,0].values', u\"from sklearn.linear_model import LogisticRegre...test score: %.3f') %pipe_lr.score(X_test,y_test)\", u\"from sklearn.linear_model import SGDClassifier...test score: %.3f') %pipe_lr.score(X_test,y_test)\", u'#\\u30c7\\u30fc\\u30bf\\u30bb\\u30c3\\u30c8\\u3092\\u6...form(X_train)\\nX_test_std = sc.transform(X_test)', u'#\\u5171\\u5206\\u6563\\u884c\\u5217\\u3092\\u4f5c\\u6210\\u3059\\u308b\\ncov_mat = np.cov(X_train_std.T)', u\"#\\u5171\\u5206\\u6563\\u884c\\u5217\\u3092\\u56fa\\u6...g(cov_mat)\\nprint('Eogenvals\\\\n%s') % eigen_vals\", u\"#\\u6700\\u3082\\u5927\\u304d\\u3044k\\u500b\\u306e\\u...components')\\nplt.legend(loc='best')\\nplt.show()\", u'#\\u4e0a\\u4f4dk\\u500b\\u306e\\u56fa\\u6709\\u30d9\\u...en(eigen_vals))]\\neigen_pairs.sort(reverse=True)', u'eigen_pairs', u'eigen_pairs[0]', u'eigen_pairs[0].shape', u'eigen_pairs.shape', u'np.array(eigen_pairs).shape', u'np.array(eigen_pairs)[0]', ...], 'KernelPCA': <class 'sklearn.decomposition.kernel_pca.KernelPCA'>, 'LogisticRegression': <class 'sklearn.linear_model.logistic.LogisticRegression'>, 'Out': {4: (42000, 709), 5:    label  pixel12  pixel13  pixel14  pixel15  pi...  0         0         0  \n\n[5 rows x 709 columns], 15: (40.746277958240157, array([  0.00000000e+00,   0.00000000e+00,   0.0...e+00,   0.00000000e+00,\n         0.00000000e+00])), 25: (40.746277958240157, array([  0.00000000e+00,   0.00000000e+00,   0.0...e+00,   0.00000000e+00,\n         0.00000000e+00])), 26: [(40.746277958240157, array([  0.00000000e+00,   0.00000000e+00,   0.0...e+00,   0.00000000e+00,\n         0.00000000e+00])), (29.15283348654792, array([  0.00000000e+00,   0.00000000e+00,   0.0...e+00,   0.00000000e+00,\n         0.00000000e+00])), (26.761331836128068, array([  0.00000000e+00,   0.00000000e+00,   0.0...e+00,   0.00000000e+00,\n         0.00000000e+00]))], 27: [0, 1, 2, 3, 4, 5, 6, 7, 8, 9, 10, 11, 12, 13, 14, 15, 16, 17, 18, 19, ...], 28: 0.0, 30: 40.746277958240157, 32: (40.746277958240157, array([  0.00000000e+00,   0.00000000e+00,   0.0...e+00,   0.00000000e+00,\n         0.00000000e+00])), 33: (0.0, array([ 0.,  0.,  0.,  0.,  0.,  0.,  0.,  0.,  ...,  0.,  0.,  0.,  0.,\n        0.,  0.,  0.,  1.])), ...}, 'PCA': <class 'sklearn.decomposition.pca.PCA'>, 'Pipeline': <class 'sklearn.pipeline.Pipeline'>, 'SGDClassifier': <class 'sklearn.linear_model.stochastic_gradient.SGDClassifier'>, 'StandardScaler': <class 'sklearn.preprocessing.data.StandardScaler'>, 'X':        pixel0  pixel1  pixel2  pixel3  pixel4  p...        0         0  \n\n[42000 rows x 784 columns], ...}\n   1164             end = clock2()\n   1165         else:\n   1166             st = clock2()\n   1167             exec(code, glob, local_ns)\n\n...........................................................................\n/home/kyohei/kaggle/02digit_recognizer/<timed eval> in <module>()\n----> 1 \n      2 \n      3 \n      4 \n      5 \n      6 \n      7 \n      8 \n      9 \n     10 \n\n...........................................................................\n/home/kyohei/anaconda2/lib/python2.7/site-packages/sklearn/grid_search.py in fit(self=GridSearchCV(cv=5, error_score='raise',\n       e...jobs', refit=True, scoring='accuracy', verbose=0), X=       pixel0  pixel1  pixel2  pixel3  pixel4  p...        0         0  \n\n[29400 rows x 784 columns], y=32141    8\n10895    6\n2087     8\n35565    5\n4351...2\n12172    1\n33003    1\nName: label, dtype: int64)\n    799         y : array-like, shape = [n_samples] or [n_samples, n_output], optional\n    800             Target relative to X for classification or regression;\n    801             None for unsupervised learning.\n    802 \n    803         \"\"\"\n--> 804         return self._fit(X, y, ParameterGrid(self.param_grid))\n        self._fit = <bound method GridSearchCV._fit of GridSearchCV(...obs', refit=True, scoring='accuracy', verbose=0)>\n        X =        pixel0  pixel1  pixel2  pixel3  pixel4  p...        0         0  \n\n[29400 rows x 784 columns]\n        y = 32141    8\n10895    6\n2087     8\n35565    5\n4351...2\n12172    1\n33003    1\nName: label, dtype: int64\n        self.param_grid = [{'clf__alpha': [0.001, 0.01, 0.1, 1.0, 10], 'clf__penalty': ['l1'], 'pca__gamma': [0.1, 1.0, 10.0]}, {'clf__alpha': [0.001, 0.01, 0.1, 1.0, 10], 'clf__penalty': ['l2'], 'pca__gamma': [0.1, 1.0, 10.0]}]\n    805 \n    806 \n    807 class RandomizedSearchCV(BaseSearchCV):\n    808     \"\"\"Randomized search on hyper parameters.\n\n...........................................................................\n/home/kyohei/anaconda2/lib/python2.7/site-packages/sklearn/grid_search.py in _fit(self=GridSearchCV(cv=5, error_score='raise',\n       e...jobs', refit=True, scoring='accuracy', verbose=0), X=       pixel0  pixel1  pixel2  pixel3  pixel4  p...        0         0  \n\n[29400 rows x 784 columns], y=32141    8\n10895    6\n2087     8\n35565    5\n4351...2\n12172    1\n33003    1\nName: label, dtype: int64, parameter_iterable=<sklearn.grid_search.ParameterGrid object>)\n    548         )(\n    549             delayed(_fit_and_score)(clone(base_estimator), X, y, self.scorer_,\n    550                                     train, test, self.verbose, parameters,\n    551                                     self.fit_params, return_parameters=True,\n    552                                     error_score=self.error_score)\n--> 553                 for parameters in parameter_iterable\n        parameters = undefined\n        parameter_iterable = <sklearn.grid_search.ParameterGrid object>\n    554                 for train, test in cv)\n    555 \n    556         # Out is a list of triplet: score, estimator, n_test_samples\n    557         n_fits = len(out)\n\n...........................................................................\n/home/kyohei/anaconda2/lib/python2.7/site-packages/sklearn/externals/joblib/parallel.py in __call__(self=Parallel(n_jobs=-1), iterable=<generator object <genexpr>>)\n    807             if pre_dispatch == \"all\" or n_jobs == 1:\n    808                 # The iterable was consumed all at once by the above for loop.\n    809                 # No need to wait for async callbacks to trigger to\n    810                 # consumption.\n    811                 self._iterating = False\n--> 812             self.retrieve()\n        self.retrieve = <bound method Parallel.retrieve of Parallel(n_jobs=-1)>\n    813             # Make sure that we get a last message telling us we are done\n    814             elapsed_time = time.time() - self._start_time\n    815             self._print('Done %3i out of %3i | elapsed: %s finished',\n    816                         (len(self._output), len(self._output),\n\n---------------------------------------------------------------------------\nSub-process traceback:\n---------------------------------------------------------------------------\nMemoryError                                        Mon Oct 17 00:33:09 2016\nPID: 7896                  Python 2.7.12: /home/kyohei/anaconda2/bin/python\n...........................................................................\n/home/kyohei/anaconda2/lib/python2.7/site-packages/sklearn/externals/joblib/parallel.pyc in __call__(self=<sklearn.externals.joblib.parallel.BatchedCalls object>)\n     67     def __init__(self, iterator_slice):\n     68         self.items = list(iterator_slice)\n     69         self._size = len(self.items)\n     70 \n     71     def __call__(self):\n---> 72         return [func(*args, **kwargs) for func, args, kwargs in self.items]\n     73 \n     74     def __len__(self):\n     75         return self._size\n     76 \n\n...........................................................................\n/home/kyohei/anaconda2/lib/python2.7/site-packages/sklearn/cross_validation.pyc in _fit_and_score(estimator=Pipeline(steps=[('scl', StandardScaler(copy=True...ffle=True,\n       verbose=0, warm_start=False))]), X=       pixel0  pixel1  pixel2  pixel3  pixel4  p...        0         0  \n\n[29400 rows x 784 columns], y=32141    8\n10895    6\n2087     8\n35565    5\n4351...2\n12172    1\n33003    1\nName: label, dtype: int64, scorer=make_scorer(accuracy_score), train=array([ 5664,  5666,  5681, ..., 29397, 29398, 29399]), test=array([   0,    1,    2, ..., 6167, 6190, 6195]), verbose=0, parameters={'clf__alpha': 0.001, 'clf__penalty': 'l1', 'pca__gamma': 0.1}, fit_params={}, return_train_score=False, return_parameters=True, error_score='raise')\n   1526 \n   1527     try:\n   1528         if y_train is None:\n   1529             estimator.fit(X_train, **fit_params)\n   1530         else:\n-> 1531             estimator.fit(X_train, y_train, **fit_params)\n   1532 \n   1533     except Exception as e:\n   1534         if error_score == 'raise':\n   1535             raise\n\n...........................................................................\n/home/kyohei/anaconda2/lib/python2.7/site-packages/sklearn/pipeline.pyc in fit(self=Pipeline(steps=[('scl', StandardScaler(copy=True...ffle=True,\n       verbose=0, warm_start=False))]), X=       pixel0  pixel1  pixel2  pixel3  pixel4  p...        0         0  \n\n[23518 rows x 784 columns], y=21201    0\n19928    0\n8903     0\n7449     0\n2445...2\n12172    1\n33003    1\nName: label, dtype: int64, **fit_params={})\n    159             pipeline.\n    160         y : iterable, default=None\n    161             Training targets. Must fulfill label requirements for all steps of\n    162             the pipeline.\n    163         \"\"\"\n--> 164         Xt, fit_params = self._pre_transform(X, y, **fit_params)\n    165         self.steps[-1][-1].fit(Xt, y, **fit_params)\n    166         return self\n    167 \n    168     def fit_transform(self, X, y=None, **fit_params):\n\n...........................................................................\n/home/kyohei/anaconda2/lib/python2.7/site-packages/sklearn/pipeline.pyc in _pre_transform(self=Pipeline(steps=[('scl', StandardScaler(copy=True...ffle=True,\n       verbose=0, warm_start=False))]), X=       pixel0  pixel1  pixel2  pixel3  pixel4  p...        0         0  \n\n[23518 rows x 784 columns], y=21201    0\n19928    0\n8903     0\n7449     0\n2445...2\n12172    1\n33003    1\nName: label, dtype: int64, **fit_params={})\n    140             step, param = pname.split('__', 1)\n    141             fit_params_steps[step][param] = pval\n    142         Xt = X\n    143         for name, transform in self.steps[:-1]:\n    144             if hasattr(transform, \"fit_transform\"):\n--> 145                 Xt = transform.fit_transform(Xt, y, **fit_params_steps[name])\n        step = undefined\n    146             else:\n    147                 Xt = transform.fit(Xt, y, **fit_params_steps[name]) \\\n    148                               .transform(Xt)\n    149         return Xt, fit_params_steps[self.steps[-1][0]]\n\n...........................................................................\n/home/kyohei/anaconda2/lib/python2.7/site-packages/sklearn/decomposition/kernel_pca.pyc in fit_transform(self=KernelPCA(alpha=1.0, coef0=1, degree=3, eigen_so...omponents=150,\n     remove_zero_eig=False, tol=0), X=array([[ 0.,  0.,  0., ...,  0.,  0.,  0.],\n    ...0.],\n       [ 0.,  0.,  0., ...,  0.,  0.,  0.]]), y=21201    0\n19928    0\n8903     0\n7449     0\n2445...2\n12172    1\n33003    1\nName: label, dtype: int64, **params={})\n    221 \n    222         Returns\n    223         -------\n    224         X_new: array-like, shape (n_samples, n_components)\n    225         \"\"\"\n--> 226         self.fit(X, **params)\n    227 \n    228         X_transformed = self.alphas_ * np.sqrt(self.lambdas_)\n    229 \n    230         if self.fit_inverse_transform:\n\n...........................................................................\n/home/kyohei/anaconda2/lib/python2.7/site-packages/sklearn/decomposition/kernel_pca.pyc in fit(self=KernelPCA(alpha=1.0, coef0=1, degree=3, eigen_so...omponents=150,\n     remove_zero_eig=False, tol=0), X=array([[ 0.,  0.,  0., ...,  0.,  0.,  0.],\n    ...0.],\n       [ 0.,  0.,  0., ...,  0.,  0.,  0.]]), y=None)\n    197         Returns\n    198         -------\n    199         self : object\n    200             Returns the instance itself.\n    201         \"\"\"\n--> 202         K = self._get_kernel(X)\n    203         self._fit_transform(K)\n    204 \n    205         if self.fit_inverse_transform:\n    206             sqrt_lambdas = np.diag(np.sqrt(self.lambdas_))\n\n...........................................................................\n/home/kyohei/anaconda2/lib/python2.7/site-packages/sklearn/decomposition/kernel_pca.pyc in _get_kernel(self=KernelPCA(alpha=1.0, coef0=1, degree=3, eigen_so...omponents=150,\n     remove_zero_eig=False, tol=0), X=array([[ 0.,  0.,  0., ...,  0.,  0.,  0.],\n    ...0.],\n       [ 0.,  0.,  0., ...,  0.,  0.,  0.]]), Y=None)\n    130         else:\n    131             params = {\"gamma\": self.gamma,\n    132                       \"degree\": self.degree,\n    133                       \"coef0\": self.coef0}\n    134         return pairwise_kernels(X, Y, metric=self.kernel,\n--> 135                                 filter_params=True, **params)\n        X.Parameters = undefined\n        X = array([[ 0.,  0.,  0., ...,  0.,  0.,  0.],\n    ...0.],\n       [ 0.,  0.,  0., ...,  0.,  0.,  0.]])\n        self = KernelPCA(alpha=1.0, coef0=1, degree=3, eigen_so...omponents=150,\n     remove_zero_eig=False, tol=0)\n    136 \n    137     def _fit_transform(self, K):\n    138         \"\"\" Fit's using kernel K\"\"\"\n    139         # center kernel\n\n...........................................................................\n/home/kyohei/anaconda2/lib/python2.7/site-packages/sklearn/metrics/pairwise.pyc in pairwise_kernels(X=array([[ 0.,  0.,  0., ...,  0.,  0.,  0.],\n    ...0.],\n       [ 0.,  0.,  0., ...,  0.,  0.,  0.]]), Y=None, metric='rbf', filter_params=True, n_jobs=1, **kwds={'gamma': 0.1})\n   1342     elif callable(metric):\n   1343         func = partial(_pairwise_callable, metric=metric, **kwds)\n   1344     else:\n   1345         raise ValueError(\"Unknown kernel %r\" % metric)\n   1346 \n-> 1347     return _parallel_pairwise(X, Y, func, n_jobs, **kwds)\n   1348 \n   1349 \n   1350 \n   1351 \n\n...........................................................................\n/home/kyohei/anaconda2/lib/python2.7/site-packages/sklearn/metrics/pairwise.pyc in _parallel_pairwise(X=array([[ 0.,  0.,  0., ...,  0.,  0.,  0.],\n    ...0.],\n       [ 0.,  0.,  0., ...,  0.,  0.,  0.]]), Y=array([[ 0.,  0.,  0., ...,  0.,  0.,  0.],\n    ...0.],\n       [ 0.,  0.,  0., ...,  0.,  0.,  0.]]), func=<function rbf_kernel>, n_jobs=1, **kwds={'gamma': 0.1})\n   1049     if Y is None:\n   1050         Y = X\n   1051 \n   1052     if n_jobs == 1:\n   1053         # Special case to avoid picklability checks in delayed\n-> 1054         return func(X, Y, **kwds)\n   1055 \n   1056     # TODO: in some cases, backend='threading' may be appropriate\n   1057     fd = delayed(func)\n   1058     ret = Parallel(n_jobs=n_jobs, verbose=0)(\n\n...........................................................................\n/home/kyohei/anaconda2/lib/python2.7/site-packages/sklearn/metrics/pairwise.pyc in rbf_kernel(X=array([[ 0.,  0.,  0., ...,  0.,  0.,  0.],\n    ...0.],\n       [ 0.,  0.,  0., ...,  0.,  0.,  0.]]), Y=array([[ 0.,  0.,  0., ...,  0.,  0.,  0.],\n    ...0.],\n       [ 0.,  0.,  0., ...,  0.,  0.,  0.]]), gamma=0.1)\n    804     \"\"\"\n    805     X, Y = check_pairwise_arrays(X, Y)\n    806     if gamma is None:\n    807         gamma = 1.0 / X.shape[1]\n    808 \n--> 809     K = euclidean_distances(X, Y, squared=True)\n        X = array([[ 0.,  0.,  0., ...,  0.,  0.,  0.],\n    ...0.],\n       [ 0.,  0.,  0., ...,  0.,  0.,  0.]])\n        Y.This = undefined\n        Y = array([[ 0.,  0.,  0., ...,  0.,  0.,  0.],\n    ...0.],\n       [ 0.,  0.,  0., ...,  0.,  0.,  0.]])\n        Y.Valid = undefined\n        K = undefined\n        Y.Notes = undefined\n    810     K *= -gamma\n    811     np.exp(K, K)    # exponentiate K in-place\n    812     return K\n    813 \n\n...........................................................................\n/home/kyohei/anaconda2/lib/python2.7/site-packages/sklearn/metrics/pairwise.pyc in euclidean_distances(X=array([[ 0.,  0.,  0., ...,  0.,  0.,  0.],\n    ...0.],\n       [ 0.,  0.,  0., ...,  0.,  0.,  0.]]), Y=array([[ 0.,  0.,  0., ...,  0.,  0.,  0.],\n    ...0.],\n       [ 0.,  0.,  0., ...,  0.,  0.,  0.]]), Y_norm_squared=None, squared=True, X_norm_squared=None)\n    226             raise ValueError(\n    227                 \"Incompatible dimensions for Y and Y_norm_squared\")\n    228     else:\n    229         YY = row_norms(Y, squared=True)[np.newaxis, :]\n    230 \n--> 231     distances = safe_sparse_dot(X, Y.T, dense_output=True)\n    232     distances *= -2\n    233     distances += XX\n    234     distances += YY\n    235     np.maximum(distances, 0, out=distances)\n\n...........................................................................\n/home/kyohei/anaconda2/lib/python2.7/site-packages/sklearn/utils/extmath.pyc in safe_sparse_dot(a=array([[ 0.,  0.,  0., ...,  0.,  0.,  0.],\n    ...0.],\n       [ 0.,  0.,  0., ...,  0.,  0.,  0.]]), b=array([[ 0.,  0.,  0., ...,  0.,  0.,  0.],\n    ...0.],\n       [ 0.,  0.,  0., ...,  0.,  0.,  0.]]), dense_output=True)\n    179         ret = a * b\n    180         if dense_output and hasattr(ret, \"toarray\"):\n    181             ret = ret.toarray()\n    182         return ret\n    183     else:\n--> 184         return fast_dot(a, b)\n    185 \n    186 \n    187 def randomized_range_finder(A, size, n_iter, random_state=None):\n    188     \"\"\"Computes an orthonormal matrix whose range approximates the range of A.\n\nMemoryError: \n___________________________________________________________________________"
     ]
    }
   ],
   "source": [
    "from sklearn.decomposition import KernelPCA\n",
    "\n",
    "pipe_lr = Pipeline([('scl',StandardScaler()),('pca',KernelPCA(n_components=150,kernel='rbf')),\n",
    "                   ('clf',SGDClassifier(loss='log'))])\n",
    "param_grid = [{'pca__gamma':[0.1,1.,10.],'clf__penalty':['l1'],'clf__alpha':[0.001,0.01,0.1,1.0,10]},\n",
    "             {'pca__gamma':[0.1,1.,10.],'clf__penalty':['l2'],'clf__alpha':[0.001,0.01,0.1,1.0,10]}]\n",
    "\n",
    "gs = GridSearchCV(estimator=pipe_lr,\n",
    "                 param_grid=param_grid,\n",
    "                 scoring='accuracy',\n",
    "                 cv=5,\n",
    "                 n_jobs=-1)\n",
    "%time gs.fit(X_train,y_train)\n",
    "\n",
    "print('best score: %.3f') % gs.best_score_\n",
    "\n",
    "print('best params: %s') %gs.best_params_"
   ]
  },
  {
   "cell_type": "code",
   "execution_count": null,
   "metadata": {
    "collapsed": true
   },
   "outputs": [],
   "source": []
  }
 ],
 "metadata": {
  "kernelspec": {
   "display_name": "Python 2",
   "language": "python",
   "name": "python2"
  },
  "language_info": {
   "codemirror_mode": {
    "name": "ipython",
    "version": 2
   },
   "file_extension": ".py",
   "mimetype": "text/x-python",
   "name": "python",
   "nbconvert_exporter": "python",
   "pygments_lexer": "ipython2",
   "version": "2.7.12"
  }
 },
 "nbformat": 4,
 "nbformat_minor": 0
}
