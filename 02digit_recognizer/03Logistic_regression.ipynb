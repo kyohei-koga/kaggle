{
 "cells": [
  {
   "cell_type": "code",
   "execution_count": 1,
   "metadata": {
    "collapsed": false
   },
   "outputs": [
    {
     "name": "stderr",
     "output_type": "stream",
     "text": [
      "/home/kyohei/anaconda2/lib/python2.7/site-packages/matplotlib/font_manager.py:273: UserWarning: Matplotlib is building the font cache using fc-list. This may take a moment.\n",
      "  warnings.warn('Matplotlib is building the font cache using fc-list. This may take a moment.')\n"
     ]
    }
   ],
   "source": [
    "import pandas as pd\n",
    "import numpy as np\n",
    "import matplotlib.pyplot as plt\n",
    "%matplotlib inline"
   ]
  },
  {
   "cell_type": "code",
   "execution_count": 2,
   "metadata": {
    "collapsed": false
   },
   "outputs": [],
   "source": [
    "train = pd.read_csv('/home/kyohei/kaggle_data/02digit_recognizer/train.csv')"
   ]
  },
  {
   "cell_type": "markdown",
   "metadata": {},
   "source": [
    "全データにおいて、値が0ではないカラムを特定して、そのカラムに限定する。"
   ]
  },
  {
   "cell_type": "code",
   "execution_count": 3,
   "metadata": {
    "collapsed": false
   },
   "outputs": [],
   "source": [
    "#if a column's max value is 0,these columns is labeled into False\n",
    "non_zero_columns = (train.max() != 0)\n",
    "#extract non zero columns\n",
    "train_new = train.loc[:,non_zero_columns]"
   ]
  },
  {
   "cell_type": "code",
   "execution_count": 4,
   "metadata": {
    "collapsed": false
   },
   "outputs": [
    {
     "data": {
      "text/plain": [
       "(42000, 709)"
      ]
     },
     "execution_count": 4,
     "metadata": {},
     "output_type": "execute_result"
    }
   ],
   "source": [
    "#check columns number\n",
    "train_new.shape"
   ]
  },
  {
   "cell_type": "code",
   "execution_count": 5,
   "metadata": {
    "collapsed": false
   },
   "outputs": [
    {
     "data": {
      "text/html": [
       "<div>\n",
       "<table border=\"1\" class=\"dataframe\">\n",
       "  <thead>\n",
       "    <tr style=\"text-align: right;\">\n",
       "      <th></th>\n",
       "      <th>label</th>\n",
       "      <th>pixel12</th>\n",
       "      <th>pixel13</th>\n",
       "      <th>pixel14</th>\n",
       "      <th>pixel15</th>\n",
       "      <th>pixel32</th>\n",
       "      <th>pixel33</th>\n",
       "      <th>pixel34</th>\n",
       "      <th>pixel35</th>\n",
       "      <th>pixel36</th>\n",
       "      <th>...</th>\n",
       "      <th>pixel770</th>\n",
       "      <th>pixel771</th>\n",
       "      <th>pixel772</th>\n",
       "      <th>pixel773</th>\n",
       "      <th>pixel774</th>\n",
       "      <th>pixel775</th>\n",
       "      <th>pixel776</th>\n",
       "      <th>pixel777</th>\n",
       "      <th>pixel778</th>\n",
       "      <th>pixel779</th>\n",
       "    </tr>\n",
       "  </thead>\n",
       "  <tbody>\n",
       "    <tr>\n",
       "      <th>0</th>\n",
       "      <td>1</td>\n",
       "      <td>0</td>\n",
       "      <td>0</td>\n",
       "      <td>0</td>\n",
       "      <td>0</td>\n",
       "      <td>0</td>\n",
       "      <td>0</td>\n",
       "      <td>0</td>\n",
       "      <td>0</td>\n",
       "      <td>0</td>\n",
       "      <td>...</td>\n",
       "      <td>0</td>\n",
       "      <td>0</td>\n",
       "      <td>0</td>\n",
       "      <td>0</td>\n",
       "      <td>0</td>\n",
       "      <td>0</td>\n",
       "      <td>0</td>\n",
       "      <td>0</td>\n",
       "      <td>0</td>\n",
       "      <td>0</td>\n",
       "    </tr>\n",
       "    <tr>\n",
       "      <th>1</th>\n",
       "      <td>0</td>\n",
       "      <td>0</td>\n",
       "      <td>0</td>\n",
       "      <td>0</td>\n",
       "      <td>0</td>\n",
       "      <td>0</td>\n",
       "      <td>0</td>\n",
       "      <td>0</td>\n",
       "      <td>0</td>\n",
       "      <td>0</td>\n",
       "      <td>...</td>\n",
       "      <td>0</td>\n",
       "      <td>0</td>\n",
       "      <td>0</td>\n",
       "      <td>0</td>\n",
       "      <td>0</td>\n",
       "      <td>0</td>\n",
       "      <td>0</td>\n",
       "      <td>0</td>\n",
       "      <td>0</td>\n",
       "      <td>0</td>\n",
       "    </tr>\n",
       "    <tr>\n",
       "      <th>2</th>\n",
       "      <td>1</td>\n",
       "      <td>0</td>\n",
       "      <td>0</td>\n",
       "      <td>0</td>\n",
       "      <td>0</td>\n",
       "      <td>0</td>\n",
       "      <td>0</td>\n",
       "      <td>0</td>\n",
       "      <td>0</td>\n",
       "      <td>0</td>\n",
       "      <td>...</td>\n",
       "      <td>0</td>\n",
       "      <td>0</td>\n",
       "      <td>0</td>\n",
       "      <td>0</td>\n",
       "      <td>0</td>\n",
       "      <td>0</td>\n",
       "      <td>0</td>\n",
       "      <td>0</td>\n",
       "      <td>0</td>\n",
       "      <td>0</td>\n",
       "    </tr>\n",
       "    <tr>\n",
       "      <th>3</th>\n",
       "      <td>4</td>\n",
       "      <td>0</td>\n",
       "      <td>0</td>\n",
       "      <td>0</td>\n",
       "      <td>0</td>\n",
       "      <td>0</td>\n",
       "      <td>0</td>\n",
       "      <td>0</td>\n",
       "      <td>0</td>\n",
       "      <td>0</td>\n",
       "      <td>...</td>\n",
       "      <td>0</td>\n",
       "      <td>0</td>\n",
       "      <td>0</td>\n",
       "      <td>0</td>\n",
       "      <td>0</td>\n",
       "      <td>0</td>\n",
       "      <td>0</td>\n",
       "      <td>0</td>\n",
       "      <td>0</td>\n",
       "      <td>0</td>\n",
       "    </tr>\n",
       "    <tr>\n",
       "      <th>4</th>\n",
       "      <td>0</td>\n",
       "      <td>0</td>\n",
       "      <td>0</td>\n",
       "      <td>0</td>\n",
       "      <td>0</td>\n",
       "      <td>0</td>\n",
       "      <td>0</td>\n",
       "      <td>0</td>\n",
       "      <td>0</td>\n",
       "      <td>0</td>\n",
       "      <td>...</td>\n",
       "      <td>0</td>\n",
       "      <td>0</td>\n",
       "      <td>0</td>\n",
       "      <td>0</td>\n",
       "      <td>0</td>\n",
       "      <td>0</td>\n",
       "      <td>0</td>\n",
       "      <td>0</td>\n",
       "      <td>0</td>\n",
       "      <td>0</td>\n",
       "    </tr>\n",
       "  </tbody>\n",
       "</table>\n",
       "<p>5 rows × 709 columns</p>\n",
       "</div>"
      ],
      "text/plain": [
       "   label  pixel12  pixel13  pixel14  pixel15  pixel32  pixel33  pixel34  \\\n",
       "0      1        0        0        0        0        0        0        0   \n",
       "1      0        0        0        0        0        0        0        0   \n",
       "2      1        0        0        0        0        0        0        0   \n",
       "3      4        0        0        0        0        0        0        0   \n",
       "4      0        0        0        0        0        0        0        0   \n",
       "\n",
       "   pixel35  pixel36    ...     pixel770  pixel771  pixel772  pixel773  \\\n",
       "0        0        0    ...            0         0         0         0   \n",
       "1        0        0    ...            0         0         0         0   \n",
       "2        0        0    ...            0         0         0         0   \n",
       "3        0        0    ...            0         0         0         0   \n",
       "4        0        0    ...            0         0         0         0   \n",
       "\n",
       "   pixel774  pixel775  pixel776  pixel777  pixel778  pixel779  \n",
       "0         0         0         0         0         0         0  \n",
       "1         0         0         0         0         0         0  \n",
       "2         0         0         0         0         0         0  \n",
       "3         0         0         0         0         0         0  \n",
       "4         0         0         0         0         0         0  \n",
       "\n",
       "[5 rows x 709 columns]"
      ]
     },
     "execution_count": 5,
     "metadata": {},
     "output_type": "execute_result"
    }
   ],
   "source": [
    "train_new.head()"
   ]
  },
  {
   "cell_type": "code",
   "execution_count": 6,
   "metadata": {
    "collapsed": false
   },
   "outputs": [],
   "source": [
    "X = train_new.iloc[:,1:].values\n",
    "y = train_new.iloc[:,0].values"
   ]
  },
  {
   "cell_type": "markdown",
   "metadata": {},
   "source": [
    "ロジスティック回帰を適用する。\n",
    "- とりあえず、一度フィットさせる。\n",
    "- グリッドサーチでハイパーパラメータを調整する。"
   ]
  },
  {
   "cell_type": "code",
   "execution_count": 8,
   "metadata": {
    "collapsed": false,
    "scrolled": true
   },
   "outputs": [
    {
     "name": "stderr",
     "output_type": "stream",
     "text": [
      "/home/kyohei/anaconda2/lib/python2.7/site-packages/sklearn/utils/validation.py:420: DataConversionWarning: Data with input dtype int64 was converted to float64 by StandardScaler.\n",
      "  warnings.warn(msg, DataConversionWarning)\n",
      "/home/kyohei/anaconda2/lib/python2.7/site-packages/sklearn/utils/validation.py:420: DataConversionWarning: Data with input dtype int64 was converted to float64 by StandardScaler.\n",
      "  warnings.warn(msg, DataConversionWarning)\n"
     ]
    },
    {
     "name": "stdout",
     "output_type": "stream",
     "text": [
      "CPU times: user 5min 10s, sys: 1.09 s, total: 5min 11s\n",
      "Wall time: 5min 23s\n",
      "train score: 0.941\n"
     ]
    },
    {
     "name": "stderr",
     "output_type": "stream",
     "text": [
      "/home/kyohei/anaconda2/lib/python2.7/site-packages/sklearn/utils/validation.py:420: DataConversionWarning: Data with input dtype int64 was converted to float64 by StandardScaler.\n",
      "  warnings.warn(msg, DataConversionWarning)\n",
      "/home/kyohei/anaconda2/lib/python2.7/site-packages/sklearn/utils/validation.py:420: DataConversionWarning: Data with input dtype int64 was converted to float64 by StandardScaler.\n",
      "  warnings.warn(msg, DataConversionWarning)\n"
     ]
    },
    {
     "name": "stdout",
     "output_type": "stream",
     "text": [
      "test score: 0.908\n"
     ]
    }
   ],
   "source": [
    "from sklearn.linear_model import LogisticRegression\n",
    "from sklearn.pipeline import Pipeline\n",
    "from sklearn.preprocessing import StandardScaler\n",
    "from sklearn.cross_validation import train_test_split\n",
    "from sklearn.metrics import accuracy_score\n",
    "\n",
    "X_train,X_test,y_train,y_test = train_test_split(X,y,test_size=0.3,random_state=1)\n",
    "\n",
    "pipe_lr = Pipeline([('scl',StandardScaler()),('clf',LogisticRegression(random_state=0))])\n",
    "\n",
    "%time pipe_lr.fit(X_train,y_train)\n",
    "\n",
    "print('train score: %.3f') %pipe_lr.score(X_train,y_train)\n",
    "print('test score: %.3f') %pipe_lr.score(X_test,y_test)"
   ]
  },
  {
   "cell_type": "markdown",
   "metadata": {},
   "source": [
    "とりあえずすごい時間がかかるね。データ量も多いので、SGD(確率的勾配降下法)を試してみようか。"
   ]
  },
  {
   "cell_type": "code",
   "execution_count": 9,
   "metadata": {
    "collapsed": false
   },
   "outputs": [
    {
     "name": "stderr",
     "output_type": "stream",
     "text": [
      "/home/kyohei/anaconda2/lib/python2.7/site-packages/sklearn/utils/validation.py:420: DataConversionWarning: Data with input dtype int64 was converted to float64 by StandardScaler.\n",
      "  warnings.warn(msg, DataConversionWarning)\n",
      "/home/kyohei/anaconda2/lib/python2.7/site-packages/sklearn/utils/validation.py:420: DataConversionWarning: Data with input dtype int64 was converted to float64 by StandardScaler.\n",
      "  warnings.warn(msg, DataConversionWarning)\n"
     ]
    },
    {
     "name": "stdout",
     "output_type": "stream",
     "text": [
      "CPU times: user 52.3 s, sys: 204 ms, total: 52.5 s\n",
      "Wall time: 56.4 s\n",
      "train score: 0.923\n"
     ]
    },
    {
     "name": "stderr",
     "output_type": "stream",
     "text": [
      "/home/kyohei/anaconda2/lib/python2.7/site-packages/sklearn/utils/validation.py:420: DataConversionWarning: Data with input dtype int64 was converted to float64 by StandardScaler.\n",
      "  warnings.warn(msg, DataConversionWarning)\n",
      "/home/kyohei/anaconda2/lib/python2.7/site-packages/sklearn/utils/validation.py:420: DataConversionWarning: Data with input dtype int64 was converted to float64 by StandardScaler.\n",
      "  warnings.warn(msg, DataConversionWarning)\n"
     ]
    },
    {
     "name": "stdout",
     "output_type": "stream",
     "text": [
      "test score: 0.915\n"
     ]
    }
   ],
   "source": [
    "from sklearn.linear_model import SGDClassifier\n",
    "pipe_lr = Pipeline([('scl',StandardScaler()),\n",
    "                    ('clf',SGDClassifier(loss='log',random_state=1,n_iter=100))])\n",
    "\n",
    "%time pipe_lr.fit(X_train,y_train)\n",
    "\n",
    "print('train score: %.3f') %pipe_lr.score(X_train,y_train)\n",
    "print('test score: %.3f') %pipe_lr.score(X_test,y_test)"
   ]
  },
  {
   "cell_type": "markdown",
   "metadata": {},
   "source": [
    "- 確率的勾配降下法でも、時間はそこそこかかるので、特徴量の削減を考える。\n",
    "- 主成分分析（PCA）を行う。PCAは、特徴量同士の相関関係に基づいてデータからパターンを抽出するのに役立つ"
   ]
  },
  {
   "cell_type": "code",
   "execution_count": 10,
   "metadata": {
    "collapsed": true
   },
   "outputs": [],
   "source": [
    "#データセットを標準化する\n",
    "X,y = train.iloc[:,1:],train.iloc[:,0]\n",
    "#トレインとテストに分割\n",
    "X_train,X_test,y_train,y_test = train_test_split(X,y,test_size=0.3,random_state=1)\n",
    "\n",
    "sc = StandardScaler()\n",
    "X_train_std = sc.fit_transform(X_train)\n",
    "X_test_std = sc.transform(X_test)"
   ]
  },
  {
   "cell_type": "code",
   "execution_count": 11,
   "metadata": {
    "collapsed": false
   },
   "outputs": [],
   "source": [
    "#共分散行列を作成する\n",
    "cov_mat = np.cov(X_train_std.T)"
   ]
  },
  {
   "cell_type": "code",
   "execution_count": 12,
   "metadata": {
    "collapsed": false,
    "scrolled": true
   },
   "outputs": [
    {
     "name": "stdout",
     "output_type": "stream",
     "text": [
      "Eogenvals\n",
      "[  4.07462780e+01   2.91528335e+01   2.67613318e+01   2.08259952e+01\n",
      "   1.80245341e+01   1.58182476e+01   1.38158375e+01   1.25158679e+01\n",
      "   1.11020634e+01   1.00914031e+01   9.69749973e+00   8.66032352e+00\n",
      "   8.10446275e+00   7.87813154e+00   7.37620904e+00   7.16549766e+00\n",
      "   6.68713923e+00   6.60290302e+00   6.38647513e+00   6.29119085e+00\n",
      "   5.94535783e+00   5.78132988e+00   5.52707401e+00   5.32587634e+00\n",
      "   5.17512922e+00   4.96779906e+00   4.86077930e+00   4.70317938e+00\n",
      "   4.48362937e+00   4.33737214e+00   4.28998965e+00   4.25644029e+00\n",
      "   4.08945689e+00   4.06279853e+00   3.96103937e+00   3.87069300e+00\n",
      "   3.80600281e+00   3.71728270e+00   3.55611104e+00   3.47706149e+00\n",
      "   3.41716874e+00   3.37132488e+00   3.28604174e+00   3.23409130e+00\n",
      "   3.19821223e+00   3.13923728e+00   3.17667344e+00   3.08201347e+00\n",
      "   3.06813790e+00   3.03908483e+00   2.97693000e+00   2.96271895e+00\n",
      "   2.87388683e+00   2.82321276e+00   2.79714346e+00   2.76354011e+00\n",
      "   2.72851659e+00   2.66375195e+00   2.61313484e+00   2.58804915e+00\n",
      "   2.52944776e+00   2.49025561e+00   2.47094470e+00  -2.22045561e-15\n",
      "   2.44234954e+00   2.43466413e+00   2.39850333e+00   2.37638277e+00\n",
      "   2.34666628e+00   2.31148331e+00   2.28753975e+00   2.26744659e+00\n",
      "   2.23743969e+00   2.21425217e+00   2.19791084e+00   2.15373639e+00\n",
      "   2.14223303e+00   2.11799193e+00   2.08912410e+00   2.07314259e+00\n",
      "   2.05258705e+00   2.02681548e+00   2.02180427e+00   2.00805928e+00\n",
      "   1.97584304e+00   1.96795874e+00   1.95650616e+00   1.94702325e+00\n",
      "   1.93496852e+00   1.90628546e+00   1.90024718e+00   1.88202371e+00\n",
      "   1.85799934e+00   1.84130759e+00   1.81436332e+00   1.79103041e+00\n",
      "   1.74685257e+00   1.77373663e+00   1.70399254e+00   1.49356313e+00\n",
      "   1.69785733e+00   1.51432750e+00   1.55845810e+00   1.58135910e+00\n",
      "   1.82884705e+00   1.50835915e+00   1.65248575e+00   1.63368764e+00\n",
      "   1.49799813e+00   1.77172316e+00   1.67238372e+00   1.57076521e+00\n",
      "   1.68490094e+00   1.60656724e+00   1.62648884e+00   5.88901388e-04\n",
      "   1.47701848e+00   1.46295214e+00   1.43250573e+00   1.41556385e+00\n",
      "   1.40660997e+00   1.39760723e+00   1.38752805e+00   1.36906489e+00\n",
      "   1.35737419e+00   1.34327850e+00   1.33639338e+00   1.31730225e+00\n",
      "   1.30619384e+00   1.29631599e+00   1.28541338e+00   1.27587756e+00\n",
      "   1.25167326e+00   1.24579897e+00   1.22859695e+00   1.21247890e+00\n",
      "   1.18436164e+00   1.19021322e+00   1.19963703e+00   1.15204326e+00\n",
      "   1.16287758e+00   1.13716748e+00   1.13342087e+00   1.12232718e+00\n",
      "   9.48806372e-01   1.11394810e+00   1.10428828e+00   1.09272075e+00\n",
      "   1.09591022e+00   1.08113598e+00   9.62480191e-01   1.06536801e+00\n",
      "   1.06164112e+00   9.70475832e-01   9.76661133e-01   1.05097384e+00\n",
      "   1.03658404e+00   9.83797554e-01   1.04921267e+00   9.90378300e-01\n",
      "   1.01890330e+00   1.03238888e+00   1.01244754e+00   1.00809424e+00\n",
      "   9.97515610e-01   9.98722792e-01   1.00096447e+00   1.00154455e+00\n",
      "   1.00038929e+00   7.08047185e-01   7.12312652e-01   7.21155744e-01\n",
      "   7.24447241e-01   7.35763249e-01   7.42842546e-01   7.52512093e-01\n",
      "   7.53650257e-01   7.61761255e-01   7.64965723e-01   7.82003850e-01\n",
      "   7.88412044e-01   8.57249660e-01   8.64047811e-01   8.69010720e-01\n",
      "   8.76149181e-01   8.40008634e-01   8.37745608e-01   8.85653277e-01\n",
      "   9.51848548e-01   8.17140960e-01   7.92528865e-01   9.43345636e-01\n",
      "   9.38616398e-01   9.13629600e-01   9.19194508e-01   9.02748697e-01\n",
      "   9.21516417e-01   8.29287378e-01   8.99254302e-01   7.98918914e-01\n",
      "   7.74345430e-01   8.28464093e-01   9.26713412e-01   9.85435168e-01\n",
      "   5.52796765e-01   5.59411593e-01   5.64249177e-01   5.67413381e-01\n",
      "   5.72355085e-01   6.99287150e-01   6.91198604e-01   5.82300870e-01\n",
      "   6.44960241e-01   5.95117907e-01   6.19842612e-01   6.10383403e-01\n",
      "   6.28334142e-01   6.32024551e-01   6.54449900e-01   6.85761715e-01\n",
      "   5.90962091e-01   6.79811416e-01   6.66113385e-01   6.87948222e-01\n",
      "   5.78334108e-01   5.89853955e-01   6.58446479e-01   6.67662100e-01\n",
      "   6.35073303e-01   6.12465615e-01   6.75193416e-01   4.39049196e-01\n",
      "   4.43488555e-01   4.49162697e-01   4.57039565e-01   4.60153217e-01\n",
      "   4.65229020e-01   4.72409330e-01   5.44011308e-01   5.34348394e-01\n",
      "   5.42754286e-01   5.24942444e-01   4.94674234e-01   4.85119721e-01\n",
      "   5.00874024e-01   5.14349875e-01   5.17179331e-01   5.20669887e-01\n",
      "   5.07653333e-01   4.87205853e-01   4.92047220e-01   4.78369890e-01\n",
      "   4.80154835e-01   5.28459849e-01   5.03426958e-01   3.55155860e-01\n",
      "   3.58038281e-01   3.64456153e-01   3.69147993e-01   4.36801102e-01\n",
      "   4.32369751e-01   4.25926739e-01   4.13232308e-01   4.10824407e-01\n",
      "   3.76686252e-01   3.81043167e-01   4.29298850e-01   4.03759611e-01\n",
      "   4.07710138e-01   3.89016975e-01   4.01050259e-01   3.86018231e-01\n",
      "   3.73726292e-01   3.87405010e-01   3.72261122e-01   3.93216950e-01\n",
      "   4.21246086e-01   3.98032989e-01   2.82464872e-01   2.83609291e-01\n",
      "   2.84951703e-01   3.44823588e-01   3.49494051e-01   3.50928144e-01\n",
      "   3.40609928e-01   3.38388389e-01   2.90756921e-01   2.96075222e-01\n",
      "   2.92797921e-01   3.30311686e-01   3.25739424e-01   3.34890706e-01\n",
      "   3.07450328e-01   3.19964451e-01   3.60971501e-01   2.91684684e-01\n",
      "   3.16946434e-01   3.01697715e-01   3.14335022e-01   3.34230462e-01\n",
      "   3.54208899e-01   3.11398199e-01   3.02460029e-01   2.99711250e-01\n",
      "   3.24031306e-01   3.13135835e-01   2.80889493e-01   2.78695721e-01\n",
      "   2.76116231e-01   2.73385971e-01   2.71007997e-01   2.66169002e-01\n",
      "   2.67435101e-01   2.63361436e-01   2.61094990e-01   2.57955969e-01\n",
      "   2.24916002e-01   2.25945411e-01   2.53233806e-01   2.49400793e-01\n",
      "   2.26591739e-01   2.46063110e-01   2.37267904e-01   2.30503251e-01\n",
      "   2.34463616e-01   2.50196315e-01   2.39954123e-01   2.27642077e-01\n",
      "   2.56119285e-01   2.28892201e-01   2.41313183e-01   2.33231829e-01\n",
      "   2.44334599e-01   2.18194807e-01   2.21003877e-01   2.21657688e-01\n",
      "   2.23427794e-01   2.16192843e-01   1.78997986e-01   1.79924926e-01\n",
      "   2.14577930e-01   2.13790566e-01   2.10417116e-01   2.11255542e-01\n",
      "   1.82577851e-01   1.81752466e-01   1.84450374e-01   2.06873385e-01\n",
      "   2.05029712e-01   1.86500376e-01   1.80591593e-01   2.03519721e-01\n",
      "   2.02227622e-01   1.90324889e-01   1.99396948e-01   1.95100619e-01\n",
      "   1.92292434e-01   2.00572013e-01   1.95972284e-01   1.98265689e-01\n",
      "   1.89634390e-01   2.06418878e-01   1.91755599e-01   1.85879658e-01\n",
      "   1.76805415e-01   1.46512782e-01   1.47064527e-01   1.74753544e-01\n",
      "   1.73969286e-01   1.75733598e-01   1.73066095e-01   1.48768198e-01\n",
      "   1.68572417e-01   1.67176719e-01   1.49639623e-01   1.50268079e-01\n",
      "   1.51479148e-01   1.70777767e-01   1.65094491e-01   1.71115082e-01\n",
      "   1.52378319e-01   1.63506709e-01   1.61847480e-01   1.58740174e-01\n",
      "   1.55868230e-01   1.57103678e-01   1.54290559e-01   1.54649000e-01\n",
      "   1.63939963e-01   1.60801829e-01   1.57640490e-01   1.54992243e-01\n",
      "   1.60103454e-01   5.98355043e-03   1.45582022e-01   1.44924618e-01\n",
      "   1.25341603e-01   1.44171185e-01   1.25588485e-01   1.26721977e-01\n",
      "   1.41276209e-01   1.42596015e-01   1.40336126e-01   1.27374442e-01\n",
      "   1.36757845e-01   1.35725829e-01   1.31656851e-01   1.30176474e-01\n",
      "   1.28919017e-01   1.37621947e-01   1.42956876e-01   1.32640386e-01\n",
      "   1.33996629e-01   1.37825537e-01   1.33407651e-01   1.27638978e-01\n",
      "   1.34376011e-01   1.29557790e-01  -5.42133374e-16  -2.42359939e-15\n",
      "  -6.94143473e-15  -5.91513160e-15  -4.79590008e-15   1.06295944e-02\n",
      "   1.27113024e-02   1.10264728e-01   1.10551138e-01   1.11922361e-01\n",
      "   1.24657038e-01   1.24206324e-01   1.22795208e-01   1.12313812e-01\n",
      "   1.13073657e-01   1.21614022e-01   1.21970667e-01   1.13602805e-01\n",
      "   1.20618453e-01   1.20142718e-01   1.15357794e-01   1.16953448e-01\n",
      "   1.19639642e-01   1.18283641e-01   1.14518812e-01   1.18416640e-01\n",
      "   1.14621960e-01   1.16393593e-01   1.16127300e-01   1.67591758e-02\n",
      "   1.77878019e-02   1.84482055e-02   1.96986815e-02   1.95891924e-02\n",
      "   1.09002507e-01   1.08287099e-01   1.07144522e-01   1.06401078e-01\n",
      "   1.06156927e-01   1.05500248e-01   9.70119854e-02   9.77498899e-02\n",
      "   1.05198618e-01   1.03168335e-01   9.83025875e-02   1.02137811e-01\n",
      "   1.00795221e-01   9.89293608e-02   1.04978582e-01   9.72267605e-02\n",
      "   1.00123972e-01   1.03990714e-01   9.91255270e-02   1.02353721e-01\n",
      "   1.04920182e-01   1.00061097e-01   1.01278608e-01   2.05746307e-02\n",
      "   2.07364442e-02   2.10141359e-02   2.14400172e-02   2.20397006e-02\n",
      "   2.26990901e-02   2.29458163e-02   2.29977519e-02   2.32065429e-02\n",
      "   2.35978205e-02   2.37831119e-02   2.40983483e-02   2.42226288e-02\n",
      "   2.45126917e-02   9.54118298e-02   9.58593201e-02   9.50910630e-02\n",
      "   2.49640617e-02   9.41922096e-02   9.38993461e-02   2.54779565e-02\n",
      "   9.34802255e-02   9.24051206e-02   9.29403351e-02   9.32894890e-02\n",
      "   2.51159212e-02   9.11071967e-02   9.12518303e-02   8.97897700e-02\n",
      "   9.00321907e-02   8.93851209e-02   8.85987887e-02   8.82721491e-02\n",
      "   8.71440030e-02   8.67167409e-02   8.72752326e-02   2.57921898e-02\n",
      "   2.59565507e-02   2.61914763e-02   2.63848494e-02   2.64140633e-02\n",
      "   2.68609669e-02   2.70154447e-02   2.71582504e-02   2.73415552e-02\n",
      "   2.96369079e-02   2.79200554e-02   2.91563295e-02   2.90081273e-02\n",
      "   2.80574637e-02   2.87356441e-02   2.84328086e-02   2.84831820e-02\n",
      "   8.64353895e-02   8.68761345e-02   8.54189697e-02   8.55819401e-02\n",
      "   8.43998152e-02   8.32700948e-02   8.41150817e-02   8.29093286e-02\n",
      "   8.38091393e-02   8.23440656e-02   8.11701898e-02   8.07123000e-02\n",
      "   7.93041672e-02   7.98960709e-02   8.04423354e-02   7.83565026e-02\n",
      "   7.98205117e-02   7.80648112e-02   7.74562610e-02   7.62418364e-02\n",
      "   7.70850928e-02   7.65261062e-02   7.73098972e-02   7.59380478e-02\n",
      "   6.74920391e-02   7.52491653e-02   7.53166466e-02   6.80981472e-02\n",
      "   7.47173876e-02   6.83957157e-02   6.86947356e-02   6.95950124e-02\n",
      "   6.93889683e-02   7.40514763e-02   7.13989919e-02   7.21535188e-02\n",
      "   7.09320954e-02   7.25258429e-02   7.02124894e-02   6.91916336e-02\n",
      "   7.06683051e-02   7.38359296e-02   7.30425701e-02   7.29541283e-02\n",
      "   7.33228550e-02   2.99500860e-02   3.01727256e-02   3.02178545e-02\n",
      "   3.11663714e-02   3.07872479e-02   3.06774229e-02   6.52615327e-02\n",
      "   6.68318766e-02   6.64367252e-02   6.56845036e-02   6.60620876e-02\n",
      "   6.85183934e-02   3.15474972e-02   3.10286661e-02   3.17432911e-02\n",
      "   3.30709760e-02   3.33507593e-02   3.26810692e-02   3.22460851e-02\n",
      "   3.24377797e-02   3.23423658e-02   6.48895842e-02   6.45113944e-02\n",
      "   6.37496167e-02   6.34561195e-02   5.94214342e-02   5.98156006e-02\n",
      "   6.13236065e-02   6.22572923e-02   6.28753528e-02   6.40713116e-02\n",
      "   6.18862953e-02   6.19730334e-02   6.06916551e-02   5.95788580e-02\n",
      "   6.30792907e-02   6.04044693e-02   6.03731479e-02   5.86204052e-02\n",
      "   5.83854380e-02   3.36507933e-02   3.41311224e-02   5.80085445e-02\n",
      "   3.47454885e-02   3.42969410e-02   5.77368007e-02   5.76185379e-02\n",
      "   5.72531805e-02   5.64576481e-02   3.42683797e-02   5.60987143e-02\n",
      "   5.71504578e-02   3.50902726e-02   3.53725089e-02   5.54645954e-02\n",
      "   5.52981564e-02   5.50492205e-02   3.52222181e-02   5.47110821e-02\n",
      "   3.63224404e-02   3.66951901e-02   3.58380356e-02   5.43586901e-02\n",
      "   3.82443727e-02   3.69097707e-02   3.78640767e-02   5.32668711e-02\n",
      "   3.90409275e-02   3.86336005e-02   3.72165581e-02   3.60070905e-02\n",
      "   5.27438925e-02   5.40611831e-02   5.35276392e-02   3.75226010e-02\n",
      "   3.71304090e-02   3.58840819e-02   5.41768573e-02   5.30210535e-02\n",
      "   3.76610347e-02   3.86983564e-02   5.18962617e-02   3.99830031e-02\n",
      "   3.98285769e-02   5.16580790e-02   3.95699240e-02   3.95132071e-02\n",
      "   4.11818116e-02   4.06510780e-02   3.91756140e-02   4.04002258e-02\n",
      "   4.03339741e-02   5.13896586e-02   5.00320902e-02   5.03631037e-02\n",
      "   5.09349383e-02   4.16620680e-02   4.24867172e-02   4.20487707e-02\n",
      "   5.08656970e-02   5.11895197e-02   4.27654912e-02   4.93062886e-02\n",
      "   4.55825718e-02   4.30378536e-02   4.45098556e-02   4.38139356e-02\n",
      "   4.32753494e-02   4.33496451e-02   4.19068848e-02   4.72892398e-02\n",
      "   4.60658781e-02   4.76954073e-02   4.65171859e-02   4.52942952e-02\n",
      "   4.47840374e-02   4.91655599e-02   4.82323916e-02   4.62727633e-02\n",
      "   4.50214020e-02   4.80204945e-02   4.87607617e-02   4.68531030e-02\n",
      "   4.96066912e-02   4.17227965e-02   5.07961123e-02   4.83339767e-02\n",
      "   4.87828280e-02   4.69867293e-02   4.40921884e-02   4.36409122e-02\n",
      "   4.49119823e-02   0.00000000e+00   0.00000000e+00   0.00000000e+00\n",
      "   0.00000000e+00   0.00000000e+00   0.00000000e+00   0.00000000e+00\n",
      "   0.00000000e+00   0.00000000e+00   0.00000000e+00   0.00000000e+00\n",
      "   0.00000000e+00   0.00000000e+00   0.00000000e+00   0.00000000e+00\n",
      "   0.00000000e+00   0.00000000e+00   0.00000000e+00   0.00000000e+00\n",
      "   0.00000000e+00   0.00000000e+00   0.00000000e+00   0.00000000e+00\n",
      "   0.00000000e+00   0.00000000e+00   0.00000000e+00   0.00000000e+00\n",
      "   0.00000000e+00   0.00000000e+00   0.00000000e+00   0.00000000e+00\n",
      "   0.00000000e+00   0.00000000e+00   0.00000000e+00   0.00000000e+00\n",
      "   0.00000000e+00   0.00000000e+00   0.00000000e+00   0.00000000e+00\n",
      "   0.00000000e+00   0.00000000e+00   0.00000000e+00   0.00000000e+00\n",
      "   0.00000000e+00   0.00000000e+00   0.00000000e+00   0.00000000e+00\n",
      "   0.00000000e+00   0.00000000e+00   0.00000000e+00   0.00000000e+00\n",
      "   0.00000000e+00   0.00000000e+00   0.00000000e+00   0.00000000e+00\n",
      "   0.00000000e+00   0.00000000e+00   0.00000000e+00   0.00000000e+00\n",
      "   0.00000000e+00   0.00000000e+00   0.00000000e+00   0.00000000e+00\n",
      "   0.00000000e+00   0.00000000e+00   0.00000000e+00   0.00000000e+00\n",
      "   0.00000000e+00   0.00000000e+00   0.00000000e+00   0.00000000e+00\n",
      "   0.00000000e+00   0.00000000e+00   0.00000000e+00   0.00000000e+00\n",
      "   0.00000000e+00   0.00000000e+00   0.00000000e+00   0.00000000e+00]\n"
     ]
    }
   ],
   "source": [
    "#共分散行列を固有ベクトルと固有値に分解する\n",
    "eigen_vals,eigen_vecs = np.linalg.eig(cov_mat)\n",
    "print('Eogenvals\\n%s') % eigen_vals"
   ]
  },
  {
   "cell_type": "code",
   "execution_count": 13,
   "metadata": {
    "collapsed": false
   },
   "outputs": [
    {
     "data": {
      "image/png": "[encoded data removed]",
      "text/plain": [
       "<matplotlib.figure.Figure at 0x7fdd26bfdd50>"
      ]
     },
     "metadata": {},
     "output_type": "display_data"
    }
   ],
   "source": [
    "#最も大きいk個の固有値に対応するk個の固有ベクトルを選択する。\n",
    "#分散説明率をプロットする\n",
    "\n",
    "#固有値を合計する\n",
    "tot = sum(eigen_vals)\n",
    "#分散説明率を計算\n",
    "var_exp = [(i/ tot) for i in sorted(eigen_vals,reverse=True)]\n",
    "#分散説明率の累積和を取得\n",
    "cum_var_exp = np.cumsum(var_exp)\n",
    "\n",
    "plt.figure(figsize=(12,8))\n",
    "plt.bar(range(1,eigen_vals.shape[0]+1),var_exp,alpha=0.5,align='center',\n",
    "        label='individual explained variance')\n",
    "plt.step(range(1,eigen_vals.shape[0]+1),cum_var_exp,where='mid',\n",
    "        label='cumulative explained variance')\n",
    "plt.ylabel('Explained variance ratio')\n",
    "plt.xlabel('principal components')\n",
    "plt.legend(loc='best')\n",
    "plt.show()"
   ]
  },
  {
   "cell_type": "markdown",
   "metadata": {},
   "source": [
    "- 上位100個でおおよそ7割説明可能\n",
    "- 8割の説明が欲しい場合はおおよそ上位150個の特徴量が必要"
   ]
  },
  {
   "cell_type": "code",
   "execution_count": 14,
   "metadata": {
    "collapsed": false,
    "scrolled": false
   },
   "outputs": [],
   "source": [
    "#上位k個の固有ベクトルから射影行列を作成する。\n",
    "eigen_pairs = [(np.abs(eigen_vals[i]),eigen_vecs[:,i]) for i in range(len(eigen_vals))]"
   ]
  },
  {
   "cell_type": "code",
   "execution_count": 15,
   "metadata": {
    "collapsed": false
   },
   "outputs": [],
   "source": [
    "eigen_pairs.sort(reverse=True,key=lambda eigen_pairs: eigen_pairs[0])"
   ]
  },
  {
   "cell_type": "code",
   "execution_count": 16,
   "metadata": {
    "collapsed": false
   },
   "outputs": [
    {
     "name": "stdout",
     "output_type": "stream",
     "text": [
      "Matrix W:\n",
      "[[ 0.  0.  0. ...,  0.  0.  0.]\n",
      " [ 0.  0.  0. ...,  0.  0.  0.]\n",
      " [ 0.  0.  0. ...,  0.  0.  0.]\n",
      " ..., \n",
      " [ 0.  0.  0. ...,  0.  0.  0.]\n",
      " [ 0.  0.  0. ...,  0.  0.  0.]\n",
      " [ 0.  0.  0. ...,  0.  0.  0.]]\n"
     ]
    }
   ],
   "source": [
    "w = np.hstack([eigen_pairs[i][1][:,np.newaxis] for i in range(0,100)])\n",
    "print('Matrix W:\\n%s') %w"
   ]
  },
  {
   "cell_type": "code",
   "execution_count": 17,
   "metadata": {
    "collapsed": false
   },
   "outputs": [
    {
     "data": {
      "text/plain": [
       "(29400, 100)"
      ]
     },
     "execution_count": 17,
     "metadata": {},
     "output_type": "execute_result"
    }
   ],
   "source": [
    "#射影行列を使ってd次元の入力データセットXを変換し、新しいk次元の特徴部分空間を取得する。\n",
    "X_train_pca = X_train_std.dot(w)\n",
    "X_train_pca.shape"
   ]
  },
  {
   "cell_type": "code",
   "execution_count": 18,
   "metadata": {
    "collapsed": false
   },
   "outputs": [
    {
     "name": "stdout",
     "output_type": "stream",
     "text": [
      "CPU times: user 52.1 s, sys: 183 ms, total: 52.2 s\n",
      "Wall time: 53.8 s\n",
      "train score: 0.911\n"
     ]
    }
   ],
   "source": [
    "#学習時間の計測\n",
    "lr = LogisticRegression(random_state=0)\n",
    "%time lr.fit(X_train_pca,y_train)\n",
    "prediction = lr.predict(X_train_pca)\n",
    "print('train score: %.3f') % accuracy_score(y_train,prediction)"
   ]
  },
  {
   "cell_type": "markdown",
   "metadata": {},
   "source": [
    "計算時間はおおよそ1/7になった！"
   ]
  },
  {
   "cell_type": "code",
   "execution_count": 19,
   "metadata": {
    "collapsed": false
   },
   "outputs": [
    {
     "name": "stdout",
     "output_type": "stream",
     "text": [
      "CPU times: user 12.6 s, sys: 28.3 ms, total: 12.6 s\n",
      "Wall time: 12.8 s\n",
      "train score: 0.908\n"
     ]
    }
   ],
   "source": [
    "lr_sgd = SGDClassifier(loss='log',random_state=1,n_iter=100)\n",
    "\n",
    "\n",
    "%time lr_sgd.fit(X_train_pca,y_train)\n",
    "\n",
    "prediction = lr_sgd.predict(X_train_pca)\n",
    "\n",
    "print('train score: %.3f') %accuracy_score(prediction,y_train)"
   ]
  },
  {
   "cell_type": "markdown",
   "metadata": {},
   "source": [
    "計算時間がおおよそ1/5になった。"
   ]
  },
  {
   "cell_type": "markdown",
   "metadata": {},
   "source": [
    "- 学習方法には確率的勾配法を用いる\n",
    "- 訓練データは主成分分析を行って、分散説明率が80%のデータに変換する。"
   ]
  },
  {
   "cell_type": "code",
   "execution_count": 20,
   "metadata": {
    "collapsed": false
   },
   "outputs": [
    {
     "name": "stdout",
     "output_type": "stream",
     "text": [
      "CPU times: user 8.18 s, sys: 122 ms, total: 8.3 s\n",
      "Wall time: 8.57 s\n"
     ]
    },
    {
     "data": {
      "text/plain": [
       "Pipeline(steps=[('scl', StandardScaler(copy=True, with_mean=True, with_std=True)), ('pca', PCA(copy=True, n_components=150, whiten=False)), ('clf', SGDClassifier(alpha=0.0001, average=False, class_weight=None, epsilon=0.1,\n",
       "       eta0=0.0, fit_intercept=True, l1_ratio=0.15,\n",
       "       learning_rate='optimal', loss='log', n_iter=5, n_jobs=1,\n",
       "       penalty='l2', power_t=0.5, random_state=None, shuffle=True,\n",
       "       verbose=0, warm_start=False))])"
      ]
     },
     "execution_count": 20,
     "metadata": {},
     "output_type": "execute_result"
    }
   ],
   "source": [
    "from sklearn.decomposition import PCA\n",
    "from sklearn.pipeline import Pipeline\n",
    "\n",
    "pipe_lr = Pipeline([('scl',StandardScaler()),('pca',PCA(n_components=150)),\n",
    "                   ('clf',SGDClassifier(loss='log'))])\n",
    "\n",
    "%time pipe_lr.fit(X_train,y_train)\n"
   ]
  },
  {
   "cell_type": "code",
   "execution_count": 21,
   "metadata": {
    "collapsed": false
   },
   "outputs": [
    {
     "name": "stdout",
     "output_type": "stream",
     "text": [
      "train accuracy: 0.9106\n",
      "test accuracy: 0.9113\n"
     ]
    }
   ],
   "source": [
    "predict_train = pipe_lr.predict(X_train)\n",
    "predict_test = pipe_lr.predict(X_test)\n",
    "\n",
    "print('train accuracy: %.4f') % accuracy_score(y_train,predict_train)\n",
    "print('test accuracy: %.4f') % accuracy_score(y_test,predict_test)"
   ]
  },
  {
   "cell_type": "markdown",
   "metadata": {},
   "source": [
    "精度はあまり良くないけど、ここでは計算時間を優先させることしよう。\n",
    "\n",
    "grid_searchのパラメタどうすっかな。1回あたり約25秒だからcv=5で10分に抑えたかったら、5個。。。\n",
    "\n",
    "流石に無理だから今回は1時間まで許容するか。\n",
    "\n",
    "n_jobs=-1にすれば少しはマシになるかもしれない。自分のコンピュータのコア数しらねーけどな！\n",
    "\n",
    "って訳で、下のパラメータでgridsearchします。\n",
    "- 正則化をl1にするかl2にするか→2\n",
    "- 正則化の強さ→5\n",
    "\n",
    "あとよくわかってなかったけどグリッドサーチ→交差検定→学習と評価の手順みたいっすね。\n",
    "\n",
    "でもsklearnのグリッドサーチって、交差検定までやってくれてるよな？？"
   ]
  },
  {
   "cell_type": "code",
   "execution_count": 22,
   "metadata": {
    "collapsed": false
   },
   "outputs": [
    {
     "name": "stdout",
     "output_type": "stream",
     "text": [
      "CPU times: user 6min 16s, sys: 5.72 s, total: 6min 22s\n",
      "Wall time: 6min 25s\n",
      "best score: 0.897\n",
      "best params: {'clf__penalty': 'l2', 'clf__alpha': 0.001}\n"
     ]
    }
   ],
   "source": [
    "from sklearn.grid_search import GridSearchCV\n",
    "\n",
    "pipe_lr = Pipeline([('scl',StandardScaler()),('pca',PCA(n_components=150)),\n",
    "                   ('clf',SGDClassifier(loss='log'))])\n",
    "param_grid = [{'clf__penalty':['l1'],'clf__alpha':[0.001,0.01,0.1,1.0,10]},\n",
    "             {'clf__penalty':['l2'],'clf__alpha':[0.001,0.01,0.1,1.0,10]}]\n",
    "\n",
    "gs = GridSearchCV(estimator=pipe_lr,\n",
    "                 param_grid=param_grid,\n",
    "                 scoring='accuracy',\n",
    "                 cv=5,\n",
    "                 n_jobs=-1)\n",
    "%time gs.fit(X_train,y_train)\n",
    "\n",
    "print('best score: %.3f') % gs.best_score_\n",
    "\n",
    "print('best params: %s') %gs.best_params_"
   ]
  },
  {
   "cell_type": "markdown",
   "metadata": {},
   "source": [
    "おいおいって位精度ひくいですな。。。\n",
    "\n",
    "カーネルPCAを使ってみる。PCAの非線形バージョンってことと、内積だけわかればいいので非線形変換写像を陽に求めなくて良いので計算コストが低いってここと、カーネルってのは類似度であるってことくらいしかわかっていません。\n",
    "\n",
    "追伸：\n",
    "\n",
    "この下のコードは時間がアホほどかかるため、使えません。数学的な背景わからないと、計算コストとか見積もれないよね。。。\n",
    "\n",
    "ということで、ここでゲームセット"
   ]
  },
  {
   "cell_type": "code",
   "execution_count": 23,
   "metadata": {
    "collapsed": false
   },
   "outputs": [
    {
     "ename": "KeyboardInterrupt",
     "evalue": "",
     "output_type": "error",
     "traceback": [
      "\u001b[0;31m---------------------------------------------------------------------------\u001b[0m",
      "\u001b[0;31mKeyboardInterrupt\u001b[0m                         Traceback (most recent call last)",
      "\u001b[0;32m<ipython-input-23-22263e16e5ae>\u001b[0m in \u001b[0;36m<module>\u001b[0;34m()\u001b[0m\n\u001b[1;32m     11\u001b[0m                  \u001b[0mcv\u001b[0m\u001b[0;34m=\u001b[0m\u001b[0;36m5\u001b[0m\u001b[0;34m,\u001b[0m\u001b[0;34m\u001b[0m\u001b[0m\n\u001b[1;32m     12\u001b[0m                  n_jobs=-1)\n\u001b[0;32m---> 13\u001b[0;31m \u001b[0mget_ipython\u001b[0m\u001b[0;34m(\u001b[0m\u001b[0;34m)\u001b[0m\u001b[0;34m.\u001b[0m\u001b[0mmagic\u001b[0m\u001b[0;34m(\u001b[0m\u001b[0;34mu'time gs.fit(X_train,y_train)'\u001b[0m\u001b[0;34m)\u001b[0m\u001b[0;34m\u001b[0m\u001b[0m\n\u001b[0m\u001b[1;32m     14\u001b[0m \u001b[0;34m\u001b[0m\u001b[0m\n\u001b[1;32m     15\u001b[0m \u001b[0;32mprint\u001b[0m\u001b[0;34m(\u001b[0m\u001b[0;34m'best score: %.3f'\u001b[0m\u001b[0;34m)\u001b[0m \u001b[0;34m%\u001b[0m \u001b[0mgs\u001b[0m\u001b[0;34m.\u001b[0m\u001b[0mbest_score_\u001b[0m\u001b[0;34m\u001b[0m\u001b[0m\n",
      "\u001b[0;32m/home/kyohei/anaconda2/lib/python2.7/site-packages/IPython/core/interactiveshell.pyc\u001b[0m in \u001b[0;36mmagic\u001b[0;34m(self, arg_s)\u001b[0m\n\u001b[1;32m   2156\u001b[0m         \u001b[0mmagic_name\u001b[0m\u001b[0;34m,\u001b[0m \u001b[0m_\u001b[0m\u001b[0;34m,\u001b[0m \u001b[0mmagic_arg_s\u001b[0m \u001b[0;34m=\u001b[0m \u001b[0marg_s\u001b[0m\u001b[0;34m.\u001b[0m\u001b[0mpartition\u001b[0m\u001b[0;34m(\u001b[0m\u001b[0;34m' '\u001b[0m\u001b[0;34m)\u001b[0m\u001b[0;34m\u001b[0m\u001b[0m\n\u001b[1;32m   2157\u001b[0m         \u001b[0mmagic_name\u001b[0m \u001b[0;34m=\u001b[0m \u001b[0mmagic_name\u001b[0m\u001b[0;34m.\u001b[0m\u001b[0mlstrip\u001b[0m\u001b[0;34m(\u001b[0m\u001b[0mprefilter\u001b[0m\u001b[0;34m.\u001b[0m\u001b[0mESC_MAGIC\u001b[0m\u001b[0;34m)\u001b[0m\u001b[0;34m\u001b[0m\u001b[0m\n\u001b[0;32m-> 2158\u001b[0;31m         \u001b[0;32mreturn\u001b[0m \u001b[0mself\u001b[0m\u001b[0;34m.\u001b[0m\u001b[0mrun_line_magic\u001b[0m\u001b[0;34m(\u001b[0m\u001b[0mmagic_name\u001b[0m\u001b[0;34m,\u001b[0m \u001b[0mmagic_arg_s\u001b[0m\u001b[0;34m)\u001b[0m\u001b[0;34m\u001b[0m\u001b[0m\n\u001b[0m\u001b[1;32m   2159\u001b[0m \u001b[0;34m\u001b[0m\u001b[0m\n\u001b[1;32m   2160\u001b[0m     \u001b[0;31m#-------------------------------------------------------------------------\u001b[0m\u001b[0;34m\u001b[0m\u001b[0;34m\u001b[0m\u001b[0m\n",
      "\u001b[0;32m/home/kyohei/anaconda2/lib/python2.7/site-packages/IPython/core/interactiveshell.pyc\u001b[0m in \u001b[0;36mrun_line_magic\u001b[0;34m(self, magic_name, line)\u001b[0m\n\u001b[1;32m   2077\u001b[0m                 \u001b[0mkwargs\u001b[0m\u001b[0;34m[\u001b[0m\u001b[0;34m'local_ns'\u001b[0m\u001b[0;34m]\u001b[0m \u001b[0;34m=\u001b[0m \u001b[0msys\u001b[0m\u001b[0;34m.\u001b[0m\u001b[0m_getframe\u001b[0m\u001b[0;34m(\u001b[0m\u001b[0mstack_depth\u001b[0m\u001b[0;34m)\u001b[0m\u001b[0;34m.\u001b[0m\u001b[0mf_locals\u001b[0m\u001b[0;34m\u001b[0m\u001b[0m\n\u001b[1;32m   2078\u001b[0m             \u001b[0;32mwith\u001b[0m \u001b[0mself\u001b[0m\u001b[0;34m.\u001b[0m\u001b[0mbuiltin_trap\u001b[0m\u001b[0;34m:\u001b[0m\u001b[0;34m\u001b[0m\u001b[0m\n\u001b[0;32m-> 2079\u001b[0;31m                 \u001b[0mresult\u001b[0m \u001b[0;34m=\u001b[0m \u001b[0mfn\u001b[0m\u001b[0;34m(\u001b[0m\u001b[0;34m*\u001b[0m\u001b[0margs\u001b[0m\u001b[0;34m,\u001b[0m\u001b[0;34m**\u001b[0m\u001b[0mkwargs\u001b[0m\u001b[0;34m)\u001b[0m\u001b[0;34m\u001b[0m\u001b[0m\n\u001b[0m\u001b[1;32m   2080\u001b[0m             \u001b[0;32mreturn\u001b[0m \u001b[0mresult\u001b[0m\u001b[0;34m\u001b[0m\u001b[0m\n\u001b[1;32m   2081\u001b[0m \u001b[0;34m\u001b[0m\u001b[0m\n",
      "\u001b[0;32m<decorator-gen-59>\u001b[0m in \u001b[0;36mtime\u001b[0;34m(self, line, cell, local_ns)\u001b[0m\n",
      "\u001b[0;32m/home/kyohei/anaconda2/lib/python2.7/site-packages/IPython/core/magic.pyc\u001b[0m in \u001b[0;36m<lambda>\u001b[0;34m(f, *a, **k)\u001b[0m\n\u001b[1;32m    186\u001b[0m     \u001b[0;31m# but it's overkill for just that one bit of state.\u001b[0m\u001b[0;34m\u001b[0m\u001b[0;34m\u001b[0m\u001b[0m\n\u001b[1;32m    187\u001b[0m     \u001b[0;32mdef\u001b[0m \u001b[0mmagic_deco\u001b[0m\u001b[0;34m(\u001b[0m\u001b[0marg\u001b[0m\u001b[0;34m)\u001b[0m\u001b[0;34m:\u001b[0m\u001b[0;34m\u001b[0m\u001b[0m\n\u001b[0;32m--> 188\u001b[0;31m         \u001b[0mcall\u001b[0m \u001b[0;34m=\u001b[0m \u001b[0;32mlambda\u001b[0m \u001b[0mf\u001b[0m\u001b[0;34m,\u001b[0m \u001b[0;34m*\u001b[0m\u001b[0ma\u001b[0m\u001b[0;34m,\u001b[0m \u001b[0;34m**\u001b[0m\u001b[0mk\u001b[0m\u001b[0;34m:\u001b[0m \u001b[0mf\u001b[0m\u001b[0;34m(\u001b[0m\u001b[0;34m*\u001b[0m\u001b[0ma\u001b[0m\u001b[0;34m,\u001b[0m \u001b[0;34m**\u001b[0m\u001b[0mk\u001b[0m\u001b[0;34m)\u001b[0m\u001b[0;34m\u001b[0m\u001b[0m\n\u001b[0m\u001b[1;32m    189\u001b[0m \u001b[0;34m\u001b[0m\u001b[0m\n\u001b[1;32m    190\u001b[0m         \u001b[0;32mif\u001b[0m \u001b[0mcallable\u001b[0m\u001b[0;34m(\u001b[0m\u001b[0marg\u001b[0m\u001b[0;34m)\u001b[0m\u001b[0;34m:\u001b[0m\u001b[0;34m\u001b[0m\u001b[0m\n",
      "\u001b[0;32m/home/kyohei/anaconda2/lib/python2.7/site-packages/IPython/core/magics/execution.pyc\u001b[0m in \u001b[0;36mtime\u001b[0;34m(self, line, cell, local_ns)\u001b[0m\n\u001b[1;32m   1174\u001b[0m         \u001b[0;32mif\u001b[0m \u001b[0mmode\u001b[0m\u001b[0;34m==\u001b[0m\u001b[0;34m'eval'\u001b[0m\u001b[0;34m:\u001b[0m\u001b[0;34m\u001b[0m\u001b[0m\n\u001b[1;32m   1175\u001b[0m             \u001b[0mst\u001b[0m \u001b[0;34m=\u001b[0m \u001b[0mclock2\u001b[0m\u001b[0;34m(\u001b[0m\u001b[0;34m)\u001b[0m\u001b[0;34m\u001b[0m\u001b[0m\n\u001b[0;32m-> 1176\u001b[0;31m             \u001b[0mout\u001b[0m \u001b[0;34m=\u001b[0m \u001b[0meval\u001b[0m\u001b[0;34m(\u001b[0m\u001b[0mcode\u001b[0m\u001b[0;34m,\u001b[0m \u001b[0mglob\u001b[0m\u001b[0;34m,\u001b[0m \u001b[0mlocal_ns\u001b[0m\u001b[0;34m)\u001b[0m\u001b[0;34m\u001b[0m\u001b[0m\n\u001b[0m\u001b[1;32m   1177\u001b[0m             \u001b[0mend\u001b[0m \u001b[0;34m=\u001b[0m \u001b[0mclock2\u001b[0m\u001b[0;34m(\u001b[0m\u001b[0;34m)\u001b[0m\u001b[0;34m\u001b[0m\u001b[0m\n\u001b[1;32m   1178\u001b[0m         \u001b[0;32melse\u001b[0m\u001b[0;34m:\u001b[0m\u001b[0;34m\u001b[0m\u001b[0m\n",
      "\u001b[0;32m<timed eval>\u001b[0m in \u001b[0;36m<module>\u001b[0;34m()\u001b[0m\n",
      "\u001b[0;32m/home/kyohei/anaconda2/lib/python2.7/site-packages/sklearn/grid_search.pyc\u001b[0m in \u001b[0;36mfit\u001b[0;34m(self, X, y)\u001b[0m\n\u001b[1;32m    802\u001b[0m \u001b[0;34m\u001b[0m\u001b[0m\n\u001b[1;32m    803\u001b[0m         \"\"\"\n\u001b[0;32m--> 804\u001b[0;31m         \u001b[0;32mreturn\u001b[0m \u001b[0mself\u001b[0m\u001b[0;34m.\u001b[0m\u001b[0m_fit\u001b[0m\u001b[0;34m(\u001b[0m\u001b[0mX\u001b[0m\u001b[0;34m,\u001b[0m \u001b[0my\u001b[0m\u001b[0;34m,\u001b[0m \u001b[0mParameterGrid\u001b[0m\u001b[0;34m(\u001b[0m\u001b[0mself\u001b[0m\u001b[0;34m.\u001b[0m\u001b[0mparam_grid\u001b[0m\u001b[0;34m)\u001b[0m\u001b[0;34m)\u001b[0m\u001b[0;34m\u001b[0m\u001b[0m\n\u001b[0m\u001b[1;32m    805\u001b[0m \u001b[0;34m\u001b[0m\u001b[0m\n\u001b[1;32m    806\u001b[0m \u001b[0;34m\u001b[0m\u001b[0m\n",
      "\u001b[0;32m/home/kyohei/anaconda2/lib/python2.7/site-packages/sklearn/grid_search.pyc\u001b[0m in \u001b[0;36m_fit\u001b[0;34m(self, X, y, parameter_iterable)\u001b[0m\n\u001b[1;32m    551\u001b[0m                                     \u001b[0mself\u001b[0m\u001b[0;34m.\u001b[0m\u001b[0mfit_params\u001b[0m\u001b[0;34m,\u001b[0m \u001b[0mreturn_parameters\u001b[0m\u001b[0;34m=\u001b[0m\u001b[0mTrue\u001b[0m\u001b[0;34m,\u001b[0m\u001b[0;34m\u001b[0m\u001b[0m\n\u001b[1;32m    552\u001b[0m                                     error_score=self.error_score)\n\u001b[0;32m--> 553\u001b[0;31m                 \u001b[0;32mfor\u001b[0m \u001b[0mparameters\u001b[0m \u001b[0;32min\u001b[0m \u001b[0mparameter_iterable\u001b[0m\u001b[0;34m\u001b[0m\u001b[0m\n\u001b[0m\u001b[1;32m    554\u001b[0m                 for train, test in cv)\n\u001b[1;32m    555\u001b[0m \u001b[0;34m\u001b[0m\u001b[0m\n",
      "\u001b[0;32m/home/kyohei/anaconda2/lib/python2.7/site-packages/sklearn/externals/joblib/parallel.pyc\u001b[0m in \u001b[0;36m__call__\u001b[0;34m(self, iterable)\u001b[0m\n\u001b[1;32m    798\u001b[0m             \u001b[0;31m# was dispatched. In particular this covers the edge\u001b[0m\u001b[0;34m\u001b[0m\u001b[0;34m\u001b[0m\u001b[0m\n\u001b[1;32m    799\u001b[0m             \u001b[0;31m# case of Parallel used with an exhausted iterator.\u001b[0m\u001b[0;34m\u001b[0m\u001b[0;34m\u001b[0m\u001b[0m\n\u001b[0;32m--> 800\u001b[0;31m             \u001b[0;32mwhile\u001b[0m \u001b[0mself\u001b[0m\u001b[0;34m.\u001b[0m\u001b[0mdispatch_one_batch\u001b[0m\u001b[0;34m(\u001b[0m\u001b[0miterator\u001b[0m\u001b[0;34m)\u001b[0m\u001b[0;34m:\u001b[0m\u001b[0;34m\u001b[0m\u001b[0m\n\u001b[0m\u001b[1;32m    801\u001b[0m                 \u001b[0mself\u001b[0m\u001b[0;34m.\u001b[0m\u001b[0m_iterating\u001b[0m \u001b[0;34m=\u001b[0m \u001b[0mTrue\u001b[0m\u001b[0;34m\u001b[0m\u001b[0m\n\u001b[1;32m    802\u001b[0m             \u001b[0;32melse\u001b[0m\u001b[0;34m:\u001b[0m\u001b[0;34m\u001b[0m\u001b[0m\n",
      "\u001b[0;32m/home/kyohei/anaconda2/lib/python2.7/site-packages/sklearn/externals/joblib/parallel.pyc\u001b[0m in \u001b[0;36mdispatch_one_batch\u001b[0;34m(self, iterator)\u001b[0m\n\u001b[1;32m    656\u001b[0m                 \u001b[0;32mreturn\u001b[0m \u001b[0mFalse\u001b[0m\u001b[0;34m\u001b[0m\u001b[0m\n\u001b[1;32m    657\u001b[0m             \u001b[0;32melse\u001b[0m\u001b[0;34m:\u001b[0m\u001b[0;34m\u001b[0m\u001b[0m\n\u001b[0;32m--> 658\u001b[0;31m                 \u001b[0mself\u001b[0m\u001b[0;34m.\u001b[0m\u001b[0m_dispatch\u001b[0m\u001b[0;34m(\u001b[0m\u001b[0mtasks\u001b[0m\u001b[0;34m)\u001b[0m\u001b[0;34m\u001b[0m\u001b[0m\n\u001b[0m\u001b[1;32m    659\u001b[0m                 \u001b[0;32mreturn\u001b[0m \u001b[0mTrue\u001b[0m\u001b[0;34m\u001b[0m\u001b[0m\n\u001b[1;32m    660\u001b[0m \u001b[0;34m\u001b[0m\u001b[0m\n",
      "\u001b[0;32m/home/kyohei/anaconda2/lib/python2.7/site-packages/sklearn/externals/joblib/parallel.pyc\u001b[0m in \u001b[0;36m_dispatch\u001b[0;34m(self, batch)\u001b[0m\n\u001b[1;32m    564\u001b[0m \u001b[0;34m\u001b[0m\u001b[0m\n\u001b[1;32m    565\u001b[0m         \u001b[0;32mif\u001b[0m \u001b[0mself\u001b[0m\u001b[0;34m.\u001b[0m\u001b[0m_pool\u001b[0m \u001b[0;32mis\u001b[0m \u001b[0mNone\u001b[0m\u001b[0;34m:\u001b[0m\u001b[0;34m\u001b[0m\u001b[0m\n\u001b[0;32m--> 566\u001b[0;31m             \u001b[0mjob\u001b[0m \u001b[0;34m=\u001b[0m \u001b[0mImmediateComputeBatch\u001b[0m\u001b[0;34m(\u001b[0m\u001b[0mbatch\u001b[0m\u001b[0;34m)\u001b[0m\u001b[0;34m\u001b[0m\u001b[0m\n\u001b[0m\u001b[1;32m    567\u001b[0m             \u001b[0mself\u001b[0m\u001b[0;34m.\u001b[0m\u001b[0m_jobs\u001b[0m\u001b[0;34m.\u001b[0m\u001b[0mappend\u001b[0m\u001b[0;34m(\u001b[0m\u001b[0mjob\u001b[0m\u001b[0;34m)\u001b[0m\u001b[0;34m\u001b[0m\u001b[0m\n\u001b[1;32m    568\u001b[0m             \u001b[0mself\u001b[0m\u001b[0;34m.\u001b[0m\u001b[0mn_dispatched_batches\u001b[0m \u001b[0;34m+=\u001b[0m \u001b[0;36m1\u001b[0m\u001b[0;34m\u001b[0m\u001b[0m\n",
      "\u001b[0;32m/home/kyohei/anaconda2/lib/python2.7/site-packages/sklearn/externals/joblib/parallel.pyc\u001b[0m in \u001b[0;36m__init__\u001b[0;34m(self, batch)\u001b[0m\n\u001b[1;32m    178\u001b[0m         \u001b[0;31m# Don't delay the application, to avoid keeping the input\u001b[0m\u001b[0;34m\u001b[0m\u001b[0;34m\u001b[0m\u001b[0m\n\u001b[1;32m    179\u001b[0m         \u001b[0;31m# arguments in memory\u001b[0m\u001b[0;34m\u001b[0m\u001b[0;34m\u001b[0m\u001b[0m\n\u001b[0;32m--> 180\u001b[0;31m         \u001b[0mself\u001b[0m\u001b[0;34m.\u001b[0m\u001b[0mresults\u001b[0m \u001b[0;34m=\u001b[0m \u001b[0mbatch\u001b[0m\u001b[0;34m(\u001b[0m\u001b[0;34m)\u001b[0m\u001b[0;34m\u001b[0m\u001b[0m\n\u001b[0m\u001b[1;32m    181\u001b[0m \u001b[0;34m\u001b[0m\u001b[0m\n\u001b[1;32m    182\u001b[0m     \u001b[0;32mdef\u001b[0m \u001b[0mget\u001b[0m\u001b[0;34m(\u001b[0m\u001b[0mself\u001b[0m\u001b[0;34m)\u001b[0m\u001b[0;34m:\u001b[0m\u001b[0;34m\u001b[0m\u001b[0m\n",
      "\u001b[0;32m/home/kyohei/anaconda2/lib/python2.7/site-packages/sklearn/externals/joblib/parallel.pyc\u001b[0m in \u001b[0;36m__call__\u001b[0;34m(self)\u001b[0m\n\u001b[1;32m     70\u001b[0m \u001b[0;34m\u001b[0m\u001b[0m\n\u001b[1;32m     71\u001b[0m     \u001b[0;32mdef\u001b[0m \u001b[0m__call__\u001b[0m\u001b[0;34m(\u001b[0m\u001b[0mself\u001b[0m\u001b[0;34m)\u001b[0m\u001b[0;34m:\u001b[0m\u001b[0;34m\u001b[0m\u001b[0m\n\u001b[0;32m---> 72\u001b[0;31m         \u001b[0;32mreturn\u001b[0m \u001b[0;34m[\u001b[0m\u001b[0mfunc\u001b[0m\u001b[0;34m(\u001b[0m\u001b[0;34m*\u001b[0m\u001b[0margs\u001b[0m\u001b[0;34m,\u001b[0m \u001b[0;34m**\u001b[0m\u001b[0mkwargs\u001b[0m\u001b[0;34m)\u001b[0m \u001b[0;32mfor\u001b[0m \u001b[0mfunc\u001b[0m\u001b[0;34m,\u001b[0m \u001b[0margs\u001b[0m\u001b[0;34m,\u001b[0m \u001b[0mkwargs\u001b[0m \u001b[0;32min\u001b[0m \u001b[0mself\u001b[0m\u001b[0;34m.\u001b[0m\u001b[0mitems\u001b[0m\u001b[0;34m]\u001b[0m\u001b[0;34m\u001b[0m\u001b[0m\n\u001b[0m\u001b[1;32m     73\u001b[0m \u001b[0;34m\u001b[0m\u001b[0m\n\u001b[1;32m     74\u001b[0m     \u001b[0;32mdef\u001b[0m \u001b[0m__len__\u001b[0m\u001b[0;34m(\u001b[0m\u001b[0mself\u001b[0m\u001b[0;34m)\u001b[0m\u001b[0;34m:\u001b[0m\u001b[0;34m\u001b[0m\u001b[0m\n",
      "\u001b[0;32m/home/kyohei/anaconda2/lib/python2.7/site-packages/sklearn/cross_validation.pyc\u001b[0m in \u001b[0;36m_fit_and_score\u001b[0;34m(estimator, X, y, scorer, train, test, verbose, parameters, fit_params, return_train_score, return_parameters, error_score)\u001b[0m\n\u001b[1;32m   1529\u001b[0m             \u001b[0mestimator\u001b[0m\u001b[0;34m.\u001b[0m\u001b[0mfit\u001b[0m\u001b[0;34m(\u001b[0m\u001b[0mX_train\u001b[0m\u001b[0;34m,\u001b[0m \u001b[0;34m**\u001b[0m\u001b[0mfit_params\u001b[0m\u001b[0;34m)\u001b[0m\u001b[0;34m\u001b[0m\u001b[0m\n\u001b[1;32m   1530\u001b[0m         \u001b[0;32melse\u001b[0m\u001b[0;34m:\u001b[0m\u001b[0;34m\u001b[0m\u001b[0m\n\u001b[0;32m-> 1531\u001b[0;31m             \u001b[0mestimator\u001b[0m\u001b[0;34m.\u001b[0m\u001b[0mfit\u001b[0m\u001b[0;34m(\u001b[0m\u001b[0mX_train\u001b[0m\u001b[0;34m,\u001b[0m \u001b[0my_train\u001b[0m\u001b[0;34m,\u001b[0m \u001b[0;34m**\u001b[0m\u001b[0mfit_params\u001b[0m\u001b[0;34m)\u001b[0m\u001b[0;34m\u001b[0m\u001b[0m\n\u001b[0m\u001b[1;32m   1532\u001b[0m \u001b[0;34m\u001b[0m\u001b[0m\n\u001b[1;32m   1533\u001b[0m     \u001b[0;32mexcept\u001b[0m \u001b[0mException\u001b[0m \u001b[0;32mas\u001b[0m \u001b[0me\u001b[0m\u001b[0;34m:\u001b[0m\u001b[0;34m\u001b[0m\u001b[0m\n",
      "\u001b[0;32m/home/kyohei/anaconda2/lib/python2.7/site-packages/sklearn/pipeline.pyc\u001b[0m in \u001b[0;36mfit\u001b[0;34m(self, X, y, **fit_params)\u001b[0m\n\u001b[1;32m    162\u001b[0m             \u001b[0mthe\u001b[0m \u001b[0mpipeline\u001b[0m\u001b[0;34m.\u001b[0m\u001b[0;34m\u001b[0m\u001b[0m\n\u001b[1;32m    163\u001b[0m         \"\"\"\n\u001b[0;32m--> 164\u001b[0;31m         \u001b[0mXt\u001b[0m\u001b[0;34m,\u001b[0m \u001b[0mfit_params\u001b[0m \u001b[0;34m=\u001b[0m \u001b[0mself\u001b[0m\u001b[0;34m.\u001b[0m\u001b[0m_pre_transform\u001b[0m\u001b[0;34m(\u001b[0m\u001b[0mX\u001b[0m\u001b[0;34m,\u001b[0m \u001b[0my\u001b[0m\u001b[0;34m,\u001b[0m \u001b[0;34m**\u001b[0m\u001b[0mfit_params\u001b[0m\u001b[0;34m)\u001b[0m\u001b[0;34m\u001b[0m\u001b[0m\n\u001b[0m\u001b[1;32m    165\u001b[0m         \u001b[0mself\u001b[0m\u001b[0;34m.\u001b[0m\u001b[0msteps\u001b[0m\u001b[0;34m[\u001b[0m\u001b[0;34m-\u001b[0m\u001b[0;36m1\u001b[0m\u001b[0;34m]\u001b[0m\u001b[0;34m[\u001b[0m\u001b[0;34m-\u001b[0m\u001b[0;36m1\u001b[0m\u001b[0;34m]\u001b[0m\u001b[0;34m.\u001b[0m\u001b[0mfit\u001b[0m\u001b[0;34m(\u001b[0m\u001b[0mXt\u001b[0m\u001b[0;34m,\u001b[0m \u001b[0my\u001b[0m\u001b[0;34m,\u001b[0m \u001b[0;34m**\u001b[0m\u001b[0mfit_params\u001b[0m\u001b[0;34m)\u001b[0m\u001b[0;34m\u001b[0m\u001b[0m\n\u001b[1;32m    166\u001b[0m         \u001b[0;32mreturn\u001b[0m \u001b[0mself\u001b[0m\u001b[0;34m\u001b[0m\u001b[0m\n",
      "\u001b[0;32m/home/kyohei/anaconda2/lib/python2.7/site-packages/sklearn/pipeline.pyc\u001b[0m in \u001b[0;36m_pre_transform\u001b[0;34m(self, X, y, **fit_params)\u001b[0m\n\u001b[1;32m    143\u001b[0m         \u001b[0;32mfor\u001b[0m \u001b[0mname\u001b[0m\u001b[0;34m,\u001b[0m \u001b[0mtransform\u001b[0m \u001b[0;32min\u001b[0m \u001b[0mself\u001b[0m\u001b[0;34m.\u001b[0m\u001b[0msteps\u001b[0m\u001b[0;34m[\u001b[0m\u001b[0;34m:\u001b[0m\u001b[0;34m-\u001b[0m\u001b[0;36m1\u001b[0m\u001b[0;34m]\u001b[0m\u001b[0;34m:\u001b[0m\u001b[0;34m\u001b[0m\u001b[0m\n\u001b[1;32m    144\u001b[0m             \u001b[0;32mif\u001b[0m \u001b[0mhasattr\u001b[0m\u001b[0;34m(\u001b[0m\u001b[0mtransform\u001b[0m\u001b[0;34m,\u001b[0m \u001b[0;34m\"fit_transform\"\u001b[0m\u001b[0;34m)\u001b[0m\u001b[0;34m:\u001b[0m\u001b[0;34m\u001b[0m\u001b[0m\n\u001b[0;32m--> 145\u001b[0;31m                 \u001b[0mXt\u001b[0m \u001b[0;34m=\u001b[0m \u001b[0mtransform\u001b[0m\u001b[0;34m.\u001b[0m\u001b[0mfit_transform\u001b[0m\u001b[0;34m(\u001b[0m\u001b[0mXt\u001b[0m\u001b[0;34m,\u001b[0m \u001b[0my\u001b[0m\u001b[0;34m,\u001b[0m \u001b[0;34m**\u001b[0m\u001b[0mfit_params_steps\u001b[0m\u001b[0;34m[\u001b[0m\u001b[0mname\u001b[0m\u001b[0;34m]\u001b[0m\u001b[0;34m)\u001b[0m\u001b[0;34m\u001b[0m\u001b[0m\n\u001b[0m\u001b[1;32m    146\u001b[0m             \u001b[0;32melse\u001b[0m\u001b[0;34m:\u001b[0m\u001b[0;34m\u001b[0m\u001b[0m\n\u001b[1;32m    147\u001b[0m                 \u001b[0mXt\u001b[0m \u001b[0;34m=\u001b[0m \u001b[0mtransform\u001b[0m\u001b[0;34m.\u001b[0m\u001b[0mfit\u001b[0m\u001b[0;34m(\u001b[0m\u001b[0mXt\u001b[0m\u001b[0;34m,\u001b[0m \u001b[0my\u001b[0m\u001b[0;34m,\u001b[0m \u001b[0;34m**\u001b[0m\u001b[0mfit_params_steps\u001b[0m\u001b[0;34m[\u001b[0m\u001b[0mname\u001b[0m\u001b[0;34m]\u001b[0m\u001b[0;34m)\u001b[0m\u001b[0;31m \u001b[0m\u001b[0;31m\\\u001b[0m\u001b[0;34m\u001b[0m\u001b[0m\n",
      "\u001b[0;32m/home/kyohei/anaconda2/lib/python2.7/site-packages/sklearn/decomposition/kernel_pca.pyc\u001b[0m in \u001b[0;36mfit_transform\u001b[0;34m(self, X, y, **params)\u001b[0m\n\u001b[1;32m    224\u001b[0m         \u001b[0mX_new\u001b[0m\u001b[0;34m:\u001b[0m \u001b[0marray\u001b[0m\u001b[0;34m-\u001b[0m\u001b[0mlike\u001b[0m\u001b[0;34m,\u001b[0m \u001b[0mshape\u001b[0m \u001b[0;34m(\u001b[0m\u001b[0mn_samples\u001b[0m\u001b[0;34m,\u001b[0m \u001b[0mn_components\u001b[0m\u001b[0;34m)\u001b[0m\u001b[0;34m\u001b[0m\u001b[0m\n\u001b[1;32m    225\u001b[0m         \"\"\"\n\u001b[0;32m--> 226\u001b[0;31m         \u001b[0mself\u001b[0m\u001b[0;34m.\u001b[0m\u001b[0mfit\u001b[0m\u001b[0;34m(\u001b[0m\u001b[0mX\u001b[0m\u001b[0;34m,\u001b[0m \u001b[0;34m**\u001b[0m\u001b[0mparams\u001b[0m\u001b[0;34m)\u001b[0m\u001b[0;34m\u001b[0m\u001b[0m\n\u001b[0m\u001b[1;32m    227\u001b[0m \u001b[0;34m\u001b[0m\u001b[0m\n\u001b[1;32m    228\u001b[0m         \u001b[0mX_transformed\u001b[0m \u001b[0;34m=\u001b[0m \u001b[0mself\u001b[0m\u001b[0;34m.\u001b[0m\u001b[0malphas_\u001b[0m \u001b[0;34m*\u001b[0m \u001b[0mnp\u001b[0m\u001b[0;34m.\u001b[0m\u001b[0msqrt\u001b[0m\u001b[0;34m(\u001b[0m\u001b[0mself\u001b[0m\u001b[0;34m.\u001b[0m\u001b[0mlambdas_\u001b[0m\u001b[0;34m)\u001b[0m\u001b[0;34m\u001b[0m\u001b[0m\n",
      "\u001b[0;32m/home/kyohei/anaconda2/lib/python2.7/site-packages/sklearn/decomposition/kernel_pca.pyc\u001b[0m in \u001b[0;36mfit\u001b[0;34m(self, X, y)\u001b[0m\n\u001b[1;32m    201\u001b[0m         \"\"\"\n\u001b[1;32m    202\u001b[0m         \u001b[0mK\u001b[0m \u001b[0;34m=\u001b[0m \u001b[0mself\u001b[0m\u001b[0;34m.\u001b[0m\u001b[0m_get_kernel\u001b[0m\u001b[0;34m(\u001b[0m\u001b[0mX\u001b[0m\u001b[0;34m)\u001b[0m\u001b[0;34m\u001b[0m\u001b[0m\n\u001b[0;32m--> 203\u001b[0;31m         \u001b[0mself\u001b[0m\u001b[0;34m.\u001b[0m\u001b[0m_fit_transform\u001b[0m\u001b[0;34m(\u001b[0m\u001b[0mK\u001b[0m\u001b[0;34m)\u001b[0m\u001b[0;34m\u001b[0m\u001b[0m\n\u001b[0m\u001b[1;32m    204\u001b[0m \u001b[0;34m\u001b[0m\u001b[0m\n\u001b[1;32m    205\u001b[0m         \u001b[0;32mif\u001b[0m \u001b[0mself\u001b[0m\u001b[0;34m.\u001b[0m\u001b[0mfit_inverse_transform\u001b[0m\u001b[0;34m:\u001b[0m\u001b[0;34m\u001b[0m\u001b[0m\n",
      "\u001b[0;32m/home/kyohei/anaconda2/lib/python2.7/site-packages/sklearn/decomposition/kernel_pca.pyc\u001b[0m in \u001b[0;36m_fit_transform\u001b[0;34m(self, K)\u001b[0m\n\u001b[1;32m    156\u001b[0m         \u001b[0;32mif\u001b[0m \u001b[0meigen_solver\u001b[0m \u001b[0;34m==\u001b[0m \u001b[0;34m'dense'\u001b[0m\u001b[0;34m:\u001b[0m\u001b[0;34m\u001b[0m\u001b[0m\n\u001b[1;32m    157\u001b[0m             self.lambdas_, self.alphas_ = linalg.eigh(\n\u001b[0;32m--> 158\u001b[0;31m                 K, eigvals=(K.shape[0] - n_components, K.shape[0] - 1))\n\u001b[0m\u001b[1;32m    159\u001b[0m         \u001b[0;32melif\u001b[0m \u001b[0meigen_solver\u001b[0m \u001b[0;34m==\u001b[0m \u001b[0;34m'arpack'\u001b[0m\u001b[0;34m:\u001b[0m\u001b[0;34m\u001b[0m\u001b[0m\n\u001b[1;32m    160\u001b[0m             self.lambdas_, self.alphas_ = eigsh(K, n_components,\n",
      "\u001b[0;32m/home/kyohei/anaconda2/lib/python2.7/site-packages/scipy/linalg/decomp.pyc\u001b[0m in \u001b[0;36meigh\u001b[0;34m(a, b, lower, eigvals_only, overwrite_a, overwrite_b, turbo, eigvals, type, check_finite)\u001b[0m\n\u001b[1;32m    347\u001b[0m             \u001b[0;34m(\u001b[0m\u001b[0mlo\u001b[0m\u001b[0;34m,\u001b[0m \u001b[0mhi\u001b[0m\u001b[0;34m)\u001b[0m \u001b[0;34m=\u001b[0m \u001b[0meigvals\u001b[0m\u001b[0;34m\u001b[0m\u001b[0m\n\u001b[1;32m    348\u001b[0m             w_tot, v, info = evr(a1, uplo=uplo, jobz=_job, range=\"I\",\n\u001b[0;32m--> 349\u001b[0;31m                                  il=lo, iu=hi, overwrite_a=overwrite_a)\n\u001b[0m\u001b[1;32m    350\u001b[0m             \u001b[0mw\u001b[0m \u001b[0;34m=\u001b[0m \u001b[0mw_tot\u001b[0m\u001b[0;34m[\u001b[0m\u001b[0;36m0\u001b[0m\u001b[0;34m:\u001b[0m\u001b[0mhi\u001b[0m\u001b[0;34m-\u001b[0m\u001b[0mlo\u001b[0m\u001b[0;34m+\u001b[0m\u001b[0;36m1\u001b[0m\u001b[0;34m]\u001b[0m\u001b[0;34m\u001b[0m\u001b[0m\n\u001b[1;32m    351\u001b[0m \u001b[0;34m\u001b[0m\u001b[0m\n",
      "\u001b[0;31mKeyboardInterrupt\u001b[0m: "
     ]
    }
   ],
   "source": [
    "from sklearn.decomposition import KernelPCA\n",
    "\n",
    "pipe_lr = Pipeline([('scl',StandardScaler()),('pca',KernelPCA(n_components=150,kernel='rbf')),\n",
    "                   ('clf',SGDClassifier(loss='log'))])\n",
    "param_grid = [{'pca__gamma':[0.1,1.,10.],'clf__penalty':['l1'],'clf__alpha':[0.001,0.01,0.1,1.0,10]},\n",
    "             {'pca__gamma':[0.1,1.,10.],'clf__penalty':['l2'],'clf__alpha':[0.001,0.01,0.1,1.0,10]}]\n",
    "\n",
    "gs = GridSearchCV(estimator=pipe_lr,\n",
    "                 param_grid=param_grid,\n",
    "                 scoring='accuracy',\n",
    "                 cv=5,\n",
    "                 n_jobs=-1)\n",
    "%time gs.fit(X_train,y_train)\n",
    "\n",
    "print('best score: %.3f') % gs.best_score_\n",
    "\n",
    "print('best params: %s') %gs.best_params_"
   ]
  },
  {
   "cell_type": "code",
   "execution_count": null,
   "metadata": {
    "collapsed": true
   },
   "outputs": [],
   "source": []
  }
 ],
 "metadata": {
  "anaconda-cloud": {},
  "kernelspec": {
   "display_name": "Python 2",
   "language": "python",
   "name": "python2"
  },
  "language_info": {
   "codemirror_mode": {
    "name": "ipython",
    "version": 2
   },
   "file_extension": ".py",
   "mimetype": "text/x-python",
   "name": "python",
   "nbconvert_exporter": "python",
   "pygments_lexer": "ipython2",
   "version": "2.7.12"
  }
 },
 "nbformat": 4,
 "nbformat_minor": 0
}
