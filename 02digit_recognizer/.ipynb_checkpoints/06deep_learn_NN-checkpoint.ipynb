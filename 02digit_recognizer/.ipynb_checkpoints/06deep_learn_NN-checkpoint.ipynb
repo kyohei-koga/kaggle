{
 "cells": [
  {
   "cell_type": "markdown",
   "metadata": {},
   "source": [
    "Tensorflowを使ってディープラーニング"
   ]
  },
  {
   "cell_type": "code",
   "execution_count": 1,
   "metadata": {
    "collapsed": false
   },
   "outputs": [],
   "source": [
    "import numpy as np\n",
    "import pandas as pd\n",
    "%matplotlib inline\n",
    "import matplotlib.pyplot as plt\n",
    "import matplotlib.cm as cm\n",
    "\n",
    "import tensorflow as tf\n",
    "\n",
    "#setting\n",
    "LEARNING_RATE = 1e-4\n",
    "#set to 20000 on local enviroment to get 0.99 accuracy\n",
    "TRAINING_ITERATIONS = 2500\n",
    "\n",
    "DROPOUT = 0.5\n",
    "BATCH_SIZE = 50\n",
    "\n",
    "#set to 0 to train on all available data\n",
    "VALIDATION_SIZE = 2000\n",
    "\n",
    "#image number to output\n",
    "IMAGE_TO_DISPLAY = 10"
   ]
  },
  {
   "cell_type": "code",
   "execution_count": 2,
   "metadata": {
    "collapsed": false
   },
   "outputs": [
    {
     "name": "stdout",
     "output_type": "stream",
     "text": [
      "data(42000,785)\n",
      "   label  pixel0  pixel1  pixel2  pixel3  pixel4  pixel5  pixel6  pixel7  \\\n",
      "0      1       0       0       0       0       0       0       0       0   \n",
      "1      0       0       0       0       0       0       0       0       0   \n",
      "2      1       0       0       0       0       0       0       0       0   \n",
      "3      4       0       0       0       0       0       0       0       0   \n",
      "4      0       0       0       0       0       0       0       0       0   \n",
      "\n",
      "   pixel8    ...     pixel774  pixel775  pixel776  pixel777  pixel778  \\\n",
      "0       0    ...            0         0         0         0         0   \n",
      "1       0    ...            0         0         0         0         0   \n",
      "2       0    ...            0         0         0         0         0   \n",
      "3       0    ...            0         0         0         0         0   \n",
      "4       0    ...            0         0         0         0         0   \n",
      "\n",
      "   pixel779  pixel780  pixel781  pixel782  pixel783  \n",
      "0         0         0         0         0         0  \n",
      "1         0         0         0         0         0  \n",
      "2         0         0         0         0         0  \n",
      "3         0         0         0         0         0  \n",
      "4         0         0         0         0         0  \n",
      "\n",
      "[5 rows x 785 columns]\n"
     ]
    }
   ],
   "source": [
    "#read training data\n",
    "data = pd.read_csv('/home/kyohei/kaggle_data/02digit_recognizer/train.csv')\n",
    "\n",
    "print('data({0[0]},{0[1]})'.format(data.shape))\n",
    "print(data.head())"
   ]
  },
  {
   "cell_type": "markdown",
   "metadata": {},
   "source": [
    "ピクセルの配置の情報は喪失している"
   ]
  },
  {
   "cell_type": "code",
   "execution_count": 3,
   "metadata": {
    "collapsed": true
   },
   "outputs": [],
   "source": [
    "images = data.iloc[:,1:].values\n",
    "images = images.astype(np.float)\n",
    "\n",
    "# convert from [0:255] => [0.0:1.0]\n",
    "images = np.multiply(images,1.0/255.0)"
   ]
  },
  {
   "cell_type": "markdown",
   "metadata": {},
   "source": [
    "784列を28＊28に変換する"
   ]
  },
  {
   "cell_type": "code",
   "execution_count": 4,
   "metadata": {
    "collapsed": false
   },
   "outputs": [
    {
     "name": "stdout",
     "output_type": "stream",
     "text": [
      "image_size=> 784\n",
      "image_width => 28\n",
      "image_height => 28\n"
     ]
    }
   ],
   "source": [
    "image_size = images.shape[1]\n",
    "print('image_size=> {0}'.format(image_size))\n",
    "\n",
    "#in this case all images are square\n",
    "image_width = image_height = np.ceil(np.sqrt(image_size)).astype(np.uint8)\n",
    "\n",
    "print('image_width => {0}\\nimage_height => {1}'.format(image_width,image_height))"
   ]
  },
  {
   "cell_type": "markdown",
   "metadata": {},
   "source": [
    "イメージのアウトプットを行うために、２次元の情報にreshapeする"
   ]
  },
  {
   "cell_type": "code",
   "execution_count": 5,
   "metadata": {
    "collapsed": false
   },
   "outputs": [
    {
     "data": {
      "image/png": "[encoded data removed]",
      "text/plain": [
       "<matplotlib.figure.Figure at 0x7f4519d87890>"
      ]
     },
     "metadata": {},
     "output_type": "display_data"
    }
   ],
   "source": [
    "# display image\n",
    "def display(img):\n",
    "    #(784) => (28,28)\n",
    "    one_image = img.reshape(image_width,image_height)\n",
    "    \n",
    "    plt.axis('off')\n",
    "    plt.imshow(one_image,cmap=cm.binary)\n",
    "\n",
    "#output image\n",
    "display(images[IMAGE_TO_DISPLAY])"
   ]
  },
  {
   "cell_type": "code",
   "execution_count": 6,
   "metadata": {
    "collapsed": false
   },
   "outputs": [
    {
     "name": "stdout",
     "output_type": "stream",
     "text": [
      "labels_flat(42000)\n",
      "labels_flat[10] => 8\n"
     ]
    }
   ],
   "source": [
    "labels_flat = data[[0]].values.ravel()\n",
    "\n",
    "print('labels_flat({0})'.format(len(labels_flat)))\n",
    "print('labels_flat[{0}] => {1}'.format(IMAGE_TO_DISPLAY,labels_flat[IMAGE_TO_DISPLAY]))"
   ]
  },
  {
   "cell_type": "code",
   "execution_count": 7,
   "metadata": {
    "collapsed": false
   },
   "outputs": [
    {
     "name": "stdout",
     "output_type": "stream",
     "text": [
      "labels_count => 10\n"
     ]
    }
   ],
   "source": [
    "labels_count = np.unique(labels_flat).shape[0]\n",
    "\n",
    "print('labels_count => {0}'.format(labels_count))"
   ]
  },
  {
   "cell_type": "markdown",
   "metadata": {},
   "source": [
    "one-hot vectors"
   ]
  },
  {
   "cell_type": "code",
   "execution_count": 8,
   "metadata": {
    "collapsed": false
   },
   "outputs": [
    {
     "name": "stdout",
     "output_type": "stream",
     "text": [
      "labels(42000,10)\n",
      "labels[10] => [0 0 0 0 0 0 0 0 1 0]\n"
     ]
    }
   ],
   "source": [
    "#convert class labels from scalars to one-hot vectors\n",
    "\n",
    "def dense_to_one_hot(labels_dense, num_classes):\n",
    "    num_labels = labels_dense.shape[0]\n",
    "    index_offset = np.arange(num_labels) * num_classes\n",
    "    labels_one_hot = np.zeros((num_labels,num_classes))\n",
    "    labels_one_hot.flat[index_offset + labels_dense.ravel()] = 1\n",
    "    return labels_one_hot\n",
    "\n",
    "labels = dense_to_one_hot(labels_flat,labels_count)\n",
    "labels = labels.astype(np.uint8)\n",
    "\n",
    "print('labels({0[0]},{0[1]})'.format(labels.shape))\n",
    "print('labels[{0}] => {1}'.format(IMAGE_TO_DISPLAY,labels[IMAGE_TO_DISPLAY]))"
   ]
  },
  {
   "cell_type": "code",
   "execution_count": 9,
   "metadata": {
    "collapsed": false
   },
   "outputs": [
    {
     "name": "stdout",
     "output_type": "stream",
     "text": [
      "train_images(40000,784)\n",
      "validation_images(2000,784)\n"
     ]
    }
   ],
   "source": [
    "#split data into training & validatation\n",
    "validation_images = images[:VALIDATION_SIZE]\n",
    "validation_labels = labels[:VALIDATION_SIZE]\n",
    "\n",
    "train_images = images[VALIDATION_SIZE:]\n",
    "train_labels = labels[VALIDATION_SIZE:]\n",
    "\n",
    "print('train_images({0[0]},{0[1]})'.format(train_images.shape))\n",
    "print('validation_images({0[0]},{0[1]})'.format(validation_images.shape))"
   ]
  },
  {
   "cell_type": "markdown",
   "metadata": {},
   "source": [
    "# TensorFlow graph"
   ]
  },
  {
   "cell_type": "code",
   "execution_count": 10,
   "metadata": {
    "collapsed": true
   },
   "outputs": [],
   "source": [
    "# weight initialization\n",
    "def weight_variable(shape):\n",
    "    initial = tf.truncated_normal(shape,stddev=0.1) #切断正規分布\n",
    "    return tf.Variable(initial)\n",
    "\n",
    "def bias_variable(shape):\n",
    "    initial = tf.constant(0.1,shape=shape) #定数のテンソル\n",
    "    return tf.Variable(initial)"
   ]
  },
  {
   "cell_type": "code",
   "execution_count": 11,
   "metadata": {
    "collapsed": true
   },
   "outputs": [],
   "source": [
    "#convolution\n",
    "def conv2d(x,W):\n",
    "    return tf.nn.conv2d(x,W,strides=[1,1,1,1],padding='SAME')"
   ]
  },
  {
   "cell_type": "code",
   "execution_count": 12,
   "metadata": {
    "collapsed": true
   },
   "outputs": [],
   "source": [
    "#pooling\n",
    "def max_pool_2x2(x):\n",
    "    return tf.nn.max_pool(x,ksize=[1,2,2,1],strides=[1,2,2,1],padding='SAME')"
   ]
  },
  {
   "cell_type": "code",
   "execution_count": 13,
   "metadata": {
    "collapsed": true
   },
   "outputs": [],
   "source": [
    "#input & output of NN\n",
    "\n",
    "#images\n",
    "x = tf.placeholder('float',shape=[None,image_size])\n",
    "#labels\n",
    "y_ = tf.placeholder('float',shape=[None,labels_count])"
   ]
  },
  {
   "cell_type": "code",
   "execution_count": 14,
   "metadata": {
    "collapsed": true
   },
   "outputs": [],
   "source": [
    "#first convolutional layer\n",
    "W_conv1 = weight_variable([5,5,1,32])\n",
    "b_conv1 = bias_variable([32])\n",
    "\n",
    "# (40000,784) => (40000,28,28,1)\n",
    "image = tf.reshape(x,[-1,image_width,image_height,1])\n",
    "#print(image.get_shape()) # => (40000,28,28,1)\n",
    "\n",
    "\n",
    "h_conv1 = tf.nn.relu(conv2d(image,W_conv1) + b_conv1)\n",
    "#print(h_conv1.get_shape()) # =>(40000,28,28,32)\n",
    "h_pool1 = max_pool_2x2(h_conv1)\n",
    "#print (h_pool1.get_shape()) # => (40000,14,14,32)\n",
    "\n",
    "#prepare for visualization\n",
    "#display 32 features in 4 by 8 grid\n",
    "layer1 = tf.reshape(h_conv1,(-1,image_height,image_width,4,8))\n",
    "\n",
    "#reorder so the channles are in the first dimension, x and y follow.\n",
    "layer1 = tf.transpose(layer1,(0,3,1,4,2))\n",
    "\n",
    "layer1 = tf.reshape(layer1,(-1,image_height*4,image_width*8))"
   ]
  },
  {
   "cell_type": "code",
   "execution_count": 16,
   "metadata": {
    "collapsed": false
   },
   "outputs": [],
   "source": [
    "#second convolutional layer\n",
    "W_conv2 = weight_variable([5,5,32,64])\n",
    "b_conv2 = bias_variable([64])\n",
    "\n",
    "h_conv2 = tf.nn.relu(conv2d(h_pool1,W_conv2) + b_conv2)\n",
    "#print(h_conv2.get_shape()) # => (40000,14,14,64)\n",
    "h_pool2 = max_pool_2x2(h_conv2)\n",
    "#print(h_pool2.get_shape()) # => (40000,7,7,64)\n",
    "\n",
    "#Prepare for visualization\n",
    "# display 64 features in 4 by 16 grid\n",
    "layer2 = tf.reshape(h_conv2,(-1,14,14,4,16))\n",
    "\n",
    "# reorder so the channels are in the first dimension, x and y follow\n",
    "layer2 = tf.transpose(layer2, (0,3,1,4,2))\n",
    "\n",
    "layer2 = tf.reshape(layer2, (-1,14*4,14*16))"
   ]
  },
  {
   "cell_type": "code",
   "execution_count": 17,
   "metadata": {
    "collapsed": true
   },
   "outputs": [],
   "source": [
    "#densely connected layer\n",
    "W_fc1 = weight_variable([7*7*64,1024])\n",
    "b_fc1 = bias_variable([1024])\n",
    "\n",
    "# (40000,7,7,64) => (40000,3136)\n",
    "h_pool2_flat = tf.reshape(h_pool2,[-1,7*7*64])\n",
    "\n",
    "h_fc1 = tf.nn.relu(tf.matmul(h_pool2_flat,W_fc1) + b_fc1)\n",
    "#print(h_fc1.get_shape()) # => (40000,1024)"
   ]
  },
  {
   "cell_type": "code",
   "execution_count": 18,
   "metadata": {
    "collapsed": true
   },
   "outputs": [],
   "source": [
    "#dropout\n",
    "keep_prob = tf.placeholder('float')\n",
    "h_fc1_drop = tf.nn.dropout(h_fc1,keep_prob)"
   ]
  },
  {
   "cell_type": "code",
   "execution_count": 19,
   "metadata": {
    "collapsed": true
   },
   "outputs": [],
   "source": [
    "#readout layer for deep net\n",
    "W_fc2 = weight_variable([1024,labels_count])\n",
    "b_fc2 = bias_variable([labels_count])\n",
    "\n",
    "y = tf.nn.softmax(tf.matmul(h_fc1_drop,W_fc2) + b_fc2)\n",
    "\n",
    "#print(y.get_shape()) # => (40000,10)"
   ]
  },
  {
   "cell_type": "code",
   "execution_count": 20,
   "metadata": {
    "collapsed": true
   },
   "outputs": [],
   "source": [
    "#cost function\n",
    "cross_entropy = -tf.reduce_sum(y_*tf.log(y))\n",
    "\n",
    "#optimisation function\n",
    "train_step = tf.train.AdamOptimizer(LEARNING_RATE).minimize(cross_entropy)\n",
    "\n",
    "#evaluation\n",
    "correct_prediction = tf.equal(tf.argmax(y,1),tf.argmax(y_,1))\n",
    "\n",
    "accuracy = tf.reduce_mean(tf.cast(correct_prediction,'float'))"
   ]
  },
  {
   "cell_type": "code",
   "execution_count": 21,
   "metadata": {
    "collapsed": true
   },
   "outputs": [],
   "source": [
    "#prediction function\n",
    "#[0.1,0.9,0.2,0.1,0.1,0.3,0.5,0.1,0.2,0.3]  => 1\n",
    "predict = tf.argmax(y,1)"
   ]
  },
  {
   "cell_type": "markdown",
   "metadata": {},
   "source": [
    "# Train,validate and predict"
   ]
  },
  {
   "cell_type": "code",
   "execution_count": 26,
   "metadata": {
    "collapsed": true
   },
   "outputs": [],
   "source": [
    "epochs_completed = 0\n",
    "index_in_epoch = 0\n",
    "num_examples = train_images.shape[0]\n",
    "\n",
    "#serve data by batches\n",
    "def next_batch(batch_size):\n",
    "    \n",
    "    global train_images\n",
    "    global train_labels\n",
    "    global index_in_epoch\n",
    "    global epochs_completed\n",
    "    \n",
    "    start = index_in_epoch\n",
    "    index_in_epoch += batch_size\n",
    "    \n",
    "    #when all training data have been already used, it is reorder randomly\n",
    "    if index_in_epoch > num_examples:\n",
    "        #finished epoch\n",
    "        epochs_completed += 1\n",
    "        #shuffle the data\n",
    "        perm = np.arange(num_examples)\n",
    "        np.random.shuffle(perm)\n",
    "        train_images = train_images[perm]\n",
    "        train_labels = train_labels[perm]\n",
    "        #start next epoch\n",
    "        start = 0\n",
    "        index_in_epoch = batch_size\n",
    "        assert batch_size <= num_examples\n",
    "    end = index_in_epoch\n",
    "    return train_images[start:end],train_labels[start:end]"
   ]
  },
  {
   "cell_type": "code",
   "execution_count": 27,
   "metadata": {
    "collapsed": true
   },
   "outputs": [],
   "source": [
    "# start Tensorflow session\n",
    "init = tf.initialize_all_variables()\n",
    "sess = tf.InteractiveSession()\n",
    "\n",
    "sess.run(init)"
   ]
  },
  {
   "cell_type": "code",
   "execution_count": 28,
   "metadata": {
    "collapsed": false
   },
   "outputs": [
    {
     "name": "stdout",
     "output_type": "stream",
     "text": [
      "training_accuracy / validation_accuracy => 0.14 / 0.16 for step 0\n",
      "training_accuracy / validation_accuracy => 0.20 / 0.20 for step 1\n",
      "training_accuracy / validation_accuracy => 0.12 / 0.16 for step 2\n",
      "training_accuracy / validation_accuracy => 0.14 / 0.08 for step 3\n",
      "training_accuracy / validation_accuracy => 0.10 / 0.12 for step 4\n",
      "training_accuracy / validation_accuracy => 0.14 / 0.20 for step 5\n",
      "training_accuracy / validation_accuracy => 0.18 / 0.20 for step 6\n",
      "training_accuracy / validation_accuracy => 0.20 / 0.28 for step 7\n",
      "training_accuracy / validation_accuracy => 0.18 / 0.28 for step 8\n",
      "training_accuracy / validation_accuracy => 0.08 / 0.28 for step 9\n",
      "training_accuracy / validation_accuracy => 0.20 / 0.30 for step 10\n",
      "training_accuracy / validation_accuracy => 0.34 / 0.44 for step 20\n",
      "training_accuracy / validation_accuracy => 0.56 / 0.64 for step 30\n",
      "training_accuracy / validation_accuracy => 0.72 / 0.82 for step 40\n",
      "training_accuracy / validation_accuracy => 0.86 / 0.80 for step 50\n",
      "training_accuracy / validation_accuracy => 0.84 / 0.84 for step 60\n",
      "training_accuracy / validation_accuracy => 0.88 / 0.84 for step 70\n",
      "training_accuracy / validation_accuracy => 0.86 / 0.88 for step 80\n",
      "training_accuracy / validation_accuracy => 0.80 / 0.86 for step 90\n",
      "training_accuracy / validation_accuracy => 0.84 / 0.88 for step 100\n",
      "training_accuracy / validation_accuracy => 0.96 / 0.90 for step 200\n",
      "training_accuracy / validation_accuracy => 0.92 / 0.90 for step 300\n",
      "training_accuracy / validation_accuracy => 0.90 / 0.94 for step 400\n",
      "training_accuracy / validation_accuracy => 1.00 / 0.92 for step 500\n",
      "training_accuracy / validation_accuracy => 0.92 / 0.94 for step 600\n",
      "training_accuracy / validation_accuracy => 0.88 / 0.90 for step 700\n",
      "training_accuracy / validation_accuracy => 0.98 / 0.94 for step 800\n",
      "training_accuracy / validation_accuracy => 0.98 / 0.92 for step 900\n",
      "training_accuracy / validation_accuracy => 0.98 / 0.96 for step 1000\n",
      "training_accuracy / validation_accuracy => 0.98 / 0.98 for step 2000\n",
      "training_accuracy / validation_accuracy => 0.96 / 0.98 for step 2499\n"
     ]
    }
   ],
   "source": [
    "#visualisation variables\n",
    "train_accuracies = []\n",
    "validation_accuracies = []\n",
    "x_range = []\n",
    "\n",
    "display_step = 1\n",
    "\n",
    "for i in range(TRAINING_ITERATIONS):\n",
    "    \n",
    "    #get new bathc\n",
    "    batch_xs, batch_ys = next_batch(BATCH_SIZE)\n",
    "    \n",
    "    #check progress on every 1st,2nd,.....,10th,20th,....,100th...step\n",
    "    if i%display_step == 0 or (i+1) == TRAINING_ITERATIONS:\n",
    "        \n",
    "        train_accuracy = accuracy.eval(feed_dict={x:batch_xs,\n",
    "                                                 y_:batch_ys,\n",
    "                                                 keep_prob:1.0})\n",
    "        \n",
    "        if(VALIDATION_SIZE):\n",
    "            validation_accuracy = accuracy.eval(feed_dict={x: validation_images[0:BATCH_SIZE],\n",
    "                                                          y_:validation_labels[0:BATCH_SIZE],\n",
    "                                                          keep_prob:1.0})\n",
    "        \n",
    "            print('training_accuracy / validation_accuracy => %.2f / %.2f for step %d') %(train_accuracy,validation_accuracy,i)\n",
    "            \n",
    "            validation_accuracies.append(validation_accuracy)\n",
    "            \n",
    "        else:\n",
    "            print('training_accuracy => %.4f for step %d') %(train_accuracy,i)\n",
    "        \n",
    "        train_accuracies.append(train_accuracy)\n",
    "        x_range.append(i)\n",
    "        \n",
    "        #increase display_step\n",
    "        if i%(display_step*10) == 0 and i:\n",
    "            display_step *= 10\n",
    "    #train on batch\n",
    "    sess.run(train_step,feed_dict={x:batch_xs, y_:batch_ys, keep_prob: DROPOUT})"
   ]
  },
  {
   "cell_type": "code",
   "execution_count": 29,
   "metadata": {
    "collapsed": false
   },
   "outputs": [
    {
     "name": "stdout",
     "output_type": "stream",
     "text": [
      "validation_accuracy => 0.9805\n"
     ]
    },
    {
     "data": {
      "image/png": "[encoded data removed]",
      "text/plain": [
       "<matplotlib.figure.Figure at 0x7f451acd2e50>"
      ]
     },
     "metadata": {},
     "output_type": "display_data"
    }
   ],
   "source": [
    "#check final accuracy on validation set\n",
    "if(VALIDATION_SIZE):\n",
    "    validation_accuracy = accuracy.eval(feed_dict={x:validation_images,\n",
    "                                                  y_:validation_labels,\n",
    "                                                  keep_prob:1.0})\n",
    "    print('validation_accuracy => %.4f') %validation_accuracy\n",
    "    plt.plot(x_range,train_accuracies,'-b',label='Training')\n",
    "    plt.plot(x_range,validation_accuracies,'-g',label='Validation')\n",
    "    plt.legend(loc='lower right',frameon=False)\n",
    "    plt.ylim(ymax=1.1,ymin=0.7)\n",
    "    plt.ylabel('accuracy')\n",
    "    plt.xlabel('step')\n",
    "    plt.show()"
   ]
  },
  {
   "cell_type": "code",
   "execution_count": 30,
   "metadata": {
    "collapsed": false
   },
   "outputs": [
    {
     "name": "stdout",
     "output_type": "stream",
     "text": [
      "test_images(28000,784)\n",
      "predicted_labels(28000)\n",
      "predicted_labels[10] => 5.0\n"
     ]
    },
    {
     "ename": "AttributeError",
     "evalue": "'module' object has no attribute 'savetext'",
     "output_type": "error",
     "traceback": [
      "\u001b[0;31m---------------------------------------------------------------------------\u001b[0m",
      "\u001b[0;31mAttributeError\u001b[0m                            Traceback (most recent call last)",
      "\u001b[0;32m<ipython-input-30-1a9d9d775d17>\u001b[0m in \u001b[0;36m<module>\u001b[0;34m()\u001b[0m\n\u001b[1;32m     22\u001b[0m \u001b[0;34m\u001b[0m\u001b[0m\n\u001b[1;32m     23\u001b[0m \u001b[0;31m#save results\u001b[0m\u001b[0;34m\u001b[0m\u001b[0;34m\u001b[0m\u001b[0m\n\u001b[0;32m---> 24\u001b[0;31m np.savetext('submission_softmax.csv',\n\u001b[0m\u001b[1;32m     25\u001b[0m            \u001b[0mnp\u001b[0m\u001b[0;34m.\u001b[0m\u001b[0mc_\u001b[0m\u001b[0;34m[\u001b[0m\u001b[0mrange\u001b[0m\u001b[0;34m(\u001b[0m\u001b[0;36m1\u001b[0m\u001b[0;34m,\u001b[0m\u001b[0mlen\u001b[0m\u001b[0;34m(\u001b[0m\u001b[0mtest_images\u001b[0m\u001b[0;34m)\u001b[0m\u001b[0;34m+\u001b[0m\u001b[0;36m1\u001b[0m\u001b[0;34m)\u001b[0m\u001b[0;34m,\u001b[0m\u001b[0mpredicted_labels\u001b[0m\u001b[0;34m]\u001b[0m\u001b[0;34m,\u001b[0m\u001b[0;34m\u001b[0m\u001b[0m\n\u001b[1;32m     26\u001b[0m            \u001b[0mdelimiter\u001b[0m\u001b[0;34m=\u001b[0m\u001b[0;34m','\u001b[0m\u001b[0;34m,\u001b[0m\u001b[0;34m\u001b[0m\u001b[0m\n",
      "\u001b[0;31mAttributeError\u001b[0m: 'module' object has no attribute 'savetext'"
     ]
    },
    {
     "data": {
      "image/png": "[encoded data removed]",
      "text/plain": [
       "<matplotlib.figure.Figure at 0x7f4519eca6d0>"
      ]
     },
     "metadata": {},
     "output_type": "display_data"
    }
   ],
   "source": [
    "#read test data from CSV file\n",
    "test_images = pd.read_csv('/home/kyohei/kaggle_data/02digit_recognizer/test.csv').values\n",
    "test_images = test_images.astype(np.float)\n",
    "\n",
    "#convert from [0:255] => [0:1.0]\n",
    "test_images = np.multiply(test_images,1.0/255.0)\n",
    "print('test_images({0[0]},{0[1]})'.format(test_images.shape))\n",
    "\n",
    "#predict test set\n",
    "#predicted_labels = predict.eval(feed_dict={x:test_images,keep_prob:1.0})\n",
    "\n",
    "#using batches is more resource efficient\n",
    "predicted_labels = np.zeros(test_images.shape[0])\n",
    "for i in range(0,test_images.shape[0] / BATCH_SIZE):\n",
    "    predicted_labels[i*BATCH_SIZE : (i+1)*BATCH_SIZE] = predict.eval(feed_dict={x:test_images[i*BATCH_SIZE:(i+1)*BATCH_SIZE],\n",
    "                                                                               keep_prob:1.0})\n",
    "print('predicted_labels({0})'.format(len(predicted_labels)))\n",
    "\n",
    "#output test image and prediction\n",
    "display(test_images[IMAGE_TO_DISPLAY])\n",
    "print('predicted_labels[{0}] => {1}'.format(IMAGE_TO_DISPLAY,predicted_labels[IMAGE_TO_DISPLAY]))\n",
    "\n",
    "#save results\n",
    "np.savetxt('submission_softmax.csv',\n",
    "           np.c_[range(1,len(test_images)+1),predicted_labels],\n",
    "           delimiter=',',\n",
    "           header = 'Imaged,Label',\n",
    "           comments='',\n",
    "           fmt='%d')"
   ]
  },
  {
   "cell_type": "code",
   "execution_count": null,
   "metadata": {
    "collapsed": true
   },
   "outputs": [],
   "source": []
  }
 ],
 "metadata": {
  "anaconda-cloud": {},
  "kernelspec": {
   "display_name": "Python [conda env:tensorflow]",
   "language": "python",
   "name": "conda-env-tensorflow-py"
  },
  "language_info": {
   "codemirror_mode": {
    "name": "ipython",
    "version": 2
   },
   "file_extension": ".py",
   "mimetype": "text/x-python",
   "name": "python",
   "nbconvert_exporter": "python",
   "pygments_lexer": "ipython2",
   "version": "2.7.12"
  }
 },
 "nbformat": 4,
 "nbformat_minor": 1
}
